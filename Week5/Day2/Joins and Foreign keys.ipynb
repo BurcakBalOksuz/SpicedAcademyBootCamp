{
 "cells": [
  {
   "cell_type": "markdown",
   "id": "0ea2acfc",
   "metadata": {},
   "source": [
    "### JOINS and FOREIGN KEYS\n",
    "\n",
    "https://www.postgresqltutorial.com/postgresql-sample-database/"
   ]
  },
  {
   "cell_type": "markdown",
   "id": "bd23d218",
   "metadata": {},
   "source": [
    "#### Singer table:"
   ]
  },
  {
   "cell_type": "code",
   "execution_count": null,
   "id": "73353883",
   "metadata": {},
   "outputs": [],
   "source": [
    "CREATE TABLE singer(\n",
    "id SERIAL PRIMARY KEY,\n",
    "name VARCHAR(40)\n",
    ");\n",
    "\n",
    "INSERT INTO singer(id, name)\n",
    "VALUES\n",
    "(1, 'Nicki Minaj'),\n",
    "(2, 'Lady Gaga'),\n",
    "(3, 'Taylor Swift'),\n",
    "(4, 'Tom Jones');"
   ]
  },
  {
   "cell_type": "markdown",
   "id": "9282de02",
   "metadata": {},
   "source": [
    "#### Song table:"
   ]
  },
  {
   "cell_type": "code",
   "execution_count": null,
   "id": "ca28097b",
   "metadata": {},
   "outputs": [],
   "source": [
    "CREATE TABLE song (\n",
    "   id    INTEGER  PRIMARY KEY,\n",
    "   name  CHARACTER VARYING(20),\n",
    "   singer_id INTEGER,\n",
    "\n",
    "   FOREIGN KEY(singer_id)\n",
    "      REFERENCES singer(id)\n",
    "   );"
   ]
  },
  {
   "cell_type": "code",
   "execution_count": null,
   "id": "e02761f4",
   "metadata": {},
   "outputs": [],
   "source": [
    "INSERT INTO song(id, name, singer_id) \n",
    "VALUES\n",
    "(1,'Anaconda',1),\n",
    "(2,'Paparazzi',2),\n",
    "(3,'Bad Romance',2),\n",
    "(4,'Sex Bomb', 4);"
   ]
  },
  {
   "cell_type": "code",
   "execution_count": null,
   "id": "b13abf89",
   "metadata": {},
   "outputs": [],
   "source": [
    "insert into singer(id,name)\n",
    "values(5, 'Baris Manco');\n",
    "\n",
    "insert into song(id, name, singer_id)\n",
    "values (4,'Zehra',5),\n",
    "(2,'Paparazzi' ,2);\n",
    "\n",
    "DELETE from singer where id=5;\n",
    "\n",
    "ERROR:  duplicate key value violates unique constraint \"song_pkey\""
   ]
  },
  {
   "cell_type": "markdown",
   "id": "efc1793d",
   "metadata": {},
   "source": [
    "You need to either recreate it with"
   ]
  },
  {
   "cell_type": "code",
   "execution_count": null,
   "id": "8e087ccd",
   "metadata": {},
   "outputs": [],
   "source": [
    "CREATE TABLE song (\n",
    "   id    INTEGER  PRIMARY KEY,\n",
    "   name  CHARACTER VARYING(20),\n",
    "   singer_id INTEGER,\n",
    "\n",
    "   FOREIGN KEY(singer_id)\n",
    "      REFERENCES singer(id) ON DELETE CASCADE\n",
    "   );"
   ]
  },
  {
   "cell_type": "markdown",
   "id": "da483366",
   "metadata": {},
   "source": [
    "Or"
   ]
  },
  {
   "cell_type": "code",
   "execution_count": null,
   "id": "2756553b",
   "metadata": {},
   "outputs": [],
   "source": [
    "\\d+\n",
    "\n",
    "alter table song\n",
    "drop constraint song_singer_id_fkey;\n",
    "\n",
    "alter table song\n",
    "add constraint song_singer_id_fkey\n",
    "foreign key(singer_id)\n",
    "REFERENCES singer(id) ON DELETE CASCADE;\n",
    "\n",
    "DELETE from singer where id=5;"
   ]
  },
  {
   "cell_type": "markdown",
   "id": "b72fb96e",
   "metadata": {},
   "source": [
    "### JOINS"
   ]
  },
  {
   "cell_type": "markdown",
   "id": "1cec9b3a",
   "metadata": {},
   "source": [
    "#### FIND COLUMN NAMES AND NUMBER OF ROWS"
   ]
  },
  {
   "cell_type": "markdown",
   "id": "907f4fee",
   "metadata": {},
   "source": [
    "SELECT column_name\n",
    "FROM information_schema.columns\n",
    "WHERE table_name='orders';\n",
    "\n",
    "select count(order_id) from orders;\n",
    "\n",
    "SELECT column_name\n",
    "FROM information_schema.columns\n",
    "WHERE table_name='order_details';\n",
    "\n",
    "select count(order_id) from order_details;"
   ]
  },
  {
   "cell_type": "markdown",
   "id": "83b146dc",
   "metadata": {},
   "source": [
    "#### JOINS"
   ]
  },
  {
   "cell_type": "markdown",
   "id": "27ce70ce",
   "metadata": {},
   "source": [
    "orders has 830 rows and order_details 2105 \n",
    "(because some orders have multiple lines - for different products)."
   ]
  },
  {
   "cell_type": "markdown",
   "id": "d6b3e1e2",
   "metadata": {},
   "source": [
    "SELECT orders.order_id, orders.customer_id, order_details.unit_price\n",
    "FROM orders\n",
    "RIGHT JOIN order_details\n",
    "ON orders.order_id = order_details.order_id;\n",
    "\n",
    "select count(order_id) from order_details;\n",
    "select count(distinct order_id) from order_details;"
   ]
  },
  {
   "cell_type": "markdown",
   "id": "56f975d4",
   "metadata": {},
   "source": [
    "How to check that the number of rows now is larger? \n",
    "Try it with the below view."
   ]
  },
  {
   "cell_type": "markdown",
   "id": "a52b4795",
   "metadata": {},
   "source": [
    "#### VIEWS"
   ]
  },
  {
   "cell_type": "markdown",
   "id": "02e0487a",
   "metadata": {},
   "source": [
    "Logical storage of the query. In the below right and \n",
    "left join will give the same result as the order_ids are fully \n",
    "consistent in both tables. There is repetition but nothing missing."
   ]
  },
  {
   "cell_type": "markdown",
   "id": "bfe8bf7b",
   "metadata": {},
   "source": [
    "CREATE VIEW rjoin as\n",
    "SELECT orders.order_id, orders.customer_id, order_details.unit_price\n",
    "FROM orders\n",
    "RIGHT JOIN order_details\n",
    "ON orders.order_id = order_details.order_id;\n",
    "\n",
    "select count(order_id) from rjoin;"
   ]
  },
  {
   "cell_type": "markdown",
   "id": "e7678c37",
   "metadata": {},
   "source": [
    "However in the below since the saffron_orders have only new customers \n",
    "not in the orders table, the all joins will be inconsistent."
   ]
  },
  {
   "cell_type": "markdown",
   "id": "5e8719f5",
   "metadata": {},
   "source": [
    "create table saffron_orders(\n",
    "order_id INT,\n",
    "me_customer VARCHAR(30));\n",
    "\n",
    "insert into saffron_orders(order_id, me_customer)\n",
    "values(3,'Ugur Ural'),\n",
    "(4,'Aynur Ural')                                          ;\n",
    "\n",
    "select * from saffron_orders;\n",
    "\n",
    "CREATE VIEW rjoin3 as\n",
    "SELECT  orders.customer_id,\n",
    "saffron_orders.order_id,\n",
    "saffron_orders.me_customer\n",
    "FROM orders\n",
    "RIGHT JOIN saffron_orders\n",
    "ON orders.order_id = saffron_orders.order_id;\n",
    "\n",
    "CREATE VIEW ljoin3 as\n",
    "SELECT  orders.customer_id,\n",
    "saffron_orders.order_id,\n",
    "saffron_orders.me_customer\n",
    "FROM orders\n",
    "LEFT JOIN saffron_orders\n",
    "ON orders.order_id = saffron_orders.order_id;"
   ]
  },
  {
   "cell_type": "markdown",
   "id": "a5bce783",
   "metadata": {},
   "source": [
    "* rjoin3 gives all from saffron_orders (which is at right), \n",
    "* ljoin3 gives all from orders (which is at left), \n",
    "* ljoin4 gives all from saffron_orders."
   ]
  },
  {
   "cell_type": "markdown",
   "id": "d6186c43",
   "metadata": {},
   "source": [
    "CREATE VIEW ljoin4 as\n",
    "SELECT  orders.customer_id,\n",
    "saffron_orders.order_id,\n",
    "saffron_orders.me_customer\n",
    "FROM saffron_orders\n",
    "LEFT JOIN orders\n",
    "ON orders.order_id = saffron_orders.order_id;"
   ]
  },
  {
   "cell_type": "markdown",
   "id": "2dcd51a0",
   "metadata": {},
   "source": [
    "#### FULL JOIN"
   ]
  },
  {
   "cell_type": "markdown",
   "id": "d4cf09d6",
   "metadata": {},
   "source": [
    "CREATE VIEW fulljoin as\n",
    "SELECT  orders.customer_id,\n",
    "saffron_orders.order_id,\n",
    "saffron_orders.me_customer\n",
    "FROM saffron_orders\n",
    "FULL JOIN orders\n",
    "ON orders.order_id = saffron_orders.order_id;"
   ]
  },
  {
   "cell_type": "markdown",
   "id": "8ffb70e7",
   "metadata": {},
   "source": [
    "#### INNER JOIN"
   ]
  },
  {
   "cell_type": "markdown",
   "id": "03260d88",
   "metadata": {},
   "source": [
    "CREATE VIEW innerjoin as\n",
    "SELECT  orders.customer_id,\n",
    "saffron_orders.order_id,\n",
    "saffron_orders.me_customer\n",
    "FROM saffron_orders\n",
    "INNER JOIN orders\n",
    "ON orders.order_id = saffron_orders.order_id;\n",
    "\n",
    "select count(order_id) from innerjoin ;"
   ]
  },
  {
   "cell_type": "markdown",
   "id": "673008dd",
   "metadata": {},
   "source": [
    "#### ABBREVIATIONS"
   ]
  },
  {
   "cell_type": "markdown",
   "id": "1916269e",
   "metadata": {},
   "source": [
    "orders.order_id will become o.order_id\n",
    "\n",
    "DROP VIEW IF EXISTS rjoin;\n",
    "\n",
    "CREATE VIEW rjoin as\n",
    "SELECT o.order_id, od.unit_price\n",
    "FROM orders as o\n",
    "RIGHT JOIN order_details as od\n",
    "ON o.order_id = od.order_id;\n",
    "\n",
    "select count(order_id) from rjoin;"
   ]
  },
  {
   "cell_type": "markdown",
   "id": "2f883b2d",
   "metadata": {},
   "source": [
    "#### JOIN + VIEW + AGGREGATION + ABBREVIATION"
   ]
  },
  {
   "cell_type": "markdown",
   "id": "64dd51f2",
   "metadata": {},
   "source": [
    "Let’s see the customers who spent the most as well as how much \n",
    "in total they bought.\n",
    "\n",
    "Create a view, with a group by aggregation:\n",
    "\n",
    "Name it sales_by_customer_temp.\n",
    "\n",
    "Get 3 columns:\n",
    "\n",
    "* customer id from orders\n",
    "\n",
    "* sum of unit price (per customer) from order_details\n",
    "\n",
    "* sum of quantity(per customer) from order details\n",
    "\n",
    "Abbreviate the table names.\n",
    "\n",
    "Use an outer join on the order_id column.\n"
   ]
  },
  {
   "cell_type": "markdown",
   "id": "34ed4958",
   "metadata": {},
   "source": [
    "CREATE VIEW sales_by_customer_temp6 AS\n",
    "SELECT o.customer_id, sum(od.unit_price) AS price_by_customer,\n",
    "sum(od.quantity) AS quantity_by_customer\n",
    "FROM orders as o\n",
    "FULL JOIN order_details as od\n",
    "ON o.order_id = od.order_id\n",
    "GROUP BY o.customer_id\n",
    "ORDER BY price_by_customer DESC;"
   ]
  }
 ],
 "metadata": {
  "kernelspec": {
   "display_name": "Python 3 (ipykernel)",
   "language": "python",
   "name": "python3"
  },
  "language_info": {
   "codemirror_mode": {
    "name": "ipython",
    "version": 3
   },
   "file_extension": ".py",
   "mimetype": "text/x-python",
   "name": "python",
   "nbconvert_exporter": "python",
   "pygments_lexer": "ipython3",
   "version": "3.9.7"
  }
 },
 "nbformat": 4,
 "nbformat_minor": 5
}
