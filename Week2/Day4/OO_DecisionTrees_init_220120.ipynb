{
 "cells": [
  {
   "cell_type": "markdown",
   "metadata": {},
   "source": [
    "# Decision Trees 🌲"
   ]
  },
  {
   "cell_type": "markdown",
   "metadata": {},
   "source": [
    "After this session you will \n",
    "- develop a basic intuition of the algorithm behind non-linear classification \n",
    "- be able to apply the Decision Trees Classifier to your own datasets\n",
    "- understand and use the Scikit Learn framework for applying ML workflow (prep data, train a model, evaluate model, make predictions)\n",
    "- explain in your own words what the pros and cons of the Decision Trees Classifier are\n",
    "\n",
    "\n",
    "Note:\n",
    "- In general, there is a Classification Tree-model and one for Regression in sklearn => we will only talk about the classification model."
   ]
  },
  {
   "cell_type": "code",
   "execution_count": 82,
   "metadata": {},
   "outputs": [],
   "source": [
    "import pandas as pd\n",
    "from sklearn.tree import DecisionTreeClassifier\n",
    "from sklearn.tree import plot_tree\n",
    "from sklearn.model_selection import train_test_split\n",
    "from sklearn.metrics import accuracy_score\n",
    "import seaborn as sns\n",
    "import matplotlib.pyplot as plt"
   ]
  },
  {
   "cell_type": "code",
   "execution_count": 16,
   "metadata": {},
   "outputs": [
    {
     "data": {
      "text/html": [
       "<div>\n",
       "<style scoped>\n",
       "    .dataframe tbody tr th:only-of-type {\n",
       "        vertical-align: middle;\n",
       "    }\n",
       "\n",
       "    .dataframe tbody tr th {\n",
       "        vertical-align: top;\n",
       "    }\n",
       "\n",
       "    .dataframe thead th {\n",
       "        text-align: right;\n",
       "    }\n",
       "</style>\n",
       "<table border=\"1\" class=\"dataframe\">\n",
       "  <thead>\n",
       "    <tr style=\"text-align: right;\">\n",
       "      <th></th>\n",
       "      <th>Species</th>\n",
       "      <th>Culmen Length (mm)</th>\n",
       "      <th>Culmen Depth (mm)</th>\n",
       "      <th>Flipper Length (mm)</th>\n",
       "      <th>Body Mass (g)</th>\n",
       "      <th>Sex</th>\n",
       "    </tr>\n",
       "  </thead>\n",
       "  <tbody>\n",
       "    <tr>\n",
       "      <th>0</th>\n",
       "      <td>Adelie</td>\n",
       "      <td>39.1</td>\n",
       "      <td>18.7</td>\n",
       "      <td>181.0</td>\n",
       "      <td>3750.0</td>\n",
       "      <td>MALE</td>\n",
       "    </tr>\n",
       "    <tr>\n",
       "      <th>1</th>\n",
       "      <td>Adelie</td>\n",
       "      <td>39.5</td>\n",
       "      <td>17.4</td>\n",
       "      <td>186.0</td>\n",
       "      <td>3800.0</td>\n",
       "      <td>FEMALE</td>\n",
       "    </tr>\n",
       "    <tr>\n",
       "      <th>2</th>\n",
       "      <td>Adelie</td>\n",
       "      <td>40.3</td>\n",
       "      <td>18.0</td>\n",
       "      <td>195.0</td>\n",
       "      <td>3250.0</td>\n",
       "      <td>FEMALE</td>\n",
       "    </tr>\n",
       "    <tr>\n",
       "      <th>3</th>\n",
       "      <td>Adelie</td>\n",
       "      <td>36.7</td>\n",
       "      <td>19.3</td>\n",
       "      <td>193.0</td>\n",
       "      <td>3450.0</td>\n",
       "      <td>FEMALE</td>\n",
       "    </tr>\n",
       "    <tr>\n",
       "      <th>4</th>\n",
       "      <td>Adelie</td>\n",
       "      <td>39.3</td>\n",
       "      <td>20.6</td>\n",
       "      <td>190.0</td>\n",
       "      <td>3650.0</td>\n",
       "      <td>MALE</td>\n",
       "    </tr>\n",
       "    <tr>\n",
       "      <th>...</th>\n",
       "      <td>...</td>\n",
       "      <td>...</td>\n",
       "      <td>...</td>\n",
       "      <td>...</td>\n",
       "      <td>...</td>\n",
       "      <td>...</td>\n",
       "    </tr>\n",
       "    <tr>\n",
       "      <th>328</th>\n",
       "      <td>Gentoo</td>\n",
       "      <td>47.2</td>\n",
       "      <td>13.7</td>\n",
       "      <td>214.0</td>\n",
       "      <td>4925.0</td>\n",
       "      <td>FEMALE</td>\n",
       "    </tr>\n",
       "    <tr>\n",
       "      <th>329</th>\n",
       "      <td>Gentoo</td>\n",
       "      <td>46.8</td>\n",
       "      <td>14.3</td>\n",
       "      <td>215.0</td>\n",
       "      <td>4850.0</td>\n",
       "      <td>FEMALE</td>\n",
       "    </tr>\n",
       "    <tr>\n",
       "      <th>330</th>\n",
       "      <td>Gentoo</td>\n",
       "      <td>50.4</td>\n",
       "      <td>15.7</td>\n",
       "      <td>222.0</td>\n",
       "      <td>5750.0</td>\n",
       "      <td>MALE</td>\n",
       "    </tr>\n",
       "    <tr>\n",
       "      <th>331</th>\n",
       "      <td>Gentoo</td>\n",
       "      <td>45.2</td>\n",
       "      <td>14.8</td>\n",
       "      <td>212.0</td>\n",
       "      <td>5200.0</td>\n",
       "      <td>FEMALE</td>\n",
       "    </tr>\n",
       "    <tr>\n",
       "      <th>332</th>\n",
       "      <td>Gentoo</td>\n",
       "      <td>49.9</td>\n",
       "      <td>16.1</td>\n",
       "      <td>213.0</td>\n",
       "      <td>5400.0</td>\n",
       "      <td>MALE</td>\n",
       "    </tr>\n",
       "  </tbody>\n",
       "</table>\n",
       "<p>333 rows × 6 columns</p>\n",
       "</div>"
      ],
      "text/plain": [
       "    Species  Culmen Length (mm)  Culmen Depth (mm)  Flipper Length (mm)  \\\n",
       "0    Adelie                39.1               18.7                181.0   \n",
       "1    Adelie                39.5               17.4                186.0   \n",
       "2    Adelie                40.3               18.0                195.0   \n",
       "3    Adelie                36.7               19.3                193.0   \n",
       "4    Adelie                39.3               20.6                190.0   \n",
       "..      ...                 ...                ...                  ...   \n",
       "328  Gentoo                47.2               13.7                214.0   \n",
       "329  Gentoo                46.8               14.3                215.0   \n",
       "330  Gentoo                50.4               15.7                222.0   \n",
       "331  Gentoo                45.2               14.8                212.0   \n",
       "332  Gentoo                49.9               16.1                213.0   \n",
       "\n",
       "     Body Mass (g)     Sex  \n",
       "0           3750.0    MALE  \n",
       "1           3800.0  FEMALE  \n",
       "2           3250.0  FEMALE  \n",
       "3           3450.0  FEMALE  \n",
       "4           3650.0    MALE  \n",
       "..             ...     ...  \n",
       "328         4925.0  FEMALE  \n",
       "329         4850.0  FEMALE  \n",
       "330         5750.0    MALE  \n",
       "331         5200.0  FEMALE  \n",
       "332         5400.0    MALE  \n",
       "\n",
       "[333 rows x 6 columns]"
      ]
     },
     "execution_count": 16,
     "metadata": {},
     "output_type": "execute_result"
    }
   ],
   "source": [
    "df=pd.read_csv(\"penguins_simple.csv\",sep=\";\")\n",
    "df"
   ]
  },
  {
   "cell_type": "code",
   "execution_count": 17,
   "metadata": {},
   "outputs": [],
   "source": [
    "X=df[[\"Culmen Length (mm)\",\"Body Mass (g)\"]]\n",
    "y=df[\"Species\"]"
   ]
  },
  {
   "cell_type": "code",
   "execution_count": 18,
   "metadata": {},
   "outputs": [
    {
     "data": {
      "text/plain": [
       "((333, 2), (333,))"
      ]
     },
     "execution_count": 18,
     "metadata": {},
     "output_type": "execute_result"
    }
   ],
   "source": [
    "X.shape,y.shape"
   ]
  },
  {
   "cell_type": "code",
   "execution_count": 20,
   "metadata": {},
   "outputs": [],
   "source": [
    "X_train,X_test,y_train,y_test=train_test_split(X,y,random_state=42)"
   ]
  },
  {
   "cell_type": "code",
   "execution_count": 73,
   "metadata": {},
   "outputs": [
    {
     "data": {
      "text/plain": [
       "<AxesSubplot:xlabel='Body Mass (g)', ylabel='Culmen Length (mm)'>"
      ]
     },
     "execution_count": 73,
     "metadata": {},
     "output_type": "execute_result"
    },
    {
     "data": {
      "image/png": "[encoded data removed]",
      "text/plain": [
       "<Figure size 432x288 with 1 Axes>"
      ]
     },
     "metadata": {
      "needs_background": "light"
     },
     "output_type": "display_data"
    }
   ],
   "source": [
    "sns.scatterplot(data=X_train,x=X_train[\"Body Mass (g)\"],y=X_train[\"Culmen Length (mm)\"],hue=y)"
   ]
  },
  {
   "cell_type": "code",
   "execution_count": 24,
   "metadata": {},
   "outputs": [
    {
     "data": {
      "text/plain": [
       "[<matplotlib.lines.Line2D at 0x7fe1c07170a0>]"
      ]
     },
     "execution_count": 24,
     "metadata": {},
     "output_type": "execute_result"
    },
    {
     "data": {
      "image/png": "[encoded data removed]",
      "text/plain": [
       "<Figure size 432x288 with 1 Axes>"
      ]
     },
     "metadata": {
      "needs_background": "light"
     },
     "output_type": "display_data"
    }
   ],
   "source": [
    "sns.scatterplot(data=X_train,x=X_train[\"Body Mass (g)\"],y=X_train[\"Culmen Length (mm)\"],hue=y)\n",
    "plt.plot(\n",
    "    [2500,6500],[43,43],color=\"red\"\n",
    ")\n",
    "\n",
    "plt.plot(\n",
    "    [4500,4500],[43,62],color=\"red\"\n",
    ")"
   ]
  },
  {
   "cell_type": "code",
   "execution_count": 31,
   "metadata": {},
   "outputs": [],
   "source": [
    "species=[]\n",
    "for idx,samples in X_train.iterrows():\n",
    "    if samples[\"Culmen Length (mm)\"] < 43:\n",
    "        species.append(\"Adelie\")\n",
    "    else:\n",
    "        if  samples[\"Body Mass (g)\"]<4500:\n",
    "             species.append(\"Chinstrap\")\n",
    "        else:\n",
    "            species.append(\"Gentoo\")"
   ]
  },
  {
   "cell_type": "code",
   "execution_count": 32,
   "metadata": {},
   "outputs": [
    {
     "data": {
      "text/plain": [
       "((249, 2), (249,))"
      ]
     },
     "execution_count": 32,
     "metadata": {},
     "output_type": "execute_result"
    }
   ],
   "source": [
    "X_train.shape,y_train.shape\n"
   ]
  },
  {
   "cell_type": "code",
   "execution_count": 33,
   "metadata": {},
   "outputs": [
    {
     "data": {
      "text/plain": [
       "((84, 2), (84,))"
      ]
     },
     "execution_count": 33,
     "metadata": {},
     "output_type": "execute_result"
    }
   ],
   "source": [
    "X_test.shape,y_test.shape"
   ]
  },
  {
   "cell_type": "code",
   "execution_count": 37,
   "metadata": {},
   "outputs": [
    {
     "data": {
      "text/plain": [
       "['Gentoo',\n",
       " 'Gentoo',\n",
       " 'Adelie',\n",
       " 'Gentoo',\n",
       " 'Gentoo',\n",
       " 'Chinstrap',\n",
       " 'Gentoo',\n",
       " 'Gentoo',\n",
       " 'Adelie',\n",
       " 'Adelie',\n",
       " 'Adelie',\n",
       " 'Adelie',\n",
       " 'Adelie',\n",
       " 'Chinstrap',\n",
       " 'Chinstrap',\n",
       " 'Adelie',\n",
       " 'Adelie',\n",
       " 'Gentoo',\n",
       " 'Gentoo',\n",
       " 'Adelie',\n",
       " 'Gentoo',\n",
       " 'Adelie',\n",
       " 'Gentoo',\n",
       " 'Gentoo',\n",
       " 'Adelie',\n",
       " 'Chinstrap',\n",
       " 'Adelie',\n",
       " 'Gentoo',\n",
       " 'Adelie',\n",
       " 'Chinstrap',\n",
       " 'Chinstrap',\n",
       " 'Chinstrap',\n",
       " 'Adelie',\n",
       " 'Chinstrap',\n",
       " 'Adelie',\n",
       " 'Chinstrap',\n",
       " 'Adelie',\n",
       " 'Chinstrap',\n",
       " 'Gentoo',\n",
       " 'Adelie',\n",
       " 'Adelie',\n",
       " 'Gentoo',\n",
       " 'Adelie',\n",
       " 'Adelie',\n",
       " 'Adelie',\n",
       " 'Chinstrap',\n",
       " 'Adelie',\n",
       " 'Adelie',\n",
       " 'Chinstrap',\n",
       " 'Adelie',\n",
       " 'Adelie',\n",
       " 'Adelie',\n",
       " 'Gentoo',\n",
       " 'Chinstrap',\n",
       " 'Gentoo',\n",
       " 'Adelie',\n",
       " 'Chinstrap',\n",
       " 'Gentoo',\n",
       " 'Adelie',\n",
       " 'Gentoo',\n",
       " 'Chinstrap',\n",
       " 'Gentoo',\n",
       " 'Chinstrap',\n",
       " 'Gentoo',\n",
       " 'Gentoo',\n",
       " 'Chinstrap',\n",
       " 'Chinstrap',\n",
       " 'Gentoo',\n",
       " 'Adelie',\n",
       " 'Chinstrap',\n",
       " 'Gentoo',\n",
       " 'Chinstrap',\n",
       " 'Chinstrap',\n",
       " 'Adelie',\n",
       " 'Chinstrap',\n",
       " 'Chinstrap',\n",
       " 'Adelie',\n",
       " 'Gentoo',\n",
       " 'Gentoo',\n",
       " 'Gentoo',\n",
       " 'Chinstrap',\n",
       " 'Gentoo',\n",
       " 'Gentoo',\n",
       " 'Chinstrap',\n",
       " 'Gentoo',\n",
       " 'Adelie',\n",
       " 'Adelie',\n",
       " 'Chinstrap',\n",
       " 'Gentoo',\n",
       " 'Adelie',\n",
       " 'Adelie',\n",
       " 'Gentoo',\n",
       " 'Adelie',\n",
       " 'Adelie',\n",
       " 'Adelie',\n",
       " 'Adelie',\n",
       " 'Gentoo',\n",
       " 'Adelie',\n",
       " 'Gentoo',\n",
       " 'Gentoo',\n",
       " 'Adelie',\n",
       " 'Chinstrap',\n",
       " 'Gentoo',\n",
       " 'Adelie',\n",
       " 'Gentoo',\n",
       " 'Adelie',\n",
       " 'Gentoo',\n",
       " 'Adelie',\n",
       " 'Chinstrap',\n",
       " 'Adelie',\n",
       " 'Chinstrap',\n",
       " 'Adelie',\n",
       " 'Adelie',\n",
       " 'Adelie',\n",
       " 'Chinstrap',\n",
       " 'Adelie',\n",
       " 'Adelie',\n",
       " 'Adelie',\n",
       " 'Gentoo',\n",
       " 'Adelie',\n",
       " 'Adelie',\n",
       " 'Gentoo',\n",
       " 'Adelie',\n",
       " 'Chinstrap',\n",
       " 'Chinstrap',\n",
       " 'Adelie',\n",
       " 'Adelie',\n",
       " 'Gentoo',\n",
       " 'Chinstrap',\n",
       " 'Adelie',\n",
       " 'Adelie',\n",
       " 'Gentoo',\n",
       " 'Adelie',\n",
       " 'Gentoo',\n",
       " 'Adelie',\n",
       " 'Gentoo',\n",
       " 'Gentoo',\n",
       " 'Gentoo',\n",
       " 'Adelie',\n",
       " 'Chinstrap',\n",
       " 'Gentoo',\n",
       " 'Gentoo',\n",
       " 'Chinstrap',\n",
       " 'Gentoo',\n",
       " 'Chinstrap',\n",
       " 'Adelie',\n",
       " 'Adelie',\n",
       " 'Chinstrap',\n",
       " 'Adelie',\n",
       " 'Chinstrap',\n",
       " 'Adelie',\n",
       " 'Gentoo',\n",
       " 'Gentoo',\n",
       " 'Adelie',\n",
       " 'Gentoo',\n",
       " 'Adelie',\n",
       " 'Gentoo',\n",
       " 'Adelie',\n",
       " 'Gentoo',\n",
       " 'Adelie',\n",
       " 'Gentoo',\n",
       " 'Adelie',\n",
       " 'Adelie',\n",
       " 'Adelie',\n",
       " 'Adelie',\n",
       " 'Chinstrap',\n",
       " 'Gentoo',\n",
       " 'Gentoo',\n",
       " 'Gentoo',\n",
       " 'Adelie',\n",
       " 'Adelie',\n",
       " 'Gentoo',\n",
       " 'Adelie',\n",
       " 'Adelie',\n",
       " 'Adelie',\n",
       " 'Adelie',\n",
       " 'Chinstrap',\n",
       " 'Chinstrap',\n",
       " 'Adelie',\n",
       " 'Gentoo',\n",
       " 'Chinstrap',\n",
       " 'Chinstrap',\n",
       " 'Gentoo',\n",
       " 'Chinstrap',\n",
       " 'Chinstrap',\n",
       " 'Chinstrap',\n",
       " 'Gentoo',\n",
       " 'Chinstrap',\n",
       " 'Gentoo',\n",
       " 'Gentoo',\n",
       " 'Chinstrap',\n",
       " 'Chinstrap',\n",
       " 'Chinstrap',\n",
       " 'Adelie',\n",
       " 'Gentoo',\n",
       " 'Chinstrap',\n",
       " 'Chinstrap',\n",
       " 'Gentoo',\n",
       " 'Adelie',\n",
       " 'Adelie',\n",
       " 'Adelie',\n",
       " 'Adelie',\n",
       " 'Chinstrap',\n",
       " 'Adelie',\n",
       " 'Gentoo',\n",
       " 'Adelie',\n",
       " 'Adelie',\n",
       " 'Gentoo',\n",
       " 'Gentoo',\n",
       " 'Adelie',\n",
       " 'Adelie',\n",
       " 'Chinstrap',\n",
       " 'Adelie',\n",
       " 'Gentoo',\n",
       " 'Adelie',\n",
       " 'Gentoo',\n",
       " 'Gentoo',\n",
       " 'Adelie',\n",
       " 'Adelie',\n",
       " 'Chinstrap',\n",
       " 'Chinstrap',\n",
       " 'Gentoo',\n",
       " 'Chinstrap',\n",
       " 'Chinstrap',\n",
       " 'Adelie',\n",
       " 'Adelie',\n",
       " 'Gentoo',\n",
       " 'Gentoo',\n",
       " 'Adelie',\n",
       " 'Chinstrap',\n",
       " 'Gentoo',\n",
       " 'Chinstrap',\n",
       " 'Gentoo',\n",
       " 'Gentoo',\n",
       " 'Gentoo',\n",
       " 'Chinstrap',\n",
       " 'Adelie',\n",
       " 'Chinstrap',\n",
       " 'Adelie',\n",
       " 'Adelie',\n",
       " 'Gentoo',\n",
       " 'Adelie',\n",
       " 'Gentoo',\n",
       " 'Adelie',\n",
       " 'Chinstrap',\n",
       " 'Adelie',\n",
       " 'Adelie',\n",
       " 'Gentoo',\n",
       " 'Adelie']"
      ]
     },
     "execution_count": 37,
     "metadata": {},
     "output_type": "execute_result"
    }
   ],
   "source": [
    "species"
   ]
  },
  {
   "cell_type": "code",
   "execution_count": 34,
   "metadata": {},
   "outputs": [
    {
     "data": {
      "text/plain": [
       "249"
      ]
     },
     "execution_count": 34,
     "metadata": {},
     "output_type": "execute_result"
    }
   ],
   "source": [
    "len(species)"
   ]
  },
  {
   "cell_type": "code",
   "execution_count": 36,
   "metadata": {},
   "outputs": [
    {
     "data": {
      "text/plain": [
       "0.8875502008032129"
      ]
     },
     "execution_count": 36,
     "metadata": {},
     "output_type": "execute_result"
    }
   ],
   "source": [
    "accuracy_score(y_train,species)"
   ]
  },
  {
   "cell_type": "markdown",
   "metadata": {},
   "source": [
    "ON: Formalize on the white board what we have discussed until here!"
   ]
  },
  {
   "cell_type": "markdown",
   "metadata": {},
   "source": [
    "## Gini Impurity"
   ]
  },
  {
   "cell_type": "code",
   "execution_count": 38,
   "metadata": {},
   "outputs": [
    {
     "data": {
      "text/plain": [
       "[<matplotlib.lines.Line2D at 0x7fe1e18f7100>]"
      ]
     },
     "execution_count": 38,
     "metadata": {},
     "output_type": "execute_result"
    },
    {
     "data": {
      "image/png": "[encoded data removed]",
      "text/plain": [
       "<Figure size 864x576 with 1 Axes>"
      ]
     },
     "metadata": {
      "needs_background": "light"
     },
     "output_type": "display_data"
    }
   ],
   "source": [
    "plt.figure(figsize=(12,8))\n",
    "plot = sns.scatterplot(x=X_train[\"Body Mass (g)\"], y=X_train[\"Culmen Length (mm)\"], hue=y_train, s=150)\n",
    "plt.axis((3910, 4390, 40, 48))\n",
    "plt.plot([3910, 4390],[43.5,43.5], linewidth=2, color=\"red\") #horizontal\n",
    "plt.plot([4220, 4220],[0,43.5], linewidth=1, color=\"red\") #bottom\n",
    "plt.plot([4165, 4165],[43.5,48], linewidth=1, color=\"red\") #top"
   ]
  },
  {
   "cell_type": "markdown",
   "metadata": {},
   "source": [
    "GINI =  $\\sum\\nolimits_{k=1}^K$(p_{k})$(1 - p_{k})$"
   ]
  },
  {
   "cell_type": "markdown",
   "metadata": {},
   "source": [
    "K = classes, \n",
    "p = Proportion of points belonging to class k"
   ]
  },
  {
   "cell_type": "markdown",
   "metadata": {},
   "source": [
    "Let's denote the classes this way:\n",
    "- \"1\" = \"Adelie\"\n",
    "- \"2\" = \"Gentoo\"\n",
    "- \"3\" = \"Chinstrap\""
   ]
  },
  {
   "cell_type": "code",
   "execution_count": 39,
   "metadata": {},
   "outputs": [
    {
     "data": {
      "text/plain": [
       "0.2"
      ]
     },
     "execution_count": 39,
     "metadata": {},
     "output_type": "execute_result"
    }
   ],
   "source": [
    "# lower left corner:\n",
    "p1 = 8/9\n",
    "p2 = 1/9\n",
    "\n",
    "gini_lower_left = p1*(1-p1)+p2*(1-p2)\n",
    "round(gini_lower_left, 2)"
   ]
  },
  {
   "cell_type": "code",
   "execution_count": 45,
   "metadata": {},
   "outputs": [
    {
     "data": {
      "text/plain": [
       "0"
      ]
     },
     "execution_count": 45,
     "metadata": {},
     "output_type": "execute_result"
    }
   ],
   "source": [
    "# lower right corner:\n",
    "p1 = 0\n",
    "\n",
    "gini_lower_right = 0\n",
    "gini_lower_right"
   ]
  },
  {
   "cell_type": "code",
   "execution_count": 43,
   "metadata": {},
   "outputs": [
    {
     "data": {
      "text/plain": [
       "0.5"
      ]
     },
     "execution_count": 43,
     "metadata": {},
     "output_type": "execute_result"
    }
   ],
   "source": [
    "# upper left corner:\n",
    "p1 =1/2\n",
    "p3 =1/2\n",
    "\n",
    "gini_upper_left = p1*(1-p1)+p3*(1-p3)\n",
    "round(gini_upper_left, 2)"
   ]
  },
  {
   "cell_type": "code",
   "execution_count": 42,
   "metadata": {},
   "outputs": [
    {
     "data": {
      "text/plain": [
       "0.24"
      ]
     },
     "execution_count": 42,
     "metadata": {},
     "output_type": "execute_result"
    }
   ],
   "source": [
    "# upper right corner:\n",
    "p1 = 1/7\n",
    "p2 = 6/7\n",
    "\n",
    "gini_upper_right = p1*(1-p1)+p2*(1-p2)\n",
    "round(gini_upper_right, 2)"
   ]
  },
  {
   "cell_type": "markdown",
   "metadata": {},
   "source": [
    "In order to find the final gini-value, we need to ponderate by likelihood of randomly selecting each class for the complete lower node (left and right) and then add them. The same thing applies to the upper half, which we won't do here...adding both ponderating values (lower node -gini and upper node-gini) gives us our final gini-value. The **lower this value**, the **better** the model performs in classifying samples. "
   ]
  },
  {
   "cell_type": "code",
   "execution_count": 46,
   "metadata": {},
   "outputs": [
    {
     "data": {
      "text/plain": [
       "0.119"
      ]
     },
     "execution_count": 46,
     "metadata": {},
     "output_type": "execute_result"
    }
   ],
   "source": [
    "# Evaluation of the split vertical bottom: does this split create two \"good\" nodes? \n",
    "gini_impurity = 9/15*gini_lower_left+6/15*gini_lower_right\n",
    "round(gini_impurity, 3) "
   ]
  },
  {
   "cell_type": "markdown",
   "metadata": {},
   "source": [
    "The model will continue to split, split, split (based on different features and thresholds) until all leaves have a gini = 0 (i.e. they are all \"pure\"). Problem is: it will overfit, so we need to counter tendency of overfitting by defining hyperparameters (especially: max_depth)."
   ]
  },
  {
   "cell_type": "markdown",
   "metadata": {},
   "source": [
    "In summary: finding the best thresholds (\"splitting the data\") will require to define them such that Gini is minimized."
   ]
  },
  {
   "cell_type": "markdown",
   "metadata": {},
   "source": [
    "## Luckily, there is a Decision Tree Model in Sklearn that will do all the hard work for us!"
   ]
  },
  {
   "cell_type": "markdown",
   "metadata": {},
   "source": [
    "#### Train the model"
   ]
  },
  {
   "cell_type": "code",
   "execution_count": 2,
   "metadata": {},
   "outputs": [
    {
     "ename": "NameError",
     "evalue": "name 'DecisionTreeClassifier' is not defined",
     "output_type": "error",
     "traceback": [
      "\u001b[0;31m---------------------------------------------------------------------------\u001b[0m",
      "\u001b[0;31mNameError\u001b[0m                                 Traceback (most recent call last)",
      "\u001b[0;32m<ipython-input-2-0a98191de253>\u001b[0m in \u001b[0;36m<module>\u001b[0;34m\u001b[0m\n\u001b[0;32m----> 1\u001b[0;31m \u001b[0mclf_Decision_Tree\u001b[0m \u001b[0;34m=\u001b[0m \u001b[0mDecisionTreeClassifier\u001b[0m\u001b[0;34m(\u001b[0m\u001b[0mmax_depth\u001b[0m\u001b[0;34m=\u001b[0m\u001b[0;36m3\u001b[0m\u001b[0;34m,\u001b[0m\u001b[0mrandom_state\u001b[0m\u001b[0;34m=\u001b[0m\u001b[0;36m42\u001b[0m\u001b[0;34m)\u001b[0m\u001b[0;34m\u001b[0m\u001b[0;34m\u001b[0m\u001b[0m\n\u001b[0m",
      "\u001b[0;31mNameError\u001b[0m: name 'DecisionTreeClassifier' is not defined"
     ]
    }
   ],
   "source": [
    "clf_Decision_Tree = DecisionTreeClassifier(max_depth=3,random_state=42)"
   ]
  },
  {
   "cell_type": "code",
   "execution_count": 1,
   "metadata": {},
   "outputs": [
    {
     "ename": "NameError",
     "evalue": "name 'clf_Decision_Tree' is not defined",
     "output_type": "error",
     "traceback": [
      "\u001b[0;31m---------------------------------------------------------------------------\u001b[0m",
      "\u001b[0;31mNameError\u001b[0m                                 Traceback (most recent call last)",
      "\u001b[0;32m<ipython-input-1-fc53bf54186f>\u001b[0m in \u001b[0;36m<module>\u001b[0;34m\u001b[0m\n\u001b[0;32m----> 1\u001b[0;31m \u001b[0mclf_Decision_Tree\u001b[0m\u001b[0;34m.\u001b[0m\u001b[0mfit\u001b[0m\u001b[0;34m(\u001b[0m\u001b[0mX_train_fe\u001b[0m\u001b[0;34m,\u001b[0m\u001b[0my_train\u001b[0m\u001b[0;34m)\u001b[0m\u001b[0;34m\u001b[0m\u001b[0;34m\u001b[0m\u001b[0m\n\u001b[0m",
      "\u001b[0;31mNameError\u001b[0m: name 'clf_Decision_Tree' is not defined"
     ]
    }
   ],
   "source": [
    "clf_Decision_Tree.fit(X_train,y_train)"
   ]
  },
  {
   "cell_type": "markdown",
   "metadata": {},
   "source": [
    "#### Make predictions"
   ]
  },
  {
   "cell_type": "code",
   "execution_count": 56,
   "metadata": {},
   "outputs": [],
   "source": [
    "DT_predictions = clf_Decision_Tree.predict(X_train)"
   ]
  },
  {
   "cell_type": "code",
   "execution_count": 57,
   "metadata": {},
   "outputs": [
    {
     "data": {
      "text/plain": [
       "0.932"
      ]
     },
     "execution_count": 57,
     "metadata": {},
     "output_type": "execute_result"
    }
   ],
   "source": [
    "round(accuracy_score(y_train,DT_predictions),3)"
   ]
  },
  {
   "cell_type": "code",
   "execution_count": 58,
   "metadata": {},
   "outputs": [],
   "source": [
    "DT_predictions=clf_Decision_Tree.predict(X_test)"
   ]
  },
  {
   "cell_type": "code",
   "execution_count": 59,
   "metadata": {
    "collapsed": true
   },
   "outputs": [
    {
     "data": {
      "text/plain": [
       "0.905"
      ]
     },
     "execution_count": 59,
     "metadata": {},
     "output_type": "execute_result"
    }
   ],
   "source": [
    "round(accuracy_score(y_test,DT_predictions),3)"
   ]
  },
  {
   "cell_type": "code",
   "execution_count": 60,
   "metadata": {},
   "outputs": [],
   "source": [
    "clf_Decision_Tree = DecisionTreeClassifier(max_depth=2,random_state=42)"
   ]
  },
  {
   "cell_type": "code",
   "execution_count": 61,
   "metadata": {},
   "outputs": [
    {
     "data": {
      "text/plain": [
       "DecisionTreeClassifier(max_depth=2, random_state=42)"
      ]
     },
     "execution_count": 61,
     "metadata": {},
     "output_type": "execute_result"
    }
   ],
   "source": [
    "clf_Decision_Tree.fit(X_train,y_train)"
   ]
  },
  {
   "cell_type": "code",
   "execution_count": 62,
   "metadata": {},
   "outputs": [],
   "source": [
    "DT_predictions = clf_Decision_Tree.predict(X_train)"
   ]
  },
  {
   "cell_type": "code",
   "execution_count": 63,
   "metadata": {},
   "outputs": [
    {
     "data": {
      "text/plain": [
       "0.928"
      ]
     },
     "execution_count": 63,
     "metadata": {},
     "output_type": "execute_result"
    }
   ],
   "source": [
    "round(accuracy_score(y_train,DT_predictions),3)"
   ]
  },
  {
   "cell_type": "code",
   "execution_count": 64,
   "metadata": {},
   "outputs": [],
   "source": [
    "DT_predictions=clf_Decision_Tree.predict(X_test)"
   ]
  },
  {
   "cell_type": "code",
   "execution_count": 65,
   "metadata": {},
   "outputs": [
    {
     "data": {
      "text/plain": [
       "0.929"
      ]
     },
     "execution_count": 65,
     "metadata": {},
     "output_type": "execute_result"
    }
   ],
   "source": [
    "round(accuracy_score(y_test,DT_predictions),3)"
   ]
  },
  {
   "cell_type": "code",
   "execution_count": null,
   "metadata": {},
   "outputs": [],
   "source": []
  },
  {
   "cell_type": "markdown",
   "metadata": {},
   "source": [
    "#### Plot the tree"
   ]
  },
  {
   "cell_type": "code",
   "execution_count": 69,
   "metadata": {},
   "outputs": [
    {
     "data": {
      "image/png": "[encoded data removed]",
      "text/plain": [
       "<Figure size 432x288 with 1 Axes>"
      ]
     },
     "metadata": {
      "needs_background": "light"
     },
     "output_type": "display_data"
    }
   ],
   "source": [
    "t = plot_tree(clf_Decision_Tree, feature_names=[\"Body Mass\", \"Culmen Length\"],  class_names=[\"Adelie\", \"Chinstrap\", \"Gentoo\"], filled=True)"
   ]
  },
  {
   "cell_type": "markdown",
   "metadata": {},
   "source": [
    "## The Decision Tree Algorithm\n",
    "`split(node, {samples})`:\n",
    "\n",
    "1. Determines the best feature for splitting the data*\n",
    "2. Determines the best value / threshold for splitting*\n",
    "    - Entropy (Computer Science) - ID3 Algorithm\n",
    "    - Gini Impurity (Economics) - CART Algorithm\n",
    "3. Create 2 children nodes (binary)\n",
    "4. Split the {samples} across those nodes\n",
    "5. Recurse! For each children node,\n",
    "    - IF subset is PURE:\n",
    "        - STOP!\n",
    "    - ELSE:\n",
    "        - `split(child_node, {subset})`"
   ]
  },
  {
   "cell_type": "markdown",
   "metadata": {},
   "source": [
    "## Entropy"
   ]
  },
  {
   "cell_type": "markdown",
   "metadata": {},
   "source": [
    "4 samples --> 4, 0 (100% Purity) -> Entropy = 0.0\n",
    "\n",
    "4 samples --> 2, 2 (100% Impurity) -> Entropy = 1.0 (Maximum for binary classification)"
   ]
  },
  {
   "cell_type": "code",
   "execution_count": 74,
   "metadata": {},
   "outputs": [
    {
     "data": {
      "text/plain": [
       "DecisionTreeClassifier(criterion='entropy', max_depth=2)"
      ]
     },
     "execution_count": 74,
     "metadata": {},
     "output_type": "execute_result"
    }
   ],
   "source": [
    "m = DecisionTreeClassifier(max_depth=2, criterion='entropy')  \n",
    "m.fit(X, y)"
   ]
  },
  {
   "cell_type": "code",
   "execution_count": 75,
   "metadata": {},
   "outputs": [
    {
     "data": {
      "image/png": "[encoded data removed]",
      "text/plain": [
       "<Figure size 864x576 with 1 Axes>"
      ]
     },
     "metadata": {
      "needs_background": "light"
     },
     "output_type": "display_data"
    }
   ],
   "source": [
    "plt.figure(figsize=(12, 8))\n",
    "t = plot_tree(m, feature_names=['Depth', 'Length'], class_names=['Adelie', 'Chinstrap', 'Gentoo'])"
   ]
  },
  {
   "cell_type": "markdown",
   "metadata": {},
   "source": [
    "**Starting Entropy (at the root node)**"
   ]
  },
  {
   "cell_type": "code",
   "execution_count": 77,
   "metadata": {},
   "outputs": [],
   "source": [
    "import numpy as np"
   ]
  },
  {
   "cell_type": "code",
   "execution_count": 78,
   "metadata": {},
   "outputs": [
    {
     "data": {
      "text/plain": [
       "1.5200835543530913"
      ]
     },
     "execution_count": 78,
     "metadata": {},
     "output_type": "execute_result"
    }
   ],
   "source": [
    "P_Adelie = (146) / (146+68+119)\n",
    "P_Chin = (68) / (146+68+119)\n",
    "P_Gent = (119) / (146+68+119)\n",
    "\n",
    "entropy_root_node = -P_Adelie * np.log2(P_Adelie) - P_Chin * np.log2(P_Chin) - P_Gent * np.log2(P_Gent)\n",
    "entropy_root_node"
   ]
  },
  {
   "cell_type": "markdown",
   "metadata": {},
   "source": [
    "**Entropy after the first question / split**"
   ]
  },
  {
   "cell_type": "code",
   "execution_count": 84,
   "metadata": {},
   "outputs": [
    {
     "data": {
      "text/plain": [
       "0.21279373921653882"
      ]
     },
     "execution_count": 84,
     "metadata": {},
     "output_type": "execute_result"
    }
   ],
   "source": [
    "P_Adelie = (134)/(134+1+3)\n",
    "P_Chin = (1)/(134+1+3)\n",
    "P_Gent = (3)/(134+1+3)\n",
    "\n",
    "entropy_split_1a = -P_Adelie * np.log2(P_Adelie) - P_Chin * np.log2(P_Chin) - P_Gent * np.log2(P_Gent)\n",
    "entropy_split_1a"
   ]
  },
  {
   "cell_type": "code",
   "execution_count": 80,
   "metadata": {},
   "outputs": [
    {
     "data": {
      "text/plain": [
       "1.2228517434720567"
      ]
     },
     "execution_count": 80,
     "metadata": {},
     "output_type": "execute_result"
    }
   ],
   "source": [
    "\n",
    "P_Adelie = (12)/(12+67+116)\n",
    "P_Chin = (67)/(12+67+116)\n",
    "P_Gent = (116)/(12+67+116)\n",
    "\n",
    "entropy_split_1b = -P_Adelie * np.log2(P_Adelie) - P_Chin * np.log2(P_Chin) - P_Gent * np.log2(P_Gent)\n",
    "entropy_split_1b"
   ]
  },
  {
   "cell_type": "markdown",
   "metadata": {},
   "source": [
    "Then, to calculate the **INFORMATION GAIN of the first question**, you **take the weighted sum of the resulting entropies of both child nodes, and subtract that from the original starting entropy** (i.e. entropy in the root node):"
   ]
  },
  {
   "cell_type": "code",
   "execution_count": 85,
   "metadata": {},
   "outputs": [
    {
     "data": {
      "text/plain": [
       "0.7145611659327157"
      ]
     },
     "execution_count": 85,
     "metadata": {},
     "output_type": "execute_result"
    }
   ],
   "source": [
    "Gain = entropy_root_node - (134+1+3)/(146+68+120)*entropy_split_1a - (12+67+117)/(146+68+120)*entropy_split_1b\n",
    "Gain"
   ]
  },
  {
   "cell_type": "markdown",
   "metadata": {},
   "source": [
    "\n",
    "The Difference in entropy before the split and the entropy after the split is called `information gain`. We can think of this as the drop in entropy (which is what we want, b/c entropy basically means uncertainty), or the increase in information.\n",
    "\n",
    "And the reason the first question was chosen (i.e. \"is the Culmen shorter than 42.35 millimeters?\") is **because that was the question that resulted in the largest information gain (0.71) compared to all other possible questions**. The algorithm keeps going as long as it can find questions that increase the information gain."
   ]
  },
  {
   "cell_type": "markdown",
   "metadata": {},
   "source": [
    "## When should I use a Decision tree? 🌳   "
   ]
  },
  {
   "cell_type": "markdown",
   "metadata": {},
   "source": [
    "**Advantages:** \n",
    "- intuitive understanding, can be visualized\n",
    "- requires little data preparation"
   ]
  },
  {
   "cell_type": "markdown",
   "metadata": {},
   "source": [
    "**Disadvantages:**\n",
    "- prone to overfitting  "
   ]
  },
  {
   "cell_type": "code",
   "execution_count": null,
   "metadata": {},
   "outputs": [],
   "source": []
  }
 ],
 "metadata": {
  "kernelspec": {
   "display_name": "Python 3",
   "language": "python",
   "name": "python3"
  },
  "language_info": {
   "codemirror_mode": {
    "name": "ipython",
    "version": 3
   },
   "file_extension": ".py",
   "mimetype": "text/x-python",
   "name": "python",
   "nbconvert_exporter": "python",
   "pygments_lexer": "ipython3",
   "version": "3.8.8"
  },
  "varInspector": {
   "cols": {
    "lenName": 16,
    "lenType": 16,
    "lenVar": 40
   },
   "kernels_config": {
    "python": {
     "delete_cmd_postfix": "",
     "delete_cmd_prefix": "del ",
     "library": "var_list.py",
     "varRefreshCmd": "print(var_dic_list())"
    },
    "r": {
     "delete_cmd_postfix": ") ",
     "delete_cmd_prefix": "rm(",
     "library": "var_list.r",
     "varRefreshCmd": "cat(var_dic_list()) "
    }
   },
   "types_to_exclude": [
    "module",
    "function",
    "builtin_function_or_method",
    "instance",
    "_Feature"
   ],
   "window_display": false
  }
 },
 "nbformat": 4,
 "nbformat_minor": 2
}
