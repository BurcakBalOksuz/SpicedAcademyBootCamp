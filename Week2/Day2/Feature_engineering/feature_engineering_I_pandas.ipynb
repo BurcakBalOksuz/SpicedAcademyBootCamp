{
 "cells": [
  {
   "cell_type": "markdown",
   "metadata": {},
   "source": [
    "# Feature Engineering I, \n",
    "### a.k.a.\n",
    "* ### Feature Engineering Intro\n",
    "* ### Feature Engineering with _pandas_"
   ]
  },
  {
   "cell_type": "markdown",
   "metadata": {},
   "source": [
    "Two sides to feature engineering:\n",
    "* Which features help me build a better model?\n",
    "* How should I preprocess them to include them into the model?"
   ]
  },
  {
   "cell_type": "markdown",
   "metadata": {},
   "source": [
    "Why do feature engineering:\n",
    "* Encode our subject matter expertise into the data\n",
    "* More relevant information gives better performance\n",
    "* Feed data into a model that are not numbers"
   ]
  },
  {
   "cell_type": "code",
   "execution_count": null,
   "metadata": {},
   "outputs": [],
   "source": [
    "import pandas as pd\n",
    "import numpy as np"
   ]
  },
  {
   "cell_type": "code",
   "execution_count": null,
   "metadata": {},
   "outputs": [],
   "source": [
    "# Our toy dataset to work with\n",
    "df = pd.DataFrame({\n",
    "    'fruit': ['banana', 'banana', 'banana', 'apple', 'apple', 'apple', 'orange', 'melon'],\n",
    "    'price': [1.00, 1.50, None, 2.00, 2.50, None, 3.0, 5.0],\n",
    "    'bio': [1,0,1,0,1,0,1,0]\n",
    "})"
   ]
  },
  {
   "cell_type": "markdown",
   "metadata": {},
   "source": [
    "### 1. _Imputation_: filling in missing values"
   ]
  },
  {
   "cell_type": "markdown",
   "metadata": {},
   "source": [
    "Q: What can we do with missing values?\n",
    "\n",
    "A: ..."
   ]
  },
  {
   "cell_type": "code",
   "execution_count": null,
   "metadata": {},
   "outputs": [],
   "source": []
  },
  {
   "cell_type": "markdown",
   "metadata": {},
   "source": [
    "### 2. _One-Hot Encoding_: converting categories into numbers"
   ]
  },
  {
   "cell_type": "markdown",
   "metadata": {},
   "source": [
    "`pd.factorize()`"
   ]
  },
  {
   "cell_type": "code",
   "execution_count": null,
   "metadata": {},
   "outputs": [],
   "source": []
  },
  {
   "cell_type": "markdown",
   "metadata": {},
   "source": [
    "`pd.get_dummies()`"
   ]
  },
  {
   "cell_type": "code",
   "execution_count": null,
   "metadata": {},
   "outputs": [],
   "source": []
  },
  {
   "cell_type": "markdown",
   "metadata": {},
   "source": [
    "### 3. _Scaling_: putting our variables on a common scale"
   ]
  },
  {
   "cell_type": "markdown",
   "metadata": {},
   "source": [
    "_Normalization_:"
   ]
  },
  {
   "cell_type": "code",
   "execution_count": null,
   "metadata": {},
   "outputs": [],
   "source": []
  },
  {
   "cell_type": "markdown",
   "metadata": {},
   "source": [
    "_Standardization_:"
   ]
  },
  {
   "cell_type": "code",
   "execution_count": null,
   "metadata": {},
   "outputs": [],
   "source": []
  },
  {
   "cell_type": "markdown",
   "metadata": {},
   "source": [
    "### 4. _Binning_: turning scalars into categories"
   ]
  },
  {
   "cell_type": "markdown",
   "metadata": {},
   "source": [
    "`pd.cut()`"
   ]
  },
  {
   "cell_type": "code",
   "execution_count": null,
   "metadata": {},
   "outputs": [],
   "source": []
  },
  {
   "cell_type": "markdown",
   "metadata": {},
   "source": [
    "`pd.qcut()`"
   ]
  },
  {
   "cell_type": "code",
   "execution_count": null,
   "metadata": {},
   "outputs": [],
   "source": []
  },
  {
   "cell_type": "markdown",
   "metadata": {},
   "source": [
    "### Feature engineering best practices:\n",
    "\n",
    "#### 1. We should try to split our data set into training and testing sub-samples as early as we can.\n",
    "   - but, this is flexible — e.g. you can drop NaNs from the entire dataset before filling.\n",
    "   - still, in interest of good machine learning habits, even then, better to do this after splitting.\n",
    "\n",
    "#### 2. We need to feature engineer our testing data in the same way that we feature-engineered our training data.\n",
    "   - otherwise the performance of our model will suffer, if it runs at all.\n",
    "   - writing a function is a nice way to do this.\n",
    "\n",
    "#### 3. Feature Engineering includes any pre-processing techniques, such as:\n",
    "   - imputation, dropping missing values\n",
    "   - converting strings / non-numeric values into numeric values\n",
    "   - scaling\n",
    "   - binning\n",
    "   - combining features"
   ]
  }
 ],
 "metadata": {
  "kernelspec": {
   "display_name": "Python 3",
   "language": "python",
   "name": "python3"
  },
  "language_info": {
   "codemirror_mode": {
    "name": "ipython",
    "version": 3
   },
   "file_extension": ".py",
   "mimetype": "text/x-python",
   "name": "python",
   "nbconvert_exporter": "python",
   "pygments_lexer": "ipython3",
   "version": "3.8.5"
  }
 },
 "nbformat": 4,
 "nbformat_minor": 4
}
