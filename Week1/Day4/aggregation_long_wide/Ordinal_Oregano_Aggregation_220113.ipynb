{
 "cells": [
  {
   "cell_type": "markdown",
   "id": "09e903e0",
   "metadata": {},
   "source": [
    "# Aggregation 📚"
   ]
  },
  {
   "cell_type": "markdown",
   "id": "dd48c1a4",
   "metadata": {},
   "source": [
    "### After this session you should be able to \n",
    "- apply different aggregation methods to your datasets\n",
    "- explain in your own words what .groupby() does and apply it to your datasets\n",
    "- use .groupby() in combination with different methods (including plotting)"
   ]
  },
  {
   "cell_type": "code",
   "execution_count": 1,
   "id": "13cc9de7",
   "metadata": {},
   "outputs": [],
   "source": [
    "import pandas as pd"
   ]
  },
  {
   "cell_type": "markdown",
   "id": "79c107ff",
   "metadata": {},
   "source": [
    "## 1. Applying aggregation methods: "
   ]
  },
  {
   "cell_type": "code",
   "execution_count": 2,
   "id": "661f4bb8",
   "metadata": {},
   "outputs": [
    {
     "name": "stdout",
     "output_type": "stream",
     "text": [
      "<class 'pandas.core.frame.DataFrame'>\n",
      "RangeIndex: 12 entries, 0 to 11\n",
      "Data columns (total 4 columns):\n",
      " #   Column      Non-Null Count  Dtype  \n",
      "---  ------      --------------  -----  \n",
      " 0   country     12 non-null     object \n",
      " 1   population  12 non-null     float64\n",
      " 2   fertility   12 non-null     float64\n",
      " 3   continent   12 non-null     object \n",
      "dtypes: float64(2), object(2)\n",
      "memory usage: 512.0+ bytes\n"
     ]
    }
   ],
   "source": [
    "df = pd.read_csv(\"large_countries_2015.csv\", sep = \",\")\n",
    "df.info()"
   ]
  },
  {
   "cell_type": "markdown",
   "id": "f213cb72",
   "metadata": {},
   "source": [
    "Let's apply some aggregation methods!\n",
    "Intuition of \"aggregation\": take some rows, apply some kind of \"operation\" on them and return a resumed version of these rows."
   ]
  },
  {
   "cell_type": "code",
   "execution_count": 3,
   "id": "58a6df94",
   "metadata": {},
   "outputs": [
    {
     "data": {
      "text/plain": [
       "country       BangladeshBrazilChinaIndiaIndonesiaJapanMexico...\n",
       "population                                         4504153940.0\n",
       "fertility                                                 29.25\n",
       "continent     AsiaSouth AmericaAsiaAsiaAsiaAsiaNorth America...\n",
       "dtype: object"
      ]
     },
     "execution_count": 3,
     "metadata": {},
     "output_type": "execute_result"
    }
   ],
   "source": [
    "df.sum()"
   ]
  },
  {
   "cell_type": "markdown",
   "id": "8654f184",
   "metadata": {},
   "source": [
    "If we apply .sum() to the complete dataframe, strings will be concatenated. "
   ]
  },
  {
   "cell_type": "code",
   "execution_count": 4,
   "id": "b581ee04",
   "metadata": {},
   "outputs": [
    {
     "data": {
      "text/plain": [
       "4504153940.0"
      ]
     },
     "execution_count": 4,
     "metadata": {},
     "output_type": "execute_result"
    }
   ],
   "source": [
    "df[\"population\"].sum()"
   ]
  },
  {
   "cell_type": "code",
   "execution_count": 5,
   "id": "0b49bda4",
   "metadata": {},
   "outputs": [
    {
     "data": {
      "text/plain": [
       "12"
      ]
     },
     "execution_count": 5,
     "metadata": {},
     "output_type": "execute_result"
    }
   ],
   "source": [
    "df[\"country\"].count()"
   ]
  },
  {
   "cell_type": "code",
   "execution_count": 6,
   "id": "38288a70",
   "metadata": {},
   "outputs": [
    {
     "data": {
      "text/plain": [
       "Russia           1\n",
       "China            1\n",
       "Mexico           1\n",
       "Indonesia        1\n",
       "Bangladesh       1\n",
       "Nigeria          1\n",
       "India            1\n",
       "Philippines      1\n",
       "Japan            1\n",
       "Pakistan         1\n",
       "Brazil           1\n",
       "United States    1\n",
       "Name: country, dtype: int64"
      ]
     },
     "execution_count": 6,
     "metadata": {},
     "output_type": "execute_result"
    }
   ],
   "source": [
    "df[\"country\"].value_counts()"
   ]
  },
  {
   "cell_type": "code",
   "execution_count": 7,
   "id": "d0785234",
   "metadata": {},
   "outputs": [
    {
     "data": {
      "text/html": [
       "<div>\n",
       "<style scoped>\n",
       "    .dataframe tbody tr th:only-of-type {\n",
       "        vertical-align: middle;\n",
       "    }\n",
       "\n",
       "    .dataframe tbody tr th {\n",
       "        vertical-align: top;\n",
       "    }\n",
       "\n",
       "    .dataframe thead th {\n",
       "        text-align: right;\n",
       "    }\n",
       "</style>\n",
       "<table border=\"1\" class=\"dataframe\">\n",
       "  <thead>\n",
       "    <tr style=\"text-align: right;\">\n",
       "      <th></th>\n",
       "      <th>population</th>\n",
       "      <th>fertility</th>\n",
       "    </tr>\n",
       "  </thead>\n",
       "  <tbody>\n",
       "    <tr>\n",
       "      <th>count</th>\n",
       "      <td>1.200000e+01</td>\n",
       "      <td>12.000000</td>\n",
       "    </tr>\n",
       "    <tr>\n",
       "      <th>mean</th>\n",
       "      <td>3.753462e+08</td>\n",
       "      <td>2.437500</td>\n",
       "    </tr>\n",
       "    <tr>\n",
       "      <th>std</th>\n",
       "      <td>4.565194e+08</td>\n",
       "      <td>1.200781</td>\n",
       "    </tr>\n",
       "    <tr>\n",
       "      <th>min</th>\n",
       "      <td>1.006994e+08</td>\n",
       "      <td>1.450000</td>\n",
       "    </tr>\n",
       "    <tr>\n",
       "      <th>25%</th>\n",
       "      <td>1.393470e+08</td>\n",
       "      <td>1.737500</td>\n",
       "    </tr>\n",
       "    <tr>\n",
       "      <th>50%</th>\n",
       "      <td>1.855634e+08</td>\n",
       "      <td>2.125000</td>\n",
       "    </tr>\n",
       "    <tr>\n",
       "      <th>75%</th>\n",
       "      <td>2.736163e+08</td>\n",
       "      <td>2.567500</td>\n",
       "    </tr>\n",
       "    <tr>\n",
       "      <th>max</th>\n",
       "      <td>1.376049e+09</td>\n",
       "      <td>5.890000</td>\n",
       "    </tr>\n",
       "  </tbody>\n",
       "</table>\n",
       "</div>"
      ],
      "text/plain": [
       "         population  fertility\n",
       "count  1.200000e+01  12.000000\n",
       "mean   3.753462e+08   2.437500\n",
       "std    4.565194e+08   1.200781\n",
       "min    1.006994e+08   1.450000\n",
       "25%    1.393470e+08   1.737500\n",
       "50%    1.855634e+08   2.125000\n",
       "75%    2.736163e+08   2.567500\n",
       "max    1.376049e+09   5.890000"
      ]
     },
     "execution_count": 7,
     "metadata": {},
     "output_type": "execute_result"
    }
   ],
   "source": [
    "df.describe()"
   ]
  },
  {
   "cell_type": "markdown",
   "id": "10be5c61",
   "metadata": {},
   "source": [
    "Compare this \"count\" to the usage of the method .count() => we get the same value, only that in .describe() the scientific notation is being used."
   ]
  },
  {
   "cell_type": "code",
   "execution_count": 8,
   "id": "eb9bcfa4",
   "metadata": {},
   "outputs": [
    {
     "data": {
      "text/plain": [
       "country       12\n",
       "population    12\n",
       "fertility     12\n",
       "continent     12\n",
       "dtype: int64"
      ]
     },
     "execution_count": 8,
     "metadata": {},
     "output_type": "execute_result"
    }
   ],
   "source": [
    "df.count()"
   ]
  },
  {
   "cell_type": "markdown",
   "id": "eff3e695",
   "metadata": {},
   "source": [
    "df[\"population\"] = df[\"population\"]/1000, as an option to avoid getting printed out scientific notation.\n",
    "Another would be to use the syntax\n",
    "f”{num:.nf}” to represent number ‘num’ in the decimal format up to n decimal places.\n",
    "Example:"
   ]
  },
  {
   "cell_type": "code",
   "execution_count": 9,
   "id": "398bf86b",
   "metadata": {},
   "outputs": [
    {
     "name": "stdout",
     "output_type": "stream",
     "text": [
      "1.6e-06\n"
     ]
    }
   ],
   "source": [
    "num=2/1250000\n",
    "print(num)"
   ]
  },
  {
   "cell_type": "code",
   "execution_count": 10,
   "id": "19dac47a",
   "metadata": {},
   "outputs": [
    {
     "name": "stdout",
     "output_type": "stream",
     "text": [
      "0.000001600\n"
     ]
    }
   ],
   "source": [
    "output = f\"{num:.9f}\"\n",
    "print(output)"
   ]
  },
  {
   "cell_type": "code",
   "execution_count": 11,
   "id": "484ffe2f",
   "metadata": {},
   "outputs": [],
   "source": [
    "# df.describe().transpose()"
   ]
  },
  {
   "cell_type": "markdown",
   "id": "79223607",
   "metadata": {},
   "source": [
    ".agg() can be used to aggregate more \"modularly\". \n",
    "- pass a dictionary in order to define the aggregation function to be applied to selected columns\n",
    "- pass a list in order to apply selected aggregation functions on all columns at the same time (be aware that applicability of selected functions will depend on the variable type (e.g. apply the mean on a string))."
   ]
  },
  {
   "cell_type": "code",
   "execution_count": 12,
   "id": "5d092fb2",
   "metadata": {},
   "outputs": [
    {
     "data": {
      "text/plain": [
       "population    3.753462e+08\n",
       "fertility     2.125000e+00\n",
       "dtype: float64"
      ]
     },
     "execution_count": 12,
     "metadata": {},
     "output_type": "execute_result"
    }
   ],
   "source": [
    "df.agg(\n",
    "    {\"population\":\"mean\",\n",
    "    \"fertility\":\"median\"\n",
    "    }\n",
    ")"
   ]
  },
  {
   "cell_type": "code",
   "execution_count": 13,
   "id": "fce9a7b2",
   "metadata": {},
   "outputs": [
    {
     "data": {
      "text/html": [
       "<div>\n",
       "<style scoped>\n",
       "    .dataframe tbody tr th:only-of-type {\n",
       "        vertical-align: middle;\n",
       "    }\n",
       "\n",
       "    .dataframe tbody tr th {\n",
       "        vertical-align: top;\n",
       "    }\n",
       "\n",
       "    .dataframe thead th {\n",
       "        text-align: right;\n",
       "    }\n",
       "</style>\n",
       "<table border=\"1\" class=\"dataframe\">\n",
       "  <thead>\n",
       "    <tr style=\"text-align: right;\">\n",
       "      <th></th>\n",
       "      <th>population</th>\n",
       "      <th>fertility</th>\n",
       "    </tr>\n",
       "  </thead>\n",
       "  <tbody>\n",
       "    <tr>\n",
       "      <th>median</th>\n",
       "      <td>1.855634e+08</td>\n",
       "      <td>2.125000</td>\n",
       "    </tr>\n",
       "    <tr>\n",
       "      <th>mean</th>\n",
       "      <td>3.753462e+08</td>\n",
       "      <td>2.437500</td>\n",
       "    </tr>\n",
       "    <tr>\n",
       "      <th>std</th>\n",
       "      <td>4.565194e+08</td>\n",
       "      <td>1.200781</td>\n",
       "    </tr>\n",
       "  </tbody>\n",
       "</table>\n",
       "</div>"
      ],
      "text/plain": [
       "          population  fertility\n",
       "median  1.855634e+08   2.125000\n",
       "mean    3.753462e+08   2.437500\n",
       "std     4.565194e+08   1.200781"
      ]
     },
     "execution_count": 13,
     "metadata": {},
     "output_type": "execute_result"
    }
   ],
   "source": [
    "df.agg(\n",
    "    [\"median\",\"mean\",\"std\"]\n",
    ")"
   ]
  },
  {
   "cell_type": "markdown",
   "id": "1fd06ced",
   "metadata": {},
   "source": [
    "Can we apply customized functions to .agg()? It depends on the function:\n",
    "- if it aggregates, it should work\n",
    "- if it transforms, it will not be possible to pass it along with aggregation functions at the same time."
   ]
  },
  {
   "cell_type": "code",
   "execution_count": 14,
   "id": "7fda995f",
   "metadata": {},
   "outputs": [],
   "source": [
    "def double(x):\n",
    "    return 2*x"
   ]
  },
  {
   "cell_type": "code",
   "execution_count": 15,
   "id": "3581a0a5",
   "metadata": {},
   "outputs": [],
   "source": [
    "# df.agg(\n",
    "#     {\"population\":\"mean\",\n",
    "#     \"fertility\":double\n",
    "#     }\n",
    "# )"
   ]
  },
  {
   "cell_type": "markdown",
   "id": "6d9364a3",
   "metadata": {},
   "source": [
    "## 2. .groupby()!"
   ]
  },
  {
   "cell_type": "markdown",
   "id": "3d8234a9",
   "metadata": {},
   "source": [
    "What DOES .groupby() actually do?\n",
    "1. it **splits** the data\n",
    "2. it **applies** some kind of operation ON THE GROUPED data\n",
    "3. it **combines** the data back into a new (pandas) object (i.e. series or dataframe)"
   ]
  },
  {
   "cell_type": "code",
   "execution_count": 16,
   "id": "c9fd3096",
   "metadata": {},
   "outputs": [],
   "source": [
    "g = df.groupby(\"continent\") # defining the \"criterion/group/index\" by which we want to group the data."
   ]
  },
  {
   "cell_type": "code",
   "execution_count": 17,
   "id": "09d73784",
   "metadata": {},
   "outputs": [
    {
     "data": {
      "text/plain": [
       "pandas.core.groupby.generic.DataFrameGroupBy"
      ]
     },
     "execution_count": 17,
     "metadata": {},
     "output_type": "execute_result"
    }
   ],
   "source": [
    "type(g) # note the \"groupby\"-object."
   ]
  },
  {
   "cell_type": "code",
   "execution_count": 18,
   "id": "058460b1",
   "metadata": {},
   "outputs": [
    {
     "name": "stdout",
     "output_type": "stream",
     "text": [
      "Africa\n",
      "   country   population  fertility continent\n",
      "7  Nigeria  182201962.0       5.89    Africa\n",
      "\n",
      "\n",
      "Asia\n",
      "       country    population  fertility continent\n",
      "0   Bangladesh  1.609956e+08       2.12      Asia\n",
      "2        China  1.376049e+09       1.57      Asia\n",
      "3        India  1.311051e+09       2.43      Asia\n",
      "4    Indonesia  2.575638e+08       2.28      Asia\n",
      "5        Japan  1.265735e+08       1.45      Asia\n",
      "8     Pakistan  1.889249e+08       3.04      Asia\n",
      "9  Philippines  1.006994e+08       2.98      Asia\n",
      "\n",
      "\n",
      "Europe\n",
      "   country   population  fertility continent\n",
      "10  Russia  143456918.0       1.61    Europe\n",
      "\n",
      "\n",
      "North America\n",
      "          country   population  fertility      continent\n",
      "6          Mexico  127017224.0       2.13  North America\n",
      "11  United States  321773631.0       1.97  North America\n",
      "\n",
      "\n",
      "South America\n",
      "  country   population  fertility      continent\n",
      "1  Brazil  207847528.0       1.78  South America\n",
      "\n",
      "\n"
     ]
    }
   ],
   "source": [
    "for continents, group in g:\n",
    "    print(continents),\n",
    "    print(group),\n",
    "    print(\"\\n\")\n"
   ]
  },
  {
   "cell_type": "code",
   "execution_count": 19,
   "id": "339c2ce3",
   "metadata": {},
   "outputs": [
    {
     "data": {
      "text/html": [
       "<div>\n",
       "<style scoped>\n",
       "    .dataframe tbody tr th:only-of-type {\n",
       "        vertical-align: middle;\n",
       "    }\n",
       "\n",
       "    .dataframe tbody tr th {\n",
       "        vertical-align: top;\n",
       "    }\n",
       "\n",
       "    .dataframe thead th {\n",
       "        text-align: right;\n",
       "    }\n",
       "</style>\n",
       "<table border=\"1\" class=\"dataframe\">\n",
       "  <thead>\n",
       "    <tr style=\"text-align: right;\">\n",
       "      <th></th>\n",
       "      <th>country</th>\n",
       "      <th>population</th>\n",
       "      <th>fertility</th>\n",
       "      <th>continent</th>\n",
       "    </tr>\n",
       "  </thead>\n",
       "  <tbody>\n",
       "    <tr>\n",
       "      <th>0</th>\n",
       "      <td>Bangladesh</td>\n",
       "      <td>1.609956e+08</td>\n",
       "      <td>2.12</td>\n",
       "      <td>Asia</td>\n",
       "    </tr>\n",
       "    <tr>\n",
       "      <th>2</th>\n",
       "      <td>China</td>\n",
       "      <td>1.376049e+09</td>\n",
       "      <td>1.57</td>\n",
       "      <td>Asia</td>\n",
       "    </tr>\n",
       "    <tr>\n",
       "      <th>3</th>\n",
       "      <td>India</td>\n",
       "      <td>1.311051e+09</td>\n",
       "      <td>2.43</td>\n",
       "      <td>Asia</td>\n",
       "    </tr>\n",
       "    <tr>\n",
       "      <th>4</th>\n",
       "      <td>Indonesia</td>\n",
       "      <td>2.575638e+08</td>\n",
       "      <td>2.28</td>\n",
       "      <td>Asia</td>\n",
       "    </tr>\n",
       "    <tr>\n",
       "      <th>5</th>\n",
       "      <td>Japan</td>\n",
       "      <td>1.265735e+08</td>\n",
       "      <td>1.45</td>\n",
       "      <td>Asia</td>\n",
       "    </tr>\n",
       "    <tr>\n",
       "      <th>8</th>\n",
       "      <td>Pakistan</td>\n",
       "      <td>1.889249e+08</td>\n",
       "      <td>3.04</td>\n",
       "      <td>Asia</td>\n",
       "    </tr>\n",
       "    <tr>\n",
       "      <th>9</th>\n",
       "      <td>Philippines</td>\n",
       "      <td>1.006994e+08</td>\n",
       "      <td>2.98</td>\n",
       "      <td>Asia</td>\n",
       "    </tr>\n",
       "  </tbody>\n",
       "</table>\n",
       "</div>"
      ],
      "text/plain": [
       "       country    population  fertility continent\n",
       "0   Bangladesh  1.609956e+08       2.12      Asia\n",
       "2        China  1.376049e+09       1.57      Asia\n",
       "3        India  1.311051e+09       2.43      Asia\n",
       "4    Indonesia  2.575638e+08       2.28      Asia\n",
       "5        Japan  1.265735e+08       1.45      Asia\n",
       "8     Pakistan  1.889249e+08       3.04      Asia\n",
       "9  Philippines  1.006994e+08       2.98      Asia"
      ]
     },
     "execution_count": 19,
     "metadata": {},
     "output_type": "execute_result"
    }
   ],
   "source": [
    "g.get_group(\"Asia\") # we could extract specific groups created by .groupby()"
   ]
  },
  {
   "cell_type": "code",
   "execution_count": 20,
   "id": "20a21b85",
   "metadata": {},
   "outputs": [
    {
     "data": {
      "text/plain": [
       "<AxesSubplot:ylabel='continent'>"
      ]
     },
     "execution_count": 20,
     "metadata": {},
     "output_type": "execute_result"
    },
    {
     "data": {
      "image/png": "[encoded data removed]",
      "text/plain": [
       "<Figure size 432x288 with 1 Axes>"
      ]
     },
     "metadata": {
      "needs_background": "light"
     },
     "output_type": "display_data"
    }
   ],
   "source": [
    "g[\"fertility\"].mean().plot.barh() # recurrent usafe of .groupby(): for plotting!"
   ]
  },
  {
   "cell_type": "code",
   "execution_count": 21,
   "id": "f139778b",
   "metadata": {},
   "outputs": [],
   "source": [
    "g2 = df.groupby([\"continent\", \"country\"]) # more usual notation of .groupby()...in addition: pass more than one \"index\" to be grouped by."
   ]
  },
  {
   "cell_type": "code",
   "execution_count": 22,
   "id": "c1887d6f",
   "metadata": {},
   "outputs": [
    {
     "name": "stderr",
     "output_type": "stream",
     "text": [
      "<ipython-input-22-34ef4365d486>:1: FutureWarning: Indexing with multiple keys (implicitly converted to a tuple of keys) will be deprecated, use a list instead.\n",
      "  g2[\"fertility\", \"population\"].mean() # pass more than one column which will be filtered in each(!) group. After that: apply aggregation method\n"
     ]
    },
    {
     "data": {
      "text/html": [
       "<div>\n",
       "<style scoped>\n",
       "    .dataframe tbody tr th:only-of-type {\n",
       "        vertical-align: middle;\n",
       "    }\n",
       "\n",
       "    .dataframe tbody tr th {\n",
       "        vertical-align: top;\n",
       "    }\n",
       "\n",
       "    .dataframe thead th {\n",
       "        text-align: right;\n",
       "    }\n",
       "</style>\n",
       "<table border=\"1\" class=\"dataframe\">\n",
       "  <thead>\n",
       "    <tr style=\"text-align: right;\">\n",
       "      <th></th>\n",
       "      <th></th>\n",
       "      <th>fertility</th>\n",
       "      <th>population</th>\n",
       "    </tr>\n",
       "    <tr>\n",
       "      <th>continent</th>\n",
       "      <th>country</th>\n",
       "      <th></th>\n",
       "      <th></th>\n",
       "    </tr>\n",
       "  </thead>\n",
       "  <tbody>\n",
       "    <tr>\n",
       "      <th>Africa</th>\n",
       "      <th>Nigeria</th>\n",
       "      <td>5.89</td>\n",
       "      <td>1.822020e+08</td>\n",
       "    </tr>\n",
       "    <tr>\n",
       "      <th rowspan=\"7\" valign=\"top\">Asia</th>\n",
       "      <th>Bangladesh</th>\n",
       "      <td>2.12</td>\n",
       "      <td>1.609956e+08</td>\n",
       "    </tr>\n",
       "    <tr>\n",
       "      <th>China</th>\n",
       "      <td>1.57</td>\n",
       "      <td>1.376049e+09</td>\n",
       "    </tr>\n",
       "    <tr>\n",
       "      <th>India</th>\n",
       "      <td>2.43</td>\n",
       "      <td>1.311051e+09</td>\n",
       "    </tr>\n",
       "    <tr>\n",
       "      <th>Indonesia</th>\n",
       "      <td>2.28</td>\n",
       "      <td>2.575638e+08</td>\n",
       "    </tr>\n",
       "    <tr>\n",
       "      <th>Japan</th>\n",
       "      <td>1.45</td>\n",
       "      <td>1.265735e+08</td>\n",
       "    </tr>\n",
       "    <tr>\n",
       "      <th>Pakistan</th>\n",
       "      <td>3.04</td>\n",
       "      <td>1.889249e+08</td>\n",
       "    </tr>\n",
       "    <tr>\n",
       "      <th>Philippines</th>\n",
       "      <td>2.98</td>\n",
       "      <td>1.006994e+08</td>\n",
       "    </tr>\n",
       "    <tr>\n",
       "      <th>Europe</th>\n",
       "      <th>Russia</th>\n",
       "      <td>1.61</td>\n",
       "      <td>1.434569e+08</td>\n",
       "    </tr>\n",
       "    <tr>\n",
       "      <th rowspan=\"2\" valign=\"top\">North America</th>\n",
       "      <th>Mexico</th>\n",
       "      <td>2.13</td>\n",
       "      <td>1.270172e+08</td>\n",
       "    </tr>\n",
       "    <tr>\n",
       "      <th>United States</th>\n",
       "      <td>1.97</td>\n",
       "      <td>3.217736e+08</td>\n",
       "    </tr>\n",
       "    <tr>\n",
       "      <th>South America</th>\n",
       "      <th>Brazil</th>\n",
       "      <td>1.78</td>\n",
       "      <td>2.078475e+08</td>\n",
       "    </tr>\n",
       "  </tbody>\n",
       "</table>\n",
       "</div>"
      ],
      "text/plain": [
       "                             fertility    population\n",
       "continent     country                               \n",
       "Africa        Nigeria             5.89  1.822020e+08\n",
       "Asia          Bangladesh          2.12  1.609956e+08\n",
       "              China               1.57  1.376049e+09\n",
       "              India               2.43  1.311051e+09\n",
       "              Indonesia           2.28  2.575638e+08\n",
       "              Japan               1.45  1.265735e+08\n",
       "              Pakistan            3.04  1.889249e+08\n",
       "              Philippines         2.98  1.006994e+08\n",
       "Europe        Russia              1.61  1.434569e+08\n",
       "North America Mexico              2.13  1.270172e+08\n",
       "              United States       1.97  3.217736e+08\n",
       "South America Brazil              1.78  2.078475e+08"
      ]
     },
     "execution_count": 22,
     "metadata": {},
     "output_type": "execute_result"
    }
   ],
   "source": [
    "g2[\"fertility\", \"population\"].mean() # pass more than one column which will be filtered in each(!) group. After that: apply aggregation method \n",
    "# (in this case: .mean())"
   ]
  },
  {
   "cell_type": "code",
   "execution_count": 23,
   "id": "13ece6ae",
   "metadata": {},
   "outputs": [
    {
     "name": "stdout",
     "output_type": "stream",
     "text": [
      "('Africa', 'Nigeria')\n",
      "   country   population  fertility continent\n",
      "7  Nigeria  182201962.0       5.89    Africa\n",
      "\n",
      "\n",
      "('Asia', 'Bangladesh')\n",
      "      country   population  fertility continent\n",
      "0  Bangladesh  160995642.0       2.12      Asia\n",
      "\n",
      "\n",
      "('Asia', 'China')\n",
      "  country    population  fertility continent\n",
      "2   China  1.376049e+09       1.57      Asia\n",
      "\n",
      "\n",
      "('Asia', 'India')\n",
      "  country    population  fertility continent\n",
      "3   India  1.311051e+09       2.43      Asia\n",
      "\n",
      "\n",
      "('Asia', 'Indonesia')\n",
      "     country   population  fertility continent\n",
      "4  Indonesia  257563815.0       2.28      Asia\n",
      "\n",
      "\n",
      "('Asia', 'Japan')\n",
      "  country   population  fertility continent\n",
      "5   Japan  126573481.0       1.45      Asia\n",
      "\n",
      "\n",
      "('Asia', 'Pakistan')\n",
      "    country   population  fertility continent\n",
      "8  Pakistan  188924874.0       3.04      Asia\n",
      "\n",
      "\n",
      "('Asia', 'Philippines')\n",
      "       country   population  fertility continent\n",
      "9  Philippines  100699395.0       2.98      Asia\n",
      "\n",
      "\n",
      "('Europe', 'Russia')\n",
      "   country   population  fertility continent\n",
      "10  Russia  143456918.0       1.61    Europe\n",
      "\n",
      "\n",
      "('North America', 'Mexico')\n",
      "  country   population  fertility      continent\n",
      "6  Mexico  127017224.0       2.13  North America\n",
      "\n",
      "\n",
      "('North America', 'United States')\n",
      "          country   population  fertility      continent\n",
      "11  United States  321773631.0       1.97  North America\n",
      "\n",
      "\n",
      "('South America', 'Brazil')\n",
      "  country   population  fertility      continent\n",
      "1  Brazil  207847528.0       1.78  South America\n",
      "\n",
      "\n"
     ]
    }
   ],
   "source": [
    "for continent, group in g2:\n",
    "    print(continent),\n",
    "    print(group),\n",
    "    print(\"\\n\")"
   ]
  },
  {
   "cell_type": "code",
   "execution_count": 24,
   "id": "a62adbff",
   "metadata": {},
   "outputs": [
    {
     "data": {
      "text/html": [
       "<div>\n",
       "<style scoped>\n",
       "    .dataframe tbody tr th:only-of-type {\n",
       "        vertical-align: middle;\n",
       "    }\n",
       "\n",
       "    .dataframe tbody tr th {\n",
       "        vertical-align: top;\n",
       "    }\n",
       "\n",
       "    .dataframe thead th {\n",
       "        text-align: right;\n",
       "    }\n",
       "</style>\n",
       "<table border=\"1\" class=\"dataframe\">\n",
       "  <thead>\n",
       "    <tr style=\"text-align: right;\">\n",
       "      <th></th>\n",
       "      <th></th>\n",
       "      <th>population</th>\n",
       "    </tr>\n",
       "    <tr>\n",
       "      <th>continent</th>\n",
       "      <th>country</th>\n",
       "      <th></th>\n",
       "    </tr>\n",
       "  </thead>\n",
       "  <tbody>\n",
       "    <tr>\n",
       "      <th>Africa</th>\n",
       "      <th>Nigeria</th>\n",
       "      <td>1.822020e+08</td>\n",
       "    </tr>\n",
       "    <tr>\n",
       "      <th rowspan=\"7\" valign=\"top\">Asia</th>\n",
       "      <th>Bangladesh</th>\n",
       "      <td>1.609956e+08</td>\n",
       "    </tr>\n",
       "    <tr>\n",
       "      <th>China</th>\n",
       "      <td>1.376049e+09</td>\n",
       "    </tr>\n",
       "    <tr>\n",
       "      <th>India</th>\n",
       "      <td>1.311051e+09</td>\n",
       "    </tr>\n",
       "    <tr>\n",
       "      <th>Indonesia</th>\n",
       "      <td>2.575638e+08</td>\n",
       "    </tr>\n",
       "    <tr>\n",
       "      <th>Japan</th>\n",
       "      <td>1.265735e+08</td>\n",
       "    </tr>\n",
       "    <tr>\n",
       "      <th>Pakistan</th>\n",
       "      <td>1.889249e+08</td>\n",
       "    </tr>\n",
       "    <tr>\n",
       "      <th>Philippines</th>\n",
       "      <td>1.006994e+08</td>\n",
       "    </tr>\n",
       "    <tr>\n",
       "      <th>Europe</th>\n",
       "      <th>Russia</th>\n",
       "      <td>1.434569e+08</td>\n",
       "    </tr>\n",
       "    <tr>\n",
       "      <th rowspan=\"2\" valign=\"top\">North America</th>\n",
       "      <th>Mexico</th>\n",
       "      <td>1.270172e+08</td>\n",
       "    </tr>\n",
       "    <tr>\n",
       "      <th>United States</th>\n",
       "      <td>3.217736e+08</td>\n",
       "    </tr>\n",
       "    <tr>\n",
       "      <th>South America</th>\n",
       "      <th>Brazil</th>\n",
       "      <td>2.078475e+08</td>\n",
       "    </tr>\n",
       "  </tbody>\n",
       "</table>\n",
       "</div>"
      ],
      "text/plain": [
       "                               population\n",
       "continent     country                    \n",
       "Africa        Nigeria        1.822020e+08\n",
       "Asia          Bangladesh     1.609956e+08\n",
       "              China          1.376049e+09\n",
       "              India          1.311051e+09\n",
       "              Indonesia      2.575638e+08\n",
       "              Japan          1.265735e+08\n",
       "              Pakistan       1.889249e+08\n",
       "              Philippines    1.006994e+08\n",
       "Europe        Russia         1.434569e+08\n",
       "North America Mexico         1.270172e+08\n",
       "              United States  3.217736e+08\n",
       "South America Brazil         2.078475e+08"
      ]
     },
     "execution_count": 24,
     "metadata": {},
     "output_type": "execute_result"
    }
   ],
   "source": [
    "g2[[\"population\"]].mean()  # we can get our output returned as a dataframe as well (optional!). Otherwise. This would return a series."
   ]
  },
  {
   "cell_type": "code",
   "execution_count": 25,
   "id": "879e51d2",
   "metadata": {},
   "outputs": [
    {
     "data": {
      "text/html": [
       "<div>\n",
       "<style scoped>\n",
       "    .dataframe tbody tr th:only-of-type {\n",
       "        vertical-align: middle;\n",
       "    }\n",
       "\n",
       "    .dataframe tbody tr th {\n",
       "        vertical-align: top;\n",
       "    }\n",
       "\n",
       "    .dataframe thead th {\n",
       "        text-align: right;\n",
       "    }\n",
       "</style>\n",
       "<table border=\"1\" class=\"dataframe\">\n",
       "  <thead>\n",
       "    <tr style=\"text-align: right;\">\n",
       "      <th></th>\n",
       "      <th></th>\n",
       "      <th>population</th>\n",
       "      <th>fertility</th>\n",
       "    </tr>\n",
       "    <tr>\n",
       "      <th>continent</th>\n",
       "      <th>country</th>\n",
       "      <th></th>\n",
       "      <th></th>\n",
       "    </tr>\n",
       "  </thead>\n",
       "  <tbody>\n",
       "    <tr>\n",
       "      <th>Africa</th>\n",
       "      <th>Nigeria</th>\n",
       "      <td>1.822020e+08</td>\n",
       "      <td>11.78</td>\n",
       "    </tr>\n",
       "    <tr>\n",
       "      <th rowspan=\"7\" valign=\"top\">Asia</th>\n",
       "      <th>Bangladesh</th>\n",
       "      <td>1.609956e+08</td>\n",
       "      <td>4.24</td>\n",
       "    </tr>\n",
       "    <tr>\n",
       "      <th>China</th>\n",
       "      <td>1.376049e+09</td>\n",
       "      <td>3.14</td>\n",
       "    </tr>\n",
       "    <tr>\n",
       "      <th>India</th>\n",
       "      <td>1.311051e+09</td>\n",
       "      <td>4.86</td>\n",
       "    </tr>\n",
       "    <tr>\n",
       "      <th>Indonesia</th>\n",
       "      <td>2.575638e+08</td>\n",
       "      <td>4.56</td>\n",
       "    </tr>\n",
       "    <tr>\n",
       "      <th>Japan</th>\n",
       "      <td>1.265735e+08</td>\n",
       "      <td>2.90</td>\n",
       "    </tr>\n",
       "    <tr>\n",
       "      <th>Pakistan</th>\n",
       "      <td>1.889249e+08</td>\n",
       "      <td>6.08</td>\n",
       "    </tr>\n",
       "    <tr>\n",
       "      <th>Philippines</th>\n",
       "      <td>1.006994e+08</td>\n",
       "      <td>5.96</td>\n",
       "    </tr>\n",
       "    <tr>\n",
       "      <th>Europe</th>\n",
       "      <th>Russia</th>\n",
       "      <td>1.434569e+08</td>\n",
       "      <td>3.22</td>\n",
       "    </tr>\n",
       "    <tr>\n",
       "      <th rowspan=\"2\" valign=\"top\">North America</th>\n",
       "      <th>Mexico</th>\n",
       "      <td>1.270172e+08</td>\n",
       "      <td>4.26</td>\n",
       "    </tr>\n",
       "    <tr>\n",
       "      <th>United States</th>\n",
       "      <td>3.217736e+08</td>\n",
       "      <td>3.94</td>\n",
       "    </tr>\n",
       "    <tr>\n",
       "      <th>South America</th>\n",
       "      <th>Brazil</th>\n",
       "      <td>2.078475e+08</td>\n",
       "      <td>3.56</td>\n",
       "    </tr>\n",
       "  </tbody>\n",
       "</table>\n",
       "</div>"
      ],
      "text/plain": [
       "                               population  fertility\n",
       "continent     country                               \n",
       "Africa        Nigeria        1.822020e+08      11.78\n",
       "Asia          Bangladesh     1.609956e+08       4.24\n",
       "              China          1.376049e+09       3.14\n",
       "              India          1.311051e+09       4.86\n",
       "              Indonesia      2.575638e+08       4.56\n",
       "              Japan          1.265735e+08       2.90\n",
       "              Pakistan       1.889249e+08       6.08\n",
       "              Philippines    1.006994e+08       5.96\n",
       "Europe        Russia         1.434569e+08       3.22\n",
       "North America Mexico         1.270172e+08       4.26\n",
       "              United States  3.217736e+08       3.94\n",
       "South America Brazil         2.078475e+08       3.56"
      ]
     },
     "execution_count": 25,
     "metadata": {},
     "output_type": "execute_result"
    }
   ],
   "source": [
    "g2.agg(\n",
    "   {\"population\":\"mean\",\n",
    "   \"fertility\":double\n",
    "    }\n",
    ")"
   ]
  },
  {
   "cell_type": "markdown",
   "id": "183f04fb",
   "metadata": {},
   "source": [
    "After grouping, we can now \"mix\" between aggregations and transformations, combining .groupby() with .agg() and our customized functin from above."
   ]
  },
  {
   "cell_type": "code",
   "execution_count": 26,
   "id": "77126d3a",
   "metadata": {},
   "outputs": [
    {
     "data": {
      "text/html": [
       "<div>\n",
       "<style scoped>\n",
       "    .dataframe tbody tr th:only-of-type {\n",
       "        vertical-align: middle;\n",
       "    }\n",
       "\n",
       "    .dataframe tbody tr th {\n",
       "        vertical-align: top;\n",
       "    }\n",
       "\n",
       "    .dataframe thead th {\n",
       "        text-align: right;\n",
       "    }\n",
       "</style>\n",
       "<table border=\"1\" class=\"dataframe\">\n",
       "  <thead>\n",
       "    <tr style=\"text-align: right;\">\n",
       "      <th></th>\n",
       "      <th></th>\n",
       "      <th>min</th>\n",
       "      <th>median</th>\n",
       "      <th>double</th>\n",
       "    </tr>\n",
       "    <tr>\n",
       "      <th>country</th>\n",
       "      <th>continent</th>\n",
       "      <th></th>\n",
       "      <th></th>\n",
       "      <th></th>\n",
       "    </tr>\n",
       "  </thead>\n",
       "  <tbody>\n",
       "    <tr>\n",
       "      <th>Bangladesh</th>\n",
       "      <th>Asia</th>\n",
       "      <td>1.609956e+08</td>\n",
       "      <td>1.609956e+08</td>\n",
       "      <td>3.219913e+08</td>\n",
       "    </tr>\n",
       "    <tr>\n",
       "      <th>Brazil</th>\n",
       "      <th>South America</th>\n",
       "      <td>2.078475e+08</td>\n",
       "      <td>2.078475e+08</td>\n",
       "      <td>4.156951e+08</td>\n",
       "    </tr>\n",
       "    <tr>\n",
       "      <th>China</th>\n",
       "      <th>Asia</th>\n",
       "      <td>1.376049e+09</td>\n",
       "      <td>1.376049e+09</td>\n",
       "      <td>2.752098e+09</td>\n",
       "    </tr>\n",
       "    <tr>\n",
       "      <th>India</th>\n",
       "      <th>Asia</th>\n",
       "      <td>1.311051e+09</td>\n",
       "      <td>1.311051e+09</td>\n",
       "      <td>2.622101e+09</td>\n",
       "    </tr>\n",
       "    <tr>\n",
       "      <th>Indonesia</th>\n",
       "      <th>Asia</th>\n",
       "      <td>2.575638e+08</td>\n",
       "      <td>2.575638e+08</td>\n",
       "      <td>5.151276e+08</td>\n",
       "    </tr>\n",
       "    <tr>\n",
       "      <th>Japan</th>\n",
       "      <th>Asia</th>\n",
       "      <td>1.265735e+08</td>\n",
       "      <td>1.265735e+08</td>\n",
       "      <td>2.531470e+08</td>\n",
       "    </tr>\n",
       "    <tr>\n",
       "      <th>Mexico</th>\n",
       "      <th>North America</th>\n",
       "      <td>1.270172e+08</td>\n",
       "      <td>1.270172e+08</td>\n",
       "      <td>2.540344e+08</td>\n",
       "    </tr>\n",
       "    <tr>\n",
       "      <th>Nigeria</th>\n",
       "      <th>Africa</th>\n",
       "      <td>1.822020e+08</td>\n",
       "      <td>1.822020e+08</td>\n",
       "      <td>3.644039e+08</td>\n",
       "    </tr>\n",
       "    <tr>\n",
       "      <th>Pakistan</th>\n",
       "      <th>Asia</th>\n",
       "      <td>1.889249e+08</td>\n",
       "      <td>1.889249e+08</td>\n",
       "      <td>3.778497e+08</td>\n",
       "    </tr>\n",
       "    <tr>\n",
       "      <th>Philippines</th>\n",
       "      <th>Asia</th>\n",
       "      <td>1.006994e+08</td>\n",
       "      <td>1.006994e+08</td>\n",
       "      <td>2.013988e+08</td>\n",
       "    </tr>\n",
       "    <tr>\n",
       "      <th>Russia</th>\n",
       "      <th>Europe</th>\n",
       "      <td>1.434569e+08</td>\n",
       "      <td>1.434569e+08</td>\n",
       "      <td>2.869138e+08</td>\n",
       "    </tr>\n",
       "    <tr>\n",
       "      <th>United States</th>\n",
       "      <th>North America</th>\n",
       "      <td>3.217736e+08</td>\n",
       "      <td>3.217736e+08</td>\n",
       "      <td>6.435473e+08</td>\n",
       "    </tr>\n",
       "  </tbody>\n",
       "</table>\n",
       "</div>"
      ],
      "text/plain": [
       "                                      min        median        double\n",
       "country       continent                                              \n",
       "Bangladesh    Asia           1.609956e+08  1.609956e+08  3.219913e+08\n",
       "Brazil        South America  2.078475e+08  2.078475e+08  4.156951e+08\n",
       "China         Asia           1.376049e+09  1.376049e+09  2.752098e+09\n",
       "India         Asia           1.311051e+09  1.311051e+09  2.622101e+09\n",
       "Indonesia     Asia           2.575638e+08  2.575638e+08  5.151276e+08\n",
       "Japan         Asia           1.265735e+08  1.265735e+08  2.531470e+08\n",
       "Mexico        North America  1.270172e+08  1.270172e+08  2.540344e+08\n",
       "Nigeria       Africa         1.822020e+08  1.822020e+08  3.644039e+08\n",
       "Pakistan      Asia           1.889249e+08  1.889249e+08  3.778497e+08\n",
       "Philippines   Asia           1.006994e+08  1.006994e+08  2.013988e+08\n",
       "Russia        Europe         1.434569e+08  1.434569e+08  2.869138e+08\n",
       "United States North America  3.217736e+08  3.217736e+08  6.435473e+08"
      ]
     },
     "execution_count": 26,
     "metadata": {},
     "output_type": "execute_result"
    }
   ],
   "source": [
    "g3 = df.groupby([\"country\", \"continent\"])[\"population\"].agg([\"min\", \"median\", double]) \n",
    "g3"
   ]
  },
  {
   "cell_type": "code",
   "execution_count": 27,
   "id": "beae9e1f",
   "metadata": {},
   "outputs": [
    {
     "data": {
      "text/html": [
       "<div>\n",
       "<style scoped>\n",
       "    .dataframe tbody tr th:only-of-type {\n",
       "        vertical-align: middle;\n",
       "    }\n",
       "\n",
       "    .dataframe tbody tr th {\n",
       "        vertical-align: top;\n",
       "    }\n",
       "\n",
       "    .dataframe thead th {\n",
       "        text-align: right;\n",
       "    }\n",
       "</style>\n",
       "<table border=\"1\" class=\"dataframe\">\n",
       "  <thead>\n",
       "    <tr style=\"text-align: right;\">\n",
       "      <th></th>\n",
       "      <th>population</th>\n",
       "      <th>fertility</th>\n",
       "      <th>continent</th>\n",
       "    </tr>\n",
       "  </thead>\n",
       "  <tbody>\n",
       "    <tr>\n",
       "      <th>0</th>\n",
       "      <td>3.219913e+08</td>\n",
       "      <td>4.24</td>\n",
       "      <td>AsiaAsia</td>\n",
       "    </tr>\n",
       "    <tr>\n",
       "      <th>1</th>\n",
       "      <td>4.156951e+08</td>\n",
       "      <td>3.56</td>\n",
       "      <td>South AmericaSouth America</td>\n",
       "    </tr>\n",
       "    <tr>\n",
       "      <th>2</th>\n",
       "      <td>2.752098e+09</td>\n",
       "      <td>3.14</td>\n",
       "      <td>AsiaAsia</td>\n",
       "    </tr>\n",
       "    <tr>\n",
       "      <th>3</th>\n",
       "      <td>2.622101e+09</td>\n",
       "      <td>4.86</td>\n",
       "      <td>AsiaAsia</td>\n",
       "    </tr>\n",
       "    <tr>\n",
       "      <th>4</th>\n",
       "      <td>5.151276e+08</td>\n",
       "      <td>4.56</td>\n",
       "      <td>AsiaAsia</td>\n",
       "    </tr>\n",
       "    <tr>\n",
       "      <th>5</th>\n",
       "      <td>2.531470e+08</td>\n",
       "      <td>2.90</td>\n",
       "      <td>AsiaAsia</td>\n",
       "    </tr>\n",
       "    <tr>\n",
       "      <th>6</th>\n",
       "      <td>2.540344e+08</td>\n",
       "      <td>4.26</td>\n",
       "      <td>North AmericaNorth America</td>\n",
       "    </tr>\n",
       "    <tr>\n",
       "      <th>7</th>\n",
       "      <td>3.644039e+08</td>\n",
       "      <td>11.78</td>\n",
       "      <td>AfricaAfrica</td>\n",
       "    </tr>\n",
       "    <tr>\n",
       "      <th>8</th>\n",
       "      <td>3.778497e+08</td>\n",
       "      <td>6.08</td>\n",
       "      <td>AsiaAsia</td>\n",
       "    </tr>\n",
       "    <tr>\n",
       "      <th>9</th>\n",
       "      <td>2.013988e+08</td>\n",
       "      <td>5.96</td>\n",
       "      <td>AsiaAsia</td>\n",
       "    </tr>\n",
       "    <tr>\n",
       "      <th>10</th>\n",
       "      <td>2.869138e+08</td>\n",
       "      <td>3.22</td>\n",
       "      <td>EuropeEurope</td>\n",
       "    </tr>\n",
       "    <tr>\n",
       "      <th>11</th>\n",
       "      <td>6.435473e+08</td>\n",
       "      <td>3.94</td>\n",
       "      <td>North AmericaNorth America</td>\n",
       "    </tr>\n",
       "  </tbody>\n",
       "</table>\n",
       "</div>"
      ],
      "text/plain": [
       "      population  fertility                   continent\n",
       "0   3.219913e+08       4.24                    AsiaAsia\n",
       "1   4.156951e+08       3.56  South AmericaSouth America\n",
       "2   2.752098e+09       3.14                    AsiaAsia\n",
       "3   2.622101e+09       4.86                    AsiaAsia\n",
       "4   5.151276e+08       4.56                    AsiaAsia\n",
       "5   2.531470e+08       2.90                    AsiaAsia\n",
       "6   2.540344e+08       4.26  North AmericaNorth America\n",
       "7   3.644039e+08      11.78                AfricaAfrica\n",
       "8   3.778497e+08       6.08                    AsiaAsia\n",
       "9   2.013988e+08       5.96                    AsiaAsia\n",
       "10  2.869138e+08       3.22                EuropeEurope\n",
       "11  6.435473e+08       3.94  North AmericaNorth America"
      ]
     },
     "execution_count": 27,
     "metadata": {},
     "output_type": "execute_result"
    }
   ],
   "source": [
    "g4 = df.groupby(\"country\").transform(double)   # applying .transform() on all(!) our initial dataframe\n",
    "g4"
   ]
  },
  {
   "cell_type": "code",
   "execution_count": 28,
   "id": "3619e4f0",
   "metadata": {},
   "outputs": [
    {
     "name": "stderr",
     "output_type": "stream",
     "text": [
      "<ipython-input-28-f886edae1374>:1: FutureWarning: Indexing with multiple keys (implicitly converted to a tuple of keys) will be deprecated, use a list instead.\n",
      "  g5 = df.groupby(\"country\")[\"population\", \"fertility\"].transform(double) # applying .transform() on some of the cols of our initial dataframe.\n"
     ]
    },
    {
     "data": {
      "text/html": [
       "<div>\n",
       "<style scoped>\n",
       "    .dataframe tbody tr th:only-of-type {\n",
       "        vertical-align: middle;\n",
       "    }\n",
       "\n",
       "    .dataframe tbody tr th {\n",
       "        vertical-align: top;\n",
       "    }\n",
       "\n",
       "    .dataframe thead th {\n",
       "        text-align: right;\n",
       "    }\n",
       "</style>\n",
       "<table border=\"1\" class=\"dataframe\">\n",
       "  <thead>\n",
       "    <tr style=\"text-align: right;\">\n",
       "      <th></th>\n",
       "      <th>population</th>\n",
       "      <th>fertility</th>\n",
       "    </tr>\n",
       "  </thead>\n",
       "  <tbody>\n",
       "    <tr>\n",
       "      <th>0</th>\n",
       "      <td>3.219913e+08</td>\n",
       "      <td>4.24</td>\n",
       "    </tr>\n",
       "    <tr>\n",
       "      <th>1</th>\n",
       "      <td>4.156951e+08</td>\n",
       "      <td>3.56</td>\n",
       "    </tr>\n",
       "    <tr>\n",
       "      <th>2</th>\n",
       "      <td>2.752098e+09</td>\n",
       "      <td>3.14</td>\n",
       "    </tr>\n",
       "    <tr>\n",
       "      <th>3</th>\n",
       "      <td>2.622101e+09</td>\n",
       "      <td>4.86</td>\n",
       "    </tr>\n",
       "    <tr>\n",
       "      <th>4</th>\n",
       "      <td>5.151276e+08</td>\n",
       "      <td>4.56</td>\n",
       "    </tr>\n",
       "    <tr>\n",
       "      <th>5</th>\n",
       "      <td>2.531470e+08</td>\n",
       "      <td>2.90</td>\n",
       "    </tr>\n",
       "    <tr>\n",
       "      <th>6</th>\n",
       "      <td>2.540344e+08</td>\n",
       "      <td>4.26</td>\n",
       "    </tr>\n",
       "    <tr>\n",
       "      <th>7</th>\n",
       "      <td>3.644039e+08</td>\n",
       "      <td>11.78</td>\n",
       "    </tr>\n",
       "    <tr>\n",
       "      <th>8</th>\n",
       "      <td>3.778497e+08</td>\n",
       "      <td>6.08</td>\n",
       "    </tr>\n",
       "    <tr>\n",
       "      <th>9</th>\n",
       "      <td>2.013988e+08</td>\n",
       "      <td>5.96</td>\n",
       "    </tr>\n",
       "    <tr>\n",
       "      <th>10</th>\n",
       "      <td>2.869138e+08</td>\n",
       "      <td>3.22</td>\n",
       "    </tr>\n",
       "    <tr>\n",
       "      <th>11</th>\n",
       "      <td>6.435473e+08</td>\n",
       "      <td>3.94</td>\n",
       "    </tr>\n",
       "  </tbody>\n",
       "</table>\n",
       "</div>"
      ],
      "text/plain": [
       "      population  fertility\n",
       "0   3.219913e+08       4.24\n",
       "1   4.156951e+08       3.56\n",
       "2   2.752098e+09       3.14\n",
       "3   2.622101e+09       4.86\n",
       "4   5.151276e+08       4.56\n",
       "5   2.531470e+08       2.90\n",
       "6   2.540344e+08       4.26\n",
       "7   3.644039e+08      11.78\n",
       "8   3.778497e+08       6.08\n",
       "9   2.013988e+08       5.96\n",
       "10  2.869138e+08       3.22\n",
       "11  6.435473e+08       3.94"
      ]
     },
     "execution_count": 28,
     "metadata": {},
     "output_type": "execute_result"
    }
   ],
   "source": [
    "g5 = df.groupby(\"country\")[\"population\", \"fertility\"].transform(double) # applying .transform() on some of the cols of our initial dataframe. \n",
    "g5"
   ]
  },
  {
   "cell_type": "code",
   "execution_count": 29,
   "id": "4526bca5",
   "metadata": {},
   "outputs": [
    {
     "data": {
      "text/plain": [
       "dict_keys(['Africa', 'Asia', 'Europe', 'North America', 'South America'])"
      ]
     },
     "execution_count": 29,
     "metadata": {},
     "output_type": "execute_result"
    }
   ],
   "source": [
    "g1 = df.groupby('continent') \n",
    "g1.groups.keys()  # returns the keys of a dictionary...alternatively: use "
   ]
  },
  {
   "cell_type": "code",
   "execution_count": 30,
   "id": "d3d210d4",
   "metadata": {},
   "outputs": [
    {
     "ename": "TypeError",
     "evalue": "object of type 'int' has no len()",
     "output_type": "error",
     "traceback": [
      "\u001b[0;31m---------------------------------------------------------------------------\u001b[0m",
      "\u001b[0;31mTypeError\u001b[0m                                 Traceback (most recent call last)",
      "\u001b[0;32m<ipython-input-30-73eb8a8862ae>\u001b[0m in \u001b[0;36m<module>\u001b[0;34m\u001b[0m\n\u001b[0;32m----> 1\u001b[0;31m \u001b[0mg4\u001b[0m \u001b[0;34m=\u001b[0m \u001b[0mdf\u001b[0m\u001b[0;34m.\u001b[0m\u001b[0mgroupby\u001b[0m\u001b[0;34m(\u001b[0m\u001b[0mlen\u001b[0m\u001b[0;34m)\u001b[0m \u001b[0;31m# passing a function to .groupby(). Examples for usage pending!\u001b[0m\u001b[0;34m\u001b[0m\u001b[0;34m\u001b[0m\u001b[0m\n\u001b[0m\u001b[1;32m      2\u001b[0m \u001b[0mg4\u001b[0m\u001b[0;34m.\u001b[0m\u001b[0mgroups\u001b[0m\u001b[0;34m\u001b[0m\u001b[0;34m\u001b[0m\u001b[0m\n",
      "\u001b[0;32m~/opt/anaconda3/lib/python3.8/site-packages/pandas/core/frame.py\u001b[0m in \u001b[0;36mgroupby\u001b[0;34m(self, by, axis, level, as_index, sort, group_keys, squeeze, observed, dropna)\u001b[0m\n\u001b[1;32m   6715\u001b[0m         \u001b[0maxis\u001b[0m \u001b[0;34m=\u001b[0m \u001b[0mself\u001b[0m\u001b[0;34m.\u001b[0m\u001b[0m_get_axis_number\u001b[0m\u001b[0;34m(\u001b[0m\u001b[0maxis\u001b[0m\u001b[0;34m)\u001b[0m\u001b[0;34m\u001b[0m\u001b[0;34m\u001b[0m\u001b[0m\n\u001b[1;32m   6716\u001b[0m \u001b[0;34m\u001b[0m\u001b[0m\n\u001b[0;32m-> 6717\u001b[0;31m         return DataFrameGroupBy(\n\u001b[0m\u001b[1;32m   6718\u001b[0m             \u001b[0mobj\u001b[0m\u001b[0;34m=\u001b[0m\u001b[0mself\u001b[0m\u001b[0;34m,\u001b[0m\u001b[0;34m\u001b[0m\u001b[0;34m\u001b[0m\u001b[0m\n\u001b[1;32m   6719\u001b[0m             \u001b[0mkeys\u001b[0m\u001b[0;34m=\u001b[0m\u001b[0mby\u001b[0m\u001b[0;34m,\u001b[0m\u001b[0;34m\u001b[0m\u001b[0;34m\u001b[0m\u001b[0m\n",
      "\u001b[0;32m~/opt/anaconda3/lib/python3.8/site-packages/pandas/core/groupby/groupby.py\u001b[0m in \u001b[0;36m__init__\u001b[0;34m(self, obj, keys, axis, level, grouper, exclusions, selection, as_index, sort, group_keys, squeeze, observed, mutated, dropna)\u001b[0m\n\u001b[1;32m    558\u001b[0m             \u001b[0;32mfrom\u001b[0m \u001b[0mpandas\u001b[0m\u001b[0;34m.\u001b[0m\u001b[0mcore\u001b[0m\u001b[0;34m.\u001b[0m\u001b[0mgroupby\u001b[0m\u001b[0;34m.\u001b[0m\u001b[0mgrouper\u001b[0m \u001b[0;32mimport\u001b[0m \u001b[0mget_grouper\u001b[0m\u001b[0;34m\u001b[0m\u001b[0;34m\u001b[0m\u001b[0m\n\u001b[1;32m    559\u001b[0m \u001b[0;34m\u001b[0m\u001b[0m\n\u001b[0;32m--> 560\u001b[0;31m             grouper, exclusions, obj = get_grouper(\n\u001b[0m\u001b[1;32m    561\u001b[0m                 \u001b[0mobj\u001b[0m\u001b[0;34m,\u001b[0m\u001b[0;34m\u001b[0m\u001b[0;34m\u001b[0m\u001b[0m\n\u001b[1;32m    562\u001b[0m                 \u001b[0mkeys\u001b[0m\u001b[0;34m,\u001b[0m\u001b[0;34m\u001b[0m\u001b[0;34m\u001b[0m\u001b[0m\n",
      "\u001b[0;32m~/opt/anaconda3/lib/python3.8/site-packages/pandas/core/groupby/grouper.py\u001b[0m in \u001b[0;36mget_grouper\u001b[0;34m(obj, key, axis, level, sort, observed, mutated, validate, dropna)\u001b[0m\n\u001b[1;32m    826\u001b[0m         \u001b[0;31m# allow us to passing the actual Grouping as the gpr\u001b[0m\u001b[0;34m\u001b[0m\u001b[0;34m\u001b[0m\u001b[0;34m\u001b[0m\u001b[0m\n\u001b[1;32m    827\u001b[0m         ping = (\n\u001b[0;32m--> 828\u001b[0;31m             Grouping(\n\u001b[0m\u001b[1;32m    829\u001b[0m                 \u001b[0mgroup_axis\u001b[0m\u001b[0;34m,\u001b[0m\u001b[0;34m\u001b[0m\u001b[0;34m\u001b[0m\u001b[0m\n\u001b[1;32m    830\u001b[0m                 \u001b[0mgpr\u001b[0m\u001b[0;34m,\u001b[0m\u001b[0;34m\u001b[0m\u001b[0;34m\u001b[0m\u001b[0m\n",
      "\u001b[0;32m~/opt/anaconda3/lib/python3.8/site-packages/pandas/core/groupby/grouper.py\u001b[0m in \u001b[0;36m__init__\u001b[0;34m(self, index, grouper, obj, name, level, sort, observed, in_axis, dropna)\u001b[0m\n\u001b[1;32m    542\u001b[0m                     \u001b[0mt\u001b[0m \u001b[0;34m=\u001b[0m \u001b[0mself\u001b[0m\u001b[0;34m.\u001b[0m\u001b[0mname\u001b[0m \u001b[0;32mor\u001b[0m \u001b[0mstr\u001b[0m\u001b[0;34m(\u001b[0m\u001b[0mtype\u001b[0m\u001b[0;34m(\u001b[0m\u001b[0mself\u001b[0m\u001b[0;34m.\u001b[0m\u001b[0mgrouper\u001b[0m\u001b[0;34m)\u001b[0m\u001b[0;34m)\u001b[0m\u001b[0;34m\u001b[0m\u001b[0;34m\u001b[0m\u001b[0m\n\u001b[1;32m    543\u001b[0m                     \u001b[0;32mraise\u001b[0m \u001b[0mValueError\u001b[0m\u001b[0;34m(\u001b[0m\u001b[0;34mf\"Grouper for '{t}' not 1-dimensional\"\u001b[0m\u001b[0;34m)\u001b[0m\u001b[0;34m\u001b[0m\u001b[0;34m\u001b[0m\u001b[0m\n\u001b[0;32m--> 544\u001b[0;31m                 \u001b[0mself\u001b[0m\u001b[0;34m.\u001b[0m\u001b[0mgrouper\u001b[0m \u001b[0;34m=\u001b[0m \u001b[0mself\u001b[0m\u001b[0;34m.\u001b[0m\u001b[0mindex\u001b[0m\u001b[0;34m.\u001b[0m\u001b[0mmap\u001b[0m\u001b[0;34m(\u001b[0m\u001b[0mself\u001b[0m\u001b[0;34m.\u001b[0m\u001b[0mgrouper\u001b[0m\u001b[0;34m)\u001b[0m\u001b[0;34m\u001b[0m\u001b[0;34m\u001b[0m\u001b[0m\n\u001b[0m\u001b[1;32m    545\u001b[0m                 if not (\n\u001b[1;32m    546\u001b[0m                     \u001b[0mhasattr\u001b[0m\u001b[0;34m(\u001b[0m\u001b[0mself\u001b[0m\u001b[0;34m.\u001b[0m\u001b[0mgrouper\u001b[0m\u001b[0;34m,\u001b[0m \u001b[0;34m\"__len__\"\u001b[0m\u001b[0;34m)\u001b[0m\u001b[0;34m\u001b[0m\u001b[0;34m\u001b[0m\u001b[0m\n",
      "\u001b[0;32m~/opt/anaconda3/lib/python3.8/site-packages/pandas/core/indexes/base.py\u001b[0m in \u001b[0;36mmap\u001b[0;34m(self, mapper, na_action)\u001b[0m\n\u001b[1;32m   5096\u001b[0m         \u001b[0;32mfrom\u001b[0m \u001b[0mpandas\u001b[0m\u001b[0;34m.\u001b[0m\u001b[0mcore\u001b[0m\u001b[0;34m.\u001b[0m\u001b[0mindexes\u001b[0m\u001b[0;34m.\u001b[0m\u001b[0mmulti\u001b[0m \u001b[0;32mimport\u001b[0m \u001b[0mMultiIndex\u001b[0m\u001b[0;34m\u001b[0m\u001b[0;34m\u001b[0m\u001b[0m\n\u001b[1;32m   5097\u001b[0m \u001b[0;34m\u001b[0m\u001b[0m\n\u001b[0;32m-> 5098\u001b[0;31m         \u001b[0mnew_values\u001b[0m \u001b[0;34m=\u001b[0m \u001b[0msuper\u001b[0m\u001b[0;34m(\u001b[0m\u001b[0;34m)\u001b[0m\u001b[0;34m.\u001b[0m\u001b[0m_map_values\u001b[0m\u001b[0;34m(\u001b[0m\u001b[0mmapper\u001b[0m\u001b[0;34m,\u001b[0m \u001b[0mna_action\u001b[0m\u001b[0;34m=\u001b[0m\u001b[0mna_action\u001b[0m\u001b[0;34m)\u001b[0m\u001b[0;34m\u001b[0m\u001b[0;34m\u001b[0m\u001b[0m\n\u001b[0m\u001b[1;32m   5099\u001b[0m \u001b[0;34m\u001b[0m\u001b[0m\n\u001b[1;32m   5100\u001b[0m         \u001b[0mattributes\u001b[0m \u001b[0;34m=\u001b[0m \u001b[0mself\u001b[0m\u001b[0;34m.\u001b[0m\u001b[0m_get_attributes_dict\u001b[0m\u001b[0;34m(\u001b[0m\u001b[0;34m)\u001b[0m\u001b[0;34m\u001b[0m\u001b[0;34m\u001b[0m\u001b[0m\n",
      "\u001b[0;32m~/opt/anaconda3/lib/python3.8/site-packages/pandas/core/base.py\u001b[0m in \u001b[0;36m_map_values\u001b[0;34m(self, mapper, na_action)\u001b[0m\n\u001b[1;32m    935\u001b[0m \u001b[0;34m\u001b[0m\u001b[0m\n\u001b[1;32m    936\u001b[0m         \u001b[0;31m# mapper is a function\u001b[0m\u001b[0;34m\u001b[0m\u001b[0;34m\u001b[0m\u001b[0;34m\u001b[0m\u001b[0m\n\u001b[0;32m--> 937\u001b[0;31m         \u001b[0mnew_values\u001b[0m \u001b[0;34m=\u001b[0m \u001b[0mmap_f\u001b[0m\u001b[0;34m(\u001b[0m\u001b[0mvalues\u001b[0m\u001b[0;34m,\u001b[0m \u001b[0mmapper\u001b[0m\u001b[0;34m)\u001b[0m\u001b[0;34m\u001b[0m\u001b[0;34m\u001b[0m\u001b[0m\n\u001b[0m\u001b[1;32m    938\u001b[0m \u001b[0;34m\u001b[0m\u001b[0m\n\u001b[1;32m    939\u001b[0m         \u001b[0;32mreturn\u001b[0m \u001b[0mnew_values\u001b[0m\u001b[0;34m\u001b[0m\u001b[0;34m\u001b[0m\u001b[0m\n",
      "\u001b[0;32mpandas/_libs/lib.pyx\u001b[0m in \u001b[0;36mpandas._libs.lib.map_infer\u001b[0;34m()\u001b[0m\n",
      "\u001b[0;31mTypeError\u001b[0m: object of type 'int' has no len()"
     ]
    }
   ],
   "source": [
    "g4 = df.groupby(len) # passing a function to .groupby(). Examples for usage pending!\n",
    "g4.groups"
   ]
  }
 ],
 "metadata": {
  "kernelspec": {
   "display_name": "Python 3",
   "language": "python",
   "name": "python3"
  },
  "language_info": {
   "codemirror_mode": {
    "name": "ipython",
    "version": 3
   },
   "file_extension": ".py",
   "mimetype": "text/x-python",
   "name": "python",
   "nbconvert_exporter": "python",
   "pygments_lexer": "ipython3",
   "version": "3.8.8"
  }
 },
 "nbformat": 4,
 "nbformat_minor": 5
}
