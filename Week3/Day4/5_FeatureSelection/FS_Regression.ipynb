{
 "cells": [
  {
   "cell_type": "markdown",
   "id": "3b59f401-098d-438e-ae64-bb759851a47a",
   "metadata": {},
   "source": [
    "# Feature Selection\n",
    "## Regression - Numerical Input\n"
   ]
  },
  {
   "cell_type": "code",
   "execution_count": 2,
   "id": "e0547f59-e53f-423d-a429-c8d6eef2e02a",
   "metadata": {},
   "outputs": [],
   "source": [
    "import numpy as np\n",
    "import matplotlib.pyplot as plt\n",
    "import seaborn as sns\n",
    "import pandas as pd\n",
    "\n",
    "from sklearn.datasets import make_regression\n",
    "\n",
    "from sklearn.model_selection import train_test_split\n",
    "\n",
    "from sklearn.feature_selection import SelectKBest, f_regression\n",
    "\n",
    "from sklearn.linear_model import LinearRegression"
   ]
  },
  {
   "cell_type": "code",
   "execution_count": 3,
   "id": "24f0d590-ada5-4cac-a544-b8782b7fbac7",
   "metadata": {},
   "outputs": [],
   "source": [
    "X, y = make_regression(n_samples=1000, n_features=100, n_informative=10, noise=0.1,\n",
    "                       random_state=1)"
   ]
  },
  {
   "cell_type": "code",
   "execution_count": 4,
   "id": "095b747e-72b5-48de-8bf3-82ace7680645",
   "metadata": {},
   "outputs": [],
   "source": [
    "X_train, X_test, y_train, y_test = train_test_split(X, y, test_size=0.33, random_state=1)"
   ]
  },
  {
   "cell_type": "code",
   "execution_count": 76,
   "id": "8913cb9c-6fca-42a4-8218-e91e1f7ab5aa",
   "metadata": {},
   "outputs": [],
   "source": [
    "fs = SelectKBest(score_func=f_regression, k=70)\n",
    "fs.fit(X_train, y_train)\n",
    "X_train_fs = fs.transform(X_train)\n",
    "X_test_fs = fs.transform(X_test)"
   ]
  },
  {
   "cell_type": "code",
   "execution_count": 77,
   "id": "b3d48c96-5faf-4cf6-bfcd-b2dbefd36f49",
   "metadata": {},
   "outputs": [
    {
     "data": {
      "text/plain": [
       "<BarContainer object of 100 artists>"
      ]
     },
     "execution_count": 77,
     "metadata": {},
     "output_type": "execute_result"
    },
    {
     "data": {
      "image/png": "[encoded data removed]",
      "text/plain": [
       "<Figure size 432x288 with 1 Axes>"
      ]
     },
     "metadata": {
      "needs_background": "light"
     },
     "output_type": "display_data"
    }
   ],
   "source": [
    "plt.bar([i for i, _ in enumerate(fs.scores_)], fs.scores_)"
   ]
  },
  {
   "cell_type": "markdown",
   "id": "e1b139fb-bcc4-4572-8ba7-429e9c26284b",
   "metadata": {},
   "source": [
    "Further information on feature selection with ANOVA [here](https://towardsdatascience.com/anova-for-feature-selection-in-machine-learning-d9305e228476)"
   ]
  },
  {
   "cell_type": "code",
   "execution_count": 78,
   "id": "ef0d913b-a390-4c56-b8fe-b36109974ce4",
   "metadata": {},
   "outputs": [
    {
     "data": {
      "text/plain": [
       "0.999999725955"
      ]
     },
     "execution_count": 78,
     "metadata": {},
     "output_type": "execute_result"
    }
   ],
   "source": [
    "model = LinearRegression()\n",
    "model.fit(X_train, y_train)\n",
    "model.score(X_test, y_test)"
   ]
  },
  {
   "cell_type": "code",
   "execution_count": 79,
   "id": "91b3ee3f-3ee4-4e60-bbe2-2194f5b0dada",
   "metadata": {},
   "outputs": [
    {
     "data": {
      "text/plain": [
       "0.9999997425626881"
      ]
     },
     "execution_count": 79,
     "metadata": {},
     "output_type": "execute_result"
    }
   ],
   "source": [
    "model = LinearRegression()\n",
    "model.fit(X_train_fs, y_train)\n",
    "model.score(X_test_fs, y_test)"
   ]
  },
  {
   "cell_type": "code",
   "execution_count": 80,
   "id": "73211bdc-d0f0-4b2d-9f1c-bdd0a973b793",
   "metadata": {},
   "outputs": [],
   "source": [
    "def test_best_number_features(i):\n",
    "    fs = SelectKBest(score_func=f_regression, k=i)\n",
    "    fs.fit(X_train, y_train)\n",
    "    X_train_fs = fs.transform(X_train)\n",
    "    X_test_fs = fs.transform(X_test)\n",
    "    \n",
    "    model = LinearRegression()\n",
    "    model.fit(X_train_fs, y_train)\n",
    "    return model.score(X_test_fs, y_test)"
   ]
  },
  {
   "cell_type": "code",
   "execution_count": 86,
   "id": "c0351d94-d489-4a39-b1dc-74e0120d8190",
   "metadata": {},
   "outputs": [],
   "source": [
    "lower_bound = 67"
   ]
  },
  {
   "cell_type": "code",
   "execution_count": 87,
   "id": "a88d3752-6e4b-412d-8665-88f53cb07e5d",
   "metadata": {},
   "outputs": [
    {
     "data": {
      "text/plain": [
       "[<matplotlib.lines.Line2D at 0x7f6e95817550>]"
      ]
     },
     "execution_count": 87,
     "metadata": {},
     "output_type": "execute_result"
    },
    {
     "data": {
      "image/png": "[encoded data removed]",
      "text/plain": [
       "<Figure size 432x288 with 1 Axes>"
      ]
     },
     "metadata": {
      "needs_background": "light"
     },
     "output_type": "display_data"
    }
   ],
   "source": [
    "plt.plot(range(lower_bound,101), [test_best_number_features(i) for i in range(lower_bound,101)])"
   ]
  },
  {
   "cell_type": "code",
   "execution_count": null,
   "id": "196955be-0f8b-4cd3-a567-459f9b1ab3ab",
   "metadata": {},
   "outputs": [],
   "source": []
  }
 ],
 "metadata": {
  "kernelspec": {
   "display_name": "Python 3 (ipykernel)",
   "language": "python",
   "name": "python3"
  },
  "language_info": {
   "codemirror_mode": {
    "name": "ipython",
    "version": 3
   },
   "file_extension": ".py",
   "mimetype": "text/x-python",
   "name": "python",
   "nbconvert_exporter": "python",
   "pygments_lexer": "ipython3",
   "version": "3.9.5"
  }
 },
 "nbformat": 4,
 "nbformat_minor": 5
}
