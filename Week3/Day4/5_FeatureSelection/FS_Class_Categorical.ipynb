{
 "cells": [
  {
   "cell_type": "markdown",
   "id": "3b59f401-098d-438e-ae64-bb759851a47a",
   "metadata": {},
   "source": [
    "# Feature Selection\n",
    "## Classification - Categorical Input\n",
    "Breast Cancer data can be found [here](https://raw.githubusercontent.com/jbrownlee/Datasets/master/breast-cancer.csv)    \n",
    "Data Description: [here](https://raw.githubusercontent.com/jbrownlee/Datasets/master/breast-cancer.names)"
   ]
  },
  {
   "cell_type": "code",
   "execution_count": 2,
   "id": "e0547f59-e53f-423d-a429-c8d6eef2e02a",
   "metadata": {},
   "outputs": [],
   "source": [
    "import numpy as np\n",
    "import matplotlib.pyplot as plt\n",
    "import seaborn as sns\n",
    "import pandas as pd\n",
    "\n",
    "from sklearn.model_selection import train_test_split\n",
    "from sklearn.preprocessing import OrdinalEncoder, LabelEncoder\n",
    "from sklearn.impute import SimpleImputer\n",
    "\n",
    "from sklearn.feature_selection import SelectKBest, chi2\n",
    "\n",
    "from sklearn.linear_model import LogisticRegression"
   ]
  },
  {
   "cell_type": "code",
   "execution_count": 3,
   "id": "7d4535e7-7dab-4fb6-9874-53657ce1b9a3",
   "metadata": {},
   "outputs": [],
   "source": [
    "url = 'https://raw.githubusercontent.com/jbrownlee/Datasets/master/breast-cancer.csv'\n",
    "df = pd.read_csv(url, header=None)"
   ]
  },
  {
   "cell_type": "code",
   "execution_count": 4,
   "id": "34370c60-9ae5-46e5-a1e8-ad24f28a6e6f",
   "metadata": {},
   "outputs": [
    {
     "data": {
      "text/plain": [
       "0    0\n",
       "1    0\n",
       "2    0\n",
       "3    0\n",
       "4    8\n",
       "5    0\n",
       "6    0\n",
       "7    1\n",
       "8    0\n",
       "9    0\n",
       "dtype: int64"
      ]
     },
     "execution_count": 4,
     "metadata": {},
     "output_type": "execute_result"
    }
   ],
   "source": [
    "df.isnull().sum(axis=0)"
   ]
  },
  {
   "cell_type": "code",
   "execution_count": 5,
   "id": "24f0d590-ada5-4cac-a544-b8782b7fbac7",
   "metadata": {},
   "outputs": [],
   "source": [
    "X = df.iloc[:, :-1]\n",
    "y = df.iloc[:, -1]"
   ]
  },
  {
   "cell_type": "code",
   "execution_count": 6,
   "id": "095b747e-72b5-48de-8bf3-82ace7680645",
   "metadata": {},
   "outputs": [],
   "source": [
    "X_train, X_test, y_train, y_test = train_test_split(X, y, test_size=0.33, random_state=1)"
   ]
  },
  {
   "cell_type": "code",
   "execution_count": 7,
   "id": "d81ba9af-3060-463f-905d-e6bd45c1bf77",
   "metadata": {},
   "outputs": [],
   "source": [
    "si = SimpleImputer(strategy='most_frequent')\n",
    "si.fit(X_train)\n",
    "X_train = si.transform(X_train)\n",
    "X_test = si.transform(X_test)"
   ]
  },
  {
   "cell_type": "code",
   "execution_count": 8,
   "id": "137c983b-39a7-4d6c-884e-d246456bd0b5",
   "metadata": {},
   "outputs": [],
   "source": [
    "oe = OrdinalEncoder()\n",
    "oe.fit(X_train)\n",
    "X_train_enc = oe.transform(X_train)\n",
    "X_test_enc = oe.transform(X_test)"
   ]
  },
  {
   "cell_type": "code",
   "execution_count": 9,
   "id": "f0490817-9498-49cb-a649-d7a61c1f07c6",
   "metadata": {},
   "outputs": [],
   "source": [
    "le = LabelEncoder()\n",
    "le.fit(y_train)\n",
    "y_train_enc = le.transform(y_train)\n",
    "y_test_enc = le.transform(y_test)"
   ]
  },
  {
   "cell_type": "code",
   "execution_count": 10,
   "id": "8913cb9c-6fca-42a4-8218-e91e1f7ab5aa",
   "metadata": {},
   "outputs": [],
   "source": [
    "fs = SelectKBest(score_func=chi2, k=3)\n",
    "fs.fit(X_train_enc, y_train_enc)\n",
    "X_train_fs = fs.transform(X_train_enc)\n",
    "X_test_fs = fs.transform(X_test_enc)"
   ]
  },
  {
   "cell_type": "markdown",
   "id": "374eebe4",
   "metadata": {},
   "source": [
    "It is not very pythonic to use something like    \n",
    " ```for i in range(len(my_list)):```     \n",
    "Instead use the built-in function `enumerate` which returns tuples of the index of an element and the element itself:     \n",
    "```for i, element in enumerate(my_list):```    \n",
    "To show, that you don't need the element itself you can use the `_` underscore:    \n",
    "```for i, _ in enumerate(my_list):```\n",
    "\n",
    "See also [this link](https://dev.to/wangonya/when-to-use-python-s-enumerate-instead-of-range-in-loops-3e03)"
   ]
  },
  {
   "cell_type": "code",
   "execution_count": 11,
   "id": "b3d48c96-5faf-4cf6-bfcd-b2dbefd36f49",
   "metadata": {},
   "outputs": [
    {
     "data": {
      "text/plain": [
       "<BarContainer object of 9 artists>"
      ]
     },
     "execution_count": 11,
     "metadata": {},
     "output_type": "execute_result"
    },
    {
     "data": {
      "image/png": "[encoded data removed]",
      "text/plain": [
       "<Figure size 432x288 with 1 Axes>"
      ]
     },
     "metadata": {
      "needs_background": "light"
     },
     "output_type": "display_data"
    }
   ],
   "source": [
    "plt.bar([i for i, _ in enumerate(fs.scores_)], fs.scores_)"
   ]
  },
  {
   "cell_type": "markdown",
   "id": "e1b139fb-bcc4-4572-8ba7-429e9c26284b",
   "metadata": {},
   "source": [
    "Further information on feature selection with $\\chi^2$ [here](https://towardsdatascience.com/chi-square-test-for-feature-selection-in-machine-learning-206b1f0b8223)"
   ]
  },
  {
   "cell_type": "code",
   "execution_count": 12,
   "id": "ef0d913b-a390-4c56-b8fe-b36109974ce4",
   "metadata": {},
   "outputs": [
    {
     "data": {
      "text/plain": [
       "0.7473684210526316"
      ]
     },
     "execution_count": 12,
     "metadata": {},
     "output_type": "execute_result"
    }
   ],
   "source": [
    "model = LogisticRegression()\n",
    "model.fit(X_train_enc, y_train)\n",
    "model.score(X_test_enc, y_test)"
   ]
  },
  {
   "cell_type": "code",
   "execution_count": 13,
   "id": "91b3ee3f-3ee4-4e60-bbe2-2194f5b0dada",
   "metadata": {},
   "outputs": [
    {
     "data": {
      "text/plain": [
       "0.7684210526315789"
      ]
     },
     "execution_count": 13,
     "metadata": {},
     "output_type": "execute_result"
    }
   ],
   "source": [
    "model = LogisticRegression()\n",
    "model.fit(X_train_fs, y_train)\n",
    "model.score(X_test_fs, y_test)"
   ]
  }
 ],
 "metadata": {
  "kernelspec": {
   "display_name": "Python 3 (ipykernel)",
   "language": "python",
   "name": "python3"
  },
  "language_info": {
   "codemirror_mode": {
    "name": "ipython",
    "version": 3
   },
   "file_extension": ".py",
   "mimetype": "text/x-python",
   "name": "python",
   "nbconvert_exporter": "python",
   "pygments_lexer": "ipython3",
   "version": "3.9.7"
  }
 },
 "nbformat": 4,
 "nbformat_minor": 5
}
