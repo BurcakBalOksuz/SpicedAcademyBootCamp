{
 "cells": [
  {
   "cell_type": "markdown",
   "metadata": {},
   "source": [
    "# 3.9. Hyperparameter Optimization 🔍"
   ]
  },
  {
   "cell_type": "markdown",
   "metadata": {},
   "source": [
    "* ### Warm-up\n",
    "      * What is the difference between model parameters and hyperparameters?\n",
    "      * What hyperparameters have you already used or seen?\n",
    "      * What are the challenges of hyperparameter optimatization?\n",
    "      "
   ]
  },
  {
   "cell_type": "markdown",
   "metadata": {},
   "source": [
    "#### ANSWERS: \n",
    "* Model paramaters are the paramaters that model learns during the training (m.fit) part. \n",
    "* The hyperparameters are the parameters that we define before training the model.\n"
   ]
  },
  {
   "cell_type": "markdown",
   "metadata": {},
   "source": [
    "* Model parameters examples (slope, intercept).\n",
    "* Model hyperparameters( strenght of the penalty, number of trees, alpha, child-number...)"
   ]
  },
  {
   "cell_type": "markdown",
   "metadata": {},
   "source": [
    "* We have different techiques, computionally expensive and exhausting. You need some experience."
   ]
  },
  {
   "cell_type": "markdown",
   "metadata": {},
   "source": [
    " ### Metrics Optimatization\n",
    "\n",
    "\n"
   ]
  },
  {
   "cell_type": "markdown",
   "metadata": {},
   "source": [
    "* Classification problem: Accuracy, AUC/ROC, Confusion matrix(Recall, Precision, F-1 Score)\n",
    "* Regression problem: Coefficient of determination, Mean squared log error, Mean Absolute error..."
   ]
  },
  {
   "cell_type": "markdown",
   "metadata": {},
   "source": [
    "### How do I choose the right hyperparameters?\n",
    "\n",
    "\n",
    "* Manually\n",
    "* Random Search\n",
    "* Grid Search\n",
    "* Bonus: Bayesian Search"
   ]
  },
  {
   "cell_type": "code",
   "execution_count": 1,
   "metadata": {},
   "outputs": [],
   "source": [
    "from sklearn.datasets import make_moons\n",
    "\n",
    "import matplotlib.pyplot as plt\n",
    "import seaborn as sns\n",
    "import numpy as np\n",
    "import pandas as pd\n",
    "from sklearn.metrics import accuracy_score\n",
    "from sklearn.model_selection import train_test_split\n",
    "sns.set() \n",
    "sns.set_style(\"darkgrid\")"
   ]
  },
  {
   "cell_type": "markdown",
   "metadata": {},
   "source": [
    "## 1. Load the dataset: make moons from sklearn "
   ]
  },
  {
   "cell_type": "code",
   "execution_count": 12,
   "metadata": {},
   "outputs": [],
   "source": [
    "X, y = make_moons(n_samples=200, noise = 0.3)"
   ]
  },
  {
   "cell_type": "code",
   "execution_count": 13,
   "metadata": {},
   "outputs": [
    {
     "data": {
      "text/plain": [
       "((200, 2), (200,))"
      ]
     },
     "execution_count": 13,
     "metadata": {},
     "output_type": "execute_result"
    }
   ],
   "source": [
    "X.shape, y.shape\n"
   ]
  },
  {
   "cell_type": "code",
   "execution_count": 14,
   "metadata": {
    "scrolled": true
   },
   "outputs": [
    {
     "data": {
      "text/plain": [
       "array([1, 1, 0, 0, 1, 0, 0, 1, 0, 1, 1, 0, 1, 0, 0, 1, 0, 0, 0, 1, 0, 0,\n",
       "       0, 0, 0, 1, 0, 1, 1, 0, 0, 0, 0, 1, 0, 0, 0, 1, 1, 1, 1, 0, 1, 1,\n",
       "       1, 0, 0, 0, 1, 1, 0, 1, 1, 1, 1, 1, 0, 1, 0, 0, 0, 0, 1, 0, 1, 0,\n",
       "       0, 1, 0, 1, 1, 1, 0, 0, 0, 0, 1, 0, 0, 1, 0, 1, 0, 0, 1, 1, 0, 1,\n",
       "       0, 1, 1, 0, 1, 0, 0, 1, 1, 0, 0, 1, 1, 1, 1, 1, 0, 1, 0, 0, 0, 1,\n",
       "       0, 0, 1, 1, 0, 1, 1, 1, 0, 0, 1, 0, 1, 0, 1, 1, 1, 1, 1, 1, 0, 1,\n",
       "       0, 0, 1, 0, 1, 0, 0, 0, 0, 1, 0, 0, 1, 1, 0, 1, 1, 0, 1, 0, 0, 0,\n",
       "       0, 1, 0, 1, 0, 1, 1, 1, 1, 0, 1, 0, 1, 0, 0, 1, 1, 1, 0, 1, 1, 1,\n",
       "       0, 0, 1, 0, 1, 1, 1, 1, 1, 1, 1, 1, 0, 1, 0, 0, 0, 1, 0, 0, 1, 0,\n",
       "       0, 0])"
      ]
     },
     "execution_count": 14,
     "metadata": {},
     "output_type": "execute_result"
    }
   ],
   "source": [
    "y"
   ]
  },
  {
   "cell_type": "code",
   "execution_count": 15,
   "metadata": {},
   "outputs": [
    {
     "data": {
      "text/plain": [
       "array([[ 0.8473566 , -0.78905313],\n",
       "       [ 1.19677198, -0.24891284],\n",
       "       [-0.17622229,  1.08672473],\n",
       "       [ 1.09499967,  0.02653515],\n",
       "       [ 0.37200516, -0.0573478 ],\n",
       "       [-1.13262041,  0.78460324],\n",
       "       [-0.62551167,  1.40295394],\n",
       "       [ 0.72724942, -0.30664167],\n",
       "       [ 0.43322594,  0.11966924],\n",
       "       [-0.24091226,  0.8291996 ],\n",
       "       [ 1.34579253, -0.11949028],\n",
       "       [-0.88146157,  0.28402515],\n",
       "       [ 2.16853283, -0.26280308],\n",
       "       [-0.826951  ,  0.62391031],\n",
       "       [-0.23731657,  0.65323656],\n",
       "       [ 1.23091199, -0.50356261],\n",
       "       [ 0.7472017 ,  1.0166925 ],\n",
       "       [ 0.44949745,  1.42543197],\n",
       "       [ 0.96511984,  0.37121598],\n",
       "       [ 1.75652402,  0.45179776],\n",
       "       [ 0.83794493,  0.25265047],\n",
       "       [-0.29999098,  0.7750514 ],\n",
       "       [-0.21354823,  1.0137577 ],\n",
       "       [ 0.19180969,  0.61184265],\n",
       "       [-0.59914831,  0.56415211],\n",
       "       [ 1.93348343,  0.21209607],\n",
       "       [-0.29370224,  1.06573696],\n",
       "       [ 0.3301882 , -0.1421448 ],\n",
       "       [ 1.91889364, -0.83074392],\n",
       "       [-0.7666184 ,  1.04979292],\n",
       "       [ 0.05494871,  1.26941901],\n",
       "       [-1.28373871,  0.03449161],\n",
       "       [-0.69472682,  0.88895015],\n",
       "       [ 0.46947364, -0.26368741],\n",
       "       [ 1.11084193,  0.68634331],\n",
       "       [-0.71289747,  0.19682759],\n",
       "       [ 0.78935519,  0.52412216],\n",
       "       [ 0.59671854,  0.68401613],\n",
       "       [ 0.11391599, -0.31187697],\n",
       "       [ 2.39303341,  0.5734555 ],\n",
       "       [ 2.42225549,  0.49732886],\n",
       "       [-0.11667393,  1.46460778],\n",
       "       [ 0.83042755, -0.83971408],\n",
       "       [ 0.63567671, -0.3513679 ],\n",
       "       [ 0.71380585, -0.32485633],\n",
       "       [ 0.90721624,  0.75337371],\n",
       "       [-0.52385296,  0.59021088],\n",
       "       [ 1.08088751, -0.01103571],\n",
       "       [ 2.30603385, -0.07424622],\n",
       "       [ 2.03758647,  0.34354598],\n",
       "       [ 0.58741874,  0.6315722 ],\n",
       "       [ 0.08955946, -0.11961182],\n",
       "       [-0.40227018,  0.17371813],\n",
       "       [ 1.39973568,  0.48826819],\n",
       "       [-0.05669938, -0.11532833],\n",
       "       [ 1.51190038, -0.12593053],\n",
       "       [-1.00279886,  0.38952572],\n",
       "       [ 1.89008477, -0.20625078],\n",
       "       [ 0.51761551,  1.25773027],\n",
       "       [ 0.38210885,  1.08184576],\n",
       "       [ 0.75209309,  0.27237208],\n",
       "       [ 0.66526684,  0.8082179 ],\n",
       "       [ 1.69282416,  0.22354933],\n",
       "       [-0.2991769 ,  1.05793718],\n",
       "       [ 1.13482042, -0.32552155],\n",
       "       [-0.31388923,  1.02243933],\n",
       "       [ 0.99203555,  1.2689528 ],\n",
       "       [-0.06556309, -0.05514788],\n",
       "       [ 0.44292618,  0.8616021 ],\n",
       "       [ 1.55759573, -0.08681388],\n",
       "       [ 1.13972187, -0.10715239],\n",
       "       [-0.09803782, -0.27107957],\n",
       "       [ 0.11841722,  0.97491594],\n",
       "       [-0.81720208,  1.19087366],\n",
       "       [-0.48145062,  0.71948934],\n",
       "       [-0.5781256 ,  0.43016044],\n",
       "       [ 0.06170895,  0.1076812 ],\n",
       "       [ 1.20740816,  0.28330504],\n",
       "       [-0.87526238, -0.04349505],\n",
       "       [ 1.98939423, -0.70340057],\n",
       "       [ 0.51139707,  0.62961081],\n",
       "       [-0.2197324 ,  0.37046367],\n",
       "       [-0.64524326, -0.01731474],\n",
       "       [-0.450643  ,  0.50144409],\n",
       "       [ 0.09615732, -0.52349306],\n",
       "       [ 1.54419163,  0.01029054],\n",
       "       [-0.67932171,  0.89973168],\n",
       "       [ 0.88182078, -0.67959593],\n",
       "       [ 1.13253639,  0.41814443],\n",
       "       [ 1.16600339, -0.49249498],\n",
       "       [ 1.60470855, -0.11362531],\n",
       "       [-0.03016477,  1.2141461 ],\n",
       "       [ 1.18287902, -0.6508148 ],\n",
       "       [ 0.53398489,  0.63611536],\n",
       "       [-0.63676649,  0.61653099],\n",
       "       [-0.09410159,  0.3438623 ],\n",
       "       [ 0.36849467,  0.41527624],\n",
       "       [-0.10611469,  0.72616022],\n",
       "       [-1.09206301,  0.38151969],\n",
       "       [ 1.34949838, -0.16099708],\n",
       "       [ 0.39544007, -0.172632  ],\n",
       "       [ 1.87522826,  0.38381251],\n",
       "       [ 1.16763983, -1.34060612],\n",
       "       [ 2.18513463, -0.47108586],\n",
       "       [-0.40104489,  0.58912193],\n",
       "       [ 1.46689177,  0.33689299],\n",
       "       [ 0.84125274,  0.80791586],\n",
       "       [-0.58567481,  1.05216932],\n",
       "       [ 0.78391005,  0.87769016],\n",
       "       [ 1.29267348, -0.47621731],\n",
       "       [-0.04865797,  0.55899079],\n",
       "       [-0.39950199,  0.85911627],\n",
       "       [ 0.53998006, -0.53924016],\n",
       "       [ 1.22975966, -0.91992332],\n",
       "       [-0.97395004,  0.37085025],\n",
       "       [ 1.63702463, -0.23132993],\n",
       "       [ 0.46186714, -0.53865089],\n",
       "       [-0.36145374,  0.46979485],\n",
       "       [-0.18355496,  1.09034378],\n",
       "       [-0.92314814, -0.14920962],\n",
       "       [ 0.67524785, -0.73788736],\n",
       "       [ 1.37857974, -0.0412084 ],\n",
       "       [ 0.3175876 , -0.26637162],\n",
       "       [-0.81567547,  1.43512331],\n",
       "       [ 0.18338469, -0.44345517],\n",
       "       [ 1.03402404, -0.63587066],\n",
       "       [ 1.92026612,  0.01944826],\n",
       "       [ 1.53115048,  0.18238487],\n",
       "       [ 0.96134203, -0.15448678],\n",
       "       [ 0.19168344, -0.13045672],\n",
       "       [-1.65564547,  0.128809  ],\n",
       "       [ 0.75103743, -0.09468042],\n",
       "       [ 1.48815822,  0.79817259],\n",
       "       [-0.43315421,  0.40130697],\n",
       "       [ 2.23437223, -0.05138162],\n",
       "       [ 0.98982947,  1.01816097],\n",
       "       [-0.09286109,  0.42173236],\n",
       "       [ 1.0165518 ,  0.72631546],\n",
       "       [-1.27232997, -0.46079463],\n",
       "       [-0.94530113,  0.59547917],\n",
       "       [ 0.80917661,  0.27966073],\n",
       "       [ 0.94819173, -0.73514984],\n",
       "       [-0.15411807,  0.03873339],\n",
       "       [ 0.18783807,  1.32843191],\n",
       "       [ 0.32871086,  0.06838985],\n",
       "       [ 2.06495597,  0.16127255],\n",
       "       [-0.92454358,  0.31388392],\n",
       "       [ 2.06558425,  0.22974363],\n",
       "       [ 1.91651055,  0.43947415],\n",
       "       [ 0.85850501,  0.45708558],\n",
       "       [ 0.25414675, -0.2218156 ],\n",
       "       [-0.28714081,  0.82856065],\n",
       "       [ 0.26599111,  0.59413316],\n",
       "       [-0.48576234,  0.91043354],\n",
       "       [-0.1831801 ,  0.61991118],\n",
       "       [ 2.34831084, -0.32660743],\n",
       "       [ 0.04199476,  0.84922587],\n",
       "       [-0.21630037, -0.13561993],\n",
       "       [ 0.13594268,  0.96249881],\n",
       "       [ 1.27847777,  0.54477086],\n",
       "       [ 0.01914893,  0.07880578],\n",
       "       [ 1.15935729, -0.40275333],\n",
       "       [ 0.17453522,  0.54278396],\n",
       "       [ 1.23307096, -0.06201664],\n",
       "       [ 1.22518325, -0.48026479],\n",
       "       [ 0.70700147,  0.51166789],\n",
       "       [ 0.82921549, -0.58977149],\n",
       "       [-0.30289199,  1.825706  ],\n",
       "       [ 1.11430375,  0.78581339],\n",
       "       [ 0.13643739, -0.01752137],\n",
       "       [ 0.81351536, -0.31186963],\n",
       "       [ 1.28243529, -0.39697472],\n",
       "       [ 1.03130082,  1.2846476 ],\n",
       "       [ 1.58606999,  0.02140727],\n",
       "       [-0.47161775, -0.38905928],\n",
       "       [ 0.69006468, -0.10706229],\n",
       "       [ 1.08436123, -1.06748408],\n",
       "       [ 1.06564023,  0.48124722],\n",
       "       [ 0.27547488, -0.4342225 ],\n",
       "       [-0.05855458,  0.077679  ],\n",
       "       [ 2.17651758,  0.84618963],\n",
       "       [ 0.01155327, -0.34625862],\n",
       "       [ 1.92298355, -0.17642067],\n",
       "       [ 1.06059872, -0.75801441],\n",
       "       [ 1.15998861, -0.22703826],\n",
       "       [ 0.83174646, -0.76254637],\n",
       "       [ 0.73617739, -0.58701394],\n",
       "       [ 0.69647319, -0.09860404],\n",
       "       [ 0.66681499,  1.0477796 ],\n",
       "       [ 1.40864436, -0.25940897],\n",
       "       [ 1.0678609 ,  0.90861624],\n",
       "       [ 0.49718381,  0.90061856],\n",
       "       [-0.88023   ,  1.12129937],\n",
       "       [ 0.42485296, -0.58309248],\n",
       "       [ 0.18150488,  1.65242049],\n",
       "       [-1.28571182,  0.42505116],\n",
       "       [ 0.72701152, -0.71714072],\n",
       "       [-0.3376663 ,  0.53041135],\n",
       "       [-0.12962333,  1.17700889],\n",
       "       [ 0.63085088, -0.13023028]])"
      ]
     },
     "execution_count": 15,
     "metadata": {},
     "output_type": "execute_result"
    }
   ],
   "source": [
    "X"
   ]
  },
  {
   "cell_type": "code",
   "execution_count": 16,
   "metadata": {},
   "outputs": [
    {
     "data": {
      "image/png": "[encoded data removed]",
      "text/plain": [
       "<Figure size 792x576 with 1 Axes>"
      ]
     },
     "metadata": {},
     "output_type": "display_data"
    }
   ],
   "source": [
    "plt.figure(figsize=(11,8))\n",
    "sns.scatterplot(x=X[:,0], y=X[:,1], hue=y)\n",
    "plt.title('Data')\n",
    "\n",
    "\n",
    "plt.show()"
   ]
  },
  {
   "cell_type": "markdown",
   "metadata": {},
   "source": [
    "## 2.  Train Test Split"
   ]
  },
  {
   "cell_type": "code",
   "execution_count": 17,
   "metadata": {},
   "outputs": [],
   "source": [
    "Xtrain, Xtest, ytrain, ytest = train_test_split(X, y)"
   ]
  },
  {
   "cell_type": "markdown",
   "metadata": {},
   "source": [
    "## 3. Try some classifier: Random Forest  "
   ]
  },
  {
   "cell_type": "code",
   "execution_count": 18,
   "metadata": {},
   "outputs": [],
   "source": [
    "from sklearn.ensemble import RandomForestClassifier\n"
   ]
  },
  {
   "cell_type": "code",
   "execution_count": 19,
   "metadata": {},
   "outputs": [
    {
     "data": {
      "text/plain": [
       "dict_keys(['bootstrap', 'ccp_alpha', 'class_weight', 'criterion', 'max_depth', 'max_features', 'max_leaf_nodes', 'max_samples', 'min_impurity_decrease', 'min_impurity_split', 'min_samples_leaf', 'min_samples_split', 'min_weight_fraction_leaf', 'n_estimators', 'n_jobs', 'oob_score', 'random_state', 'verbose', 'warm_start'])"
      ]
     },
     "execution_count": 19,
     "metadata": {},
     "output_type": "execute_result"
    }
   ],
   "source": [
    "m = RandomForestClassifier() #initialise your model\n",
    "m.get_params().keys()"
   ]
  },
  {
   "cell_type": "code",
   "execution_count": 20,
   "metadata": {},
   "outputs": [
    {
     "data": {
      "text/plain": [
       "RandomForestClassifier(bootstrap=True, ccp_alpha=0.0, class_weight=None,\n",
       "                       criterion='gini', max_depth=None, max_features='auto',\n",
       "                       max_leaf_nodes=None, max_samples=None,\n",
       "                       min_impurity_decrease=0.0, min_impurity_split=None,\n",
       "                       min_samples_leaf=1, min_samples_split=2,\n",
       "                       min_weight_fraction_leaf=0.0, n_estimators=100,\n",
       "                       n_jobs=None, oob_score=False, random_state=None,\n",
       "                       verbose=0, warm_start=False)"
      ]
     },
     "execution_count": 20,
     "metadata": {},
     "output_type": "execute_result"
    }
   ],
   "source": [
    "m.fit(Xtrain, ytrain)"
   ]
  },
  {
   "cell_type": "code",
   "execution_count": 21,
   "metadata": {},
   "outputs": [],
   "source": [
    "training_score = m.score(Xtrain, ytrain)"
   ]
  },
  {
   "cell_type": "code",
   "execution_count": 22,
   "metadata": {},
   "outputs": [
    {
     "data": {
      "text/plain": [
       "1.0"
      ]
     },
     "execution_count": 22,
     "metadata": {},
     "output_type": "execute_result"
    }
   ],
   "source": [
    "training_score"
   ]
  },
  {
   "cell_type": "code",
   "execution_count": 28,
   "metadata": {},
   "outputs": [],
   "source": [
    "prediction =m.predict(Xtest)\n"
   ]
  },
  {
   "cell_type": "markdown",
   "metadata": {},
   "source": [
    "## 5. Hyperparameter Optimatisation with GridSearchCV"
   ]
  },
  {
   "cell_type": "markdown",
   "metadata": {},
   "source": [
    "> Instead of trying out different hyperparameters and values manuall we can use a Grid Search. \n",
    "We provide a dictionary with parameters that will be \"searched\" for the best model. "
   ]
  },
  {
   "cell_type": "code",
   "execution_count": 29,
   "metadata": {},
   "outputs": [],
   "source": [
    "from sklearn.model_selection import GridSearchCV"
   ]
  },
  {
   "cell_type": "markdown",
   "metadata": {},
   "source": [
    "### 5.1 Define a parameter grid for Grid Search"
   ]
  },
  {
   "cell_type": "code",
   "execution_count": 30,
   "metadata": {},
   "outputs": [],
   "source": [
    "\n",
    "parameters = {\n",
    "    'n_estimators': [2**i for i in range(3, 10)],  \n",
    "    'max_depth': [2, 4, 8, 16, 32, None]       \n",
    "}\n",
    "\n",
    "\n"
   ]
  },
  {
   "cell_type": "code",
   "execution_count": 33,
   "metadata": {},
   "outputs": [],
   "source": [
    "\n",
    "rf = RandomForestClassifier()"
   ]
  },
  {
   "cell_type": "code",
   "execution_count": 34,
   "metadata": {},
   "outputs": [],
   "source": [
    "cv_h = GridSearchCV(estimator=rf, param_grid=parameters, cv=5, scoring='accuracy')"
   ]
  },
  {
   "cell_type": "code",
   "execution_count": 35,
   "metadata": {},
   "outputs": [
    {
     "data": {
      "text/plain": [
       "GridSearchCV(cv=5, error_score=nan,\n",
       "             estimator=RandomForestClassifier(bootstrap=True, ccp_alpha=0.0,\n",
       "                                              class_weight=None,\n",
       "                                              criterion='gini', max_depth=None,\n",
       "                                              max_features='auto',\n",
       "                                              max_leaf_nodes=None,\n",
       "                                              max_samples=None,\n",
       "                                              min_impurity_decrease=0.0,\n",
       "                                              min_impurity_split=None,\n",
       "                                              min_samples_leaf=1,\n",
       "                                              min_samples_split=2,\n",
       "                                              min_weight_fraction_leaf=0.0,\n",
       "                                              n_estimators=100, n_jobs=None,\n",
       "                                              oob_score=False,\n",
       "                                              random_state=None, verbose=0,\n",
       "                                              warm_start=False),\n",
       "             iid='deprecated', n_jobs=None,\n",
       "             param_grid={'max_depth': [2, 4, 8, 16, 32, None],\n",
       "                         'n_estimators': [8, 16, 32, 64, 128, 256, 512]},\n",
       "             pre_dispatch='2*n_jobs', refit=True, return_train_score=False,\n",
       "             scoring='accuracy', verbose=0)"
      ]
     },
     "execution_count": 35,
     "metadata": {},
     "output_type": "execute_result"
    }
   ],
   "source": [
    "cv_h.fit(Xtrain, ytrain)  "
   ]
  },
  {
   "cell_type": "code",
   "execution_count": 36,
   "metadata": {},
   "outputs": [],
   "source": [
    "def print_results(results):\n",
    "    print('BEST MODEL PARAMETERS: {}\\n'.format(results.best_params_))\n",
    "    means = results.cv_results_['mean_test_score']\n",
    "    for mean, params in zip(means, results.cv_results_['params']):\n",
    "        print('{}  for {}'.format(round(mean, 4), params))"
   ]
  },
  {
   "cell_type": "code",
   "execution_count": 37,
   "metadata": {},
   "outputs": [
    {
     "name": "stdout",
     "output_type": "stream",
     "text": [
      "BEST MODEL PARAMETERS: {'max_depth': None, 'n_estimators': 32}\n",
      "\n",
      "0.8867  for {'max_depth': 2, 'n_estimators': 8}\n",
      "0.8733  for {'max_depth': 2, 'n_estimators': 16}\n",
      "0.8667  for {'max_depth': 2, 'n_estimators': 32}\n",
      "0.8933  for {'max_depth': 2, 'n_estimators': 64}\n",
      "0.8733  for {'max_depth': 2, 'n_estimators': 128}\n",
      "0.8733  for {'max_depth': 2, 'n_estimators': 256}\n",
      "0.8733  for {'max_depth': 2, 'n_estimators': 512}\n",
      "0.8733  for {'max_depth': 4, 'n_estimators': 8}\n",
      "0.8933  for {'max_depth': 4, 'n_estimators': 16}\n",
      "0.88  for {'max_depth': 4, 'n_estimators': 32}\n",
      "0.8933  for {'max_depth': 4, 'n_estimators': 64}\n",
      "0.8867  for {'max_depth': 4, 'n_estimators': 128}\n",
      "0.8867  for {'max_depth': 4, 'n_estimators': 256}\n",
      "0.8867  for {'max_depth': 4, 'n_estimators': 512}\n",
      "0.8733  for {'max_depth': 8, 'n_estimators': 8}\n",
      "0.8933  for {'max_depth': 8, 'n_estimators': 16}\n",
      "0.88  for {'max_depth': 8, 'n_estimators': 32}\n",
      "0.8867  for {'max_depth': 8, 'n_estimators': 64}\n",
      "0.8733  for {'max_depth': 8, 'n_estimators': 128}\n",
      "0.8733  for {'max_depth': 8, 'n_estimators': 256}\n",
      "0.8733  for {'max_depth': 8, 'n_estimators': 512}\n",
      "0.88  for {'max_depth': 16, 'n_estimators': 8}\n",
      "0.8867  for {'max_depth': 16, 'n_estimators': 16}\n",
      "0.8667  for {'max_depth': 16, 'n_estimators': 32}\n",
      "0.8867  for {'max_depth': 16, 'n_estimators': 64}\n",
      "0.8867  for {'max_depth': 16, 'n_estimators': 128}\n",
      "0.88  for {'max_depth': 16, 'n_estimators': 256}\n",
      "0.88  for {'max_depth': 16, 'n_estimators': 512}\n",
      "0.8867  for {'max_depth': 32, 'n_estimators': 8}\n",
      "0.88  for {'max_depth': 32, 'n_estimators': 16}\n",
      "0.8867  for {'max_depth': 32, 'n_estimators': 32}\n",
      "0.88  for {'max_depth': 32, 'n_estimators': 64}\n",
      "0.88  for {'max_depth': 32, 'n_estimators': 128}\n",
      "0.8733  for {'max_depth': 32, 'n_estimators': 256}\n",
      "0.88  for {'max_depth': 32, 'n_estimators': 512}\n",
      "0.8667  for {'max_depth': None, 'n_estimators': 8}\n",
      "0.88  for {'max_depth': None, 'n_estimators': 16}\n",
      "0.9  for {'max_depth': None, 'n_estimators': 32}\n",
      "0.8667  for {'max_depth': None, 'n_estimators': 64}\n",
      "0.8867  for {'max_depth': None, 'n_estimators': 128}\n",
      "0.8867  for {'max_depth': None, 'n_estimators': 256}\n",
      "0.88  for {'max_depth': None, 'n_estimators': 512}\n"
     ]
    }
   ],
   "source": [
    "print_results(cv_h)"
   ]
  },
  {
   "cell_type": "markdown",
   "metadata": {},
   "source": [
    "### 5.2. Collect the results"
   ]
  },
  {
   "cell_type": "code",
   "execution_count": 38,
   "metadata": {},
   "outputs": [],
   "source": [
    "results = pd.DataFrame(cv_h.cv_results_)"
   ]
  },
  {
   "cell_type": "code",
   "execution_count": 39,
   "metadata": {},
   "outputs": [
    {
     "data": {
      "text/html": [
       "<div>\n",
       "<style scoped>\n",
       "    .dataframe tbody tr th:only-of-type {\n",
       "        vertical-align: middle;\n",
       "    }\n",
       "\n",
       "    .dataframe tbody tr th {\n",
       "        vertical-align: top;\n",
       "    }\n",
       "\n",
       "    .dataframe thead th {\n",
       "        text-align: right;\n",
       "    }\n",
       "</style>\n",
       "<table border=\"1\" class=\"dataframe\">\n",
       "  <thead>\n",
       "    <tr style=\"text-align: right;\">\n",
       "      <th></th>\n",
       "      <th>mean_fit_time</th>\n",
       "      <th>std_fit_time</th>\n",
       "      <th>mean_score_time</th>\n",
       "      <th>std_score_time</th>\n",
       "      <th>param_max_depth</th>\n",
       "      <th>param_n_estimators</th>\n",
       "      <th>params</th>\n",
       "      <th>split0_test_score</th>\n",
       "      <th>split1_test_score</th>\n",
       "      <th>split2_test_score</th>\n",
       "      <th>split3_test_score</th>\n",
       "      <th>split4_test_score</th>\n",
       "      <th>mean_test_score</th>\n",
       "      <th>std_test_score</th>\n",
       "      <th>rank_test_score</th>\n",
       "    </tr>\n",
       "  </thead>\n",
       "  <tbody>\n",
       "    <tr>\n",
       "      <th>0</th>\n",
       "      <td>0.011911</td>\n",
       "      <td>0.004975</td>\n",
       "      <td>0.001009</td>\n",
       "      <td>0.000211</td>\n",
       "      <td>2</td>\n",
       "      <td>8</td>\n",
       "      <td>{'max_depth': 2, 'n_estimators': 8}</td>\n",
       "      <td>0.9</td>\n",
       "      <td>0.866667</td>\n",
       "      <td>0.933333</td>\n",
       "      <td>0.833333</td>\n",
       "      <td>0.900000</td>\n",
       "      <td>0.886667</td>\n",
       "      <td>0.033993</td>\n",
       "      <td>6</td>\n",
       "    </tr>\n",
       "    <tr>\n",
       "      <th>1</th>\n",
       "      <td>0.011241</td>\n",
       "      <td>0.001302</td>\n",
       "      <td>0.000818</td>\n",
       "      <td>0.000053</td>\n",
       "      <td>2</td>\n",
       "      <td>16</td>\n",
       "      <td>{'max_depth': 2, 'n_estimators': 16}</td>\n",
       "      <td>0.9</td>\n",
       "      <td>0.866667</td>\n",
       "      <td>0.900000</td>\n",
       "      <td>0.833333</td>\n",
       "      <td>0.866667</td>\n",
       "      <td>0.873333</td>\n",
       "      <td>0.024944</td>\n",
       "      <td>29</td>\n",
       "    </tr>\n",
       "    <tr>\n",
       "      <th>2</th>\n",
       "      <td>0.020368</td>\n",
       "      <td>0.000055</td>\n",
       "      <td>0.001354</td>\n",
       "      <td>0.000008</td>\n",
       "      <td>2</td>\n",
       "      <td>32</td>\n",
       "      <td>{'max_depth': 2, 'n_estimators': 32}</td>\n",
       "      <td>0.9</td>\n",
       "      <td>0.866667</td>\n",
       "      <td>0.866667</td>\n",
       "      <td>0.833333</td>\n",
       "      <td>0.866667</td>\n",
       "      <td>0.866667</td>\n",
       "      <td>0.021082</td>\n",
       "      <td>39</td>\n",
       "    </tr>\n",
       "  </tbody>\n",
       "</table>\n",
       "</div>"
      ],
      "text/plain": [
       "   mean_fit_time  std_fit_time  mean_score_time  std_score_time  \\\n",
       "0       0.011911      0.004975         0.001009        0.000211   \n",
       "1       0.011241      0.001302         0.000818        0.000053   \n",
       "2       0.020368      0.000055         0.001354        0.000008   \n",
       "\n",
       "  param_max_depth param_n_estimators                                params  \\\n",
       "0               2                  8   {'max_depth': 2, 'n_estimators': 8}   \n",
       "1               2                 16  {'max_depth': 2, 'n_estimators': 16}   \n",
       "2               2                 32  {'max_depth': 2, 'n_estimators': 32}   \n",
       "\n",
       "   split0_test_score  split1_test_score  split2_test_score  split3_test_score  \\\n",
       "0                0.9           0.866667           0.933333           0.833333   \n",
       "1                0.9           0.866667           0.900000           0.833333   \n",
       "2                0.9           0.866667           0.866667           0.833333   \n",
       "\n",
       "   split4_test_score  mean_test_score  std_test_score  rank_test_score  \n",
       "0           0.900000         0.886667        0.033993                6  \n",
       "1           0.866667         0.873333        0.024944               29  \n",
       "2           0.866667         0.866667        0.021082               39  "
      ]
     },
     "execution_count": 39,
     "metadata": {},
     "output_type": "execute_result"
    }
   ],
   "source": [
    "results.head(3)"
   ]
  },
  {
   "cell_type": "code",
   "execution_count": 40,
   "metadata": {},
   "outputs": [
    {
     "data": {
      "text/plain": [
       "Index(['mean_fit_time', 'std_fit_time', 'mean_score_time', 'std_score_time',\n",
       "       'param_max_depth', 'param_n_estimators', 'params', 'split0_test_score',\n",
       "       'split1_test_score', 'split2_test_score', 'split3_test_score',\n",
       "       'split4_test_score', 'mean_test_score', 'std_test_score',\n",
       "       'rank_test_score'],\n",
       "      dtype='object')"
      ]
     },
     "execution_count": 40,
     "metadata": {},
     "output_type": "execute_result"
    }
   ],
   "source": [
    "results.columns"
   ]
  },
  {
   "cell_type": "code",
   "execution_count": 41,
   "metadata": {},
   "outputs": [
    {
     "data": {
      "text/html": [
       "<div>\n",
       "<style scoped>\n",
       "    .dataframe tbody tr th:only-of-type {\n",
       "        vertical-align: middle;\n",
       "    }\n",
       "\n",
       "    .dataframe tbody tr th {\n",
       "        vertical-align: top;\n",
       "    }\n",
       "\n",
       "    .dataframe thead th {\n",
       "        text-align: right;\n",
       "    }\n",
       "</style>\n",
       "<table border=\"1\" class=\"dataframe\">\n",
       "  <thead>\n",
       "    <tr style=\"text-align: right;\">\n",
       "      <th></th>\n",
       "      <th>mean_fit_time</th>\n",
       "      <th>rank_test_score</th>\n",
       "      <th>param_max_depth</th>\n",
       "      <th>param_n_estimators</th>\n",
       "      <th>split1_test_score</th>\n",
       "      <th>split2_test_score</th>\n",
       "      <th>split3_test_score</th>\n",
       "      <th>split4_test_score</th>\n",
       "      <th>mean_test_score</th>\n",
       "    </tr>\n",
       "  </thead>\n",
       "  <tbody>\n",
       "    <tr>\n",
       "      <th>23</th>\n",
       "      <td>0.020597</td>\n",
       "      <td>39</td>\n",
       "      <td>16</td>\n",
       "      <td>32</td>\n",
       "      <td>0.866667</td>\n",
       "      <td>0.866667</td>\n",
       "      <td>0.900000</td>\n",
       "      <td>0.866667</td>\n",
       "      <td>0.866667</td>\n",
       "    </tr>\n",
       "    <tr>\n",
       "      <th>2</th>\n",
       "      <td>0.020368</td>\n",
       "      <td>39</td>\n",
       "      <td>2</td>\n",
       "      <td>32</td>\n",
       "      <td>0.866667</td>\n",
       "      <td>0.866667</td>\n",
       "      <td>0.833333</td>\n",
       "      <td>0.866667</td>\n",
       "      <td>0.866667</td>\n",
       "    </tr>\n",
       "    <tr>\n",
       "      <th>38</th>\n",
       "      <td>0.040987</td>\n",
       "      <td>39</td>\n",
       "      <td>None</td>\n",
       "      <td>64</td>\n",
       "      <td>0.866667</td>\n",
       "      <td>0.833333</td>\n",
       "      <td>0.900000</td>\n",
       "      <td>0.866667</td>\n",
       "      <td>0.866667</td>\n",
       "    </tr>\n",
       "    <tr>\n",
       "      <th>35</th>\n",
       "      <td>0.005369</td>\n",
       "      <td>39</td>\n",
       "      <td>None</td>\n",
       "      <td>8</td>\n",
       "      <td>0.866667</td>\n",
       "      <td>0.866667</td>\n",
       "      <td>0.933333</td>\n",
       "      <td>0.866667</td>\n",
       "      <td>0.866667</td>\n",
       "    </tr>\n",
       "    <tr>\n",
       "      <th>18</th>\n",
       "      <td>0.081559</td>\n",
       "      <td>29</td>\n",
       "      <td>8</td>\n",
       "      <td>128</td>\n",
       "      <td>0.866667</td>\n",
       "      <td>0.866667</td>\n",
       "      <td>0.900000</td>\n",
       "      <td>0.866667</td>\n",
       "      <td>0.873333</td>\n",
       "    </tr>\n",
       "    <tr>\n",
       "      <th>14</th>\n",
       "      <td>0.005342</td>\n",
       "      <td>29</td>\n",
       "      <td>8</td>\n",
       "      <td>8</td>\n",
       "      <td>0.900000</td>\n",
       "      <td>0.866667</td>\n",
       "      <td>0.866667</td>\n",
       "      <td>0.866667</td>\n",
       "      <td>0.873333</td>\n",
       "    </tr>\n",
       "    <tr>\n",
       "      <th>33</th>\n",
       "      <td>0.162284</td>\n",
       "      <td>29</td>\n",
       "      <td>32</td>\n",
       "      <td>256</td>\n",
       "      <td>0.866667</td>\n",
       "      <td>0.866667</td>\n",
       "      <td>0.900000</td>\n",
       "      <td>0.866667</td>\n",
       "      <td>0.873333</td>\n",
       "    </tr>\n",
       "    <tr>\n",
       "      <th>19</th>\n",
       "      <td>0.162410</td>\n",
       "      <td>29</td>\n",
       "      <td>8</td>\n",
       "      <td>256</td>\n",
       "      <td>0.866667</td>\n",
       "      <td>0.866667</td>\n",
       "      <td>0.900000</td>\n",
       "      <td>0.866667</td>\n",
       "      <td>0.873333</td>\n",
       "    </tr>\n",
       "    <tr>\n",
       "      <th>20</th>\n",
       "      <td>0.324225</td>\n",
       "      <td>29</td>\n",
       "      <td>8</td>\n",
       "      <td>512</td>\n",
       "      <td>0.866667</td>\n",
       "      <td>0.866667</td>\n",
       "      <td>0.900000</td>\n",
       "      <td>0.900000</td>\n",
       "      <td>0.873333</td>\n",
       "    </tr>\n",
       "    <tr>\n",
       "      <th>7</th>\n",
       "      <td>0.005303</td>\n",
       "      <td>29</td>\n",
       "      <td>4</td>\n",
       "      <td>8</td>\n",
       "      <td>0.866667</td>\n",
       "      <td>0.900000</td>\n",
       "      <td>0.833333</td>\n",
       "      <td>0.900000</td>\n",
       "      <td>0.873333</td>\n",
       "    </tr>\n",
       "    <tr>\n",
       "      <th>6</th>\n",
       "      <td>0.319108</td>\n",
       "      <td>29</td>\n",
       "      <td>2</td>\n",
       "      <td>512</td>\n",
       "      <td>0.866667</td>\n",
       "      <td>0.900000</td>\n",
       "      <td>0.833333</td>\n",
       "      <td>0.866667</td>\n",
       "      <td>0.873333</td>\n",
       "    </tr>\n",
       "    <tr>\n",
       "      <th>5</th>\n",
       "      <td>0.159279</td>\n",
       "      <td>29</td>\n",
       "      <td>2</td>\n",
       "      <td>256</td>\n",
       "      <td>0.866667</td>\n",
       "      <td>0.900000</td>\n",
       "      <td>0.833333</td>\n",
       "      <td>0.866667</td>\n",
       "      <td>0.873333</td>\n",
       "    </tr>\n",
       "    <tr>\n",
       "      <th>4</th>\n",
       "      <td>0.080594</td>\n",
       "      <td>29</td>\n",
       "      <td>2</td>\n",
       "      <td>128</td>\n",
       "      <td>0.866667</td>\n",
       "      <td>0.900000</td>\n",
       "      <td>0.833333</td>\n",
       "      <td>0.866667</td>\n",
       "      <td>0.873333</td>\n",
       "    </tr>\n",
       "    <tr>\n",
       "      <th>1</th>\n",
       "      <td>0.011241</td>\n",
       "      <td>29</td>\n",
       "      <td>2</td>\n",
       "      <td>16</td>\n",
       "      <td>0.866667</td>\n",
       "      <td>0.900000</td>\n",
       "      <td>0.833333</td>\n",
       "      <td>0.866667</td>\n",
       "      <td>0.873333</td>\n",
       "    </tr>\n",
       "    <tr>\n",
       "      <th>32</th>\n",
       "      <td>0.081419</td>\n",
       "      <td>18</td>\n",
       "      <td>32</td>\n",
       "      <td>128</td>\n",
       "      <td>0.866667</td>\n",
       "      <td>0.866667</td>\n",
       "      <td>0.900000</td>\n",
       "      <td>0.900000</td>\n",
       "      <td>0.880000</td>\n",
       "    </tr>\n",
       "    <tr>\n",
       "      <th>31</th>\n",
       "      <td>0.040768</td>\n",
       "      <td>18</td>\n",
       "      <td>32</td>\n",
       "      <td>64</td>\n",
       "      <td>0.866667</td>\n",
       "      <td>0.866667</td>\n",
       "      <td>0.900000</td>\n",
       "      <td>0.900000</td>\n",
       "      <td>0.880000</td>\n",
       "    </tr>\n",
       "    <tr>\n",
       "      <th>29</th>\n",
       "      <td>0.010420</td>\n",
       "      <td>18</td>\n",
       "      <td>32</td>\n",
       "      <td>16</td>\n",
       "      <td>0.866667</td>\n",
       "      <td>0.866667</td>\n",
       "      <td>0.933333</td>\n",
       "      <td>0.866667</td>\n",
       "      <td>0.880000</td>\n",
       "    </tr>\n",
       "    <tr>\n",
       "      <th>27</th>\n",
       "      <td>0.324783</td>\n",
       "      <td>18</td>\n",
       "      <td>16</td>\n",
       "      <td>512</td>\n",
       "      <td>0.866667</td>\n",
       "      <td>0.866667</td>\n",
       "      <td>0.900000</td>\n",
       "      <td>0.866667</td>\n",
       "      <td>0.880000</td>\n",
       "    </tr>\n",
       "    <tr>\n",
       "      <th>26</th>\n",
       "      <td>0.162552</td>\n",
       "      <td>18</td>\n",
       "      <td>16</td>\n",
       "      <td>256</td>\n",
       "      <td>0.866667</td>\n",
       "      <td>0.866667</td>\n",
       "      <td>0.900000</td>\n",
       "      <td>0.900000</td>\n",
       "      <td>0.880000</td>\n",
       "    </tr>\n",
       "    <tr>\n",
       "      <th>36</th>\n",
       "      <td>0.010429</td>\n",
       "      <td>18</td>\n",
       "      <td>None</td>\n",
       "      <td>16</td>\n",
       "      <td>0.866667</td>\n",
       "      <td>0.866667</td>\n",
       "      <td>0.933333</td>\n",
       "      <td>0.866667</td>\n",
       "      <td>0.880000</td>\n",
       "    </tr>\n",
       "    <tr>\n",
       "      <th>34</th>\n",
       "      <td>0.324555</td>\n",
       "      <td>18</td>\n",
       "      <td>32</td>\n",
       "      <td>512</td>\n",
       "      <td>0.866667</td>\n",
       "      <td>0.866667</td>\n",
       "      <td>0.900000</td>\n",
       "      <td>0.900000</td>\n",
       "      <td>0.880000</td>\n",
       "    </tr>\n",
       "    <tr>\n",
       "      <th>41</th>\n",
       "      <td>0.331592</td>\n",
       "      <td>18</td>\n",
       "      <td>None</td>\n",
       "      <td>512</td>\n",
       "      <td>0.866667</td>\n",
       "      <td>0.866667</td>\n",
       "      <td>0.900000</td>\n",
       "      <td>0.866667</td>\n",
       "      <td>0.880000</td>\n",
       "    </tr>\n",
       "    <tr>\n",
       "      <th>9</th>\n",
       "      <td>0.020375</td>\n",
       "      <td>18</td>\n",
       "      <td>4</td>\n",
       "      <td>32</td>\n",
       "      <td>0.866667</td>\n",
       "      <td>0.866667</td>\n",
       "      <td>0.900000</td>\n",
       "      <td>0.900000</td>\n",
       "      <td>0.880000</td>\n",
       "    </tr>\n",
       "    <tr>\n",
       "      <th>16</th>\n",
       "      <td>0.020658</td>\n",
       "      <td>18</td>\n",
       "      <td>8</td>\n",
       "      <td>32</td>\n",
       "      <td>0.866667</td>\n",
       "      <td>0.866667</td>\n",
       "      <td>0.900000</td>\n",
       "      <td>0.900000</td>\n",
       "      <td>0.880000</td>\n",
       "    </tr>\n",
       "    <tr>\n",
       "      <th>21</th>\n",
       "      <td>0.005344</td>\n",
       "      <td>18</td>\n",
       "      <td>16</td>\n",
       "      <td>8</td>\n",
       "      <td>0.866667</td>\n",
       "      <td>0.866667</td>\n",
       "      <td>0.900000</td>\n",
       "      <td>0.866667</td>\n",
       "      <td>0.880000</td>\n",
       "    </tr>\n",
       "    <tr>\n",
       "      <th>22</th>\n",
       "      <td>0.010406</td>\n",
       "      <td>6</td>\n",
       "      <td>16</td>\n",
       "      <td>16</td>\n",
       "      <td>0.866667</td>\n",
       "      <td>0.866667</td>\n",
       "      <td>0.933333</td>\n",
       "      <td>0.900000</td>\n",
       "      <td>0.886667</td>\n",
       "    </tr>\n",
       "    <tr>\n",
       "      <th>39</th>\n",
       "      <td>0.082784</td>\n",
       "      <td>6</td>\n",
       "      <td>None</td>\n",
       "      <td>128</td>\n",
       "      <td>0.866667</td>\n",
       "      <td>0.866667</td>\n",
       "      <td>0.900000</td>\n",
       "      <td>0.866667</td>\n",
       "      <td>0.886667</td>\n",
       "    </tr>\n",
       "    <tr>\n",
       "      <th>11</th>\n",
       "      <td>0.080658</td>\n",
       "      <td>6</td>\n",
       "      <td>4</td>\n",
       "      <td>128</td>\n",
       "      <td>0.866667</td>\n",
       "      <td>0.900000</td>\n",
       "      <td>0.900000</td>\n",
       "      <td>0.900000</td>\n",
       "      <td>0.886667</td>\n",
       "    </tr>\n",
       "    <tr>\n",
       "      <th>12</th>\n",
       "      <td>0.161355</td>\n",
       "      <td>6</td>\n",
       "      <td>4</td>\n",
       "      <td>256</td>\n",
       "      <td>0.866667</td>\n",
       "      <td>0.900000</td>\n",
       "      <td>0.900000</td>\n",
       "      <td>0.900000</td>\n",
       "      <td>0.886667</td>\n",
       "    </tr>\n",
       "    <tr>\n",
       "      <th>30</th>\n",
       "      <td>0.020561</td>\n",
       "      <td>6</td>\n",
       "      <td>32</td>\n",
       "      <td>32</td>\n",
       "      <td>0.900000</td>\n",
       "      <td>0.866667</td>\n",
       "      <td>0.900000</td>\n",
       "      <td>0.900000</td>\n",
       "      <td>0.886667</td>\n",
       "    </tr>\n",
       "    <tr>\n",
       "      <th>13</th>\n",
       "      <td>0.323807</td>\n",
       "      <td>6</td>\n",
       "      <td>4</td>\n",
       "      <td>512</td>\n",
       "      <td>0.866667</td>\n",
       "      <td>0.900000</td>\n",
       "      <td>0.900000</td>\n",
       "      <td>0.900000</td>\n",
       "      <td>0.886667</td>\n",
       "    </tr>\n",
       "    <tr>\n",
       "      <th>28</th>\n",
       "      <td>0.005344</td>\n",
       "      <td>6</td>\n",
       "      <td>32</td>\n",
       "      <td>8</td>\n",
       "      <td>0.866667</td>\n",
       "      <td>0.866667</td>\n",
       "      <td>0.900000</td>\n",
       "      <td>0.866667</td>\n",
       "      <td>0.886667</td>\n",
       "    </tr>\n",
       "    <tr>\n",
       "      <th>17</th>\n",
       "      <td>0.040814</td>\n",
       "      <td>6</td>\n",
       "      <td>8</td>\n",
       "      <td>64</td>\n",
       "      <td>0.866667</td>\n",
       "      <td>0.866667</td>\n",
       "      <td>0.900000</td>\n",
       "      <td>0.900000</td>\n",
       "      <td>0.886667</td>\n",
       "    </tr>\n",
       "    <tr>\n",
       "      <th>25</th>\n",
       "      <td>0.081402</td>\n",
       "      <td>6</td>\n",
       "      <td>16</td>\n",
       "      <td>128</td>\n",
       "      <td>0.866667</td>\n",
       "      <td>0.900000</td>\n",
       "      <td>0.900000</td>\n",
       "      <td>0.900000</td>\n",
       "      <td>0.886667</td>\n",
       "    </tr>\n",
       "    <tr>\n",
       "      <th>24</th>\n",
       "      <td>0.040748</td>\n",
       "      <td>6</td>\n",
       "      <td>16</td>\n",
       "      <td>64</td>\n",
       "      <td>0.866667</td>\n",
       "      <td>0.866667</td>\n",
       "      <td>0.933333</td>\n",
       "      <td>0.866667</td>\n",
       "      <td>0.886667</td>\n",
       "    </tr>\n",
       "    <tr>\n",
       "      <th>40</th>\n",
       "      <td>0.165309</td>\n",
       "      <td>6</td>\n",
       "      <td>None</td>\n",
       "      <td>256</td>\n",
       "      <td>0.866667</td>\n",
       "      <td>0.866667</td>\n",
       "      <td>0.900000</td>\n",
       "      <td>0.900000</td>\n",
       "      <td>0.886667</td>\n",
       "    </tr>\n",
       "    <tr>\n",
       "      <th>0</th>\n",
       "      <td>0.011911</td>\n",
       "      <td>6</td>\n",
       "      <td>2</td>\n",
       "      <td>8</td>\n",
       "      <td>0.866667</td>\n",
       "      <td>0.933333</td>\n",
       "      <td>0.833333</td>\n",
       "      <td>0.900000</td>\n",
       "      <td>0.886667</td>\n",
       "    </tr>\n",
       "    <tr>\n",
       "      <th>10</th>\n",
       "      <td>0.040408</td>\n",
       "      <td>2</td>\n",
       "      <td>4</td>\n",
       "      <td>64</td>\n",
       "      <td>0.866667</td>\n",
       "      <td>0.933333</td>\n",
       "      <td>0.900000</td>\n",
       "      <td>0.900000</td>\n",
       "      <td>0.893333</td>\n",
       "    </tr>\n",
       "    <tr>\n",
       "      <th>8</th>\n",
       "      <td>0.010314</td>\n",
       "      <td>2</td>\n",
       "      <td>4</td>\n",
       "      <td>16</td>\n",
       "      <td>0.866667</td>\n",
       "      <td>0.866667</td>\n",
       "      <td>0.900000</td>\n",
       "      <td>0.933333</td>\n",
       "      <td>0.893333</td>\n",
       "    </tr>\n",
       "    <tr>\n",
       "      <th>3</th>\n",
       "      <td>0.040304</td>\n",
       "      <td>2</td>\n",
       "      <td>2</td>\n",
       "      <td>64</td>\n",
       "      <td>0.866667</td>\n",
       "      <td>0.900000</td>\n",
       "      <td>0.900000</td>\n",
       "      <td>0.900000</td>\n",
       "      <td>0.893333</td>\n",
       "    </tr>\n",
       "    <tr>\n",
       "      <th>15</th>\n",
       "      <td>0.010422</td>\n",
       "      <td>2</td>\n",
       "      <td>8</td>\n",
       "      <td>16</td>\n",
       "      <td>0.866667</td>\n",
       "      <td>0.900000</td>\n",
       "      <td>0.900000</td>\n",
       "      <td>0.933333</td>\n",
       "      <td>0.893333</td>\n",
       "    </tr>\n",
       "    <tr>\n",
       "      <th>37</th>\n",
       "      <td>0.020638</td>\n",
       "      <td>1</td>\n",
       "      <td>None</td>\n",
       "      <td>32</td>\n",
       "      <td>0.866667</td>\n",
       "      <td>0.900000</td>\n",
       "      <td>0.900000</td>\n",
       "      <td>0.933333</td>\n",
       "      <td>0.900000</td>\n",
       "    </tr>\n",
       "  </tbody>\n",
       "</table>\n",
       "</div>"
      ],
      "text/plain": [
       "    mean_fit_time  rank_test_score param_max_depth param_n_estimators  \\\n",
       "23       0.020597               39              16                 32   \n",
       "2        0.020368               39               2                 32   \n",
       "38       0.040987               39            None                 64   \n",
       "35       0.005369               39            None                  8   \n",
       "18       0.081559               29               8                128   \n",
       "14       0.005342               29               8                  8   \n",
       "33       0.162284               29              32                256   \n",
       "19       0.162410               29               8                256   \n",
       "20       0.324225               29               8                512   \n",
       "7        0.005303               29               4                  8   \n",
       "6        0.319108               29               2                512   \n",
       "5        0.159279               29               2                256   \n",
       "4        0.080594               29               2                128   \n",
       "1        0.011241               29               2                 16   \n",
       "32       0.081419               18              32                128   \n",
       "31       0.040768               18              32                 64   \n",
       "29       0.010420               18              32                 16   \n",
       "27       0.324783               18              16                512   \n",
       "26       0.162552               18              16                256   \n",
       "36       0.010429               18            None                 16   \n",
       "34       0.324555               18              32                512   \n",
       "41       0.331592               18            None                512   \n",
       "9        0.020375               18               4                 32   \n",
       "16       0.020658               18               8                 32   \n",
       "21       0.005344               18              16                  8   \n",
       "22       0.010406                6              16                 16   \n",
       "39       0.082784                6            None                128   \n",
       "11       0.080658                6               4                128   \n",
       "12       0.161355                6               4                256   \n",
       "30       0.020561                6              32                 32   \n",
       "13       0.323807                6               4                512   \n",
       "28       0.005344                6              32                  8   \n",
       "17       0.040814                6               8                 64   \n",
       "25       0.081402                6              16                128   \n",
       "24       0.040748                6              16                 64   \n",
       "40       0.165309                6            None                256   \n",
       "0        0.011911                6               2                  8   \n",
       "10       0.040408                2               4                 64   \n",
       "8        0.010314                2               4                 16   \n",
       "3        0.040304                2               2                 64   \n",
       "15       0.010422                2               8                 16   \n",
       "37       0.020638                1            None                 32   \n",
       "\n",
       "    split1_test_score  split2_test_score  split3_test_score  \\\n",
       "23           0.866667           0.866667           0.900000   \n",
       "2            0.866667           0.866667           0.833333   \n",
       "38           0.866667           0.833333           0.900000   \n",
       "35           0.866667           0.866667           0.933333   \n",
       "18           0.866667           0.866667           0.900000   \n",
       "14           0.900000           0.866667           0.866667   \n",
       "33           0.866667           0.866667           0.900000   \n",
       "19           0.866667           0.866667           0.900000   \n",
       "20           0.866667           0.866667           0.900000   \n",
       "7            0.866667           0.900000           0.833333   \n",
       "6            0.866667           0.900000           0.833333   \n",
       "5            0.866667           0.900000           0.833333   \n",
       "4            0.866667           0.900000           0.833333   \n",
       "1            0.866667           0.900000           0.833333   \n",
       "32           0.866667           0.866667           0.900000   \n",
       "31           0.866667           0.866667           0.900000   \n",
       "29           0.866667           0.866667           0.933333   \n",
       "27           0.866667           0.866667           0.900000   \n",
       "26           0.866667           0.866667           0.900000   \n",
       "36           0.866667           0.866667           0.933333   \n",
       "34           0.866667           0.866667           0.900000   \n",
       "41           0.866667           0.866667           0.900000   \n",
       "9            0.866667           0.866667           0.900000   \n",
       "16           0.866667           0.866667           0.900000   \n",
       "21           0.866667           0.866667           0.900000   \n",
       "22           0.866667           0.866667           0.933333   \n",
       "39           0.866667           0.866667           0.900000   \n",
       "11           0.866667           0.900000           0.900000   \n",
       "12           0.866667           0.900000           0.900000   \n",
       "30           0.900000           0.866667           0.900000   \n",
       "13           0.866667           0.900000           0.900000   \n",
       "28           0.866667           0.866667           0.900000   \n",
       "17           0.866667           0.866667           0.900000   \n",
       "25           0.866667           0.900000           0.900000   \n",
       "24           0.866667           0.866667           0.933333   \n",
       "40           0.866667           0.866667           0.900000   \n",
       "0            0.866667           0.933333           0.833333   \n",
       "10           0.866667           0.933333           0.900000   \n",
       "8            0.866667           0.866667           0.900000   \n",
       "3            0.866667           0.900000           0.900000   \n",
       "15           0.866667           0.900000           0.900000   \n",
       "37           0.866667           0.900000           0.900000   \n",
       "\n",
       "    split4_test_score  mean_test_score  \n",
       "23           0.866667         0.866667  \n",
       "2            0.866667         0.866667  \n",
       "38           0.866667         0.866667  \n",
       "35           0.866667         0.866667  \n",
       "18           0.866667         0.873333  \n",
       "14           0.866667         0.873333  \n",
       "33           0.866667         0.873333  \n",
       "19           0.866667         0.873333  \n",
       "20           0.900000         0.873333  \n",
       "7            0.900000         0.873333  \n",
       "6            0.866667         0.873333  \n",
       "5            0.866667         0.873333  \n",
       "4            0.866667         0.873333  \n",
       "1            0.866667         0.873333  \n",
       "32           0.900000         0.880000  \n",
       "31           0.900000         0.880000  \n",
       "29           0.866667         0.880000  \n",
       "27           0.866667         0.880000  \n",
       "26           0.900000         0.880000  \n",
       "36           0.866667         0.880000  \n",
       "34           0.900000         0.880000  \n",
       "41           0.866667         0.880000  \n",
       "9            0.900000         0.880000  \n",
       "16           0.900000         0.880000  \n",
       "21           0.866667         0.880000  \n",
       "22           0.900000         0.886667  \n",
       "39           0.866667         0.886667  \n",
       "11           0.900000         0.886667  \n",
       "12           0.900000         0.886667  \n",
       "30           0.900000         0.886667  \n",
       "13           0.900000         0.886667  \n",
       "28           0.866667         0.886667  \n",
       "17           0.900000         0.886667  \n",
       "25           0.900000         0.886667  \n",
       "24           0.866667         0.886667  \n",
       "40           0.900000         0.886667  \n",
       "0            0.900000         0.886667  \n",
       "10           0.900000         0.893333  \n",
       "8            0.933333         0.893333  \n",
       "3            0.900000         0.893333  \n",
       "15           0.933333         0.893333  \n",
       "37           0.933333         0.900000  "
      ]
     },
     "execution_count": 41,
     "metadata": {},
     "output_type": "execute_result"
    }
   ],
   "source": [
    "results[['mean_fit_time','rank_test_score',\n",
    "            'param_max_depth', 'param_n_estimators',\n",
    "             'split1_test_score', 'split2_test_score', \n",
    "         'split3_test_score', 'split4_test_score','mean_test_score']].sort_values('mean_test_score')"
   ]
  },
  {
   "cell_type": "markdown",
   "metadata": {},
   "source": [
    "## 6. Making predictions with the best model"
   ]
  },
  {
   "cell_type": "code",
   "execution_count": 42,
   "metadata": {},
   "outputs": [],
   "source": [
    "from sklearn.model_selection import cross_val_score"
   ]
  },
  {
   "cell_type": "code",
   "execution_count": 43,
   "metadata": {},
   "outputs": [
    {
     "data": {
      "text/plain": [
       "RandomForestClassifier(bootstrap=True, ccp_alpha=0.0, class_weight=None,\n",
       "                       criterion='gini', max_depth=None, max_features='auto',\n",
       "                       max_leaf_nodes=None, max_samples=None,\n",
       "                       min_impurity_decrease=0.0, min_impurity_split=None,\n",
       "                       min_samples_leaf=1, min_samples_split=2,\n",
       "                       min_weight_fraction_leaf=0.0, n_estimators=32,\n",
       "                       n_jobs=None, oob_score=False, random_state=None,\n",
       "                       verbose=0, warm_start=False)"
      ]
     },
     "execution_count": 43,
     "metadata": {},
     "output_type": "execute_result"
    }
   ],
   "source": [
    "rf_best = cv_h.best_estimator_\n",
    "rf_best"
   ]
  },
  {
   "cell_type": "code",
   "execution_count": 44,
   "metadata": {},
   "outputs": [],
   "source": [
    "cross_acc = cross_val_score(estimator=rf_best,  # estimator: # the model you want to evaluate \n",
    "                            X=Xtrain,           # the training input data \n",
    "                            y=ytrain,           # the training output data  \n",
    "                            cv=5,               # number of cross validation datasets, k   \n",
    "                            scoring='accuracy') # evaluation metric "
   ]
  },
  {
   "cell_type": "code",
   "execution_count": 45,
   "metadata": {},
   "outputs": [
    {
     "data": {
      "text/plain": [
       "RandomForestClassifier(bootstrap=True, ccp_alpha=0.0, class_weight=None,\n",
       "                       criterion='gini', max_depth=None, max_features='auto',\n",
       "                       max_leaf_nodes=None, max_samples=None,\n",
       "                       min_impurity_decrease=0.0, min_impurity_split=None,\n",
       "                       min_samples_leaf=1, min_samples_split=2,\n",
       "                       min_weight_fraction_leaf=0.0, n_estimators=32,\n",
       "                       n_jobs=None, oob_score=False, random_state=None,\n",
       "                       verbose=0, warm_start=False)"
      ]
     },
     "execution_count": 45,
     "metadata": {},
     "output_type": "execute_result"
    }
   ],
   "source": [
    "rf_best.fit(Xtrain, ytrain)"
   ]
  },
  {
   "cell_type": "code",
   "execution_count": 46,
   "metadata": {
    "scrolled": false
   },
   "outputs": [
    {
     "data": {
      "text/plain": [
       "array([0.8       , 0.86666667, 0.86666667, 0.9       , 0.86666667])"
      ]
     },
     "execution_count": 46,
     "metadata": {},
     "output_type": "execute_result"
    }
   ],
   "source": [
    "cross_acc"
   ]
  },
  {
   "cell_type": "code",
   "execution_count": 47,
   "metadata": {},
   "outputs": [
    {
     "data": {
      "text/plain": [
       "0.86"
      ]
     },
     "execution_count": 47,
     "metadata": {},
     "output_type": "execute_result"
    }
   ],
   "source": [
    "cross_acc.mean()"
   ]
  },
  {
   "cell_type": "code",
   "execution_count": 48,
   "metadata": {
    "scrolled": false
   },
   "outputs": [
    {
     "data": {
      "text/plain": [
       "array([0, 0, 0, 1, 0, 0, 1, 0, 0, 1, 0, 0, 1, 1, 0, 1, 0, 1, 1, 1, 1, 1,\n",
       "       0, 0, 0, 1, 0, 0, 1, 1, 1, 0, 0, 0, 0, 0, 1, 0, 1, 0, 1, 0, 0, 1,\n",
       "       0, 1, 0, 0, 1, 0])"
      ]
     },
     "execution_count": 48,
     "metadata": {},
     "output_type": "execute_result"
    }
   ],
   "source": [
    "pred = rf_best.predict(Xtest)\n",
    "pred"
   ]
  },
  {
   "cell_type": "code",
   "execution_count": 49,
   "metadata": {},
   "outputs": [],
   "source": [
    "pred_train =rf_best.predict(Xtrain)"
   ]
  },
  {
   "cell_type": "code",
   "execution_count": 50,
   "metadata": {},
   "outputs": [
    {
     "data": {
      "text/plain": [
       "(0.92, 1.0)"
      ]
     },
     "execution_count": 50,
     "metadata": {},
     "output_type": "execute_result"
    }
   ],
   "source": [
    "accuracy_score(ytest, pred), accuracy_score(ytrain, pred_train)"
   ]
  },
  {
   "cell_type": "code",
   "execution_count": null,
   "metadata": {},
   "outputs": [],
   "source": []
  },
  {
   "cell_type": "markdown",
   "metadata": {},
   "source": [
    "## BONUS: Summary of Model Hyperparameters"
   ]
  },
  {
   "cell_type": "markdown",
   "metadata": {},
   "source": [
    "\n",
    "### Random Forest\n",
    "*HINT: Random Forest might actually be a good model for your regression problem too, check it out.*\n",
    "\n",
    "Spend some time checking out the hyperparameters for RandomForestRegressor and try it on your data.\n",
    "\n",
    "### The Impurity Parameter\n",
    "\n",
    "Impurity could be Gini or Entropy. They both need to be minimised.\n",
    "\n",
    "#### ENTROPY \n",
    "criterion aims to increase the information gain by decreasing the chaos. https://towardsdatascience.com/entropy-how-decision-trees-make-decisions-2946b9c18c8\n",
    "\n",
    "\n",
    "#### GINI CRITERION \n",
    "very similar to entropy, and gives the probability of classifying data wrongly on tree nodes.\n",
    "\n",
    "It is faster but it needs to be multiplied by two since its top range is 0.5."
   ]
  },
  {
   "cell_type": "markdown",
   "metadata": {},
   "source": [
    "### Logistic Regression\n",
    "\n",
    "#### Penalty\n",
    "- In Sklearn Logistic Regression, there are two shrinkage penalties: L1, L2. For the moment, it's enough to know that we use them to decrease the variance (overfit to training and poor fit to test data).\n",
    "\n",
    "- L1 reduces coefficients by a certain factor while L2 does the same with the square of a factor.\n",
    "\n",
    "### C\n",
    "\n",
    "- gives the inverse strength of the chosen regularisation (go smaller if you want stronger regularisation).\n",
    "\n",
    "\n"
   ]
  },
  {
   "cell_type": "code",
   "execution_count": null,
   "metadata": {},
   "outputs": [],
   "source": []
  },
  {
   "cell_type": "markdown",
   "metadata": {},
   "source": []
  },
  {
   "cell_type": "markdown",
   "metadata": {},
   "source": [
    "## What next? 👀 \n",
    "\n",
    "* Optimize the hyperparameters of your model by running a GridSearchCV.\n",
    "* Define a dictionary that contains the parameters you want to inspect.\n",
    "* Initialize the GridSearchCV.\n",
    "* Fit it on your complete training data.\n",
    "* Inspect the result with pd.DataFrame(grid.cv_results_).\n",
    "* Have a look at the columns 'mean_test_score', 'mean_train_score' and 'params'. \n",
    "* Plot the training and cross valdation test score.\n"
   ]
  },
  {
   "cell_type": "markdown",
   "metadata": {},
   "source": [
    "### Course material\n",
    "[3.9. Hyperparameter Optimatisation](https://spiced.space/ordinal-oregano/ds-course/chapters/project_bicycles/hyperparameter_optimization/README.html)"
   ]
  },
  {
   "cell_type": "code",
   "execution_count": null,
   "metadata": {},
   "outputs": [],
   "source": []
  }
 ],
 "metadata": {
  "kernelspec": {
   "display_name": "Python 3",
   "language": "python",
   "name": "python3"
  },
  "language_info": {
   "codemirror_mode": {
    "name": "ipython",
    "version": 3
   },
   "file_extension": ".py",
   "mimetype": "text/x-python",
   "name": "python",
   "nbconvert_exporter": "python",
   "pygments_lexer": "ipython3",
   "version": "3.8.5"
  }
 },
 "nbformat": 4,
 "nbformat_minor": 2
}
