{
 "cells": [
  {
   "cell_type": "markdown",
   "metadata": {},
   "source": [
    "# Regularization"
   ]
  },
  {
   "cell_type": "code",
   "execution_count": 1,
   "metadata": {},
   "outputs": [],
   "source": [
    "import seaborn as sns"
   ]
  },
  {
   "cell_type": "markdown",
   "metadata": {},
   "source": [
    "## Warm up: overfit the model"
   ]
  },
  {
   "cell_type": "code",
   "execution_count": 2,
   "metadata": {},
   "outputs": [],
   "source": [
    "import numpy as np\n",
    "import pandas as pd\n",
    "np.random.seed(42)\n",
    "x = np.linspace(0, 20, 15)\n",
    "y = 5 * x + np.random.normal(0.0, 25, 15)\n",
    "X = x.reshape(15, 1)"
   ]
  },
  {
   "cell_type": "code",
   "execution_count": 8,
   "metadata": {},
   "outputs": [
    {
     "data": {
      "text/plain": [
       "array([[ 0.        ],\n",
       "       [ 1.42857143],\n",
       "       [ 2.85714286],\n",
       "       [ 4.28571429],\n",
       "       [ 5.71428571],\n",
       "       [ 7.14285714],\n",
       "       [ 8.57142857],\n",
       "       [10.        ],\n",
       "       [11.42857143],\n",
       "       [12.85714286],\n",
       "       [14.28571429],\n",
       "       [15.71428571],\n",
       "       [17.14285714],\n",
       "       [18.57142857],\n",
       "       [20.        ]])"
      ]
     },
     "execution_count": 8,
     "metadata": {},
     "output_type": "execute_result"
    }
   ],
   "source": [
    "X"
   ]
  },
  {
   "cell_type": "code",
   "execution_count": 3,
   "metadata": {},
   "outputs": [],
   "source": [
    "from sklearn.preprocessing import PolynomialFeatures\n",
    "from sklearn.linear_model import LinearRegression"
   ]
  },
  {
   "cell_type": "markdown",
   "metadata": {},
   "source": [
    "#### Create first polynomial features for X"
   ]
  },
  {
   "cell_type": "code",
   "execution_count": null,
   "metadata": {},
   "outputs": [],
   "source": [
    "## Fit the polynomial features"
   ]
  },
  {
   "cell_type": "code",
   "execution_count": 91,
   "metadata": {},
   "outputs": [],
   "source": [
    "pt = PolynomialFeatures(degree= 2, include_bias= True,interaction_only=False)"
   ]
  },
  {
   "cell_type": "code",
   "execution_count": 92,
   "metadata": {},
   "outputs": [
    {
     "data": {
      "text/plain": [
       "PolynomialFeatures()"
      ]
     },
     "execution_count": 92,
     "metadata": {},
     "output_type": "execute_result"
    }
   ],
   "source": [
    "pt.fit(X)"
   ]
  },
  {
   "cell_type": "code",
   "execution_count": 93,
   "metadata": {},
   "outputs": [
    {
     "data": {
      "text/plain": [
       "array([[ 0.        ],\n",
       "       [ 1.42857143],\n",
       "       [ 2.85714286],\n",
       "       [ 4.28571429],\n",
       "       [ 5.71428571],\n",
       "       [ 7.14285714],\n",
       "       [ 8.57142857],\n",
       "       [10.        ],\n",
       "       [11.42857143],\n",
       "       [12.85714286],\n",
       "       [14.28571429],\n",
       "       [15.71428571],\n",
       "       [17.14285714],\n",
       "       [18.57142857],\n",
       "       [20.        ]])"
      ]
     },
     "execution_count": 93,
     "metadata": {},
     "output_type": "execute_result"
    }
   ],
   "source": [
    "X"
   ]
  },
  {
   "cell_type": "code",
   "execution_count": 94,
   "metadata": {},
   "outputs": [],
   "source": [
    "## Transform the polynomial features"
   ]
  },
  {
   "cell_type": "code",
   "execution_count": 95,
   "metadata": {},
   "outputs": [],
   "source": [
    "X_poly= pt.transform(X)\n"
   ]
  },
  {
   "cell_type": "code",
   "execution_count": 96,
   "metadata": {},
   "outputs": [
    {
     "data": {
      "text/plain": [
       "array([[  1.        ,   0.        ,   0.        ],\n",
       "       [  1.        ,   1.42857143,   2.04081633],\n",
       "       [  1.        ,   2.85714286,   8.16326531],\n",
       "       [  1.        ,   4.28571429,  18.36734694],\n",
       "       [  1.        ,   5.71428571,  32.65306122],\n",
       "       [  1.        ,   7.14285714,  51.02040816],\n",
       "       [  1.        ,   8.57142857,  73.46938776],\n",
       "       [  1.        ,  10.        , 100.        ],\n",
       "       [  1.        ,  11.42857143, 130.6122449 ],\n",
       "       [  1.        ,  12.85714286, 165.30612245],\n",
       "       [  1.        ,  14.28571429, 204.08163265],\n",
       "       [  1.        ,  15.71428571, 246.93877551],\n",
       "       [  1.        ,  17.14285714, 293.87755102],\n",
       "       [  1.        ,  18.57142857, 344.89795918],\n",
       "       [  1.        ,  20.        , 400.        ]])"
      ]
     },
     "execution_count": 96,
     "metadata": {},
     "output_type": "execute_result"
    }
   ],
   "source": [
    "X_poly"
   ]
  },
  {
   "cell_type": "code",
   "execution_count": 97,
   "metadata": {},
   "outputs": [],
   "source": [
    "from sklearn.preprocessing import PolynomialFeatures"
   ]
  },
  {
   "cell_type": "code",
   "execution_count": 98,
   "metadata": {},
   "outputs": [
    {
     "data": {
      "text/plain": [
       "array(['1', 'x0', 'x0^2'], dtype=object)"
      ]
     },
     "execution_count": 98,
     "metadata": {},
     "output_type": "execute_result"
    }
   ],
   "source": [
    "pt.get_feature_names_out()"
   ]
  },
  {
   "cell_type": "code",
   "execution_count": 99,
   "metadata": {},
   "outputs": [
    {
     "data": {
      "text/plain": [
       "array([[  1.        ,   0.        ,   0.        ],\n",
       "       [  1.        ,   1.42857143,   2.04081633],\n",
       "       [  1.        ,   2.85714286,   8.16326531],\n",
       "       [  1.        ,   4.28571429,  18.36734694],\n",
       "       [  1.        ,   5.71428571,  32.65306122],\n",
       "       [  1.        ,   7.14285714,  51.02040816],\n",
       "       [  1.        ,   8.57142857,  73.46938776],\n",
       "       [  1.        ,  10.        , 100.        ],\n",
       "       [  1.        ,  11.42857143, 130.6122449 ],\n",
       "       [  1.        ,  12.85714286, 165.30612245],\n",
       "       [  1.        ,  14.28571429, 204.08163265],\n",
       "       [  1.        ,  15.71428571, 246.93877551],\n",
       "       [  1.        ,  17.14285714, 293.87755102],\n",
       "       [  1.        ,  18.57142857, 344.89795918],\n",
       "       [  1.        ,  20.        , 400.        ]])"
      ]
     },
     "execution_count": 99,
     "metadata": {},
     "output_type": "execute_result"
    }
   ],
   "source": [
    "X_poly"
   ]
  },
  {
   "cell_type": "code",
   "execution_count": 100,
   "metadata": {},
   "outputs": [
    {
     "data": {
      "text/html": [
       "<div>\n",
       "<style scoped>\n",
       "    .dataframe tbody tr th:only-of-type {\n",
       "        vertical-align: middle;\n",
       "    }\n",
       "\n",
       "    .dataframe tbody tr th {\n",
       "        vertical-align: top;\n",
       "    }\n",
       "\n",
       "    .dataframe thead th {\n",
       "        text-align: right;\n",
       "    }\n",
       "</style>\n",
       "<table border=\"1\" class=\"dataframe\">\n",
       "  <thead>\n",
       "    <tr style=\"text-align: right;\">\n",
       "      <th></th>\n",
       "      <th>1</th>\n",
       "      <th>x0</th>\n",
       "      <th>x0^2</th>\n",
       "    </tr>\n",
       "  </thead>\n",
       "  <tbody>\n",
       "    <tr>\n",
       "      <th>0</th>\n",
       "      <td>1.0</td>\n",
       "      <td>0.000000</td>\n",
       "      <td>0.000000</td>\n",
       "    </tr>\n",
       "    <tr>\n",
       "      <th>1</th>\n",
       "      <td>1.0</td>\n",
       "      <td>1.428571</td>\n",
       "      <td>2.040816</td>\n",
       "    </tr>\n",
       "    <tr>\n",
       "      <th>2</th>\n",
       "      <td>1.0</td>\n",
       "      <td>2.857143</td>\n",
       "      <td>8.163265</td>\n",
       "    </tr>\n",
       "    <tr>\n",
       "      <th>3</th>\n",
       "      <td>1.0</td>\n",
       "      <td>4.285714</td>\n",
       "      <td>18.367347</td>\n",
       "    </tr>\n",
       "    <tr>\n",
       "      <th>4</th>\n",
       "      <td>1.0</td>\n",
       "      <td>5.714286</td>\n",
       "      <td>32.653061</td>\n",
       "    </tr>\n",
       "  </tbody>\n",
       "</table>\n",
       "</div>"
      ],
      "text/plain": [
       "     1        x0       x0^2\n",
       "0  1.0  0.000000   0.000000\n",
       "1  1.0  1.428571   2.040816\n",
       "2  1.0  2.857143   8.163265\n",
       "3  1.0  4.285714  18.367347\n",
       "4  1.0  5.714286  32.653061"
      ]
     },
     "execution_count": 100,
     "metadata": {},
     "output_type": "execute_result"
    }
   ],
   "source": [
    "X_poly = pd.DataFrame(X_poly,columns = pt.get_feature_names_out())\n",
    "X_poly.head()"
   ]
  },
  {
   "cell_type": "markdown",
   "metadata": {},
   "source": [
    "#### Fit linear regression model"
   ]
  },
  {
   "cell_type": "code",
   "execution_count": 101,
   "metadata": {},
   "outputs": [],
   "source": [
    "## Fit the linear regression model"
   ]
  },
  {
   "cell_type": "code",
   "execution_count": 102,
   "metadata": {},
   "outputs": [],
   "source": [
    "from sklearn.linear_model import LinearRegression"
   ]
  },
  {
   "cell_type": "code",
   "execution_count": 103,
   "metadata": {},
   "outputs": [],
   "source": [
    "lm = LinearRegression()"
   ]
  },
  {
   "cell_type": "code",
   "execution_count": 104,
   "metadata": {},
   "outputs": [
    {
     "data": {
      "text/plain": [
       "LinearRegression()"
      ]
     },
     "execution_count": 104,
     "metadata": {},
     "output_type": "execute_result"
    }
   ],
   "source": [
    "lm.fit(X_poly,y)"
   ]
  },
  {
   "cell_type": "code",
   "execution_count": 105,
   "metadata": {},
   "outputs": [
    {
     "data": {
      "text/plain": [
       "0.5865899264835565"
      ]
     },
     "execution_count": 105,
     "metadata": {},
     "output_type": "execute_result"
    }
   ],
   "source": [
    "lm.score(X_poly,y)"
   ]
  },
  {
   "cell_type": "code",
   "execution_count": 106,
   "metadata": {},
   "outputs": [
    {
     "data": {
      "text/plain": [
       "array([-1.30562732,  0.16829974, -0.79872443])"
      ]
     },
     "execution_count": 106,
     "metadata": {},
     "output_type": "execute_result"
    }
   ],
   "source": [
    "from sklearn.model_selection import cross_val_score\n",
    "cross_val_score(lm, X_poly, y,cv = 3)"
   ]
  },
  {
   "cell_type": "markdown",
   "metadata": {},
   "source": [
    "What do you observe from the cross validated result?"
   ]
  },
  {
   "cell_type": "code",
   "execution_count": 107,
   "metadata": {},
   "outputs": [],
   "source": [
    "y_pred = lm.predict(X_poly)"
   ]
  },
  {
   "cell_type": "markdown",
   "metadata": {},
   "source": [
    "#### Plot"
   ]
  },
  {
   "cell_type": "code",
   "execution_count": 108,
   "metadata": {},
   "outputs": [
    {
     "data": {
      "text/plain": [
       "Text(0.5, 1.0, 'Overfitting with many polynomial features')"
      ]
     },
     "execution_count": 108,
     "metadata": {},
     "output_type": "execute_result"
    },
    {
     "data": {
      "image/png": "[encoded data removed]",
      "text/plain": [
       "<Figure size 432x288 with 1 Axes>"
      ]
     },
     "metadata": {
      "needs_background": "light"
     },
     "output_type": "display_data"
    }
   ],
   "source": [
    "import matplotlib.pyplot as plt\n",
    "plt.plot(X,y, 'o', label = \"true\")\n",
    "plt.plot(X,y_pred, label = \"overfitted model\")\n",
    "plt.xlabel('x')\n",
    "plt.ylabel('y')\n",
    "plt.title('Overfitting with many polynomial features')"
   ]
  },
  {
   "cell_type": "markdown",
   "metadata": {},
   "source": [
    "# Let's fix this using regularization!"
   ]
  },
  {
   "cell_type": "markdown",
   "metadata": {},
   "source": [
    "## Ridge"
   ]
  },
  {
   "cell_type": "code",
   "execution_count": 109,
   "metadata": {},
   "outputs": [],
   "source": [
    "# import"
   ]
  },
  {
   "cell_type": "code",
   "execution_count": 110,
   "metadata": {},
   "outputs": [],
   "source": [
    "from sklearn.linear_model import Ridge"
   ]
  },
  {
   "cell_type": "code",
   "execution_count": 111,
   "metadata": {},
   "outputs": [],
   "source": [
    "m_ridge = Ridge(alpha=0.4)\n",
    "m_ridge.fit(X_poly, y)\n",
    "ypred_ridge = m_ridge.predict(X_poly)\n",
    "\n"
   ]
  },
  {
   "cell_type": "code",
   "execution_count": 112,
   "metadata": {},
   "outputs": [
    {
     "data": {
      "image/png": "[encoded data removed]",
      "text/plain": [
       "<Figure size 432x288 with 1 Axes>"
      ]
     },
     "metadata": {
      "needs_background": "light"
     },
     "output_type": "display_data"
    }
   ],
   "source": [
    "###### plot\n",
    "plt.plot(X,y, 'o', label = 'y true')\n",
    "plt.xlabel('X')\n",
    "plt.ylabel('y')\n",
    "plt.plot(X, ypred_ridge, label = 'Ridge')\n",
    "plt.legend(bbox_to_anchor=(1.05, 1))    \n",
    "sns.despine()"
   ]
  },
  {
   "cell_type": "markdown",
   "metadata": {},
   "source": [
    "### The alpha parameter in Ridge"
   ]
  },
  {
   "cell_type": "code",
   "execution_count": 113,
   "metadata": {},
   "outputs": [],
   "source": [
    "import seaborn as sns\n",
    "import itertools"
   ]
  },
  {
   "cell_type": "code",
   "execution_count": 114,
   "metadata": {},
   "outputs": [
    {
     "data": {
      "image/png": "[encoded data removed]",
      "text/plain": [
       "<Figure size 432x288 with 1 Axes>"
      ]
     },
     "metadata": {
      "needs_background": "light"
     },
     "output_type": "display_data"
    }
   ],
   "source": [
    "plt.plot(X,y, 'o', label = 'y true')\n",
    "plt.xlabel('X')\n",
    "plt.ylabel('y')\n",
    "\n",
    "alphas = [1,5,10,50,100,10000, 100000]\n",
    "palette = itertools.cycle(sns.color_palette(\"Oranges\", len(alphas)))\n",
    "\n",
    "for i in alphas:\n",
    "    m_ridge = Ridge(alpha = i)\n",
    "    m_ridge.fit(X_poly, y)  #Train the linear model with ridge regularization\n",
    "    ypred_ridge = m_ridge.predict(X_poly)\n",
    "    plt.plot(X, ypred_ridge, c = next(palette), label = f'alpha = {i}')\n",
    "plt.legend(bbox_to_anchor=(1.05, 1))    \n",
    "sns.despine()"
   ]
  },
  {
   "cell_type": "markdown",
   "metadata": {},
   "source": [
    "## Lasso"
   ]
  },
  {
   "cell_type": "code",
   "execution_count": 115,
   "metadata": {},
   "outputs": [],
   "source": [
    "from sklearn.linear_model import Lasso"
   ]
  },
  {
   "cell_type": "code",
   "execution_count": 116,
   "metadata": {},
   "outputs": [],
   "source": [
    "m_lasso = Lasso(alpha=0.4)\n",
    "m_lasso.fit(X_poly,y)\n",
    "ypred_lasso = m_lasso.predict(X_poly)"
   ]
  },
  {
   "cell_type": "code",
   "execution_count": 117,
   "metadata": {},
   "outputs": [
    {
     "data": {
      "image/png": "[encoded data removed]",
      "text/plain": [
       "<Figure size 432x288 with 1 Axes>"
      ]
     },
     "metadata": {
      "needs_background": "light"
     },
     "output_type": "display_data"
    }
   ],
   "source": [
    "######### Plot\n",
    "plt.plot(X,y, 'o', label = 'y true')\n",
    "plt.xlabel('X')\n",
    "plt.ylabel('y')\n",
    "plt.plot(X, ypred_lasso, label = 'Lasso')\n",
    "plt.legend(bbox_to_anchor=(1.05, 1))    \n",
    "sns.despine()"
   ]
  },
  {
   "cell_type": "markdown",
   "metadata": {},
   "source": [
    "### The alpha parameter in Lasso"
   ]
  },
  {
   "cell_type": "code",
   "execution_count": 118,
   "metadata": {},
   "outputs": [
    {
     "data": {
      "image/png": "[encoded data removed]",
      "text/plain": [
       "<Figure size 432x288 with 1 Axes>"
      ]
     },
     "metadata": {
      "needs_background": "light"
     },
     "output_type": "display_data"
    }
   ],
   "source": [
    "plt.plot(X,y, 'o', label = 'y true')\n",
    "plt.xlabel('X')\n",
    "plt.ylabel('y')\n",
    "\n",
    "alphas = [1,5,10,50,100]\n",
    "palette = itertools.cycle(sns.color_palette(\"Oranges\", len(alphas)))\n",
    "\n",
    "for i in alphas:\n",
    "    m_lasso = Lasso(alpha = i)\n",
    "    m_lasso.fit(X_poly, y)  #Train the linear model with ridge regularization\n",
    "    ypred_lasso = m_lasso.predict(X_poly)\n",
    "    plt.plot(X, ypred_lasso, c = next(palette), label = f'alpha = {i}')\n",
    "    \n",
    "plt.legend(bbox_to_anchor=(1.05, 1))    \n",
    "sns.despine()"
   ]
  },
  {
   "cell_type": "markdown",
   "metadata": {},
   "source": [
    "## Let's see all together in action"
   ]
  },
  {
   "cell_type": "code",
   "execution_count": 119,
   "metadata": {},
   "outputs": [
    {
     "data": {
      "image/png": "[encoded data removed]",
      "text/plain": [
       "<Figure size 432x288 with 1 Axes>"
      ]
     },
     "metadata": {
      "needs_background": "light"
     },
     "output_type": "display_data"
    }
   ],
   "source": [
    "plt.plot(X,y, 'o', label = 'y true')\n",
    "plt.xlabel('X')\n",
    "plt.ylabel('y')\n",
    "\n",
    "m_ridge = Ridge(alpha=5.0)\n",
    "m_lasso = Lasso(alpha=5.0)\n",
    "\n",
    "lm.fit(X_poly, y)        #Train the linear model\n",
    "m_ridge.fit(X_poly, y)  #Train the linear model with ridge regularization\n",
    "m_lasso.fit(X_poly, y)  #Train the linear model with lasso regularization\n",
    "\n",
    "ypred = lm.predict(X_poly)\n",
    "ypred_ridge = m_ridge.predict(X_poly)\n",
    "ypred_lasso = m_lasso.predict(X_poly)\n",
    "\n",
    "plt.plot(X, ypred, label = \"No regularization\")\n",
    "plt.plot(X, ypred_ridge, label = \"Ridge\")\n",
    "plt.plot(X, ypred_lasso, label = \"Lasso\")\n",
    "plt.legend(bbox_to_anchor=(1.05, 1))    \n",
    "sns.despine()"
   ]
  },
  {
   "cell_type": "code",
   "execution_count": 120,
   "metadata": {},
   "outputs": [
    {
     "data": {
      "text/plain": [
       "array([ 0.        ,  8.7050596 , -0.30202884])"
      ]
     },
     "execution_count": 120,
     "metadata": {},
     "output_type": "execute_result"
    }
   ],
   "source": [
    "lm.coef_ #Linear Regression coefficients without Regularization"
   ]
  },
  {
   "cell_type": "code",
   "execution_count": 121,
   "metadata": {},
   "outputs": [
    {
     "data": {
      "text/plain": [
       "array([ 0.        ,  7.73545146, -0.25693269])"
      ]
     },
     "execution_count": 121,
     "metadata": {},
     "output_type": "execute_result"
    }
   ],
   "source": [
    "m_ridge.coef_ #Linear Regression coefficients WITH Ridge Regularization"
   ]
  },
  {
   "cell_type": "code",
   "execution_count": 122,
   "metadata": {},
   "outputs": [
    {
     "data": {
      "text/plain": [
       "array([ 0.        ,  6.73158633, -0.20994872])"
      ]
     },
     "execution_count": 122,
     "metadata": {},
     "output_type": "execute_result"
    }
   ],
   "source": [
    "m_lasso.coef_ #Linear Regression coefficients WITH Lasso Regularization. NOTE: some were eliminated!"
   ]
  },
  {
   "cell_type": "code",
   "execution_count": 126,
   "metadata": {},
   "outputs": [
    {
     "data": {
      "text/plain": [
       "array([ 0.32231083, -1.32925536, -0.7069134 , -0.138015  ,  0.13030193])"
      ]
     },
     "execution_count": 126,
     "metadata": {},
     "output_type": "execute_result"
    }
   ],
   "source": [
    "from sklearn.model_selection import cross_val_score\n",
    "cross_val_score(lm, X_poly, y,cv = 5)"
   ]
  },
  {
   "cell_type": "code",
   "execution_count": null,
   "metadata": {},
   "outputs": [],
   "source": []
  }
 ],
 "metadata": {
  "kernelspec": {
   "display_name": "Python 3",
   "language": "python",
   "name": "python3"
  },
  "language_info": {
   "codemirror_mode": {
    "name": "ipython",
    "version": 3
   },
   "file_extension": ".py",
   "mimetype": "text/x-python",
   "name": "python",
   "nbconvert_exporter": "python",
   "pygments_lexer": "ipython3",
   "version": "3.8.8"
  }
 },
 "nbformat": 4,
 "nbformat_minor": 4
}
