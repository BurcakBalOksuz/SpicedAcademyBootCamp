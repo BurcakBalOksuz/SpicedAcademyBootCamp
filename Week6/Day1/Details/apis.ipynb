{
 "cells": [
  {
   "cell_type": "markdown",
   "metadata": {},
   "source": [
    "# APIs"
   ]
  },
  {
   "cell_type": "markdown",
   "metadata": {},
   "source": [
    "### API example"
   ]
  },
  {
   "cell_type": "markdown",
   "metadata": {},
   "source": [
    "#### 1. RKI API"
   ]
  },
  {
   "cell_type": "code",
   "execution_count": 14,
   "metadata": {},
   "outputs": [],
   "source": [
    "import pandas as pd\n",
    "import requests"
   ]
  },
  {
   "cell_type": "code",
   "execution_count": 3,
   "metadata": {},
   "outputs": [],
   "source": [
    "url = 'https://api.corona-zahlen.org/germany/history/incidence'"
   ]
  },
  {
   "cell_type": "code",
   "execution_count": 4,
   "metadata": {},
   "outputs": [],
   "source": [
    "response = requests.get(url)"
   ]
  },
  {
   "cell_type": "code",
   "execution_count": 8,
   "metadata": {},
   "outputs": [],
   "source": [
    "rki_data = response.json()"
   ]
  },
  {
   "cell_type": "code",
   "execution_count": 15,
   "metadata": {},
   "outputs": [],
   "source": [
    "rki_df = pd.DataFrame(rki_data['data'])"
   ]
  },
  {
   "cell_type": "code",
   "execution_count": 17,
   "metadata": {},
   "outputs": [
    {
     "data": {
      "text/plain": [
       "weekIncidence    float64\n",
       "date              object\n",
       "dtype: object"
      ]
     },
     "execution_count": 17,
     "metadata": {},
     "output_type": "execute_result"
    }
   ],
   "source": [
    "rki_df.dtypes"
   ]
  },
  {
   "cell_type": "code",
   "execution_count": 18,
   "metadata": {},
   "outputs": [],
   "source": [
    "rki_df['date'] = pd.to_datetime(rki_df['date'])"
   ]
  },
  {
   "cell_type": "code",
   "execution_count": 20,
   "metadata": {},
   "outputs": [
    {
     "data": {
      "text/plain": [
       "weekIncidence                float64\n",
       "date             datetime64[ns, UTC]\n",
       "dtype: object"
      ]
     },
     "execution_count": 20,
     "metadata": {},
     "output_type": "execute_result"
    }
   ],
   "source": [
    "rki_df.dtypes"
   ]
  },
  {
   "cell_type": "markdown",
   "metadata": {},
   "source": [
    "#### 2. VBB API"
   ]
  },
  {
   "cell_type": "markdown",
   "metadata": {},
   "source": [
    "My workflow:\n",
    "* Get stop IDs for my work and home stop\n",
    "* Pass those IDs to the `journey` endpoint\n",
    "* Figure out how to parse the json I get in return to extract start and end stops and lines I need to take"
   ]
  },
  {
   "cell_type": "code",
   "execution_count": 22,
   "metadata": {},
   "outputs": [],
   "source": [
    "url_work = 'https://v5.vbb.transport.rest/locations?query=moritzplatz'"
   ]
  },
  {
   "cell_type": "code",
   "execution_count": 23,
   "metadata": {},
   "outputs": [],
   "source": [
    "url_home = 'https://v5.vbb.transport.rest/locations?query=bouchestrasse'"
   ]
  },
  {
   "cell_type": "code",
   "execution_count": 25,
   "metadata": {},
   "outputs": [],
   "source": [
    "response = requests.get(url_work)"
   ]
  },
  {
   "cell_type": "code",
   "execution_count": 27,
   "metadata": {},
   "outputs": [
    {
     "data": {
      "text/plain": [
       "[{'type': 'stop',\n",
       "  'id': '900000013101',\n",
       "  'name': 'U Moritzplatz',\n",
       "  'location': {'type': 'location',\n",
       "   'id': '900013101',\n",
       "   'latitude': 52.503737,\n",
       "   'longitude': 13.410944},\n",
       "  'products': {'suburban': False,\n",
       "   'subway': True,\n",
       "   'tram': False,\n",
       "   'bus': True,\n",
       "   'ferry': False,\n",
       "   'express': False,\n",
       "   'regional': False}},\n",
       " {'type': 'location',\n",
       "  'id': None,\n",
       "  'latitude': 51.630884,\n",
       "  'longitude': 13.706446,\n",
       "  'address': '03238 Finsterwalde, Moritzplatz'},\n",
       " {'type': 'location',\n",
       "  'id': None,\n",
       "  'latitude': 52.503772,\n",
       "  'longitude': 13.410369,\n",
       "  'address': '10969 Berlin-Kreuzberg, Moritzplatz'},\n",
       " {'type': 'stop',\n",
       "  'id': '900000057107',\n",
       "  'name': 'Dennewitzplatz',\n",
       "  'location': {'type': 'location',\n",
       "   'id': '900057107',\n",
       "   'latitude': 52.495907,\n",
       "   'longitude': 13.366223},\n",
       "  'products': {'suburban': False,\n",
       "   'subway': False,\n",
       "   'tram': False,\n",
       "   'bus': True,\n",
       "   'ferry': False,\n",
       "   'express': False,\n",
       "   'regional': False}},\n",
       " {'type': 'stop',\n",
       "  'id': '900000215724',\n",
       "  'name': 'Pritzwalk, Bürgerplatz',\n",
       "  'location': {'type': 'location',\n",
       "   'id': '900215724',\n",
       "   'latitude': 53.153171,\n",
       "   'longitude': 12.172922},\n",
       "  'products': {'suburban': False,\n",
       "   'subway': False,\n",
       "   'tram': False,\n",
       "   'bus': True,\n",
       "   'ferry': False,\n",
       "   'express': False,\n",
       "   'regional': False}}]"
      ]
     },
     "execution_count": 27,
     "metadata": {},
     "output_type": "execute_result"
    }
   ],
   "source": [
    "response.json()"
   ]
  },
  {
   "cell_type": "code",
   "execution_count": 28,
   "metadata": {},
   "outputs": [],
   "source": [
    "response = requests.get(url_home)"
   ]
  },
  {
   "cell_type": "code",
   "execution_count": 29,
   "metadata": {},
   "outputs": [
    {
     "data": {
      "text/plain": [
       "[{'type': 'stop',\n",
       "  'id': '900000190506',\n",
       "  'name': 'Bouchéstr.',\n",
       "  'location': {'type': 'location',\n",
       "   'id': '900190506',\n",
       "   'latitude': 52.490486,\n",
       "   'longitude': 13.448492},\n",
       "  'products': {'suburban': False,\n",
       "   'subway': False,\n",
       "   'tram': False,\n",
       "   'bus': True,\n",
       "   'ferry': False,\n",
       "   'express': False,\n",
       "   'regional': False}},\n",
       " {'type': 'stop',\n",
       "  'id': '8071227',\n",
       "  'name': 'Klieken Hauptstr. Waldschlößchen',\n",
       "  'location': {'type': 'location',\n",
       "   'id': '8071227',\n",
       "   'latitude': 51.889198,\n",
       "   'longitude': 12.374128},\n",
       "  'products': {'suburban': False,\n",
       "   'subway': False,\n",
       "   'tram': False,\n",
       "   'bus': True,\n",
       "   'ferry': False,\n",
       "   'express': False,\n",
       "   'regional': False}},\n",
       " {'type': 'stop',\n",
       "  'id': '900000140021',\n",
       "  'name': 'Rennbahnstr./Roelckestr.',\n",
       "  'location': {'type': 'location',\n",
       "   'id': '900140021',\n",
       "   'latitude': 52.561097,\n",
       "   'longitude': 13.456888},\n",
       "  'products': {'suburban': False,\n",
       "   'subway': False,\n",
       "   'tram': True,\n",
       "   'bus': True,\n",
       "   'ferry': False,\n",
       "   'express': False,\n",
       "   'regional': False}},\n",
       " {'type': 'location',\n",
       "  'id': None,\n",
       "  'latitude': 52.488221,\n",
       "  'longitude': 13.445453,\n",
       "  'address': '12059 Berlin-Neukölln, Bouchéstr.'},\n",
       " {'type': 'location',\n",
       "  'id': None,\n",
       "  'latitude': 52.489956,\n",
       "  'longitude': 13.44815,\n",
       "  'address': '12435 Berlin-Alt-Treptow, Bouchéstr.'}]"
      ]
     },
     "execution_count": 29,
     "metadata": {},
     "output_type": "execute_result"
    }
   ],
   "source": [
    "response.json()"
   ]
  },
  {
   "cell_type": "markdown",
   "metadata": {},
   "source": [
    "Work ID: 900000013101 \\\n",
    "Home ID: 900000190506"
   ]
  },
  {
   "cell_type": "code",
   "execution_count": 30,
   "metadata": {},
   "outputs": [],
   "source": [
    "journey_url = 'https://v5.vbb.transport.rest/journeys?from=900000190506&to=900000013101'"
   ]
  },
  {
   "cell_type": "code",
   "execution_count": 31,
   "metadata": {},
   "outputs": [],
   "source": [
    "response = requests.get(journey_url)"
   ]
  },
  {
   "cell_type": "code",
   "execution_count": 34,
   "metadata": {},
   "outputs": [],
   "source": [
    "journey = response.json()"
   ]
  },
  {
   "cell_type": "code",
   "execution_count": 43,
   "metadata": {
    "collapsed": true,
    "jupyter": {
     "outputs_hidden": true
    }
   },
   "outputs": [
    {
     "name": "stdout",
     "output_type": "stream",
     "text": [
      "[{'origin': {'type': 'stop', 'id': '900000190506', 'name': 'Bouchéstr.', 'location': {'type': 'location', 'id': '900190506', 'latitude': 52.490486, 'longitude': 13.448492}, 'products': {'suburban': False, 'subway': False, 'tram': False, 'bus': True, 'ferry': False, 'express': False, 'regional': False}}, 'destination': {'type': 'stop', 'id': '900000190004', 'name': 'Eichenstr./Puschkinallee', 'location': {'type': 'location', 'id': '900190004', 'latitude': 52.494505, 'longitude': 13.453472}, 'products': {'suburban': False, 'subway': False, 'tram': False, 'bus': True, 'ferry': False, 'express': False, 'regional': False}}, 'departure': '2022-02-14T16:14:00+01:00', 'plannedDeparture': '2022-02-14T16:14:00+01:00', 'departureDelay': None, 'arrival': '2022-02-14T16:24:00+01:00', 'plannedArrival': '2022-02-14T16:24:00+01:00', 'arrivalDelay': None, 'public': True, 'walking': True, 'distance': 712}, {'origin': {'type': 'stop', 'id': '900000190004', 'name': 'Eichenstr./Puschkinallee', 'location': {'type': 'location', 'id': '900190004', 'latitude': 52.494505, 'longitude': 13.453472}, 'products': {'suburban': False, 'subway': False, 'tram': False, 'bus': True, 'ferry': False, 'express': False, 'regional': False}}, 'destination': {'type': 'stop', 'id': '900000100008', 'name': 'U Heinrich-Heine-Str.', 'location': {'type': 'location', 'id': '900100008', 'latitude': 52.510559, 'longitude': 13.416122}, 'products': {'suburban': False, 'subway': True, 'tram': False, 'bus': True, 'ferry': False, 'express': False, 'regional': False}}, 'departure': '2022-02-14T16:25:00+01:00', 'plannedDeparture': '2022-02-14T16:24:00+01:00', 'departureDelay': 60, 'arrival': '2022-02-14T16:37:00+01:00', 'plannedArrival': '2022-02-14T16:36:00+01:00', 'arrivalDelay': 60, 'reachable': True, 'tripId': '1|11353|2|86|14022022', 'line': {'type': 'line', 'id': '165', 'fahrtNr': '25708', 'name': '165', 'public': True, 'adminCode': 'BVB', 'productName': 'Bus', 'mode': 'bus', 'product': 'bus', 'operator': {'type': 'operator', 'id': 'berliner-verkehrsbetriebe', 'name': 'Berliner Verkehrsbetriebe'}, 'symbol': None, 'nr': 165, 'metro': False, 'express': False, 'night': False}, 'direction': 'U Märkisches Museum', 'currentLocation': {'type': 'location', 'latitude': 52.474611, 'longitude': 13.483352}, 'arrivalPlatform': None, 'plannedArrivalPlatform': None, 'departurePlatform': None, 'plannedDeparturePlatform': None, 'cycle': {'min': 600, 'max': 600, 'nr': 13}}, {'origin': {'type': 'stop', 'id': '900000100008', 'name': 'U Heinrich-Heine-Str.', 'location': {'type': 'location', 'id': '900100008', 'latitude': 52.510559, 'longitude': 13.416122}, 'products': {'suburban': False, 'subway': True, 'tram': False, 'bus': True, 'ferry': False, 'express': False, 'regional': False}}, 'destination': {'type': 'stop', 'id': '900000100008', 'name': 'U Heinrich-Heine-Str.', 'location': {'type': 'location', 'id': '900100008', 'latitude': 52.510559, 'longitude': 13.416122}, 'products': {'suburban': False, 'subway': True, 'tram': False, 'bus': True, 'ferry': False, 'express': False, 'regional': False}}, 'departure': '2022-02-14T16:37:00+01:00', 'plannedDeparture': '2022-02-14T16:37:00+01:00', 'departureDelay': None, 'arrival': '2022-02-14T16:37:00+01:00', 'plannedArrival': '2022-02-14T16:37:00+01:00', 'arrivalDelay': None, 'public': True, 'walking': True, 'distance': None}, {'origin': {'type': 'stop', 'id': '900000100008', 'name': 'U Heinrich-Heine-Str.', 'location': {'type': 'location', 'id': '900100008', 'latitude': 52.510559, 'longitude': 13.416122}, 'products': {'suburban': False, 'subway': True, 'tram': False, 'bus': True, 'ferry': False, 'express': False, 'regional': False}}, 'destination': {'type': 'stop', 'id': '900000013101', 'name': 'U Moritzplatz', 'location': {'type': 'location', 'id': '900013101', 'latitude': 52.503737, 'longitude': 13.410944}, 'products': {'suburban': False, 'subway': True, 'tram': False, 'bus': True, 'ferry': False, 'express': False, 'regional': False}}, 'departure': '2022-02-14T16:41:00+01:00', 'plannedDeparture': '2022-02-14T16:41:00+01:00', 'departureDelay': 0, 'arrival': '2022-02-14T16:43:00+01:00', 'plannedArrival': '2022-02-14T16:43:00+01:00', 'arrivalDelay': 0, 'reachable': True, 'tripId': '1|33145|27|86|14022022', 'line': {'type': 'line', 'id': 'u8', 'fahrtNr': '18749', 'name': 'U8', 'public': True, 'adminCode': 'BVU', 'productName': 'U', 'mode': 'train', 'product': 'subway', 'operator': {'type': 'operator', 'id': 'berliner-verkehrsbetriebe', 'name': 'Berliner Verkehrsbetriebe'}, 'symbol': 'U', 'nr': 8, 'metro': False, 'express': False, 'night': False, 'color': {'fg': '#fff', 'bg': '#005b98'}}, 'direction': 'S+U Hermannstr.', 'arrivalPlatform': '1', 'plannedArrivalPlatform': '1', 'departurePlatform': '1', 'plannedDeparturePlatform': '1', 'cycle': {'min': 300, 'max': 300, 'nr': 25}}]\n",
      "[{'origin': {'type': 'stop', 'id': '900000190506', 'name': 'Bouchéstr.', 'location': {'type': 'location', 'id': '900190506', 'latitude': 52.490486, 'longitude': 13.448492}, 'products': {'suburban': False, 'subway': False, 'tram': False, 'bus': True, 'ferry': False, 'express': False, 'regional': False}}, 'destination': {'type': 'stop', 'id': '900000075153', 'name': 'Pflügerstr.', 'location': {'type': 'location', 'id': '900075153', 'latitude': 52.489857, 'longitude': 13.433929}, 'products': {'suburban': False, 'subway': False, 'tram': False, 'bus': True, 'ferry': False, 'express': False, 'regional': False}}, 'departure': '2022-02-14T16:15:00+01:00', 'plannedDeparture': '2022-02-14T16:15:00+01:00', 'departureDelay': None, 'arrival': '2022-02-14T16:21:00+01:00', 'plannedArrival': '2022-02-14T16:21:00+01:00', 'arrivalDelay': None, 'reachable': True, 'tripId': '1|14147|2|86|14022022', 'line': {'type': 'line', 'id': '194', 'fahrtNr': '29153', 'name': '194', 'public': True, 'adminCode': 'BVB', 'productName': 'Bus', 'mode': 'bus', 'product': 'bus', 'operator': {'type': 'operator', 'id': 'berliner-verkehrsbetriebe', 'name': 'Berliner Verkehrsbetriebe'}, 'symbol': None, 'nr': 194, 'metro': False, 'express': False, 'night': False}, 'direction': 'U Hermannplatz', 'currentLocation': {'type': 'location', 'latitude': 52.488554, 'longitude': 13.453418}, 'arrivalPlatform': None, 'plannedArrivalPlatform': None, 'departurePlatform': None, 'plannedDeparturePlatform': None, 'cycle': {'min': 600, 'max': 600, 'nr': 13}}, {'origin': {'type': 'stop', 'id': '900000075153', 'name': 'Pflügerstr.', 'location': {'type': 'location', 'id': '900075153', 'latitude': 52.489857, 'longitude': 13.433929}, 'products': {'suburban': False, 'subway': False, 'tram': False, 'bus': True, 'ferry': False, 'express': False, 'regional': False}}, 'destination': {'type': 'stop', 'id': '900000075153', 'name': 'Pflügerstr.', 'location': {'type': 'location', 'id': '900075153', 'latitude': 52.489857, 'longitude': 13.433929}, 'products': {'suburban': False, 'subway': False, 'tram': False, 'bus': True, 'ferry': False, 'express': False, 'regional': False}}, 'departure': '2022-02-14T16:21:00+01:00', 'plannedDeparture': '2022-02-14T16:21:00+01:00', 'departureDelay': None, 'arrival': '2022-02-14T16:21:00+01:00', 'plannedArrival': '2022-02-14T16:21:00+01:00', 'arrivalDelay': None, 'public': True, 'walking': True, 'distance': None}, {'origin': {'type': 'stop', 'id': '900000075153', 'name': 'Pflügerstr.', 'location': {'type': 'location', 'id': '900075153', 'latitude': 52.489857, 'longitude': 13.433929}, 'products': {'suburban': False, 'subway': False, 'tram': False, 'bus': True, 'ferry': False, 'express': False, 'regional': False}}, 'destination': {'type': 'stop', 'id': '900000013101', 'name': 'U Moritzplatz', 'location': {'type': 'location', 'id': '900013101', 'latitude': 52.503737, 'longitude': 13.410944}, 'products': {'suburban': False, 'subway': True, 'tram': False, 'bus': True, 'ferry': False, 'express': False, 'regional': False}}, 'departure': '2022-02-14T16:24:00+01:00', 'plannedDeparture': '2022-02-14T16:24:00+01:00', 'departureDelay': 0, 'arrival': '2022-02-14T16:37:00+01:00', 'plannedArrival': '2022-02-14T16:37:00+01:00', 'arrivalDelay': 0, 'reachable': True, 'tripId': '1|20745|14|86|14022022', 'line': {'type': 'line', 'id': 'm29', 'fahrtNr': '38141', 'name': 'M29', 'public': True, 'adminCode': 'BVB', 'productName': 'Bus', 'mode': 'bus', 'product': 'bus', 'operator': {'type': 'operator', 'id': 'berliner-verkehrsbetriebe', 'name': 'Berliner Verkehrsbetriebe'}, 'symbol': 'M', 'nr': 29, 'metro': True, 'express': False, 'night': False}, 'direction': 'Grunewald, Roseneck', 'arrivalPlatform': None, 'plannedArrivalPlatform': None, 'departurePlatform': None, 'plannedDeparturePlatform': None, 'cycle': {'min': 600, 'max': 660, 'nr': 12}}]\n",
      "[{'origin': {'type': 'stop', 'id': '900000190506', 'name': 'Bouchéstr.', 'location': {'type': 'location', 'id': '900190506', 'latitude': 52.490486, 'longitude': 13.448492}, 'products': {'suburban': False, 'subway': False, 'tram': False, 'bus': True, 'ferry': False, 'express': False, 'regional': False}}, 'destination': {'type': 'stop', 'id': '900000075152', 'name': 'Mengerzeile', 'location': {'type': 'location', 'id': '900075152', 'latitude': 52.487907, 'longitude': 13.443341}, 'products': {'suburban': False, 'subway': False, 'tram': False, 'bus': True, 'ferry': False, 'express': False, 'regional': False}}, 'departure': '2022-02-14T16:16:00+01:00', 'plannedDeparture': '2022-02-14T16:16:00+01:00', 'departureDelay': None, 'arrival': '2022-02-14T16:24:00+01:00', 'plannedArrival': '2022-02-14T16:24:00+01:00', 'arrivalDelay': None, 'public': True, 'walking': True, 'distance': 546}, {'origin': {'type': 'stop', 'id': '900000075152', 'name': 'Mengerzeile', 'location': {'type': 'location', 'id': '900075152', 'latitude': 52.487907, 'longitude': 13.443341}, 'products': {'suburban': False, 'subway': False, 'tram': False, 'bus': True, 'ferry': False, 'express': False, 'regional': False}}, 'destination': {'type': 'stop', 'id': '900000078170', 'name': 'U Hermannplatz [Bus Ostseite]', 'location': {'type': 'location', 'id': '900078170', 'latitude': 52.487106, 'longitude': 13.42512}, 'products': {'suburban': False, 'subway': True, 'tram': False, 'bus': True, 'ferry': False, 'express': False, 'regional': False}}, 'departure': '2022-02-14T16:27:00+01:00', 'plannedDeparture': '2022-02-14T16:24:00+01:00', 'departureDelay': 180, 'arrival': '2022-02-14T16:35:00+01:00', 'plannedArrival': '2022-02-14T16:32:00+01:00', 'arrivalDelay': 180, 'reachable': True, 'tripId': '1|12092|29|86|14022022', 'line': {'type': 'line', 'id': '171', 'fahrtNr': '26414', 'name': '171', 'public': True, 'adminCode': 'BVB', 'productName': 'Bus', 'mode': 'bus', 'product': 'bus', 'operator': {'type': 'operator', 'id': 'berliner-verkehrsbetriebe', 'name': 'Berliner Verkehrsbetriebe'}, 'symbol': None, 'nr': 171, 'metro': False, 'express': False, 'night': False}, 'direction': 'U Hermannplatz', 'currentLocation': {'type': 'location', 'latitude': 52.469326, 'longitude': 13.44184}, 'arrivalPlatform': None, 'plannedArrivalPlatform': None, 'departurePlatform': None, 'plannedDeparturePlatform': None, 'cycle': {'min': 600, 'max': 1200, 'nr': 11}, 'alternatives': [{'tripId': '1|12139|5|86|14022022', 'line': {'type': 'line', 'id': '171', 'fahrtNr': '26462', 'name': '171', 'public': True, 'adminCode': 'BVB', 'productName': 'Bus', 'mode': 'bus', 'product': 'bus', 'operator': {'type': 'operator', 'id': 'berliner-verkehrsbetriebe', 'name': 'Berliner Verkehrsbetriebe'}, 'symbol': None, 'nr': 171, 'metro': False, 'express': False, 'night': False}, 'direction': 'U Hermannplatz', 'when': '2022-02-14T16:34:00+01:00', 'plannedWhen': '2022-02-14T16:34:00+01:00', 'delay': None}, {'tripId': '1|12092|30|86|14022022', 'line': {'type': 'line', 'id': '171', 'fahrtNr': '26414', 'name': '171', 'public': True, 'adminCode': 'BVB', 'productName': 'Bus', 'mode': 'bus', 'product': 'bus', 'operator': {'type': 'operator', 'id': 'berliner-verkehrsbetriebe', 'name': 'Berliner Verkehrsbetriebe'}, 'symbol': None, 'nr': 171, 'metro': False, 'express': False, 'night': False}, 'direction': 'U Hermannplatz', 'when': '2022-02-14T16:44:00+01:00', 'plannedWhen': '2022-02-14T16:44:00+01:00', 'delay': None}, {'tripId': '1|12139|6|86|14022022', 'line': {'type': 'line', 'id': '171', 'fahrtNr': '26462', 'name': '171', 'public': True, 'adminCode': 'BVB', 'productName': 'Bus', 'mode': 'bus', 'product': 'bus', 'operator': {'type': 'operator', 'id': 'berliner-verkehrsbetriebe', 'name': 'Berliner Verkehrsbetriebe'}, 'symbol': None, 'nr': 171, 'metro': False, 'express': False, 'night': False}, 'direction': 'U Hermannplatz', 'when': '2022-02-14T16:54:00+01:00', 'plannedWhen': '2022-02-14T16:54:00+01:00', 'delay': None}, {'tripId': '1|12092|31|86|14022022', 'line': {'type': 'line', 'id': '171', 'fahrtNr': '26414', 'name': '171', 'public': True, 'adminCode': 'BVB', 'productName': 'Bus', 'mode': 'bus', 'product': 'bus', 'operator': {'type': 'operator', 'id': 'berliner-verkehrsbetriebe', 'name': 'Berliner Verkehrsbetriebe'}, 'symbol': None, 'nr': 171, 'metro': False, 'express': False, 'night': False}, 'direction': 'U Hermannplatz', 'when': '2022-02-14T17:04:00+01:00', 'plannedWhen': '2022-02-14T17:04:00+01:00', 'delay': None}, {'tripId': '1|12139|7|86|14022022', 'line': {'type': 'line', 'id': '171', 'fahrtNr': '26462', 'name': '171', 'public': True, 'adminCode': 'BVB', 'productName': 'Bus', 'mode': 'bus', 'product': 'bus', 'operator': {'type': 'operator', 'id': 'berliner-verkehrsbetriebe', 'name': 'Berliner Verkehrsbetriebe'}, 'symbol': None, 'nr': 171, 'metro': False, 'express': False, 'night': False}, 'direction': 'U Hermannplatz', 'when': '2022-02-14T17:14:00+01:00', 'plannedWhen': '2022-02-14T17:14:00+01:00', 'delay': None}]}, {'origin': {'type': 'stop', 'id': '900000078170', 'name': 'U Hermannplatz [Bus Ostseite]', 'location': {'type': 'location', 'id': '900078170', 'latitude': 52.487106, 'longitude': 13.42512}, 'products': {'suburban': False, 'subway': True, 'tram': False, 'bus': True, 'ferry': False, 'express': False, 'regional': False}}, 'destination': {'type': 'stop', 'id': '900000078101', 'name': 'U Hermannplatz', 'location': {'type': 'location', 'id': '900078101', 'latitude': 52.486954, 'longitude': 13.424724}, 'products': {'suburban': False, 'subway': True, 'tram': False, 'bus': True, 'ferry': False, 'express': False, 'regional': False}}, 'departure': '2022-02-14T16:32:00+01:00', 'plannedDeparture': '2022-02-14T16:32:00+01:00', 'departureDelay': None, 'arrival': '2022-02-14T16:36:00+01:00', 'plannedArrival': '2022-02-14T16:36:00+01:00', 'arrivalDelay': None, 'public': True, 'walking': True, 'distance': 32}, {'origin': {'type': 'stop', 'id': '900000078101', 'name': 'U Hermannplatz', 'location': {'type': 'location', 'id': '900078101', 'latitude': 52.486954, 'longitude': 13.424724}, 'products': {'suburban': False, 'subway': True, 'tram': False, 'bus': True, 'ferry': False, 'express': False, 'regional': False}}, 'destination': {'type': 'stop', 'id': '900000013101', 'name': 'U Moritzplatz', 'location': {'type': 'location', 'id': '900013101', 'latitude': 52.503737, 'longitude': 13.410944}, 'products': {'suburban': False, 'subway': True, 'tram': False, 'bus': True, 'ferry': False, 'express': False, 'regional': False}}, 'departure': '2022-02-14T16:37:00+01:00', 'plannedDeparture': '2022-02-14T16:37:00+01:00', 'departureDelay': 0, 'arrival': '2022-02-14T16:43:00+01:00', 'plannedArrival': '2022-02-14T16:43:00+01:00', 'arrivalDelay': 0, 'reachable': False, 'tripId': '1|33276|60|86|14022022', 'line': {'type': 'line', 'id': 'u8', 'fahrtNr': '17794', 'name': 'U8', 'public': True, 'adminCode': 'BVU', 'productName': 'U', 'mode': 'train', 'product': 'subway', 'operator': {'type': 'operator', 'id': 'berliner-verkehrsbetriebe', 'name': 'Berliner Verkehrsbetriebe'}, 'symbol': 'U', 'nr': 8, 'metro': False, 'express': False, 'night': False, 'color': {'fg': '#fff', 'bg': '#005b98'}}, 'direction': 'S+U Wittenau', 'arrivalPlatform': '2', 'plannedArrivalPlatform': '2', 'departurePlatform': '2', 'plannedDeparturePlatform': '2', 'cycle': {'min': 300, 'max': 300, 'nr': 25}}]\n",
      "[{'origin': {'type': 'stop', 'id': '900000190506', 'name': 'Bouchéstr.', 'location': {'type': 'location', 'id': '900190506', 'latitude': 52.490486, 'longitude': 13.448492}, 'products': {'suburban': False, 'subway': False, 'tram': False, 'bus': True, 'ferry': False, 'express': False, 'regional': False}}, 'destination': {'type': 'stop', 'id': '900000015103', 'name': 'Glogauer Str.', 'location': {'type': 'location', 'id': '900015103', 'latitude': 52.493534, 'longitude': 13.437273}, 'products': {'suburban': False, 'subway': False, 'tram': False, 'bus': True, 'ferry': False, 'express': False, 'regional': False}}, 'departure': '2022-02-14T16:16:00+01:00', 'plannedDeparture': '2022-02-14T16:16:00+01:00', 'departureDelay': None, 'arrival': '2022-02-14T16:36:00+01:00', 'plannedArrival': '2022-02-14T16:36:00+01:00', 'arrivalDelay': None, 'public': True, 'walking': True, 'distance': 1391}, {'origin': {'type': 'stop', 'id': '900000015103', 'name': 'Glogauer Str.', 'location': {'type': 'location', 'id': '900015103', 'latitude': 52.493534, 'longitude': 13.437273}, 'products': {'suburban': False, 'subway': False, 'tram': False, 'bus': True, 'ferry': False, 'express': False, 'regional': False}}, 'destination': {'type': 'stop', 'id': '900000013101', 'name': 'U Moritzplatz', 'location': {'type': 'location', 'id': '900013101', 'latitude': 52.503737, 'longitude': 13.410944}, 'products': {'suburban': False, 'subway': True, 'tram': False, 'bus': True, 'ferry': False, 'express': False, 'regional': False}}, 'departure': '2022-02-14T16:36:00+01:00', 'plannedDeparture': '2022-02-14T16:36:00+01:00', 'departureDelay': 0, 'arrival': '2022-02-14T16:47:00+01:00', 'plannedArrival': '2022-02-14T16:47:00+01:00', 'arrivalDelay': 0, 'reachable': True, 'tripId': '1|20745|15|86|14022022', 'line': {'type': 'line', 'id': 'm29', 'fahrtNr': '38141', 'name': 'M29', 'public': True, 'adminCode': 'BVB', 'productName': 'Bus', 'mode': 'bus', 'product': 'bus', 'operator': {'type': 'operator', 'id': 'berliner-verkehrsbetriebe', 'name': 'Berliner Verkehrsbetriebe'}, 'symbol': 'M', 'nr': 29, 'metro': True, 'express': False, 'night': False}, 'direction': 'Grunewald, Roseneck', 'arrivalPlatform': None, 'plannedArrivalPlatform': None, 'departurePlatform': None, 'plannedDeparturePlatform': None, 'cycle': {'min': 600, 'max': 660, 'nr': 12}}]\n"
     ]
    }
   ],
   "source": [
    "for j in journey['journeys']:\n",
    "    print(j['legs'])"
   ]
  },
  {
   "cell_type": "code",
   "execution_count": 51,
   "metadata": {},
   "outputs": [
    {
     "name": "stdout",
     "output_type": "stream",
     "text": [
      "Eichenstr./Puschkinallee U Heinrich-Heine-Str. 165\n",
      "U Heinrich-Heine-Str. U Moritzplatz U8\n"
     ]
    }
   ],
   "source": [
    "for leg in journey['journeys'][0]['legs']:\n",
    "    if 'line' in leg:\n",
    "        print(leg['origin']['name'], leg['destination']['name'], leg['line']['name'])"
   ]
  },
  {
   "cell_type": "markdown",
   "metadata": {},
   "source": [
    "### Twitter API example"
   ]
  },
  {
   "cell_type": "code",
   "execution_count": null,
   "metadata": {},
   "outputs": [],
   "source": [
    "!pip install tweepy"
   ]
  },
  {
   "cell_type": "code",
   "execution_count": 53,
   "metadata": {},
   "outputs": [],
   "source": [
    "import tweepy\n",
    "import credentials"
   ]
  },
  {
   "cell_type": "code",
   "execution_count": 54,
   "metadata": {},
   "outputs": [],
   "source": [
    "AUTH = tweepy.OAuthHandler(credentials.CONSUMER_API_KEY, credentials.CONSUMER_API_SECRET)\n",
    "AUTH.set_access_token(credentials.ACCESS_TOKEN, credentials.ACCESS_TOKEN_SECRET)"
   ]
  },
  {
   "cell_type": "code",
   "execution_count": 55,
   "metadata": {},
   "outputs": [],
   "source": [
    "api = tweepy.API(AUTH)"
   ]
  },
  {
   "cell_type": "code",
   "execution_count": 58,
   "metadata": {
    "collapsed": true,
    "jupyter": {
     "outputs_hidden": true
    }
   },
   "outputs": [
    {
     "name": "stdout",
     "output_type": "stream",
     "text": [
      "Audio player: https://t.co/0JUnj2KYdU\n",
      "This is fun &amp; good 🥰🥰🥰 https://t.co/ogCBKMUHTn\n",
      "Mindscape 184 | Gary Marcus @GaryMarcus on Artificial Intelligence and Common Sense. (How to give AI common sense,… https://t.co/xrkotOWYzE\n",
      "RT @jessehawken: New @JunkFilterPod! Jacob Bacharach (@jakebackpack) joins me for a second episode on the films of Costa-Gavras, his powerf…\n",
      "RT @polinaivanovva: For me, it's this one line that seems crucial, where Lavrov says that Russia has succeeded in getting results\n",
      "\n",
      "He says:…\n",
      "5 year median earnings for an NFL player, are lower than the 5 year median earnings for a major tech company softwa… https://t.co/jznJEXkRAD\n",
      "Waiting for a mate @WindmillClapham https://t.co/OwQXv4ltKN\n",
      "Who wants to be my Valentine??? https://t.co/xfgUA1v4OL\n",
      "RT @slasherbaddies: this might be the most memorable death scene in horror movies https://t.co/0Yw7h2nUHH\n",
      "Aaron Donald, one of the strongest NFL players, trained for max performance at EXOS.\n",
      "\n",
      "https://t.co/AH4CQ8SBGo\n",
      "\n",
      "If y… https://t.co/wEBrrprcwa\n",
      "Congrats @benjamin_victor, @sammville, and the team @remedial_health on the round!\n",
      "\n",
      "Remedial Health (W22) is on a m… https://t.co/Sc1naENf0T\n",
      "Good morning, Texas. It's time to VOTE!\n",
      "https://t.co/14LODUpvAo\n",
      "“[7] years ago, Arlan Hamilton didn’t have a bank account. Today she has funded nearly 200 companies. A lot can hap… https://t.co/fQxZw54JbK\n",
      "@stepville One hopes!\n",
      "The conglomerate helmed by Mukesh Ambani, Asia's richest man, is moving to provide to provide satellite broadband c… https://t.co/szceoZ2s8l\n",
      "RT @ChuckWendig: You don’t control ME, you BIG GOVERNMENT BASTARDS\n",
      "Your periodic reminder that NFL football players are not the strongest, or the fastest. They're just the best at fo… https://t.co/xVstaMByDZ\n",
      "Not Past It is going to @onairfest!\n",
      "\n",
      "Join us on Friday, Feb 25th @WytheHotel for a live history domino episode. We'… https://t.co/2uSzJWRSZ9\n",
      "RT @CyePie: Prince once told Kim Kardashian “Get off the stage.” \n",
      "\n",
      "An undeniable moment in black history. Salute to an Icon. https://t.co/S…\n",
      "@MoiraDonegan Is this the sexual anarchy?\n"
     ]
    }
   ],
   "source": [
    "public_tweets = api.home_timeline()\n",
    "for tweet in public_tweets:\n",
    "    print(tweet.text)"
   ]
  },
  {
   "cell_type": "code",
   "execution_count": 59,
   "metadata": {},
   "outputs": [],
   "source": [
    "user = api.me()"
   ]
  },
  {
   "cell_type": "code",
   "execution_count": 61,
   "metadata": {},
   "outputs": [
    {
     "data": {
      "text/plain": [
       "'Marija Vlajic'"
      ]
     },
     "execution_count": 61,
     "metadata": {},
     "output_type": "execute_result"
    }
   ],
   "source": [
    "user.name"
   ]
  },
  {
   "cell_type": "code",
   "execution_count": 62,
   "metadata": {},
   "outputs": [
    {
     "data": {
      "text/plain": [
       "''"
      ]
     },
     "execution_count": 62,
     "metadata": {},
     "output_type": "execute_result"
    }
   ],
   "source": [
    "user.location"
   ]
  },
  {
   "cell_type": "code",
   "execution_count": 63,
   "metadata": {},
   "outputs": [
    {
     "data": {
      "text/plain": [
       "User(_api=<tweepy.api.API object at 0x7fbb0023c340>, _json={'id': 287830009, 'id_str': '287830009', 'name': 'Marija Vlajic', 'screen_name': 'marijavlajic', 'location': 'SPICED', 'profile_location': None, 'description': '', 'url': None, 'entities': {'description': {'urls': []}}, 'protected': False, 'followers_count': 152, 'friends_count': 553, 'listed_count': 4, 'created_at': 'Mon Apr 25 19:17:39 +0000 2011', 'favourites_count': 1558, 'utc_offset': None, 'time_zone': None, 'geo_enabled': False, 'verified': False, 'statuses_count': 248, 'lang': None, 'status': {'created_at': 'Sun Jan 02 22:30:33 +0000 2022', 'id': 1477769307912380425, 'id_str': '1477769307912380425', 'text': 'RT @maureenjohnson: Finally, a measure of time I can understand.\\n\\nhttps://t.co/lLsX7aPdes', 'truncated': False, 'entities': {'hashtags': [], 'symbols': [], 'user_mentions': [{'screen_name': 'maureenjohnson', 'name': 'Maureen Johnson', 'id': 15119140, 'id_str': '15119140', 'indices': [3, 18]}], 'urls': [{'url': 'https://t.co/lLsX7aPdes', 'expanded_url': 'https://covidstandardtime.com', 'display_url': 'covidstandardtime.com', 'indices': [66, 89]}]}, 'source': '<a href=\"https://mobile.twitter.com\" rel=\"nofollow\">Twitter Web App</a>', 'in_reply_to_status_id': None, 'in_reply_to_status_id_str': None, 'in_reply_to_user_id': None, 'in_reply_to_user_id_str': None, 'in_reply_to_screen_name': None, 'geo': None, 'coordinates': None, 'place': None, 'contributors': None, 'retweeted_status': {'created_at': 'Sat Jan 01 16:51:40 +0000 2022', 'id': 1477321637376806915, 'id_str': '1477321637376806915', 'text': 'Finally, a measure of time I can understand.\\n\\nhttps://t.co/lLsX7aPdes', 'truncated': False, 'entities': {'hashtags': [], 'symbols': [], 'user_mentions': [], 'urls': [{'url': 'https://t.co/lLsX7aPdes', 'expanded_url': 'https://covidstandardtime.com', 'display_url': 'covidstandardtime.com', 'indices': [46, 69]}]}, 'source': '<a href=\"https://mobile.twitter.com\" rel=\"nofollow\">Twitter Web App</a>', 'in_reply_to_status_id': None, 'in_reply_to_status_id_str': None, 'in_reply_to_user_id': None, 'in_reply_to_user_id_str': None, 'in_reply_to_screen_name': None, 'geo': None, 'coordinates': None, 'place': None, 'contributors': None, 'is_quote_status': False, 'retweet_count': 914, 'favorite_count': 3078, 'favorited': False, 'retweeted': True, 'possibly_sensitive': False, 'lang': 'en'}, 'is_quote_status': False, 'retweet_count': 914, 'favorite_count': 0, 'favorited': False, 'retweeted': True, 'possibly_sensitive': False, 'lang': 'en'}, 'contributors_enabled': False, 'is_translator': False, 'is_translation_enabled': False, 'profile_background_color': '1A1B1F', 'profile_background_image_url': 'http://abs.twimg.com/images/themes/theme9/bg.gif', 'profile_background_image_url_https': 'https://abs.twimg.com/images/themes/theme9/bg.gif', 'profile_background_tile': False, 'profile_image_url': 'http://pbs.twimg.com/profile_images/1325308181/15731_247034228344_644243344_4395274_1864776_n_normal.jpg', 'profile_image_url_https': 'https://pbs.twimg.com/profile_images/1325308181/15731_247034228344_644243344_4395274_1864776_n_normal.jpg', 'profile_banner_url': 'https://pbs.twimg.com/profile_banners/287830009/1354201979', 'profile_link_color': '2FC2EF', 'profile_sidebar_border_color': '181A1E', 'profile_sidebar_fill_color': '252429', 'profile_text_color': '666666', 'profile_use_background_image': True, 'has_extended_profile': False, 'default_profile': False, 'default_profile_image': False, 'following': False, 'follow_request_sent': False, 'notifications': False, 'translator_type': 'none', 'withheld_in_countries': []}, id=287830009, id_str='287830009', name='Marija Vlajic', screen_name='marijavlajic', location='SPICED', profile_location=None, description='', url=None, entities={'description': {'urls': []}}, protected=False, followers_count=152, friends_count=553, listed_count=4, created_at=datetime.datetime(2011, 4, 25, 19, 17, 39), favourites_count=1558, utc_offset=None, time_zone=None, geo_enabled=False, verified=False, statuses_count=248, lang=None, status=Status(_api=<tweepy.api.API object at 0x7fbb0023c340>, _json={'created_at': 'Sun Jan 02 22:30:33 +0000 2022', 'id': 1477769307912380425, 'id_str': '1477769307912380425', 'text': 'RT @maureenjohnson: Finally, a measure of time I can understand.\\n\\nhttps://t.co/lLsX7aPdes', 'truncated': False, 'entities': {'hashtags': [], 'symbols': [], 'user_mentions': [{'screen_name': 'maureenjohnson', 'name': 'Maureen Johnson', 'id': 15119140, 'id_str': '15119140', 'indices': [3, 18]}], 'urls': [{'url': 'https://t.co/lLsX7aPdes', 'expanded_url': 'https://covidstandardtime.com', 'display_url': 'covidstandardtime.com', 'indices': [66, 89]}]}, 'source': '<a href=\"https://mobile.twitter.com\" rel=\"nofollow\">Twitter Web App</a>', 'in_reply_to_status_id': None, 'in_reply_to_status_id_str': None, 'in_reply_to_user_id': None, 'in_reply_to_user_id_str': None, 'in_reply_to_screen_name': None, 'geo': None, 'coordinates': None, 'place': None, 'contributors': None, 'retweeted_status': {'created_at': 'Sat Jan 01 16:51:40 +0000 2022', 'id': 1477321637376806915, 'id_str': '1477321637376806915', 'text': 'Finally, a measure of time I can understand.\\n\\nhttps://t.co/lLsX7aPdes', 'truncated': False, 'entities': {'hashtags': [], 'symbols': [], 'user_mentions': [], 'urls': [{'url': 'https://t.co/lLsX7aPdes', 'expanded_url': 'https://covidstandardtime.com', 'display_url': 'covidstandardtime.com', 'indices': [46, 69]}]}, 'source': '<a href=\"https://mobile.twitter.com\" rel=\"nofollow\">Twitter Web App</a>', 'in_reply_to_status_id': None, 'in_reply_to_status_id_str': None, 'in_reply_to_user_id': None, 'in_reply_to_user_id_str': None, 'in_reply_to_screen_name': None, 'geo': None, 'coordinates': None, 'place': None, 'contributors': None, 'is_quote_status': False, 'retweet_count': 914, 'favorite_count': 3078, 'favorited': False, 'retweeted': True, 'possibly_sensitive': False, 'lang': 'en'}, 'is_quote_status': False, 'retweet_count': 914, 'favorite_count': 0, 'favorited': False, 'retweeted': True, 'possibly_sensitive': False, 'lang': 'en'}, created_at=datetime.datetime(2022, 1, 2, 22, 30, 33), id=1477769307912380425, id_str='1477769307912380425', text='RT @maureenjohnson: Finally, a measure of time I can understand.\\n\\nhttps://t.co/lLsX7aPdes', truncated=False, entities={'hashtags': [], 'symbols': [], 'user_mentions': [{'screen_name': 'maureenjohnson', 'name': 'Maureen Johnson', 'id': 15119140, 'id_str': '15119140', 'indices': [3, 18]}], 'urls': [{'url': 'https://t.co/lLsX7aPdes', 'expanded_url': 'https://covidstandardtime.com', 'display_url': 'covidstandardtime.com', 'indices': [66, 89]}]}, source='Twitter Web App', source_url='https://mobile.twitter.com', in_reply_to_status_id=None, in_reply_to_status_id_str=None, in_reply_to_user_id=None, in_reply_to_user_id_str=None, in_reply_to_screen_name=None, geo=None, coordinates=None, place=None, contributors=None, retweeted_status=Status(_api=<tweepy.api.API object at 0x7fbb0023c340>, _json={'created_at': 'Sat Jan 01 16:51:40 +0000 2022', 'id': 1477321637376806915, 'id_str': '1477321637376806915', 'text': 'Finally, a measure of time I can understand.\\n\\nhttps://t.co/lLsX7aPdes', 'truncated': False, 'entities': {'hashtags': [], 'symbols': [], 'user_mentions': [], 'urls': [{'url': 'https://t.co/lLsX7aPdes', 'expanded_url': 'https://covidstandardtime.com', 'display_url': 'covidstandardtime.com', 'indices': [46, 69]}]}, 'source': '<a href=\"https://mobile.twitter.com\" rel=\"nofollow\">Twitter Web App</a>', 'in_reply_to_status_id': None, 'in_reply_to_status_id_str': None, 'in_reply_to_user_id': None, 'in_reply_to_user_id_str': None, 'in_reply_to_screen_name': None, 'geo': None, 'coordinates': None, 'place': None, 'contributors': None, 'is_quote_status': False, 'retweet_count': 914, 'favorite_count': 3078, 'favorited': False, 'retweeted': True, 'possibly_sensitive': False, 'lang': 'en'}, created_at=datetime.datetime(2022, 1, 1, 16, 51, 40), id=1477321637376806915, id_str='1477321637376806915', text='Finally, a measure of time I can understand.\\n\\nhttps://t.co/lLsX7aPdes', truncated=False, entities={'hashtags': [], 'symbols': [], 'user_mentions': [], 'urls': [{'url': 'https://t.co/lLsX7aPdes', 'expanded_url': 'https://covidstandardtime.com', 'display_url': 'covidstandardtime.com', 'indices': [46, 69]}]}, source='Twitter Web App', source_url='https://mobile.twitter.com', in_reply_to_status_id=None, in_reply_to_status_id_str=None, in_reply_to_user_id=None, in_reply_to_user_id_str=None, in_reply_to_screen_name=None, geo=None, coordinates=None, place=None, contributors=None, is_quote_status=False, retweet_count=914, favorite_count=3078, favorited=False, retweeted=True, possibly_sensitive=False, lang='en'), is_quote_status=False, retweet_count=914, favorite_count=0, favorited=False, retweeted=True, possibly_sensitive=False, lang='en'), contributors_enabled=False, is_translator=False, is_translation_enabled=False, profile_background_color='1A1B1F', profile_background_image_url='http://abs.twimg.com/images/themes/theme9/bg.gif', profile_background_image_url_https='https://abs.twimg.com/images/themes/theme9/bg.gif', profile_background_tile=False, profile_image_url='http://pbs.twimg.com/profile_images/1325308181/15731_247034228344_644243344_4395274_1864776_n_normal.jpg', profile_image_url_https='https://pbs.twimg.com/profile_images/1325308181/15731_247034228344_644243344_4395274_1864776_n_normal.jpg', profile_banner_url='https://pbs.twimg.com/profile_banners/287830009/1354201979', profile_link_color='2FC2EF', profile_sidebar_border_color='181A1E', profile_sidebar_fill_color='252429', profile_text_color='666666', profile_use_background_image=True, has_extended_profile=False, default_profile=False, default_profile_image=False, following=False, follow_request_sent=False, notifications=False, translator_type='none', withheld_in_countries=[])"
      ]
     },
     "execution_count": 63,
     "metadata": {},
     "output_type": "execute_result"
    }
   ],
   "source": [
    "api.update_profile(location='SPICED')"
   ]
  },
  {
   "cell_type": "code",
   "execution_count": 65,
   "metadata": {},
   "outputs": [],
   "source": [
    "user = api.me()"
   ]
  },
  {
   "cell_type": "code",
   "execution_count": 66,
   "metadata": {},
   "outputs": [
    {
     "data": {
      "text/plain": [
       "'SPICED'"
      ]
     },
     "execution_count": 66,
     "metadata": {},
     "output_type": "execute_result"
    }
   ],
   "source": [
    "user.location"
   ]
  },
  {
   "cell_type": "code",
   "execution_count": null,
   "metadata": {},
   "outputs": [],
   "source": []
  }
 ],
 "metadata": {
  "kernelspec": {
   "display_name": "Python 3.8.5 64-bit ('anaconda3': virtualenv)",
   "language": "python",
   "name": "python385jvsc74a57bd086a6e36cae497197777c70e82ebac18f44667011d85d4dfa35cc8da0e057b101"
  },
  "language_info": {
   "codemirror_mode": {
    "name": "ipython",
    "version": 3
   },
   "file_extension": ".py",
   "mimetype": "text/x-python",
   "name": "python",
   "nbconvert_exporter": "python",
   "pygments_lexer": "ipython3",
   "version": "3.8.5"
  }
 },
 "nbformat": 4,
 "nbformat_minor": 4
}
