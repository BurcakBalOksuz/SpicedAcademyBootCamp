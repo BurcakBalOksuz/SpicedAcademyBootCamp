{
 "cells": [
  {
   "cell_type": "markdown",
   "metadata": {},
   "source": [
    "##RKI API"
   ]
  },
  {
   "cell_type": "code",
   "execution_count": 1,
   "metadata": {},
   "outputs": [],
   "source": [
    "import requests\n",
    "import pandas as pd"
   ]
  },
  {
   "cell_type": "code",
   "execution_count": 2,
   "metadata": {},
   "outputs": [],
   "source": [
    "url=\"https://api.corona-zahlen.org/germany/history/incidence\""
   ]
  },
  {
   "cell_type": "code",
   "execution_count": 3,
   "metadata": {},
   "outputs": [],
   "source": [
    "response=requests.get(url)"
   ]
  },
  {
   "cell_type": "code",
   "execution_count": 4,
   "metadata": {},
   "outputs": [],
   "source": [
    "rki_data=response.json()"
   ]
  },
  {
   "cell_type": "code",
   "execution_count": 5,
   "metadata": {},
   "outputs": [
    {
     "data": {
      "text/html": [
       "<div>\n",
       "<style scoped>\n",
       "    .dataframe tbody tr th:only-of-type {\n",
       "        vertical-align: middle;\n",
       "    }\n",
       "\n",
       "    .dataframe tbody tr th {\n",
       "        vertical-align: top;\n",
       "    }\n",
       "\n",
       "    .dataframe thead th {\n",
       "        text-align: right;\n",
       "    }\n",
       "</style>\n",
       "<table border=\"1\" class=\"dataframe\">\n",
       "  <thead>\n",
       "    <tr style=\"text-align: right;\">\n",
       "      <th></th>\n",
       "      <th>weekIncidence</th>\n",
       "      <th>date</th>\n",
       "    </tr>\n",
       "  </thead>\n",
       "  <tbody>\n",
       "    <tr>\n",
       "      <th>0</th>\n",
       "      <td>0.015633</td>\n",
       "      <td>2020-01-31T00:00:00.000Z</td>\n",
       "    </tr>\n",
       "    <tr>\n",
       "      <th>1</th>\n",
       "      <td>0.015633</td>\n",
       "      <td>2020-02-01T00:00:00.000Z</td>\n",
       "    </tr>\n",
       "    <tr>\n",
       "      <th>2</th>\n",
       "      <td>0.015633</td>\n",
       "      <td>2020-02-03T00:00:00.000Z</td>\n",
       "    </tr>\n",
       "    <tr>\n",
       "      <th>3</th>\n",
       "      <td>0.019241</td>\n",
       "      <td>2020-02-04T00:00:00.000Z</td>\n",
       "    </tr>\n",
       "    <tr>\n",
       "      <th>4</th>\n",
       "      <td>0.020444</td>\n",
       "      <td>2020-02-05T00:00:00.000Z</td>\n",
       "    </tr>\n",
       "    <tr>\n",
       "      <th>...</th>\n",
       "      <td>...</td>\n",
       "      <td>...</td>\n",
       "    </tr>\n",
       "    <tr>\n",
       "      <th>728</th>\n",
       "      <td>1580.433540</td>\n",
       "      <td>2022-02-09T00:00:00.000Z</td>\n",
       "    </tr>\n",
       "    <tr>\n",
       "      <th>729</th>\n",
       "      <td>1565.355679</td>\n",
       "      <td>2022-02-10T00:00:00.000Z</td>\n",
       "    </tr>\n",
       "    <tr>\n",
       "      <th>730</th>\n",
       "      <td>1539.351239</td>\n",
       "      <td>2022-02-11T00:00:00.000Z</td>\n",
       "    </tr>\n",
       "    <tr>\n",
       "      <th>731</th>\n",
       "      <td>1501.639750</td>\n",
       "      <td>2022-02-12T00:00:00.000Z</td>\n",
       "    </tr>\n",
       "    <tr>\n",
       "      <th>732</th>\n",
       "      <td>1459.807044</td>\n",
       "      <td>2022-02-13T00:00:00.000Z</td>\n",
       "    </tr>\n",
       "  </tbody>\n",
       "</table>\n",
       "<p>733 rows × 2 columns</p>\n",
       "</div>"
      ],
      "text/plain": [
       "     weekIncidence                      date\n",
       "0         0.015633  2020-01-31T00:00:00.000Z\n",
       "1         0.015633  2020-02-01T00:00:00.000Z\n",
       "2         0.015633  2020-02-03T00:00:00.000Z\n",
       "3         0.019241  2020-02-04T00:00:00.000Z\n",
       "4         0.020444  2020-02-05T00:00:00.000Z\n",
       "..             ...                       ...\n",
       "728    1580.433540  2022-02-09T00:00:00.000Z\n",
       "729    1565.355679  2022-02-10T00:00:00.000Z\n",
       "730    1539.351239  2022-02-11T00:00:00.000Z\n",
       "731    1501.639750  2022-02-12T00:00:00.000Z\n",
       "732    1459.807044  2022-02-13T00:00:00.000Z\n",
       "\n",
       "[733 rows x 2 columns]"
      ]
     },
     "execution_count": 5,
     "metadata": {},
     "output_type": "execute_result"
    }
   ],
   "source": [
    "rki_df=pd.DataFrame(rki_data[\"data\"])\n",
    "rki_df"
   ]
  },
  {
   "cell_type": "code",
   "execution_count": 6,
   "metadata": {},
   "outputs": [
    {
     "data": {
      "text/plain": [
       "weekIncidence    float64\n",
       "date              object\n",
       "dtype: object"
      ]
     },
     "execution_count": 6,
     "metadata": {},
     "output_type": "execute_result"
    }
   ],
   "source": [
    "rki_df.dtypes"
   ]
  },
  {
   "cell_type": "code",
   "execution_count": 7,
   "metadata": {},
   "outputs": [],
   "source": [
    "rki_df[\"date\"]=pd.to_datetime(rki_df[\"date\"])"
   ]
  },
  {
   "cell_type": "code",
   "execution_count": 8,
   "metadata": {},
   "outputs": [
    {
     "data": {
      "text/plain": [
       "weekIncidence                float64\n",
       "date             datetime64[ns, UTC]\n",
       "dtype: object"
      ]
     },
     "execution_count": 8,
     "metadata": {},
     "output_type": "execute_result"
    }
   ],
   "source": [
    "rki_df.dtypes"
   ]
  },
  {
   "cell_type": "markdown",
   "metadata": {},
   "source": [
    "##VBB API"
   ]
  },
  {
   "cell_type": "code",
   "execution_count": 9,
   "metadata": {},
   "outputs": [],
   "source": [
    "url_work=\"https://v5.vbb.transport.rest/locations?query=moritzplatz\""
   ]
  },
  {
   "cell_type": "code",
   "execution_count": 10,
   "metadata": {},
   "outputs": [],
   "source": [
    "url_home='https://v5.vbb.transport.rest/locations?query=bouchestrasse'"
   ]
  },
  {
   "cell_type": "code",
   "execution_count": 11,
   "metadata": {},
   "outputs": [],
   "source": [
    "response=requests.get(url_work)"
   ]
  },
  {
   "cell_type": "code",
   "execution_count": 12,
   "metadata": {},
   "outputs": [
    {
     "data": {
      "text/plain": [
       "[{'type': 'stop',\n",
       "  'id': '900000013101',\n",
       "  'name': 'U Moritzplatz',\n",
       "  'location': {'type': 'location',\n",
       "   'id': '900013101',\n",
       "   'latitude': 52.503737,\n",
       "   'longitude': 13.410944},\n",
       "  'products': {'suburban': False,\n",
       "   'subway': True,\n",
       "   'tram': False,\n",
       "   'bus': True,\n",
       "   'ferry': False,\n",
       "   'express': False,\n",
       "   'regional': False}},\n",
       " {'type': 'location',\n",
       "  'id': None,\n",
       "  'latitude': 51.630884,\n",
       "  'longitude': 13.706446,\n",
       "  'address': '03238 Finsterwalde, Moritzplatz'},\n",
       " {'type': 'location',\n",
       "  'id': None,\n",
       "  'latitude': 52.503772,\n",
       "  'longitude': 13.410369,\n",
       "  'address': '10969 Berlin-Kreuzberg, Moritzplatz'},\n",
       " {'type': 'stop',\n",
       "  'id': '900000057107',\n",
       "  'name': 'Dennewitzplatz',\n",
       "  'location': {'type': 'location',\n",
       "   'id': '900057107',\n",
       "   'latitude': 52.495907,\n",
       "   'longitude': 13.366223},\n",
       "  'products': {'suburban': False,\n",
       "   'subway': False,\n",
       "   'tram': False,\n",
       "   'bus': True,\n",
       "   'ferry': False,\n",
       "   'express': False,\n",
       "   'regional': False}},\n",
       " {'type': 'stop',\n",
       "  'id': '900000215724',\n",
       "  'name': 'Pritzwalk, Bürgerplatz',\n",
       "  'location': {'type': 'location',\n",
       "   'id': '900215724',\n",
       "   'latitude': 53.153171,\n",
       "   'longitude': 12.172922},\n",
       "  'products': {'suburban': False,\n",
       "   'subway': False,\n",
       "   'tram': False,\n",
       "   'bus': True,\n",
       "   'ferry': False,\n",
       "   'express': False,\n",
       "   'regional': False}}]"
      ]
     },
     "execution_count": 12,
     "metadata": {},
     "output_type": "execute_result"
    }
   ],
   "source": [
    "response.json()"
   ]
  },
  {
   "cell_type": "code",
   "execution_count": 13,
   "metadata": {},
   "outputs": [],
   "source": [
    "response=requests.get(url_home)"
   ]
  },
  {
   "cell_type": "code",
   "execution_count": 14,
   "metadata": {},
   "outputs": [
    {
     "data": {
      "text/plain": [
       "[{'type': 'stop',\n",
       "  'id': '900000190506',\n",
       "  'name': 'Bouchéstr.',\n",
       "  'location': {'type': 'location',\n",
       "   'id': '900190506',\n",
       "   'latitude': 52.490486,\n",
       "   'longitude': 13.448492},\n",
       "  'products': {'suburban': False,\n",
       "   'subway': False,\n",
       "   'tram': False,\n",
       "   'bus': True,\n",
       "   'ferry': False,\n",
       "   'express': False,\n",
       "   'regional': False}},\n",
       " {'type': 'stop',\n",
       "  'id': '8071227',\n",
       "  'name': 'Klieken Hauptstr. Waldschlößchen',\n",
       "  'location': {'type': 'location',\n",
       "   'id': '8071227',\n",
       "   'latitude': 51.889198,\n",
       "   'longitude': 12.374128},\n",
       "  'products': {'suburban': False,\n",
       "   'subway': False,\n",
       "   'tram': False,\n",
       "   'bus': True,\n",
       "   'ferry': False,\n",
       "   'express': False,\n",
       "   'regional': False}},\n",
       " {'type': 'stop',\n",
       "  'id': '900000140021',\n",
       "  'name': 'Rennbahnstr./Roelckestr.',\n",
       "  'location': {'type': 'location',\n",
       "   'id': '900140021',\n",
       "   'latitude': 52.561097,\n",
       "   'longitude': 13.456888},\n",
       "  'products': {'suburban': False,\n",
       "   'subway': False,\n",
       "   'tram': True,\n",
       "   'bus': True,\n",
       "   'ferry': False,\n",
       "   'express': False,\n",
       "   'regional': False}},\n",
       " {'type': 'location',\n",
       "  'id': None,\n",
       "  'latitude': 52.488221,\n",
       "  'longitude': 13.445453,\n",
       "  'address': '12059 Berlin-Neukölln, Bouchéstr.'},\n",
       " {'type': 'location',\n",
       "  'id': None,\n",
       "  'latitude': 52.489956,\n",
       "  'longitude': 13.44815,\n",
       "  'address': '12435 Berlin-Alt-Treptow, Bouchéstr.'}]"
      ]
     },
     "execution_count": 14,
     "metadata": {},
     "output_type": "execute_result"
    }
   ],
   "source": [
    "response.json()"
   ]
  },
  {
   "cell_type": "markdown",
   "metadata": {},
   "source": [
    "work_id=900000013101\n",
    "home_id=900000190506"
   ]
  },
  {
   "cell_type": "code",
   "execution_count": 15,
   "metadata": {},
   "outputs": [],
   "source": [
    "journey_url='https://v5.vbb.transport.rest/journeys?from=900000190506&to=900000013101'"
   ]
  },
  {
   "cell_type": "code",
   "execution_count": 16,
   "metadata": {},
   "outputs": [],
   "source": [
    "response=requests.get(journey_url)"
   ]
  },
  {
   "cell_type": "code",
   "execution_count": 17,
   "metadata": {},
   "outputs": [],
   "source": [
    "journey=response.json()"
   ]
  },
  {
   "cell_type": "code",
   "execution_count": 18,
   "metadata": {},
   "outputs": [
    {
     "data": {
      "text/plain": [
       "dict_keys(['earlierRef', 'laterRef', 'journeys', 'realtimeDataFrom'])"
      ]
     },
     "execution_count": 18,
     "metadata": {},
     "output_type": "execute_result"
    }
   ],
   "source": [
    "journey.keys()"
   ]
  },
  {
   "cell_type": "code",
   "execution_count": 19,
   "metadata": {},
   "outputs": [
    {
     "name": "stdout",
     "output_type": "stream",
     "text": [
      "dict_keys(['type', 'legs', 'refreshToken', 'cycle'])\n",
      "dict_keys(['type', 'legs', 'refreshToken', 'cycle', 'remarks'])\n",
      "dict_keys(['type', 'legs', 'refreshToken', 'cycle', 'remarks'])\n",
      "dict_keys(['type', 'legs', 'refreshToken', 'cycle'])\n"
     ]
    }
   ],
   "source": [
    "for j in journey[\"journeys\"]:\n",
    "    print(j.keys())"
   ]
  },
  {
   "cell_type": "code",
   "execution_count": 22,
   "metadata": {},
   "outputs": [
    {
     "name": "stdout",
     "output_type": "stream",
     "text": [
      "[{'origin': {'type': 'stop', 'id': '900000190506', 'name': 'Bouchéstr.', 'location': {'type': 'location', 'id': '900190506', 'latitude': 52.490486, 'longitude': 13.448492}, 'products': {'suburban': False, 'subway': False, 'tram': False, 'bus': True, 'ferry': False, 'express': False, 'regional': False}}, 'destination': {'type': 'stop', 'id': '900000075153', 'name': 'Pflügerstr.', 'location': {'type': 'location', 'id': '900075153', 'latitude': 52.489857, 'longitude': 13.433929}, 'products': {'suburban': False, 'subway': False, 'tram': False, 'bus': True, 'ferry': False, 'express': False, 'regional': False}}, 'departure': '2022-02-14T16:15:00+01:00', 'plannedDeparture': '2022-02-14T16:15:00+01:00', 'departureDelay': None, 'arrival': '2022-02-14T16:21:00+01:00', 'plannedArrival': '2022-02-14T16:21:00+01:00', 'arrivalDelay': None, 'reachable': True, 'tripId': '1|14147|2|86|14022022', 'line': {'type': 'line', 'id': '194', 'fahrtNr': '29153', 'name': '194', 'public': True, 'adminCode': 'BVB', 'productName': 'Bus', 'mode': 'bus', 'product': 'bus', 'operator': {'type': 'operator', 'id': 'berliner-verkehrsbetriebe', 'name': 'Berliner Verkehrsbetriebe'}, 'symbol': None, 'nr': 194, 'metro': False, 'express': False, 'night': False}, 'direction': 'U Hermannplatz', 'currentLocation': {'type': 'location', 'latitude': 52.491574, 'longitude': 13.446856}, 'arrivalPlatform': None, 'plannedArrivalPlatform': None, 'departurePlatform': None, 'plannedDeparturePlatform': None, 'cycle': {'min': 600, 'max': 600, 'nr': 13}}, {'origin': {'type': 'stop', 'id': '900000075153', 'name': 'Pflügerstr.', 'location': {'type': 'location', 'id': '900075153', 'latitude': 52.489857, 'longitude': 13.433929}, 'products': {'suburban': False, 'subway': False, 'tram': False, 'bus': True, 'ferry': False, 'express': False, 'regional': False}}, 'destination': {'type': 'stop', 'id': '900000075153', 'name': 'Pflügerstr.', 'location': {'type': 'location', 'id': '900075153', 'latitude': 52.489857, 'longitude': 13.433929}, 'products': {'suburban': False, 'subway': False, 'tram': False, 'bus': True, 'ferry': False, 'express': False, 'regional': False}}, 'departure': '2022-02-14T16:21:00+01:00', 'plannedDeparture': '2022-02-14T16:21:00+01:00', 'departureDelay': None, 'arrival': '2022-02-14T16:21:00+01:00', 'plannedArrival': '2022-02-14T16:21:00+01:00', 'arrivalDelay': None, 'public': True, 'walking': True, 'distance': None}, {'origin': {'type': 'stop', 'id': '900000075153', 'name': 'Pflügerstr.', 'location': {'type': 'location', 'id': '900075153', 'latitude': 52.489857, 'longitude': 13.433929}, 'products': {'suburban': False, 'subway': False, 'tram': False, 'bus': True, 'ferry': False, 'express': False, 'regional': False}}, 'destination': {'type': 'stop', 'id': '900000013101', 'name': 'U Moritzplatz', 'location': {'type': 'location', 'id': '900013101', 'latitude': 52.503737, 'longitude': 13.410944}, 'products': {'suburban': False, 'subway': True, 'tram': False, 'bus': True, 'ferry': False, 'express': False, 'regional': False}}, 'departure': '2022-02-14T16:24:00+01:00', 'plannedDeparture': '2022-02-14T16:24:00+01:00', 'departureDelay': 0, 'arrival': '2022-02-14T16:37:00+01:00', 'plannedArrival': '2022-02-14T16:37:00+01:00', 'arrivalDelay': 0, 'reachable': True, 'tripId': '1|20745|14|86|14022022', 'line': {'type': 'line', 'id': 'm29', 'fahrtNr': '38141', 'name': 'M29', 'public': True, 'adminCode': 'BVB', 'productName': 'Bus', 'mode': 'bus', 'product': 'bus', 'operator': {'type': 'operator', 'id': 'berliner-verkehrsbetriebe', 'name': 'Berliner Verkehrsbetriebe'}, 'symbol': 'M', 'nr': 29, 'metro': True, 'express': False, 'night': False}, 'direction': 'Grunewald, Roseneck', 'arrivalPlatform': None, 'plannedArrivalPlatform': None, 'departurePlatform': None, 'plannedDeparturePlatform': None, 'cycle': {'min': 600, 'max': 660, 'nr': 12}}]\n",
      "[{'origin': {'type': 'stop', 'id': '900000190506', 'name': 'Bouchéstr.', 'location': {'type': 'location', 'id': '900190506', 'latitude': 52.490486, 'longitude': 13.448492}, 'products': {'suburban': False, 'subway': False, 'tram': False, 'bus': True, 'ferry': False, 'express': False, 'regional': False}}, 'destination': {'type': 'stop', 'id': '900000075152', 'name': 'Mengerzeile', 'location': {'type': 'location', 'id': '900075152', 'latitude': 52.487907, 'longitude': 13.443341}, 'products': {'suburban': False, 'subway': False, 'tram': False, 'bus': True, 'ferry': False, 'express': False, 'regional': False}}, 'departure': '2022-02-14T16:16:00+01:00', 'plannedDeparture': '2022-02-14T16:16:00+01:00', 'departureDelay': None, 'arrival': '2022-02-14T16:24:00+01:00', 'plannedArrival': '2022-02-14T16:24:00+01:00', 'arrivalDelay': None, 'public': True, 'walking': True, 'distance': 546}, {'origin': {'type': 'stop', 'id': '900000075152', 'name': 'Mengerzeile', 'location': {'type': 'location', 'id': '900075152', 'latitude': 52.487907, 'longitude': 13.443341}, 'products': {'suburban': False, 'subway': False, 'tram': False, 'bus': True, 'ferry': False, 'express': False, 'regional': False}}, 'destination': {'type': 'stop', 'id': '900000078170', 'name': 'U Hermannplatz [Bus Ostseite]', 'location': {'type': 'location', 'id': '900078170', 'latitude': 52.487106, 'longitude': 13.42512}, 'products': {'suburban': False, 'subway': True, 'tram': False, 'bus': True, 'ferry': False, 'express': False, 'regional': False}}, 'departure': '2022-02-14T16:28:00+01:00', 'plannedDeparture': '2022-02-14T16:24:00+01:00', 'departureDelay': 240, 'arrival': '2022-02-14T16:36:00+01:00', 'plannedArrival': '2022-02-14T16:32:00+01:00', 'arrivalDelay': 240, 'reachable': True, 'tripId': '1|12092|29|86|14022022', 'line': {'type': 'line', 'id': '171', 'fahrtNr': '26414', 'name': '171', 'public': True, 'adminCode': 'BVB', 'productName': 'Bus', 'mode': 'bus', 'product': 'bus', 'operator': {'type': 'operator', 'id': 'berliner-verkehrsbetriebe', 'name': 'Berliner Verkehrsbetriebe'}, 'symbol': None, 'nr': 171, 'metro': False, 'express': False, 'night': False}, 'direction': 'U Hermannplatz', 'currentLocation': {'type': 'location', 'latitude': 52.471276, 'longitude': 13.452789}, 'arrivalPlatform': None, 'plannedArrivalPlatform': None, 'departurePlatform': None, 'plannedDeparturePlatform': None, 'cycle': {'min': 600, 'max': 1200, 'nr': 11}, 'alternatives': [{'tripId': '1|12139|5|86|14022022', 'line': {'type': 'line', 'id': '171', 'fahrtNr': '26462', 'name': '171', 'public': True, 'adminCode': 'BVB', 'productName': 'Bus', 'mode': 'bus', 'product': 'bus', 'operator': {'type': 'operator', 'id': 'berliner-verkehrsbetriebe', 'name': 'Berliner Verkehrsbetriebe'}, 'symbol': None, 'nr': 171, 'metro': False, 'express': False, 'night': False}, 'direction': 'U Hermannplatz', 'when': '2022-02-14T16:34:00+01:00', 'plannedWhen': '2022-02-14T16:34:00+01:00', 'delay': None}, {'tripId': '1|12092|30|86|14022022', 'line': {'type': 'line', 'id': '171', 'fahrtNr': '26414', 'name': '171', 'public': True, 'adminCode': 'BVB', 'productName': 'Bus', 'mode': 'bus', 'product': 'bus', 'operator': {'type': 'operator', 'id': 'berliner-verkehrsbetriebe', 'name': 'Berliner Verkehrsbetriebe'}, 'symbol': None, 'nr': 171, 'metro': False, 'express': False, 'night': False}, 'direction': 'U Hermannplatz', 'when': '2022-02-14T16:44:00+01:00', 'plannedWhen': '2022-02-14T16:44:00+01:00', 'delay': None}, {'tripId': '1|12139|6|86|14022022', 'line': {'type': 'line', 'id': '171', 'fahrtNr': '26462', 'name': '171', 'public': True, 'adminCode': 'BVB', 'productName': 'Bus', 'mode': 'bus', 'product': 'bus', 'operator': {'type': 'operator', 'id': 'berliner-verkehrsbetriebe', 'name': 'Berliner Verkehrsbetriebe'}, 'symbol': None, 'nr': 171, 'metro': False, 'express': False, 'night': False}, 'direction': 'U Hermannplatz', 'when': '2022-02-14T16:54:00+01:00', 'plannedWhen': '2022-02-14T16:54:00+01:00', 'delay': None}, {'tripId': '1|12092|31|86|14022022', 'line': {'type': 'line', 'id': '171', 'fahrtNr': '26414', 'name': '171', 'public': True, 'adminCode': 'BVB', 'productName': 'Bus', 'mode': 'bus', 'product': 'bus', 'operator': {'type': 'operator', 'id': 'berliner-verkehrsbetriebe', 'name': 'Berliner Verkehrsbetriebe'}, 'symbol': None, 'nr': 171, 'metro': False, 'express': False, 'night': False}, 'direction': 'U Hermannplatz', 'when': '2022-02-14T17:04:00+01:00', 'plannedWhen': '2022-02-14T17:04:00+01:00', 'delay': None}, {'tripId': '1|12139|7|86|14022022', 'line': {'type': 'line', 'id': '171', 'fahrtNr': '26462', 'name': '171', 'public': True, 'adminCode': 'BVB', 'productName': 'Bus', 'mode': 'bus', 'product': 'bus', 'operator': {'type': 'operator', 'id': 'berliner-verkehrsbetriebe', 'name': 'Berliner Verkehrsbetriebe'}, 'symbol': None, 'nr': 171, 'metro': False, 'express': False, 'night': False}, 'direction': 'U Hermannplatz', 'when': '2022-02-14T17:14:00+01:00', 'plannedWhen': '2022-02-14T17:14:00+01:00', 'delay': None}]}, {'origin': {'type': 'stop', 'id': '900000078170', 'name': 'U Hermannplatz [Bus Ostseite]', 'location': {'type': 'location', 'id': '900078170', 'latitude': 52.487106, 'longitude': 13.42512}, 'products': {'suburban': False, 'subway': True, 'tram': False, 'bus': True, 'ferry': False, 'express': False, 'regional': False}}, 'destination': {'type': 'stop', 'id': '900000078101', 'name': 'U Hermannplatz', 'location': {'type': 'location', 'id': '900078101', 'latitude': 52.486954, 'longitude': 13.424724}, 'products': {'suburban': False, 'subway': True, 'tram': False, 'bus': True, 'ferry': False, 'express': False, 'regional': False}}, 'departure': '2022-02-14T16:32:00+01:00', 'plannedDeparture': '2022-02-14T16:32:00+01:00', 'departureDelay': None, 'arrival': '2022-02-14T16:36:00+01:00', 'plannedArrival': '2022-02-14T16:36:00+01:00', 'arrivalDelay': None, 'public': True, 'walking': True, 'distance': 32}, {'origin': {'type': 'stop', 'id': '900000078101', 'name': 'U Hermannplatz', 'location': {'type': 'location', 'id': '900078101', 'latitude': 52.486954, 'longitude': 13.424724}, 'products': {'suburban': False, 'subway': True, 'tram': False, 'bus': True, 'ferry': False, 'express': False, 'regional': False}}, 'destination': {'type': 'stop', 'id': '900000013101', 'name': 'U Moritzplatz', 'location': {'type': 'location', 'id': '900013101', 'latitude': 52.503737, 'longitude': 13.410944}, 'products': {'suburban': False, 'subway': True, 'tram': False, 'bus': True, 'ferry': False, 'express': False, 'regional': False}}, 'departure': '2022-02-14T16:37:00+01:00', 'plannedDeparture': '2022-02-14T16:37:00+01:00', 'departureDelay': 0, 'arrival': '2022-02-14T16:43:00+01:00', 'plannedArrival': '2022-02-14T16:43:00+01:00', 'arrivalDelay': 0, 'reachable': False, 'tripId': '1|33276|60|86|14022022', 'line': {'type': 'line', 'id': 'u8', 'fahrtNr': '17794', 'name': 'U8', 'public': True, 'adminCode': 'BVU', 'productName': 'U', 'mode': 'train', 'product': 'subway', 'operator': {'type': 'operator', 'id': 'berliner-verkehrsbetriebe', 'name': 'Berliner Verkehrsbetriebe'}, 'symbol': 'U', 'nr': 8, 'metro': False, 'express': False, 'night': False, 'color': {'fg': '#fff', 'bg': '#005b98'}}, 'direction': 'S+U Wittenau', 'arrivalPlatform': '2', 'plannedArrivalPlatform': '2', 'departurePlatform': '2', 'plannedDeparturePlatform': '2', 'cycle': {'min': 300, 'max': 300, 'nr': 25}}]\n",
      "[{'origin': {'type': 'stop', 'id': '900000190506', 'name': 'Bouchéstr.', 'location': {'type': 'location', 'id': '900190506', 'latitude': 52.490486, 'longitude': 13.448492}, 'products': {'suburban': False, 'subway': False, 'tram': False, 'bus': True, 'ferry': False, 'express': False, 'regional': False}}, 'destination': {'type': 'stop', 'id': '900000190004', 'name': 'Eichenstr./Puschkinallee', 'location': {'type': 'location', 'id': '900190004', 'latitude': 52.494505, 'longitude': 13.453472}, 'products': {'suburban': False, 'subway': False, 'tram': False, 'bus': True, 'ferry': False, 'express': False, 'regional': False}}, 'departure': '2022-02-14T16:16:00+01:00', 'plannedDeparture': '2022-02-14T16:16:00+01:00', 'departureDelay': None, 'arrival': '2022-02-14T16:26:00+01:00', 'plannedArrival': '2022-02-14T16:26:00+01:00', 'arrivalDelay': None, 'public': True, 'walking': True, 'distance': 712}, {'origin': {'type': 'stop', 'id': '900000190004', 'name': 'Eichenstr./Puschkinallee', 'location': {'type': 'location', 'id': '900190004', 'latitude': 52.494505, 'longitude': 13.453472}, 'products': {'suburban': False, 'subway': False, 'tram': False, 'bus': True, 'ferry': False, 'express': False, 'regional': False}}, 'destination': {'type': 'stop', 'id': '900000100008', 'name': 'U Heinrich-Heine-Str.', 'location': {'type': 'location', 'id': '900100008', 'latitude': 52.510559, 'longitude': 13.416122}, 'products': {'suburban': False, 'subway': True, 'tram': False, 'bus': True, 'ferry': False, 'express': False, 'regional': False}}, 'departure': '2022-02-14T16:26:00+01:00', 'plannedDeparture': '2022-02-14T16:24:00+01:00', 'departureDelay': 120, 'arrival': '2022-02-14T16:38:00+01:00', 'plannedArrival': '2022-02-14T16:36:00+01:00', 'arrivalDelay': 120, 'reachable': True, 'tripId': '1|11353|2|86|14022022', 'line': {'type': 'line', 'id': '165', 'fahrtNr': '25708', 'name': '165', 'public': True, 'adminCode': 'BVB', 'productName': 'Bus', 'mode': 'bus', 'product': 'bus', 'operator': {'type': 'operator', 'id': 'berliner-verkehrsbetriebe', 'name': 'Berliner Verkehrsbetriebe'}, 'symbol': None, 'nr': 165, 'metro': False, 'express': False, 'night': False}, 'direction': 'U Märkisches Museum', 'currentLocation': {'type': 'location', 'latitude': 52.477982, 'longitude': 13.478372}, 'arrivalPlatform': None, 'plannedArrivalPlatform': None, 'departurePlatform': None, 'plannedDeparturePlatform': None, 'cycle': {'min': 600, 'max': 600, 'nr': 13}}, {'origin': {'type': 'stop', 'id': '900000100008', 'name': 'U Heinrich-Heine-Str.', 'location': {'type': 'location', 'id': '900100008', 'latitude': 52.510559, 'longitude': 13.416122}, 'products': {'suburban': False, 'subway': True, 'tram': False, 'bus': True, 'ferry': False, 'express': False, 'regional': False}}, 'destination': {'type': 'stop', 'id': '900000100008', 'name': 'U Heinrich-Heine-Str.', 'location': {'type': 'location', 'id': '900100008', 'latitude': 52.510559, 'longitude': 13.416122}, 'products': {'suburban': False, 'subway': True, 'tram': False, 'bus': True, 'ferry': False, 'express': False, 'regional': False}}, 'departure': '2022-02-14T16:38:00+01:00', 'plannedDeparture': '2022-02-14T16:38:00+01:00', 'departureDelay': None, 'arrival': '2022-02-14T16:38:00+01:00', 'plannedArrival': '2022-02-14T16:38:00+01:00', 'arrivalDelay': None, 'public': True, 'walking': True, 'distance': None}, {'origin': {'type': 'stop', 'id': '900000100008', 'name': 'U Heinrich-Heine-Str.', 'location': {'type': 'location', 'id': '900100008', 'latitude': 52.510559, 'longitude': 13.416122}, 'products': {'suburban': False, 'subway': True, 'tram': False, 'bus': True, 'ferry': False, 'express': False, 'regional': False}}, 'destination': {'type': 'stop', 'id': '900000013101', 'name': 'U Moritzplatz', 'location': {'type': 'location', 'id': '900013101', 'latitude': 52.503737, 'longitude': 13.410944}, 'products': {'suburban': False, 'subway': True, 'tram': False, 'bus': True, 'ferry': False, 'express': False, 'regional': False}}, 'departure': '2022-02-14T16:41:00+01:00', 'plannedDeparture': '2022-02-14T16:41:00+01:00', 'departureDelay': 0, 'arrival': '2022-02-14T16:43:00+01:00', 'plannedArrival': '2022-02-14T16:43:00+01:00', 'arrivalDelay': 0, 'reachable': True, 'tripId': '1|33145|27|86|14022022', 'line': {'type': 'line', 'id': 'u8', 'fahrtNr': '18749', 'name': 'U8', 'public': True, 'adminCode': 'BVU', 'productName': 'U', 'mode': 'train', 'product': 'subway', 'operator': {'type': 'operator', 'id': 'berliner-verkehrsbetriebe', 'name': 'Berliner Verkehrsbetriebe'}, 'symbol': 'U', 'nr': 8, 'metro': False, 'express': False, 'night': False, 'color': {'fg': '#fff', 'bg': '#005b98'}}, 'direction': 'S+U Hermannstr.', 'arrivalPlatform': '1', 'plannedArrivalPlatform': '1', 'departurePlatform': '1', 'plannedDeparturePlatform': '1', 'cycle': {'min': 300, 'max': 300, 'nr': 25}}]\n",
      "[{'origin': {'type': 'stop', 'id': '900000190506', 'name': 'Bouchéstr.', 'location': {'type': 'location', 'id': '900190506', 'latitude': 52.490486, 'longitude': 13.448492}, 'products': {'suburban': False, 'subway': False, 'tram': False, 'bus': True, 'ferry': False, 'express': False, 'regional': False}}, 'destination': {'type': 'stop', 'id': '900000015103', 'name': 'Glogauer Str.', 'location': {'type': 'location', 'id': '900015103', 'latitude': 52.493534, 'longitude': 13.437273}, 'products': {'suburban': False, 'subway': False, 'tram': False, 'bus': True, 'ferry': False, 'express': False, 'regional': False}}, 'departure': '2022-02-14T16:16:00+01:00', 'plannedDeparture': '2022-02-14T16:16:00+01:00', 'departureDelay': None, 'arrival': '2022-02-14T16:36:00+01:00', 'plannedArrival': '2022-02-14T16:36:00+01:00', 'arrivalDelay': None, 'public': True, 'walking': True, 'distance': 1391}, {'origin': {'type': 'stop', 'id': '900000015103', 'name': 'Glogauer Str.', 'location': {'type': 'location', 'id': '900015103', 'latitude': 52.493534, 'longitude': 13.437273}, 'products': {'suburban': False, 'subway': False, 'tram': False, 'bus': True, 'ferry': False, 'express': False, 'regional': False}}, 'destination': {'type': 'stop', 'id': '900000013101', 'name': 'U Moritzplatz', 'location': {'type': 'location', 'id': '900013101', 'latitude': 52.503737, 'longitude': 13.410944}, 'products': {'suburban': False, 'subway': True, 'tram': False, 'bus': True, 'ferry': False, 'express': False, 'regional': False}}, 'departure': '2022-02-14T16:36:00+01:00', 'plannedDeparture': '2022-02-14T16:36:00+01:00', 'departureDelay': 0, 'arrival': '2022-02-14T16:47:00+01:00', 'plannedArrival': '2022-02-14T16:47:00+01:00', 'arrivalDelay': 0, 'reachable': True, 'tripId': '1|20745|15|86|14022022', 'line': {'type': 'line', 'id': 'm29', 'fahrtNr': '38141', 'name': 'M29', 'public': True, 'adminCode': 'BVB', 'productName': 'Bus', 'mode': 'bus', 'product': 'bus', 'operator': {'type': 'operator', 'id': 'berliner-verkehrsbetriebe', 'name': 'Berliner Verkehrsbetriebe'}, 'symbol': 'M', 'nr': 29, 'metro': True, 'express': False, 'night': False}, 'direction': 'Grunewald, Roseneck', 'arrivalPlatform': None, 'plannedArrivalPlatform': None, 'departurePlatform': None, 'plannedDeparturePlatform': None, 'cycle': {'min': 600, 'max': 660, 'nr': 12}}]\n"
     ]
    }
   ],
   "source": [
    "for j in journey[\"journeys\"]:\n",
    "    print(j[\"legs\"])"
   ]
  },
  {
   "cell_type": "code",
   "execution_count": 30,
   "metadata": {},
   "outputs": [
    {
     "name": "stdout",
     "output_type": "stream",
     "text": [
      "Bouchéstr. Pflügerstr. 194\n",
      "Pflügerstr. U Moritzplatz M29\n"
     ]
    }
   ],
   "source": [
    "for leg in journey[\"journeys\"][0][\"legs\"]:\n",
    "    if \"line\" in leg:\n",
    "        print(leg[\"origin\"][\"name\"],leg[\"destination\"][\"name\"],leg[\"line\"][\"name\"])"
   ]
  },
  {
   "cell_type": "markdown",
   "metadata": {},
   "source": [
    "###Twitter API"
   ]
  },
  {
   "cell_type": "code",
   "execution_count": 32,
   "metadata": {},
   "outputs": [
    {
     "name": "stdout",
     "output_type": "stream",
     "text": [
      "Requirement already satisfied: tweepy==4.4.0 in /Users/burcakbal/opt/anaconda3/lib/python3.8/site-packages (4.4.0)\n",
      "Requirement already satisfied: requests<3,>=2.11.1 in /Users/burcakbal/opt/anaconda3/lib/python3.8/site-packages (from tweepy==4.4.0) (2.25.1)\n",
      "Requirement already satisfied: requests-oauthlib<2,>=1.0.0 in /Users/burcakbal/opt/anaconda3/lib/python3.8/site-packages (from tweepy==4.4.0) (1.3.1)\n",
      "Requirement already satisfied: idna<3,>=2.5 in /Users/burcakbal/opt/anaconda3/lib/python3.8/site-packages (from requests<3,>=2.11.1->tweepy==4.4.0) (2.10)\n",
      "Requirement already satisfied: chardet<5,>=3.0.2 in /Users/burcakbal/opt/anaconda3/lib/python3.8/site-packages (from requests<3,>=2.11.1->tweepy==4.4.0) (4.0.0)\n",
      "Requirement already satisfied: certifi>=2017.4.17 in /Users/burcakbal/opt/anaconda3/lib/python3.8/site-packages (from requests<3,>=2.11.1->tweepy==4.4.0) (2020.12.5)\n",
      "Requirement already satisfied: urllib3<1.27,>=1.21.1 in /Users/burcakbal/opt/anaconda3/lib/python3.8/site-packages (from requests<3,>=2.11.1->tweepy==4.4.0) (1.26.4)\n",
      "Requirement already satisfied: oauthlib>=3.0.0 in /Users/burcakbal/opt/anaconda3/lib/python3.8/site-packages (from requests-oauthlib<2,>=1.0.0->tweepy==4.4.0) (3.2.0)\n"
     ]
    }
   ],
   "source": [
    "!pip install tweepy==4.4.0"
   ]
  },
  {
   "cell_type": "code",
   "execution_count": 55,
   "metadata": {},
   "outputs": [
    {
     "name": "stdout",
     "output_type": "stream",
     "text": [
      "{'public_metrics': {'followers_count': 21709211, 'following_count': 189, 'tweet_count': 10466, 'listed_count': 41261}, 'location': 'Citizen of the World Dahhhling', 'name': 'Mariah Carey', 'created_at': datetime.datetime(2009, 1, 20, 18, 8, 51, tzinfo=datetime.timezone.utc), 'profile_image_url': 'https://pbs.twimg.com/profile_images/1486066100248981508/AwBY6X2x_normal.jpg', 'description': 'The Christmas Princess 🦋 Pre-order now', 'id': 19248106, 'username': 'MariahCarey'}\n",
      "Missing you ❤️ https://t.co/b4AuTOtZsx\n",
      "Well, Darling …it didn’t take a psychic or a rocket scientist to know this was gonna happen but I have been predicting this for a year!!! 🤩Congratulations to you my friend!!!!!! ❤️❤️🎉🎉🎉💜💜 https://t.co/0fNriVPiWA\n",
      "❄️❄️❄️❄️❄️ https://t.co/AA9Vo026LK\n",
      "Fashion’s elegant giant has fallen. Emancipated from the troubles of this world. Land softly and safely my friend into the loving arms of Almighty God. \n",
      "Rest in Power and Grace, Andre Leon Talley👑 https://t.co/OPId0UNI7t\n",
      "Remembering the Reverend Dr. Martin Luther King Jr. today. https://t.co/F64OWIcpzG\n",
      "Knowing dates has never really been my thing… https://t.co/13IPQy8Wlz\n",
      "Why wouldn't one use such an obvious rhyme scheme? https://t.co/Ahft860nWE\n",
      "The Christmas Princess is a fairytale for holiday lovers of all ages! Little Mariah represents my inner child believing in her own vision, she represents all children, especially those who feel like outsiders or “others”, striving to believe in themselves\n",
      "\n",
      "https://t.co/KSsWP9pPp7 https://t.co/k6fGBU0QfV\n",
      "Found my first vintage soso def jacket.. the night we wrote Always Be My Baby! 🦋 @jermainedupri https://t.co/GbvGYCTKJM\n",
      "Beyond his unparalleled talent and devotion to change the world, to me he was also a celestial, pure soul who took the time to care, talk, help and heal others so selflessly. I'm blessed with the memories of our conversations forever. Rest in Power and Peace Sir Sydney Poitier 💜 https://t.co/rC6RlX5dT7\n",
      "Winter celebration! Thank you for 3 weeks at #1!!! Nobody saw this coming!!!! 🥳🥳☃️☃️❤️❤️❤️❤️❤️ https://t.co/SHQylTs6vl\n",
      "Citizen of the world, dahhhling!! 🌎🌎🌎❤️❤️❤️❤️❤️ https://t.co/sBc2d3TNbx\n",
      "Shockingly impressive for a song written in the womb! 🥳🥳☃️☃️🎄🎄🎄🎄 https://t.co/1p3N95N5cE\n",
      "💎🎊❄️🎅🏽🦋🎁🥳 I guess I'm not the only one who didn't take her tree down yet!!! 🎄🎄🎄 https://t.co/n2vP2bi1xw\n",
      "facts https://t.co/ylun4oXfYp\n",
      "Walking into 2022 like… https://t.co/X3Xupwe41e\n",
      "Happy New Year!!!! Stay safe, healthy and blessed 🥂❤️ https://t.co/MHW2AU02HG\n",
      "Happy New Year!! 🥂🍾🎉 It ain’t been easy, yet we can revel in the splendor of the most beautiful gift of all… LOVE ❤️ https://t.co/rQCHpBTHkp\n",
      "🤯🤯 Happy New Year Australia!!!! 🥳❤️🥂 https://t.co/k6ehcEWqp4\n",
      "💜💜💜💜💜 https://t.co/GQX6nmwvRW\n",
      "Tayc ist wie (Mariah Carey an Weihnachten) für Valentinstag.\n",
      "\n",
      "Es läuft Against All Odds von Mariah Carey\n",
      "\n",
      "Wäre mein hund ein song dann wärs heartbreaker von mariah carey\n",
      "\n",
      "Es läuft Never too far von Mariah Carey\n",
      "\n",
      "Der Junior hat so eine Tonlage…da kann selbst Mariah Carey einpacken! Dass meine Gläser noch nicht gesprungen sind, grenzt an einem Wunder.\n",
      "\n",
      "Ok mariah carey war für schön echt hot uff\n",
      "\n",
      "omg fast vergessen zu duschen jesses mariah carey\n",
      "\n"
     ]
    }
   ],
   "source": [
    "import tweepy\n",
    "\n",
    "##################\n",
    "# Authentication #\n",
    "##################\n",
    "BEARER_TOKEN = \"AAAAAAAAAAAAAAAAAAAAAIaAZAEAAAAAIz%2Fcuc5Z3tIBbMb8miYAcTjnRQM%3Dnlv8yJsMpKiWXboX8CGNZIvMIUUabUGIZin7MQjJz7y29ImMHA\"\n",
    "\n",
    "client = tweepy.Client(\n",
    "    bearer_token=BEARER_TOKEN,\n",
    "    wait_on_rate_limit=True,\n",
    ")\n",
    "\n",
    "########################\n",
    "# Get User Information #\n",
    "########################\n",
    "\n",
    "# https://docs.tweepy.org/en/stable/client.html#tweepy.Client.get_user\n",
    "# https://developer.twitter.com/en/docs/twitter-api/data-dictionary/object-model/user\n",
    "\n",
    "response = client.get_user(\n",
    "    username='MariahCarey',\n",
    "    user_fields=['created_at', 'description', 'location',\n",
    "                 'public_metrics', 'profile_image_url']\n",
    ")\n",
    "\n",
    "user = response.data\n",
    "\n",
    "print(dict(user))\n",
    "\n",
    "\n",
    "#########################\n",
    "# Get a user's timeline #\n",
    "#########################\n",
    "\n",
    "# https://docs.tweepy.org/en/stable/pagination.html#tweepy.Paginator\n",
    "# https://docs.tweepy.org/en/stable/client.html#tweepy.Client.get_users_tweets\n",
    "# https://developer.twitter.com/en/docs/twitter-api/data-dictionary/object-model/tweet\n",
    "\n",
    "cursor = tweepy.Paginator(\n",
    "    method=client.get_users_tweets,\n",
    "    id=user.id,\n",
    "    exclude=['replies', 'retweets'],\n",
    "    tweet_fields=['author_id', 'created_at', 'public_metrics']\n",
    ").flatten(limit=20)\n",
    "\n",
    "for tweet in cursor:\n",
    "    print(tweet.text)\n",
    "\n",
    "\n",
    "#####################\n",
    "# Search for Tweets #\n",
    "#####################\n",
    "\n",
    "# https://docs.tweepy.org/en/stable/client.html#tweepy.Client.search_recent_tweets\n",
    "# https://developer.twitter.com/en/docs/twitter-api/tweets/search/integrate/build-a-query\n",
    "\n",
    "# - means NOT\n",
    "search_query = \"Mariah Carey -is:retweet -is:reply -is:quote lang:de -has:links\"\n",
    "\n",
    "cursor = tweepy.Paginator(\n",
    "    method=client.search_recent_tweets,\n",
    "    query=search_query,\n",
    "    tweet_fields=['author_id', 'created_at', 'public_metrics'],\n",
    ").flatten(limit=20)\n",
    "\n",
    "for tweet in cursor:\n",
    "    print(tweet.text+'\\n')\n"
   ]
  }
 ],
 "metadata": {
  "interpreter": {
   "hash": "f1cde6a754b3ba4c6616aaf8e76c7ab8fad7ea2d3e68dfb07703ef36b7f54395"
  },
  "kernelspec": {
   "display_name": "Python 3.8.8 ('base')",
   "language": "python",
   "name": "python3"
  },
  "language_info": {
   "codemirror_mode": {
    "name": "ipython",
    "version": 3
   },
   "file_extension": ".py",
   "mimetype": "text/x-python",
   "name": "python",
   "nbconvert_exporter": "python",
   "pygments_lexer": "ipython3",
   "version": "3.8.8"
  },
  "orig_nbformat": 4
 },
 "nbformat": 4,
 "nbformat_minor": 2
}
