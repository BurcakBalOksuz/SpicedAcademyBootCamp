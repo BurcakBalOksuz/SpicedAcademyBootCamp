{
 "cells": [
  {
   "cell_type": "markdown",
   "metadata": {},
   "source": [
    "# 6.4. Pymongo 🍃"
   ]
  },
  {
   "cell_type": "code",
   "execution_count": null,
   "metadata": {},
   "outputs": [],
   "source": []
  },
  {
   "cell_type": "code",
   "execution_count": 1,
   "metadata": {},
   "outputs": [
    {
     "data": {
      "text/html": [
       "\n",
       "        <iframe\n",
       "            width=\"1000\"\n",
       "            height=\"500\"\n",
       "            src=\"https://pymongo.readthedocs.io/en/stable/tutorial.html\"\n",
       "            frameborder=\"0\"\n",
       "            allowfullscreen\n",
       "            \n",
       "        ></iframe>\n",
       "        "
      ],
      "text/plain": [
       "<IPython.lib.display.IFrame at 0x105514fd0>"
      ]
     },
     "metadata": {},
     "output_type": "display_data"
    }
   ],
   "source": [
    "from IPython.display import IFrame\n",
    "documentation = IFrame(src='https://pymongo.readthedocs.io/en/stable/tutorial.html', width=1000, height=500)\n",
    "display(documentation)"
   ]
  },
  {
   "cell_type": "markdown",
   "metadata": {},
   "source": [
    "## 1. 3 ways of interacting with a MongoDB"
   ]
  },
  {
   "cell_type": "markdown",
   "metadata": {},
   "source": [
    "1.1 Install MongoDB locally\n",
    "\n",
    "1.2 Use Docker\n",
    "\n",
    ">Important Note: because I have both a local installation of MongoDB and a container running MongoDB, I have to change the port used for the container to 27027 instead of the default 27017\n",
    "\n",
    "* docker run --name mymon -it -d -p 27027:27017 mongo\n",
    "    \n",
    "* docker exec -it mymon mongo\n",
    "\n",
    "3. pymongo python package"
   ]
  },
  {
   "cell_type": "code",
   "execution_count": null,
   "metadata": {},
   "outputs": [],
   "source": [
    "#!pip3 install pymongo\n"
   ]
  },
  {
   "cell_type": "code",
   "execution_count": 2,
   "metadata": {},
   "outputs": [],
   "source": [
    "# pymongo is the MongoDB equivalent of sqlalchemy\n",
    "import pymongo"
   ]
  },
  {
   "cell_type": "markdown",
   "metadata": {},
   "source": [
    "###  -  SQL and MongoDB command comparisons :\n",
    "\n",
    "|PostgreSQL|MongoDB|\n",
    "|---|---|\n",
    "|database|database|\n",
    "|table|collection|\n",
    "|row|document or BSON document|\n",
    "|column|field|\n",
    "|index|index|\n",
    "|table joins|embedded docuemnts and linking|\n",
    "|where| \\\\$match |\n",
    "|group by|\\\\$group |\n",
    "|count()|\\\\$sum|\n",
    "|order by|\\\\$sort|\n",
    "|limit|\\\\$limit|\n",
    "|select|\\\\$project|\n",
    "|having|\\\\$match|\n",
    "\n",
    "* Further reading : https://docs.mongodb.com/manual/reference/sql-aggregation-comparison/"
   ]
  },
  {
   "cell_type": "markdown",
   "metadata": {},
   "source": [
    "### - Toy example: with a very random dictionary\n",
    "\n"
   ]
  },
  {
   "cell_type": "code",
   "execution_count": 3,
   "metadata": {},
   "outputs": [],
   "source": [
    "cars = [ \n",
    "    {'color': 'black', 'size' : 'rather big', 'type' : 'sports' , 'price': '20000'},\n",
    "    {'color': 'red', 'size' : 'small', 'status': 'new', 'price': '12000'},\n",
    "    {'color': 'grey', 'status' : 'used' ,'price': 9000},\n",
    "    {'color': 'white', 'price': 29000, 'brand':'bmw'},\n",
    "    {'color': 'blue', 'status': 'new', 'price': 350000},\n",
    "    {'color': 'green', 'price': 21000, 'brand':'vw'},\n",
    "    {'color': 'purple', 'price': 41400, 'status':'new'}]\n"
   ]
  },
  {
   "cell_type": "markdown",
   "metadata": {},
   "source": [
    "### 1.2. Connect to the MongoDB server inside of the container"
   ]
  },
  {
   "cell_type": "markdown",
   "metadata": {},
   "source": [
    "* IMPORTANT: have the docker container (or a local installation running)"
   ]
  },
  {
   "cell_type": "code",
   "execution_count": 5,
   "metadata": {},
   "outputs": [],
   "source": [
    "\n",
    "client = pymongo.MongoClient(host='localhost', port=27017) \n",
    "db = client.testdb #creating a new local mongo db"
   ]
  },
  {
   "cell_type": "markdown",
   "metadata": {},
   "source": [
    "# 2. MongoDB basic commands"
   ]
  },
  {
   "cell_type": "markdown",
   "metadata": {},
   "source": [
    "| command| explanation |\n",
    "|-----------|---------|\n",
    "| `db` | current database |\n",
    "| `show dbs` | list of all databases |\n",
    "| `use database_name` |switch to a new database or existing one |\n",
    "| `show collections` | list of all collections in a database |\n",
    "| `db.createCollection(\"name_collection\")` | create a collection|\n",
    "| `db.name_collection.drop()` | drop a collection|\n",
    "| `db.DropDatabase()` | drop the current database |\n"
   ]
  },
  {
   "cell_type": "markdown",
   "metadata": {},
   "source": [
    "### 2.1. Choose a database"
   ]
  },
  {
   "cell_type": "code",
   "execution_count": 6,
   "metadata": {},
   "outputs": [],
   "source": [
    "db = client.spiced\n"
   ]
  },
  {
   "cell_type": "markdown",
   "metadata": {},
   "source": [
    "### 2.2. List all databases"
   ]
  },
  {
   "cell_type": "code",
   "execution_count": 7,
   "metadata": {},
   "outputs": [
    {
     "data": {
      "text/plain": [
       "['admin', 'config', 'local', 'spiced']"
      ]
     },
     "execution_count": 7,
     "metadata": {},
     "output_type": "execute_result"
    }
   ],
   "source": [
    "client.list_database_names()"
   ]
  },
  {
   "cell_type": "markdown",
   "metadata": {},
   "source": [
    "### 2.3. List of collections in the database you are using"
   ]
  },
  {
   "cell_type": "code",
   "execution_count": 8,
   "metadata": {},
   "outputs": [
    {
     "data": {
      "text/plain": [
       "['students']"
      ]
     },
     "execution_count": 8,
     "metadata": {},
     "output_type": "execute_result"
    }
   ],
   "source": [
    "db.list_collection_names()"
   ]
  },
  {
   "cell_type": "code",
   "execution_count": 9,
   "metadata": {},
   "outputs": [
    {
     "data": {
      "text/plain": [
       "<pymongo.results.InsertOneResult at 0x105dd1b80>"
      ]
     },
     "execution_count": 9,
     "metadata": {},
     "output_type": "execute_result"
    }
   ],
   "source": [
    "db.students.insert_one({'name': 'Mirna'})"
   ]
  },
  {
   "cell_type": "markdown",
   "metadata": {},
   "source": [
    "### 2.4. Create one new collection while inserting the first entry"
   ]
  },
  {
   "cell_type": "markdown",
   "metadata": {},
   "source": [
    "* collection.insert_one()"
   ]
  },
  {
   "cell_type": "code",
   "execution_count": 10,
   "metadata": {},
   "outputs": [
    {
     "data": {
      "text/plain": [
       "'spiced'"
      ]
     },
     "execution_count": 10,
     "metadata": {},
     "output_type": "execute_result"
    }
   ],
   "source": [
    "db.name"
   ]
  },
  {
   "cell_type": "code",
   "execution_count": 11,
   "metadata": {},
   "outputs": [],
   "source": [
    "neighbour_car = {'name':'big car outside campus', 'size':'big', 'color': 'black'}"
   ]
  },
  {
   "cell_type": "code",
   "execution_count": 12,
   "metadata": {},
   "outputs": [
    {
     "data": {
      "text/plain": [
       "<pymongo.results.InsertOneResult at 0x105ca73c0>"
      ]
     },
     "execution_count": 12,
     "metadata": {},
     "output_type": "execute_result"
    }
   ],
   "source": [
    "# Insert neighbour car into the collection\n",
    "db.cars.insert_one(neighbour_car)"
   ]
  },
  {
   "cell_type": "code",
   "execution_count": 13,
   "metadata": {},
   "outputs": [
    {
     "data": {
      "text/plain": [
       "<pymongo.results.InsertOneResult at 0x10745a9c0>"
      ]
     },
     "execution_count": 13,
     "metadata": {},
     "output_type": "execute_result"
    }
   ],
   "source": [
    "db.cars.insert_one({'name':'That Porsche', 'size':'normal', 'price': 'very expensive'})"
   ]
  },
  {
   "cell_type": "code",
   "execution_count": 14,
   "metadata": {},
   "outputs": [
    {
     "data": {
      "text/plain": [
       "2"
      ]
     },
     "execution_count": 14,
     "metadata": {},
     "output_type": "execute_result"
    }
   ],
   "source": [
    "db.cars.estimated_document_count()"
   ]
  },
  {
   "cell_type": "markdown",
   "metadata": {},
   "source": [
    "### 2.5. Take a look at the documents inside"
   ]
  },
  {
   "cell_type": "code",
   "execution_count": 16,
   "metadata": {},
   "outputs": [
    {
     "data": {
      "text/plain": [
       "{'_id': ObjectId('620bb1fbe882573a3874387e'),\n",
       " 'name': 'big car outside campus',\n",
       " 'size': 'big',\n",
       " 'color': 'black'}"
      ]
     },
     "execution_count": 16,
     "metadata": {},
     "output_type": "execute_result"
    }
   ],
   "source": [
    "db.cars.find_one()"
   ]
  },
  {
   "cell_type": "code",
   "execution_count": 17,
   "metadata": {},
   "outputs": [
    {
     "data": {
      "text/plain": [
       "[{'_id': ObjectId('620bb1fbe882573a3874387e'),\n",
       "  'name': 'big car outside campus',\n",
       "  'size': 'big',\n",
       "  'color': 'black'},\n",
       " {'_id': ObjectId('620bb1fce882573a3874387f'),\n",
       "  'name': 'That Porsche',\n",
       "  'size': 'normal',\n",
       "  'price': 'very expensive'}]"
      ]
     },
     "execution_count": 17,
     "metadata": {},
     "output_type": "execute_result"
    }
   ],
   "source": [
    "list(db.cars.find())"
   ]
  },
  {
   "cell_type": "code",
   "execution_count": 18,
   "metadata": {},
   "outputs": [],
   "source": [
    "cars_documents = db.cars.find()"
   ]
  },
  {
   "cell_type": "code",
   "execution_count": 19,
   "metadata": {},
   "outputs": [
    {
     "data": {
      "text/plain": [
       "{'_id': ObjectId('620bb1fbe882573a3874387e'),\n",
       " 'name': 'big car outside campus',\n",
       " 'size': 'big',\n",
       " 'color': 'black'}"
      ]
     },
     "execution_count": 19,
     "metadata": {},
     "output_type": "execute_result"
    }
   ],
   "source": [
    "next(cars_documents)"
   ]
  },
  {
   "cell_type": "code",
   "execution_count": 20,
   "metadata": {},
   "outputs": [
    {
     "name": "stdout",
     "output_type": "stream",
     "text": [
      "{'_id': ObjectId('620bb1fbe882573a3874387e'), 'name': 'big car outside campus', 'size': 'big', 'color': 'black'}\n",
      "{'_id': ObjectId('620bb1fce882573a3874387f'), 'name': 'That Porsche', 'size': 'normal', 'price': 'very expensive'}\n"
     ]
    }
   ],
   "source": [
    "for document in db.cars.find():\n",
    "    print(document)"
   ]
  },
  {
   "cell_type": "markdown",
   "metadata": {},
   "source": [
    "### 2.6. Insert the complete dictionary"
   ]
  },
  {
   "cell_type": "markdown",
   "metadata": {},
   "source": [
    "* collection.insert_many()"
   ]
  },
  {
   "cell_type": "code",
   "execution_count": 21,
   "metadata": {},
   "outputs": [
    {
     "data": {
      "text/plain": [
       "[{'color': 'black', 'size': 'rather big', 'type': 'sports', 'price': '20000'},\n",
       " {'color': 'red', 'size': 'small', 'status': 'new', 'price': '12000'},\n",
       " {'color': 'grey', 'status': 'used', 'price': 9000},\n",
       " {'color': 'white', 'price': 29000, 'brand': 'bmw'},\n",
       " {'color': 'blue', 'status': 'new', 'price': 350000},\n",
       " {'color': 'green', 'price': 21000, 'brand': 'vw'},\n",
       " {'color': 'purple', 'price': 41400, 'status': 'new'}]"
      ]
     },
     "execution_count": 21,
     "metadata": {},
     "output_type": "execute_result"
    }
   ],
   "source": [
    "cars"
   ]
  },
  {
   "cell_type": "code",
   "execution_count": 22,
   "metadata": {},
   "outputs": [
    {
     "data": {
      "text/plain": [
       "<pymongo.results.InsertManyResult at 0x105500e40>"
      ]
     },
     "execution_count": 22,
     "metadata": {},
     "output_type": "execute_result"
    }
   ],
   "source": [
    "db.cars.insert_many(cars)"
   ]
  },
  {
   "cell_type": "code",
   "execution_count": 23,
   "metadata": {},
   "outputs": [
    {
     "data": {
      "text/plain": [
       "9"
      ]
     },
     "execution_count": 23,
     "metadata": {},
     "output_type": "execute_result"
    }
   ],
   "source": [
    "db.cars.estimated_document_count()"
   ]
  },
  {
   "cell_type": "code",
   "execution_count": null,
   "metadata": {},
   "outputs": [],
   "source": [
    "### Insert result of \"query\" driectly into pandas"
   ]
  },
  {
   "cell_type": "code",
   "execution_count": 24,
   "metadata": {},
   "outputs": [],
   "source": [
    "import pandas as pd"
   ]
  },
  {
   "cell_type": "code",
   "execution_count": 25,
   "metadata": {},
   "outputs": [
    {
     "data": {
      "text/html": [
       "<div>\n",
       "<style scoped>\n",
       "    .dataframe tbody tr th:only-of-type {\n",
       "        vertical-align: middle;\n",
       "    }\n",
       "\n",
       "    .dataframe tbody tr th {\n",
       "        vertical-align: top;\n",
       "    }\n",
       "\n",
       "    .dataframe thead th {\n",
       "        text-align: right;\n",
       "    }\n",
       "</style>\n",
       "<table border=\"1\" class=\"dataframe\">\n",
       "  <thead>\n",
       "    <tr style=\"text-align: right;\">\n",
       "      <th></th>\n",
       "      <th>_id</th>\n",
       "      <th>name</th>\n",
       "      <th>size</th>\n",
       "      <th>color</th>\n",
       "      <th>price</th>\n",
       "      <th>type</th>\n",
       "      <th>status</th>\n",
       "      <th>brand</th>\n",
       "    </tr>\n",
       "  </thead>\n",
       "  <tbody>\n",
       "    <tr>\n",
       "      <th>0</th>\n",
       "      <td>620bb1fbe882573a3874387e</td>\n",
       "      <td>big car outside campus</td>\n",
       "      <td>big</td>\n",
       "      <td>black</td>\n",
       "      <td>NaN</td>\n",
       "      <td>NaN</td>\n",
       "      <td>NaN</td>\n",
       "      <td>NaN</td>\n",
       "    </tr>\n",
       "    <tr>\n",
       "      <th>1</th>\n",
       "      <td>620bb1fce882573a3874387f</td>\n",
       "      <td>That Porsche</td>\n",
       "      <td>normal</td>\n",
       "      <td>NaN</td>\n",
       "      <td>very expensive</td>\n",
       "      <td>NaN</td>\n",
       "      <td>NaN</td>\n",
       "      <td>NaN</td>\n",
       "    </tr>\n",
       "    <tr>\n",
       "      <th>2</th>\n",
       "      <td>620bb258e882573a38743880</td>\n",
       "      <td>NaN</td>\n",
       "      <td>rather big</td>\n",
       "      <td>black</td>\n",
       "      <td>20000</td>\n",
       "      <td>sports</td>\n",
       "      <td>NaN</td>\n",
       "      <td>NaN</td>\n",
       "    </tr>\n",
       "    <tr>\n",
       "      <th>3</th>\n",
       "      <td>620bb258e882573a38743881</td>\n",
       "      <td>NaN</td>\n",
       "      <td>small</td>\n",
       "      <td>red</td>\n",
       "      <td>12000</td>\n",
       "      <td>NaN</td>\n",
       "      <td>new</td>\n",
       "      <td>NaN</td>\n",
       "    </tr>\n",
       "    <tr>\n",
       "      <th>4</th>\n",
       "      <td>620bb258e882573a38743882</td>\n",
       "      <td>NaN</td>\n",
       "      <td>NaN</td>\n",
       "      <td>grey</td>\n",
       "      <td>9000</td>\n",
       "      <td>NaN</td>\n",
       "      <td>used</td>\n",
       "      <td>NaN</td>\n",
       "    </tr>\n",
       "    <tr>\n",
       "      <th>5</th>\n",
       "      <td>620bb258e882573a38743883</td>\n",
       "      <td>NaN</td>\n",
       "      <td>NaN</td>\n",
       "      <td>white</td>\n",
       "      <td>29000</td>\n",
       "      <td>NaN</td>\n",
       "      <td>NaN</td>\n",
       "      <td>bmw</td>\n",
       "    </tr>\n",
       "    <tr>\n",
       "      <th>6</th>\n",
       "      <td>620bb258e882573a38743884</td>\n",
       "      <td>NaN</td>\n",
       "      <td>NaN</td>\n",
       "      <td>blue</td>\n",
       "      <td>350000</td>\n",
       "      <td>NaN</td>\n",
       "      <td>new</td>\n",
       "      <td>NaN</td>\n",
       "    </tr>\n",
       "    <tr>\n",
       "      <th>7</th>\n",
       "      <td>620bb258e882573a38743885</td>\n",
       "      <td>NaN</td>\n",
       "      <td>NaN</td>\n",
       "      <td>green</td>\n",
       "      <td>21000</td>\n",
       "      <td>NaN</td>\n",
       "      <td>NaN</td>\n",
       "      <td>vw</td>\n",
       "    </tr>\n",
       "    <tr>\n",
       "      <th>8</th>\n",
       "      <td>620bb258e882573a38743886</td>\n",
       "      <td>NaN</td>\n",
       "      <td>NaN</td>\n",
       "      <td>purple</td>\n",
       "      <td>41400</td>\n",
       "      <td>NaN</td>\n",
       "      <td>new</td>\n",
       "      <td>NaN</td>\n",
       "    </tr>\n",
       "  </tbody>\n",
       "</table>\n",
       "</div>"
      ],
      "text/plain": [
       "                        _id                    name        size   color  \\\n",
       "0  620bb1fbe882573a3874387e  big car outside campus         big   black   \n",
       "1  620bb1fce882573a3874387f            That Porsche      normal     NaN   \n",
       "2  620bb258e882573a38743880                     NaN  rather big   black   \n",
       "3  620bb258e882573a38743881                     NaN       small     red   \n",
       "4  620bb258e882573a38743882                     NaN         NaN    grey   \n",
       "5  620bb258e882573a38743883                     NaN         NaN   white   \n",
       "6  620bb258e882573a38743884                     NaN         NaN    blue   \n",
       "7  620bb258e882573a38743885                     NaN         NaN   green   \n",
       "8  620bb258e882573a38743886                     NaN         NaN  purple   \n",
       "\n",
       "            price    type status brand  \n",
       "0             NaN     NaN    NaN   NaN  \n",
       "1  very expensive     NaN    NaN   NaN  \n",
       "2           20000  sports    NaN   NaN  \n",
       "3           12000     NaN    new   NaN  \n",
       "4            9000     NaN   used   NaN  \n",
       "5           29000     NaN    NaN   bmw  \n",
       "6          350000     NaN    new   NaN  \n",
       "7           21000     NaN    NaN    vw  \n",
       "8           41400     NaN    new   NaN  "
      ]
     },
     "execution_count": 25,
     "metadata": {},
     "output_type": "execute_result"
    }
   ],
   "source": [
    "pd.DataFrame(db.cars.find())"
   ]
  },
  {
   "cell_type": "markdown",
   "metadata": {},
   "source": [
    "### 2.7. Drop collection"
   ]
  },
  {
   "cell_type": "code",
   "execution_count": 26,
   "metadata": {},
   "outputs": [],
   "source": [
    "db.cars.drop()"
   ]
  },
  {
   "cell_type": "markdown",
   "metadata": {},
   "source": [
    "## 3. Next steps\n",
    "\n"
   ]
  },
  {
   "cell_type": "markdown",
   "metadata": {},
   "source": [
    "* Create image and then container that streams the tweets from twitter (Dockerfile, requirements.txt, get_tweets.py)\n",
    "* Create a MongoDB container (already did this)\n",
    "* Include pymongo in your get_tweets.py file to write the tweets into the MongoDB database inside of the container\n",
    "\n"
   ]
  },
  {
   "cell_type": "markdown",
   "metadata": {},
   "source": [
    "#### What to add to your get_tweets script? "
   ]
  },
  {
   "cell_type": "markdown",
   "metadata": {},
   "source": [
    "\n",
    "    \n",
    "    client = pymongo.MongoClient(\"mongodb://mongodb:27017/\")\n",
    "    db = client.twitter\n",
    "    collection = db.tweets\n",
    "    db.tweets.insert_one(tweet)\n",
    "\n",
    "    "
   ]
  },
  {
   "cell_type": "markdown",
   "metadata": {},
   "source": [
    "* Pymongo Cheetsheet: https://developer.mongodb.com/quickstart/cheat-sheet/"
   ]
  },
  {
   "cell_type": "markdown",
   "metadata": {},
   "source": [
    "### BONUS :\n",
    "CRUD operations\n",
    "https://docs.mongodb.com/manual/tutorial/remove-documents/"
   ]
  },
  {
   "cell_type": "code",
   "execution_count": null,
   "metadata": {},
   "outputs": [],
   "source": []
  }
 ],
 "metadata": {
  "kernelspec": {
   "display_name": "Python 3 (ipykernel)",
   "language": "python",
   "name": "python3"
  },
  "language_info": {
   "codemirror_mode": {
    "name": "ipython",
    "version": 3
   },
   "file_extension": ".py",
   "mimetype": "text/x-python",
   "name": "python",
   "nbconvert_exporter": "python",
   "pygments_lexer": "ipython3",
   "version": "3.9.7"
  }
 },
 "nbformat": 4,
 "nbformat_minor": 4
}
