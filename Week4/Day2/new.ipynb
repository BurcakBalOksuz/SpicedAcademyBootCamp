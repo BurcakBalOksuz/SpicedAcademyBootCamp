{
 "cells": [
  {
   "cell_type": "code",
   "execution_count": 1,
   "metadata": {},
   "outputs": [],
   "source": [
    "import numpy as np\n",
    "import re\n",
    "import pandas as pd\n",
    "from sklearn.model_selection import train_test_split\n",
    "\n",
    "from sklearn.feature_extraction.text import CountVectorizer,TfidfTransformer\n",
    "from sklearn.feature_extraction.text import TfidfVectorizer\n",
    "\n",
    "from sklearn.linear_model import LogisticRegression\n",
    "from sklearn.pipeline import Pipeline\n",
    "from sklearn.naive_bayes import MultinomialNB\n",
    "from sklearn.metrics import accuracy_score\n",
    "from sklearn.compose import ColumnTransformer\n",
    "from sklearn.metrics import accuracy_score, recall_score, precision_score, ConfusionMatrixDisplay,f1_score\n",
    "from sklearn.ensemble import RandomForestClassifier"
   ]
  },
  {
   "cell_type": "code",
   "execution_count": 2,
   "metadata": {},
   "outputs": [],
   "source": [
    "def islem_csv(table):\n",
    "    df=pd.read_csv(table)\n",
    "    df=df.drop(\"Unnamed: 0\",axis=1)\n",
    "    df=df.drop_duplicates(subset=[\"Lyrics\"])\n",
    "    return df\n"
   ]
  },
  {
   "cell_type": "code",
   "execution_count": null,
   "metadata": {},
   "outputs": [],
   "source": [
    "df=islem_csv(\"final_cold_lyrics_df.csv\")\n",
    "df"
   ]
  },
  {
   "cell_type": "code",
   "execution_count": 28,
   "metadata": {},
   "outputs": [],
   "source": [
    "def kak(tables):\n",
    "    df=pd.DataFrame()\n",
    "    for iter in range(len(tables)):\n",
    "        df_temp=islem_csv(tables[iter])\n",
    "        df=pd.concat([df,df_temp],axis=0)\n",
    "    return df\n",
    "\n"
   ]
  },
  {
   "cell_type": "code",
   "execution_count": 29,
   "metadata": {},
   "outputs": [],
   "source": [
    "x=\"final_cold_lyrics_df.csv\"\n",
    "y=\"final_lyrics_dataf.csv\""
   ]
  },
  {
   "cell_type": "code",
   "execution_count": 30,
   "metadata": {},
   "outputs": [],
   "source": [
    "tables=[x,y]"
   ]
  },
  {
   "cell_type": "code",
   "execution_count": 31,
   "metadata": {},
   "outputs": [],
   "source": [
    "df=kak(tables)"
   ]
  },
  {
   "cell_type": "code",
   "execution_count": 32,
   "metadata": {},
   "outputs": [
    {
     "data": {
      "text/html": [
       "<div>\n",
       "<style scoped>\n",
       "    .dataframe tbody tr th:only-of-type {\n",
       "        vertical-align: middle;\n",
       "    }\n",
       "\n",
       "    .dataframe tbody tr th {\n",
       "        vertical-align: top;\n",
       "    }\n",
       "\n",
       "    .dataframe thead th {\n",
       "        text-align: right;\n",
       "    }\n",
       "</style>\n",
       "<table border=\"1\" class=\"dataframe\">\n",
       "  <thead>\n",
       "    <tr style=\"text-align: right;\">\n",
       "      <th></th>\n",
       "      <th>Artist</th>\n",
       "      <th>Link</th>\n",
       "      <th>Lyrics</th>\n",
       "    </tr>\n",
       "  </thead>\n",
       "  <tbody>\n",
       "    <tr>\n",
       "      <th>0</th>\n",
       "      <td>Coldplay</td>\n",
       "      <td>https://www.lyrics.com/lyric/36071584/Coldplay...</td>\n",
       "      <td>['Come up to meet you ', \"Tell you I'm sorry\",...</td>\n",
       "    </tr>\n",
       "    <tr>\n",
       "      <th>1</th>\n",
       "      <td>Coldplay</td>\n",
       "      <td>https://www.lyrics.com/lyric/36071412/Coldplay...</td>\n",
       "      <td>['Drink from me, drink from me (oh-ah-oh-ah)',...</td>\n",
       "    </tr>\n",
       "    <tr>\n",
       "      <th>2</th>\n",
       "      <td>Coldplay</td>\n",
       "      <td>https://www.lyrics.com/lyric/36071458/Coldplay...</td>\n",
       "      <td>['I used to rule the world', 'Seas would rise ...</td>\n",
       "    </tr>\n",
       "    <tr>\n",
       "      <th>3</th>\n",
       "      <td>Coldplay</td>\n",
       "      <td>https://www.lyrics.com/lyric/36571863/Coldplay...</td>\n",
       "      <td>['Christmas night, another fight', 'Tears we c...</td>\n",
       "    </tr>\n",
       "    <tr>\n",
       "      <th>7</th>\n",
       "      <td>Coldplay</td>\n",
       "      <td>https://www.lyrics.com/lyric/36037614/Coldplay...</td>\n",
       "      <td>['This being human is a guest house', 'Every m...</td>\n",
       "    </tr>\n",
       "    <tr>\n",
       "      <th>...</th>\n",
       "      <td>...</td>\n",
       "      <td>...</td>\n",
       "      <td>...</td>\n",
       "    </tr>\n",
       "    <tr>\n",
       "      <th>493</th>\n",
       "      <td>Radiohead</td>\n",
       "      <td>https://www.lyrics.com/lyric/26539319/Radiohea...</td>\n",
       "      <td>['The mongrel cat came home', 'Holding half a ...</td>\n",
       "    </tr>\n",
       "    <tr>\n",
       "      <th>496</th>\n",
       "      <td>Radiohead</td>\n",
       "      <td>https://www.lyrics.com/lyric/26546518/Radiohea...</td>\n",
       "      <td>['I will', 'Lay me down', 'In a bunker', 'Unde...</td>\n",
       "    </tr>\n",
       "    <tr>\n",
       "      <th>497</th>\n",
       "      <td>Radiohead</td>\n",
       "      <td>https://www.lyrics.com/lyric/30604469/Radiohea...</td>\n",
       "      <td>['Blow into this paperbag,', 'Go home, stop gr...</td>\n",
       "    </tr>\n",
       "    <tr>\n",
       "      <th>498</th>\n",
       "      <td>Radiohead</td>\n",
       "      <td>https://www.lyrics.com/lyric/30604468/Radiohea...</td>\n",
       "      <td>['Mother Mary come for me', 'For I am a wicked...</td>\n",
       "    </tr>\n",
       "    <tr>\n",
       "      <th>499</th>\n",
       "      <td>Radiohead</td>\n",
       "      <td>https://www.lyrics.com/lyric/30604467/Radiohea...</td>\n",
       "      <td>[\"I'm Looking at you for a minute 900 people d...</td>\n",
       "    </tr>\n",
       "  </tbody>\n",
       "</table>\n",
       "<p>324 rows × 3 columns</p>\n",
       "</div>"
      ],
      "text/plain": [
       "        Artist                                               Link  \\\n",
       "0     Coldplay  https://www.lyrics.com/lyric/36071584/Coldplay...   \n",
       "1     Coldplay  https://www.lyrics.com/lyric/36071412/Coldplay...   \n",
       "2     Coldplay  https://www.lyrics.com/lyric/36071458/Coldplay...   \n",
       "3     Coldplay  https://www.lyrics.com/lyric/36571863/Coldplay...   \n",
       "7     Coldplay  https://www.lyrics.com/lyric/36037614/Coldplay...   \n",
       "..         ...                                                ...   \n",
       "493  Radiohead  https://www.lyrics.com/lyric/26539319/Radiohea...   \n",
       "496  Radiohead  https://www.lyrics.com/lyric/26546518/Radiohea...   \n",
       "497  Radiohead  https://www.lyrics.com/lyric/30604469/Radiohea...   \n",
       "498  Radiohead  https://www.lyrics.com/lyric/30604468/Radiohea...   \n",
       "499  Radiohead  https://www.lyrics.com/lyric/30604467/Radiohea...   \n",
       "\n",
       "                                                Lyrics  \n",
       "0    ['Come up to meet you ', \"Tell you I'm sorry\",...  \n",
       "1    ['Drink from me, drink from me (oh-ah-oh-ah)',...  \n",
       "2    ['I used to rule the world', 'Seas would rise ...  \n",
       "3    ['Christmas night, another fight', 'Tears we c...  \n",
       "7    ['This being human is a guest house', 'Every m...  \n",
       "..                                                 ...  \n",
       "493  ['The mongrel cat came home', 'Holding half a ...  \n",
       "496  ['I will', 'Lay me down', 'In a bunker', 'Unde...  \n",
       "497  ['Blow into this paperbag,', 'Go home, stop gr...  \n",
       "498  ['Mother Mary come for me', 'For I am a wicked...  \n",
       "499  [\"I'm Looking at you for a minute 900 people d...  \n",
       "\n",
       "[324 rows x 3 columns]"
      ]
     },
     "execution_count": 32,
     "metadata": {},
     "output_type": "execute_result"
    }
   ],
   "source": [
    "df"
   ]
  },
  {
   "cell_type": "code",
   "execution_count": null,
   "metadata": {},
   "outputs": [],
   "source": []
  }
 ],
 "metadata": {
  "interpreter": {
   "hash": "f1cde6a754b3ba4c6616aaf8e76c7ab8fad7ea2d3e68dfb07703ef36b7f54395"
  },
  "kernelspec": {
   "display_name": "Python 3.8.8 64-bit ('base': conda)",
   "language": "python",
   "name": "python3"
  },
  "language_info": {
   "codemirror_mode": {
    "name": "ipython",
    "version": 3
   },
   "file_extension": ".py",
   "mimetype": "text/x-python",
   "name": "python",
   "nbconvert_exporter": "python",
   "pygments_lexer": "ipython3",
   "version": "3.8.8"
  },
  "orig_nbformat": 4
 },
 "nbformat": 4,
 "nbformat_minor": 2
}
