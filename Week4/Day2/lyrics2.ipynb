{
 "cells": [
  {
   "cell_type": "code",
   "execution_count": 1,
   "metadata": {},
   "outputs": [],
   "source": [
    "import numpy as np\n",
    "import re\n",
    "import pandas as pd\n",
    "from sklearn.model_selection import train_test_split\n",
    "\n",
    "from sklearn.feature_extraction.text import CountVectorizer,TfidfTransformer\n",
    "from sklearn.feature_extraction.text import TfidfVectorizer\n",
    "\n",
    "from sklearn.linear_model import LogisticRegression\n",
    "from sklearn.pipeline import Pipeline\n",
    "from sklearn.naive_bayes import MultinomialNB\n",
    "from sklearn.metrics import accuracy_score\n",
    "from sklearn.compose import ColumnTransformer\n",
    "from sklearn.metrics import accuracy_score, recall_score, precision_score, ConfusionMatrixDisplay,f1_score\n",
    "from sklearn.ensemble import RandomForestClassifier\n",
    "\n"
   ]
  },
  {
   "cell_type": "code",
   "execution_count": 2,
   "metadata": {},
   "outputs": [],
   "source": [
    "def make_df_ready(name_csv):\n",
    "    df=pd.read_csv(name_csv)\n",
    "    df=df.drop(\"Unnamed: 0\",axis=1)\n",
    "    df=df.drop_duplicates(subset=[\"Lyrics\"])\n",
    "    df.reset_index(drop=True,inplace=True)\n",
    "    return df\n",
    "\n",
    "def prepare_final_df(name_csv_table):\n",
    "    final_df=pd.DataFrame()\n",
    "    for iter in range(len(name_csv_table)):\n",
    "        final_df_temp=make_df_ready(name_csv_table[iter])\n",
    "        final_df = pd.concat([final_df, final_df_temp], axis=0)\n",
    "    return final_df\n",
    "    \n",
    "def printEvaluations (clf, X_train, X_test, y_test):        \n",
    "    \"\"\"Returns Confusion Matrix and relevant metrics for predictions of classifiers.\n",
    "    Takes classification model and split data.\"\"\"\n",
    "    #clf.fit(X_train, y_train)\n",
    "    y_pred = clf.predict(X_test)   \n",
    "    print(f'How does model {clf} score:')\n",
    "    print(f'The accuracy of the model is: {round(accuracy_score(y_test, y_pred), 3)}')\n",
    "    print(f'The precision of the model is: {round(precision_score(y_test, y_pred), 3)}')\n",
    "    print(f'The recall of the model is: {round(recall_score(y_test, y_pred), 3)}')\n",
    "\n",
    "    #print confusion matrix\n",
    "    ConfusionMatrixDisplay.from_estimator(clf, X_test, y_test, cmap='Greens')"
   ]
  },
  {
   "cell_type": "code",
   "execution_count": 3,
   "metadata": {},
   "outputs": [],
   "source": [
    "name_csv_radiohead=\"final_lyrics_dataf.csv\"\n",
    "name_csv_coldplay=\"final_cold_lyrics_df.csv\"\n",
    "name_csv_table=[name_csv_radiohead,name_csv_coldplay]"
   ]
  },
  {
   "cell_type": "code",
   "execution_count": 4,
   "metadata": {},
   "outputs": [
    {
     "data": {
      "text/html": [
       "<div>\n",
       "<style scoped>\n",
       "    .dataframe tbody tr th:only-of-type {\n",
       "        vertical-align: middle;\n",
       "    }\n",
       "\n",
       "    .dataframe tbody tr th {\n",
       "        vertical-align: top;\n",
       "    }\n",
       "\n",
       "    .dataframe thead th {\n",
       "        text-align: right;\n",
       "    }\n",
       "</style>\n",
       "<table border=\"1\" class=\"dataframe\">\n",
       "  <thead>\n",
       "    <tr style=\"text-align: right;\">\n",
       "      <th></th>\n",
       "      <th>Artist</th>\n",
       "      <th>Link</th>\n",
       "      <th>Lyrics</th>\n",
       "    </tr>\n",
       "  </thead>\n",
       "  <tbody>\n",
       "    <tr>\n",
       "      <th>0</th>\n",
       "      <td>Radiohead</td>\n",
       "      <td>https://www.lyrics.com/lyric/33903378/Radiohea...</td>\n",
       "      <td>['Karma police', 'Arrest this man', 'He talks ...</td>\n",
       "    </tr>\n",
       "    <tr>\n",
       "      <th>1</th>\n",
       "      <td>Radiohead</td>\n",
       "      <td>https://www.lyrics.com/lyric/33740754/Radiohea...</td>\n",
       "      <td>['Dreamers', 'They never learn', 'They never l...</td>\n",
       "    </tr>\n",
       "    <tr>\n",
       "      <th>2</th>\n",
       "      <td>Radiohead</td>\n",
       "      <td>https://www.lyrics.com/lyric/34465042/Radiohea...</td>\n",
       "      <td>[\"You don't wanna talk to me,\", \"You don't wan...</td>\n",
       "    </tr>\n",
       "    <tr>\n",
       "      <th>3</th>\n",
       "      <td>Radiohead</td>\n",
       "      <td>https://www.lyrics.com/lyric/32911902/Radiohea...</td>\n",
       "      <td>['Stay in the shadows', 'Cheer at the gallows'...</td>\n",
       "    </tr>\n",
       "    <tr>\n",
       "      <th>4</th>\n",
       "      <td>Radiohead</td>\n",
       "      <td>https://www.lyrics.com/lyric/33446757/Radiohea...</td>\n",
       "      <td>['Then in your life, there comes the darkness'...</td>\n",
       "    </tr>\n",
       "    <tr>\n",
       "      <th>...</th>\n",
       "      <td>...</td>\n",
       "      <td>...</td>\n",
       "      <td>...</td>\n",
       "    </tr>\n",
       "    <tr>\n",
       "      <th>147</th>\n",
       "      <td>Coldplay</td>\n",
       "      <td>https://www.lyrics.com/lyric/24835413/Coldplay...</td>\n",
       "      <td>['Steal my heart and hold my tongue', 'I feel ...</td>\n",
       "    </tr>\n",
       "    <tr>\n",
       "      <th>148</th>\n",
       "      <td>Coldplay</td>\n",
       "      <td>https://www.lyrics.com/lyric/18658647/Coldplay...</td>\n",
       "      <td>[\"There's a wild wind blowing,\", 'Down the cor...</td>\n",
       "    </tr>\n",
       "    <tr>\n",
       "      <th>149</th>\n",
       "      <td>Coldplay</td>\n",
       "      <td>https://www.lyrics.com/lyric/36007329/Coldplay...</td>\n",
       "      <td>['Lovers keep on the road your on', 'Runners u...</td>\n",
       "    </tr>\n",
       "    <tr>\n",
       "      <th>150</th>\n",
       "      <td>Coldplay</td>\n",
       "      <td>https://www.lyrics.com/lyric/19568673/Coldplay...</td>\n",
       "      <td>['How long before I get in?', 'Before it start...</td>\n",
       "    </tr>\n",
       "    <tr>\n",
       "      <th>151</th>\n",
       "      <td>Coldplay</td>\n",
       "      <td>https://www.lyrics.com/lyric/17202960/Coldplay...</td>\n",
       "      <td>[\"Just because I'm losing\", \"Doesn't mean I'm ...</td>\n",
       "    </tr>\n",
       "  </tbody>\n",
       "</table>\n",
       "<p>324 rows × 3 columns</p>\n",
       "</div>"
      ],
      "text/plain": [
       "        Artist                                               Link  \\\n",
       "0    Radiohead  https://www.lyrics.com/lyric/33903378/Radiohea...   \n",
       "1    Radiohead  https://www.lyrics.com/lyric/33740754/Radiohea...   \n",
       "2    Radiohead  https://www.lyrics.com/lyric/34465042/Radiohea...   \n",
       "3    Radiohead  https://www.lyrics.com/lyric/32911902/Radiohea...   \n",
       "4    Radiohead  https://www.lyrics.com/lyric/33446757/Radiohea...   \n",
       "..         ...                                                ...   \n",
       "147   Coldplay  https://www.lyrics.com/lyric/24835413/Coldplay...   \n",
       "148   Coldplay  https://www.lyrics.com/lyric/18658647/Coldplay...   \n",
       "149   Coldplay  https://www.lyrics.com/lyric/36007329/Coldplay...   \n",
       "150   Coldplay  https://www.lyrics.com/lyric/19568673/Coldplay...   \n",
       "151   Coldplay  https://www.lyrics.com/lyric/17202960/Coldplay...   \n",
       "\n",
       "                                                Lyrics  \n",
       "0    ['Karma police', 'Arrest this man', 'He talks ...  \n",
       "1    ['Dreamers', 'They never learn', 'They never l...  \n",
       "2    [\"You don't wanna talk to me,\", \"You don't wan...  \n",
       "3    ['Stay in the shadows', 'Cheer at the gallows'...  \n",
       "4    ['Then in your life, there comes the darkness'...  \n",
       "..                                                 ...  \n",
       "147  ['Steal my heart and hold my tongue', 'I feel ...  \n",
       "148  [\"There's a wild wind blowing,\", 'Down the cor...  \n",
       "149  ['Lovers keep on the road your on', 'Runners u...  \n",
       "150  ['How long before I get in?', 'Before it start...  \n",
       "151  [\"Just because I'm losing\", \"Doesn't mean I'm ...  \n",
       "\n",
       "[324 rows x 3 columns]"
      ]
     },
     "execution_count": 4,
     "metadata": {},
     "output_type": "execute_result"
    }
   ],
   "source": [
    "result=prepare_final_df(name_csv_table)\n",
    "result"
   ]
  },
  {
   "cell_type": "code",
   "execution_count": 5,
   "metadata": {},
   "outputs": [
    {
     "data": {
      "text/html": [
       "<div>\n",
       "<style scoped>\n",
       "    .dataframe tbody tr th:only-of-type {\n",
       "        vertical-align: middle;\n",
       "    }\n",
       "\n",
       "    .dataframe tbody tr th {\n",
       "        vertical-align: top;\n",
       "    }\n",
       "\n",
       "    .dataframe thead th {\n",
       "        text-align: right;\n",
       "    }\n",
       "</style>\n",
       "<table border=\"1\" class=\"dataframe\">\n",
       "  <thead>\n",
       "    <tr style=\"text-align: right;\">\n",
       "      <th></th>\n",
       "      <th>Artist</th>\n",
       "      <th>Link</th>\n",
       "      <th>Lyrics</th>\n",
       "    </tr>\n",
       "  </thead>\n",
       "  <tbody>\n",
       "    <tr>\n",
       "      <th>0</th>\n",
       "      <td>0</td>\n",
       "      <td>https://www.lyrics.com/lyric/33903378/Radiohea...</td>\n",
       "      <td>['Karma police', 'Arrest this man', 'He talks ...</td>\n",
       "    </tr>\n",
       "    <tr>\n",
       "      <th>1</th>\n",
       "      <td>0</td>\n",
       "      <td>https://www.lyrics.com/lyric/33740754/Radiohea...</td>\n",
       "      <td>['Dreamers', 'They never learn', 'They never l...</td>\n",
       "    </tr>\n",
       "    <tr>\n",
       "      <th>2</th>\n",
       "      <td>0</td>\n",
       "      <td>https://www.lyrics.com/lyric/34465042/Radiohea...</td>\n",
       "      <td>[\"You don't wanna talk to me,\", \"You don't wan...</td>\n",
       "    </tr>\n",
       "    <tr>\n",
       "      <th>3</th>\n",
       "      <td>0</td>\n",
       "      <td>https://www.lyrics.com/lyric/32911902/Radiohea...</td>\n",
       "      <td>['Stay in the shadows', 'Cheer at the gallows'...</td>\n",
       "    </tr>\n",
       "    <tr>\n",
       "      <th>4</th>\n",
       "      <td>0</td>\n",
       "      <td>https://www.lyrics.com/lyric/33446757/Radiohea...</td>\n",
       "      <td>['Then in your life, there comes the darkness'...</td>\n",
       "    </tr>\n",
       "    <tr>\n",
       "      <th>...</th>\n",
       "      <td>...</td>\n",
       "      <td>...</td>\n",
       "      <td>...</td>\n",
       "    </tr>\n",
       "    <tr>\n",
       "      <th>147</th>\n",
       "      <td>1</td>\n",
       "      <td>https://www.lyrics.com/lyric/24835413/Coldplay...</td>\n",
       "      <td>['Steal my heart and hold my tongue', 'I feel ...</td>\n",
       "    </tr>\n",
       "    <tr>\n",
       "      <th>148</th>\n",
       "      <td>1</td>\n",
       "      <td>https://www.lyrics.com/lyric/18658647/Coldplay...</td>\n",
       "      <td>[\"There's a wild wind blowing,\", 'Down the cor...</td>\n",
       "    </tr>\n",
       "    <tr>\n",
       "      <th>149</th>\n",
       "      <td>1</td>\n",
       "      <td>https://www.lyrics.com/lyric/36007329/Coldplay...</td>\n",
       "      <td>['Lovers keep on the road your on', 'Runners u...</td>\n",
       "    </tr>\n",
       "    <tr>\n",
       "      <th>150</th>\n",
       "      <td>1</td>\n",
       "      <td>https://www.lyrics.com/lyric/19568673/Coldplay...</td>\n",
       "      <td>['How long before I get in?', 'Before it start...</td>\n",
       "    </tr>\n",
       "    <tr>\n",
       "      <th>151</th>\n",
       "      <td>1</td>\n",
       "      <td>https://www.lyrics.com/lyric/17202960/Coldplay...</td>\n",
       "      <td>[\"Just because I'm losing\", \"Doesn't mean I'm ...</td>\n",
       "    </tr>\n",
       "  </tbody>\n",
       "</table>\n",
       "<p>324 rows × 3 columns</p>\n",
       "</div>"
      ],
      "text/plain": [
       "     Artist                                               Link  \\\n",
       "0         0  https://www.lyrics.com/lyric/33903378/Radiohea...   \n",
       "1         0  https://www.lyrics.com/lyric/33740754/Radiohea...   \n",
       "2         0  https://www.lyrics.com/lyric/34465042/Radiohea...   \n",
       "3         0  https://www.lyrics.com/lyric/32911902/Radiohea...   \n",
       "4         0  https://www.lyrics.com/lyric/33446757/Radiohea...   \n",
       "..      ...                                                ...   \n",
       "147       1  https://www.lyrics.com/lyric/24835413/Coldplay...   \n",
       "148       1  https://www.lyrics.com/lyric/18658647/Coldplay...   \n",
       "149       1  https://www.lyrics.com/lyric/36007329/Coldplay...   \n",
       "150       1  https://www.lyrics.com/lyric/19568673/Coldplay...   \n",
       "151       1  https://www.lyrics.com/lyric/17202960/Coldplay...   \n",
       "\n",
       "                                                Lyrics  \n",
       "0    ['Karma police', 'Arrest this man', 'He talks ...  \n",
       "1    ['Dreamers', 'They never learn', 'They never l...  \n",
       "2    [\"You don't wanna talk to me,\", \"You don't wan...  \n",
       "3    ['Stay in the shadows', 'Cheer at the gallows'...  \n",
       "4    ['Then in your life, there comes the darkness'...  \n",
       "..                                                 ...  \n",
       "147  ['Steal my heart and hold my tongue', 'I feel ...  \n",
       "148  [\"There's a wild wind blowing,\", 'Down the cor...  \n",
       "149  ['Lovers keep on the road your on', 'Runners u...  \n",
       "150  ['How long before I get in?', 'Before it start...  \n",
       "151  [\"Just because I'm losing\", \"Doesn't mean I'm ...  \n",
       "\n",
       "[324 rows x 3 columns]"
      ]
     },
     "execution_count": 5,
     "metadata": {},
     "output_type": "execute_result"
    }
   ],
   "source": [
    "result[\"Artist\"].replace(\"Radiohead\",0,inplace=True)\n",
    "result[\"Artist\"].replace(\"Coldplay\",1,inplace=True)\n",
    "result"
   ]
  },
  {
   "cell_type": "code",
   "execution_count": 6,
   "metadata": {},
   "outputs": [],
   "source": [
    "\n",
    "# name_csv_radiohead=\"final_lyrics_dataf.csv\"\n",
    "# name_csv_coldplay=\"final_cold_lyrics_df.csv\"\n",
    "# name_csv_table=[name_csv_radiohead,name_csv_coldplay]\n",
    "# data_radiohead=make_df_ready(name_csv_radiohead)\n",
    "# data_radiohead\n",
    "# data_coldplay=make_df_ready(name_csv_coldplay)\n",
    "# data_coldplay\n",
    "# result = pd.concat([data_radiohead, data_coldplay], axis=0)"
   ]
  },
  {
   "cell_type": "code",
   "execution_count": 7,
   "metadata": {},
   "outputs": [
    {
     "data": {
      "text/plain": [
       "((324,), (324,))"
      ]
     },
     "execution_count": 7,
     "metadata": {},
     "output_type": "execute_result"
    }
   ],
   "source": [
    "X=result[\"Lyrics\"]\n",
    "y=result[\"Artist\"]\n",
    "X.shape,y.shape\n"
   ]
  },
  {
   "cell_type": "markdown",
   "metadata": {},
   "source": [
    "Split"
   ]
  },
  {
   "cell_type": "markdown",
   "metadata": {},
   "source": [
    "#Split of Test Data"
   ]
  },
  {
   "cell_type": "code",
   "execution_count": 8,
   "metadata": {},
   "outputs": [],
   "source": [
    "X_train1,X_test1,y_train1,y_test1=train_test_split(X,y,random_state=42)"
   ]
  },
  {
   "cell_type": "code",
   "execution_count": 9,
   "metadata": {},
   "outputs": [
    {
     "data": {
      "text/plain": [
       "((243,), (81,), (243,), (81,))"
      ]
     },
     "execution_count": 9,
     "metadata": {},
     "output_type": "execute_result"
    }
   ],
   "source": [
    "X_train1.shape,X_test1.shape,y_train1.shape,y_test1.shape"
   ]
  },
  {
   "cell_type": "markdown",
   "metadata": {},
   "source": [
    "#Split of the Data which remains of the Test Data"
   ]
  },
  {
   "cell_type": "code",
   "execution_count": 10,
   "metadata": {},
   "outputs": [],
   "source": [
    "X_train,X_test,y_train,y_test=train_test_split(X_train1,y_train1,random_state=42)"
   ]
  },
  {
   "cell_type": "code",
   "execution_count": 11,
   "metadata": {},
   "outputs": [
    {
     "data": {
      "text/plain": [
       "((182,), (61,), (182,), (61,))"
      ]
     },
     "execution_count": 11,
     "metadata": {},
     "output_type": "execute_result"
    }
   ],
   "source": [
    "X_train.shape,X_test.shape,y_train.shape,y_test.shape"
   ]
  },
  {
   "cell_type": "markdown",
   "metadata": {},
   "source": [
    "## Sklearn CountVectorizer"
   ]
  },
  {
   "cell_type": "code",
   "execution_count": 12,
   "metadata": {},
   "outputs": [
    {
     "data": {
      "text/html": [
       "<div>\n",
       "<style scoped>\n",
       "    .dataframe tbody tr th:only-of-type {\n",
       "        vertical-align: middle;\n",
       "    }\n",
       "\n",
       "    .dataframe tbody tr th {\n",
       "        vertical-align: top;\n",
       "    }\n",
       "\n",
       "    .dataframe thead th {\n",
       "        text-align: right;\n",
       "    }\n",
       "</style>\n",
       "<table border=\"1\" class=\"dataframe\">\n",
       "  <thead>\n",
       "    <tr style=\"text-align: right;\">\n",
       "      <th></th>\n",
       "      <th>aaah</th>\n",
       "      <th>accidents</th>\n",
       "      <th>achilles</th>\n",
       "      <th>aching</th>\n",
       "      <th>admit</th>\n",
       "      <th>adventure</th>\n",
       "      <th>aeroplane</th>\n",
       "      <th>afford</th>\n",
       "      <th>age</th>\n",
       "      <th>ah</th>\n",
       "      <th>...</th>\n",
       "      <th>yeah</th>\n",
       "      <th>years</th>\n",
       "      <th>yellow</th>\n",
       "      <th>yen</th>\n",
       "      <th>yes</th>\n",
       "      <th>yesterday</th>\n",
       "      <th>yeux</th>\n",
       "      <th>young</th>\n",
       "      <th>yuppies</th>\n",
       "      <th>z</th>\n",
       "    </tr>\n",
       "  </thead>\n",
       "  <tbody>\n",
       "    <tr>\n",
       "      <th>0</th>\n",
       "      <td>0</td>\n",
       "      <td>0</td>\n",
       "      <td>0</td>\n",
       "      <td>0</td>\n",
       "      <td>0</td>\n",
       "      <td>0</td>\n",
       "      <td>0</td>\n",
       "      <td>0</td>\n",
       "      <td>0</td>\n",
       "      <td>0</td>\n",
       "      <td>...</td>\n",
       "      <td>0</td>\n",
       "      <td>0</td>\n",
       "      <td>0</td>\n",
       "      <td>0</td>\n",
       "      <td>0</td>\n",
       "      <td>0</td>\n",
       "      <td>0</td>\n",
       "      <td>0</td>\n",
       "      <td>0</td>\n",
       "      <td>0</td>\n",
       "    </tr>\n",
       "    <tr>\n",
       "      <th>1</th>\n",
       "      <td>0</td>\n",
       "      <td>0</td>\n",
       "      <td>0</td>\n",
       "      <td>0</td>\n",
       "      <td>0</td>\n",
       "      <td>0</td>\n",
       "      <td>0</td>\n",
       "      <td>0</td>\n",
       "      <td>0</td>\n",
       "      <td>0</td>\n",
       "      <td>...</td>\n",
       "      <td>0</td>\n",
       "      <td>0</td>\n",
       "      <td>0</td>\n",
       "      <td>0</td>\n",
       "      <td>0</td>\n",
       "      <td>0</td>\n",
       "      <td>0</td>\n",
       "      <td>0</td>\n",
       "      <td>0</td>\n",
       "      <td>0</td>\n",
       "    </tr>\n",
       "    <tr>\n",
       "      <th>2</th>\n",
       "      <td>0</td>\n",
       "      <td>0</td>\n",
       "      <td>0</td>\n",
       "      <td>0</td>\n",
       "      <td>0</td>\n",
       "      <td>0</td>\n",
       "      <td>0</td>\n",
       "      <td>0</td>\n",
       "      <td>0</td>\n",
       "      <td>0</td>\n",
       "      <td>...</td>\n",
       "      <td>0</td>\n",
       "      <td>0</td>\n",
       "      <td>0</td>\n",
       "      <td>0</td>\n",
       "      <td>0</td>\n",
       "      <td>0</td>\n",
       "      <td>0</td>\n",
       "      <td>0</td>\n",
       "      <td>0</td>\n",
       "      <td>0</td>\n",
       "    </tr>\n",
       "    <tr>\n",
       "      <th>3</th>\n",
       "      <td>0</td>\n",
       "      <td>0</td>\n",
       "      <td>0</td>\n",
       "      <td>0</td>\n",
       "      <td>0</td>\n",
       "      <td>0</td>\n",
       "      <td>0</td>\n",
       "      <td>0</td>\n",
       "      <td>0</td>\n",
       "      <td>0</td>\n",
       "      <td>...</td>\n",
       "      <td>6</td>\n",
       "      <td>0</td>\n",
       "      <td>0</td>\n",
       "      <td>0</td>\n",
       "      <td>0</td>\n",
       "      <td>0</td>\n",
       "      <td>0</td>\n",
       "      <td>0</td>\n",
       "      <td>0</td>\n",
       "      <td>0</td>\n",
       "    </tr>\n",
       "    <tr>\n",
       "      <th>4</th>\n",
       "      <td>0</td>\n",
       "      <td>0</td>\n",
       "      <td>0</td>\n",
       "      <td>0</td>\n",
       "      <td>0</td>\n",
       "      <td>0</td>\n",
       "      <td>0</td>\n",
       "      <td>0</td>\n",
       "      <td>0</td>\n",
       "      <td>0</td>\n",
       "      <td>...</td>\n",
       "      <td>0</td>\n",
       "      <td>0</td>\n",
       "      <td>0</td>\n",
       "      <td>0</td>\n",
       "      <td>0</td>\n",
       "      <td>0</td>\n",
       "      <td>0</td>\n",
       "      <td>0</td>\n",
       "      <td>0</td>\n",
       "      <td>0</td>\n",
       "    </tr>\n",
       "    <tr>\n",
       "      <th>...</th>\n",
       "      <td>...</td>\n",
       "      <td>...</td>\n",
       "      <td>...</td>\n",
       "      <td>...</td>\n",
       "      <td>...</td>\n",
       "      <td>...</td>\n",
       "      <td>...</td>\n",
       "      <td>...</td>\n",
       "      <td>...</td>\n",
       "      <td>...</td>\n",
       "      <td>...</td>\n",
       "      <td>...</td>\n",
       "      <td>...</td>\n",
       "      <td>...</td>\n",
       "      <td>...</td>\n",
       "      <td>...</td>\n",
       "      <td>...</td>\n",
       "      <td>...</td>\n",
       "      <td>...</td>\n",
       "      <td>...</td>\n",
       "      <td>...</td>\n",
       "    </tr>\n",
       "    <tr>\n",
       "      <th>177</th>\n",
       "      <td>0</td>\n",
       "      <td>0</td>\n",
       "      <td>0</td>\n",
       "      <td>0</td>\n",
       "      <td>0</td>\n",
       "      <td>0</td>\n",
       "      <td>0</td>\n",
       "      <td>0</td>\n",
       "      <td>0</td>\n",
       "      <td>0</td>\n",
       "      <td>...</td>\n",
       "      <td>0</td>\n",
       "      <td>0</td>\n",
       "      <td>0</td>\n",
       "      <td>0</td>\n",
       "      <td>0</td>\n",
       "      <td>0</td>\n",
       "      <td>0</td>\n",
       "      <td>0</td>\n",
       "      <td>0</td>\n",
       "      <td>0</td>\n",
       "    </tr>\n",
       "    <tr>\n",
       "      <th>178</th>\n",
       "      <td>0</td>\n",
       "      <td>0</td>\n",
       "      <td>0</td>\n",
       "      <td>0</td>\n",
       "      <td>0</td>\n",
       "      <td>0</td>\n",
       "      <td>0</td>\n",
       "      <td>0</td>\n",
       "      <td>0</td>\n",
       "      <td>0</td>\n",
       "      <td>...</td>\n",
       "      <td>0</td>\n",
       "      <td>0</td>\n",
       "      <td>0</td>\n",
       "      <td>0</td>\n",
       "      <td>0</td>\n",
       "      <td>0</td>\n",
       "      <td>0</td>\n",
       "      <td>0</td>\n",
       "      <td>0</td>\n",
       "      <td>0</td>\n",
       "    </tr>\n",
       "    <tr>\n",
       "      <th>179</th>\n",
       "      <td>0</td>\n",
       "      <td>0</td>\n",
       "      <td>0</td>\n",
       "      <td>0</td>\n",
       "      <td>0</td>\n",
       "      <td>0</td>\n",
       "      <td>0</td>\n",
       "      <td>0</td>\n",
       "      <td>0</td>\n",
       "      <td>0</td>\n",
       "      <td>...</td>\n",
       "      <td>1</td>\n",
       "      <td>0</td>\n",
       "      <td>0</td>\n",
       "      <td>0</td>\n",
       "      <td>0</td>\n",
       "      <td>0</td>\n",
       "      <td>0</td>\n",
       "      <td>0</td>\n",
       "      <td>0</td>\n",
       "      <td>0</td>\n",
       "    </tr>\n",
       "    <tr>\n",
       "      <th>180</th>\n",
       "      <td>0</td>\n",
       "      <td>0</td>\n",
       "      <td>0</td>\n",
       "      <td>0</td>\n",
       "      <td>0</td>\n",
       "      <td>0</td>\n",
       "      <td>0</td>\n",
       "      <td>0</td>\n",
       "      <td>0</td>\n",
       "      <td>0</td>\n",
       "      <td>...</td>\n",
       "      <td>3</td>\n",
       "      <td>0</td>\n",
       "      <td>0</td>\n",
       "      <td>0</td>\n",
       "      <td>0</td>\n",
       "      <td>0</td>\n",
       "      <td>0</td>\n",
       "      <td>0</td>\n",
       "      <td>0</td>\n",
       "      <td>0</td>\n",
       "    </tr>\n",
       "    <tr>\n",
       "      <th>181</th>\n",
       "      <td>0</td>\n",
       "      <td>2</td>\n",
       "      <td>0</td>\n",
       "      <td>0</td>\n",
       "      <td>0</td>\n",
       "      <td>0</td>\n",
       "      <td>0</td>\n",
       "      <td>0</td>\n",
       "      <td>0</td>\n",
       "      <td>0</td>\n",
       "      <td>...</td>\n",
       "      <td>0</td>\n",
       "      <td>0</td>\n",
       "      <td>0</td>\n",
       "      <td>0</td>\n",
       "      <td>0</td>\n",
       "      <td>0</td>\n",
       "      <td>0</td>\n",
       "      <td>0</td>\n",
       "      <td>0</td>\n",
       "      <td>0</td>\n",
       "    </tr>\n",
       "  </tbody>\n",
       "</table>\n",
       "<p>182 rows × 2039 columns</p>\n",
       "</div>"
      ],
      "text/plain": [
       "     aaah  accidents  achilles  aching  admit  adventure  aeroplane  afford  \\\n",
       "0       0          0         0       0      0          0          0       0   \n",
       "1       0          0         0       0      0          0          0       0   \n",
       "2       0          0         0       0      0          0          0       0   \n",
       "3       0          0         0       0      0          0          0       0   \n",
       "4       0          0         0       0      0          0          0       0   \n",
       "..    ...        ...       ...     ...    ...        ...        ...     ...   \n",
       "177     0          0         0       0      0          0          0       0   \n",
       "178     0          0         0       0      0          0          0       0   \n",
       "179     0          0         0       0      0          0          0       0   \n",
       "180     0          0         0       0      0          0          0       0   \n",
       "181     0          2         0       0      0          0          0       0   \n",
       "\n",
       "     age  ah  ...  yeah  years  yellow  yen  yes  yesterday  yeux  young  \\\n",
       "0      0   0  ...     0      0       0    0    0          0     0      0   \n",
       "1      0   0  ...     0      0       0    0    0          0     0      0   \n",
       "2      0   0  ...     0      0       0    0    0          0     0      0   \n",
       "3      0   0  ...     6      0       0    0    0          0     0      0   \n",
       "4      0   0  ...     0      0       0    0    0          0     0      0   \n",
       "..   ...  ..  ...   ...    ...     ...  ...  ...        ...   ...    ...   \n",
       "177    0   0  ...     0      0       0    0    0          0     0      0   \n",
       "178    0   0  ...     0      0       0    0    0          0     0      0   \n",
       "179    0   0  ...     1      0       0    0    0          0     0      0   \n",
       "180    0   0  ...     3      0       0    0    0          0     0      0   \n",
       "181    0   0  ...     0      0       0    0    0          0     0      0   \n",
       "\n",
       "     yuppies  z  \n",
       "0          0  0  \n",
       "1          0  0  \n",
       "2          0  0  \n",
       "3          0  0  \n",
       "4          0  0  \n",
       "..       ... ..  \n",
       "177        0  0  \n",
       "178        0  0  \n",
       "179        0  0  \n",
       "180        0  0  \n",
       "181        0  0  \n",
       "\n",
       "[182 rows x 2039 columns]"
      ]
     },
     "execution_count": 12,
     "metadata": {},
     "output_type": "execute_result"
    }
   ],
   "source": [
    "vectorizer = CountVectorizer(lowercase=True, stop_words='english', token_pattern='[A-Za-z]+', ngram_range=(1,1))\n",
    "X_cv = vectorizer.fit_transform(X_train)\n",
    "df_bow_sklearn = pd.DataFrame(X_cv.toarray(), columns=vectorizer.get_feature_names_out())\n",
    "df_bow_sklearn"
   ]
  },
  {
   "cell_type": "markdown",
   "metadata": {},
   "source": [
    "## Model"
   ]
  },
  {
   "cell_type": "code",
   "execution_count": 14,
   "metadata": {},
   "outputs": [
    {
     "data": {
      "text/plain": [
       "1.0"
      ]
     },
     "execution_count": 14,
     "metadata": {},
     "output_type": "execute_result"
    }
   ],
   "source": [
    "text_clf=Pipeline([(\"vect\",CountVectorizer()),(\"tfidf\",TfidfTransformer()),(\"clf\",RandomForestClassifier())])\n",
    "\n",
    "#column_transformer=ColumnTransformer([\n",
    "#   (\"text_clf\",text_clf,[\"Lyrics\"])\n",
    "#])\n",
    "\n",
    "#column_transformer.fit(X_train)\n",
    "text_clf.fit(X_train,y_train)\n",
    "text_clf.score(X_train,y_train)\n"
   ]
  },
  {
   "cell_type": "code",
   "execution_count": 15,
   "metadata": {},
   "outputs": [],
   "source": [
    "ypred=text_clf.predict(X_test)\n"
   ]
  },
  {
   "cell_type": "code",
   "execution_count": 16,
   "metadata": {},
   "outputs": [
    {
     "data": {
      "text/plain": [
       "0.9180327868852459"
      ]
     },
     "execution_count": 16,
     "metadata": {},
     "output_type": "execute_result"
    }
   ],
   "source": [
    "accuracy_score(y_test, ypred)"
   ]
  },
  {
   "cell_type": "code",
   "execution_count": 17,
   "metadata": {},
   "outputs": [],
   "source": [
    "ypred1=text_clf.predict(X_test1)"
   ]
  },
  {
   "cell_type": "code",
   "execution_count": 18,
   "metadata": {},
   "outputs": [
    {
     "data": {
      "text/plain": [
       "0.8765432098765432"
      ]
     },
     "execution_count": 18,
     "metadata": {},
     "output_type": "execute_result"
    }
   ],
   "source": [
    "accuracy_score(y_test1, ypred1)"
   ]
  },
  {
   "cell_type": "code",
   "execution_count": 19,
   "metadata": {},
   "outputs": [
    {
     "name": "stdout",
     "output_type": "stream",
     "text": [
      "How does model Pipeline(steps=[('vect', CountVectorizer()), ('tfidf', TfidfTransformer()),\n",
      "                ('clf', RandomForestClassifier())]) score:\n",
      "The accuracy of the model is: 0.918\n",
      "The precision of the model is: 0.962\n",
      "The recall of the model is: 0.862\n"
     ]
    },
    {
     "data": {
      "image/png": "[encoded data removed]",
      "text/plain": [
       "<Figure size 432x288 with 2 Axes>"
      ]
     },
     "metadata": {
      "needs_background": "light"
     },
     "output_type": "display_data"
    }
   ],
   "source": [
    "#y_test=y_test.to_numpy()\n",
    "printEvaluations(text_clf,X_train,X_test,y_test)"
   ]
  },
  {
   "cell_type": "code",
   "execution_count": 20,
   "metadata": {},
   "outputs": [
    {
     "name": "stdout",
     "output_type": "stream",
     "text": [
      "How does model Pipeline(steps=[('vect', CountVectorizer()), ('tfidf', TfidfTransformer()),\n",
      "                ('clf', RandomForestClassifier())]) score:\n",
      "The accuracy of the model is: 0.877\n",
      "The precision of the model is: 0.912\n",
      "The recall of the model is: 0.816\n"
     ]
    },
    {
     "data": {
      "image/png": "[encoded data removed]",
      "text/plain": [
       "<Figure size 432x288 with 2 Axes>"
      ]
     },
     "metadata": {
      "needs_background": "light"
     },
     "output_type": "display_data"
    }
   ],
   "source": [
    "printEvaluations(text_clf,X_train,X_test1,y_test1)"
   ]
  },
  {
   "cell_type": "markdown",
   "metadata": {},
   "source": [
    "## Grid Search"
   ]
  },
  {
   "cell_type": "code",
   "execution_count": null,
   "metadata": {},
   "outputs": [],
   "source": []
  },
  {
   "cell_type": "code",
   "execution_count": null,
   "metadata": {},
   "outputs": [],
   "source": []
  }
 ],
 "metadata": {
  "interpreter": {
   "hash": "f1cde6a754b3ba4c6616aaf8e76c7ab8fad7ea2d3e68dfb07703ef36b7f54395"
  },
  "kernelspec": {
   "display_name": "Python 3.8.8 64-bit ('base': conda)",
   "language": "python",
   "name": "python3"
  },
  "language_info": {
   "codemirror_mode": {
    "name": "ipython",
    "version": 3
   },
   "file_extension": ".py",
   "mimetype": "text/x-python",
   "name": "python",
   "nbconvert_exporter": "python",
   "pygments_lexer": "ipython3",
   "version": "3.8.8"
  },
  "orig_nbformat": 4
 },
 "nbformat": 4,
 "nbformat_minor": 2
}
