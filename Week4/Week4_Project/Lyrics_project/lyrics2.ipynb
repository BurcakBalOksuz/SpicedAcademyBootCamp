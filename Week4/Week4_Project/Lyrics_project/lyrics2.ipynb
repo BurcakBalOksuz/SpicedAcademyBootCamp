{
 "cells": [
  {
   "cell_type": "code",
   "execution_count": 85,
   "metadata": {},
   "outputs": [],
   "source": [
    "import numpy as np\n",
    "import re\n",
    "import pandas as pd\n",
    "from sklearn.model_selection import train_test_split\n",
    "from sklearn.feature_extraction.text import CountVectorizer,TfidfTransformer\n",
    "from sklearn.feature_extraction.text import TfidfVectorizer\n",
    "from sklearn.linear_model import LogisticRegression\n",
    "from sklearn.pipeline import Pipeline\n",
    "from sklearn.naive_bayes import MultinomialNB\n",
    "from sklearn.metrics import accuracy_score\n",
    "from sklearn.compose import ColumnTransformer\n",
    "from sklearn.metrics import accuracy_score, recall_score, precision_score, ConfusionMatrixDisplay,f1_score\n",
    "from sklearn.ensemble import RandomForestClassifier\n",
    "\n"
   ]
  },
  {
   "cell_type": "code",
   "execution_count": 52,
   "metadata": {},
   "outputs": [],
   "source": [
    "np.random.seed(31415)"
   ]
  },
  {
   "cell_type": "markdown",
   "metadata": {},
   "source": [
    "## Definition of Function"
   ]
  },
  {
   "cell_type": "code",
   "execution_count": 82,
   "metadata": {},
   "outputs": [],
   "source": [
    "def make_df_ready(name_csv):\n",
    "    df=pd.read_csv(name_csv)\n",
    "    df=df.drop(\"Unnamed: 0\",axis=1)\n",
    "    df=df.drop_duplicates(subset=[\"Lyrics\"])\n",
    "    df.reset_index(drop=True,inplace=True)\n",
    "    return df\n",
    "\n",
    "def prepare_final_df(name_csv_table):\n",
    "    final_df=pd.DataFrame()\n",
    "    for iter in range(len(name_csv_table)):\n",
    "        final_df_temp=make_df_ready(name_csv_table[iter])\n",
    "        final_df = pd.concat([final_df, final_df_temp], axis=0)\n",
    "    return final_df\n",
    "    \n",
    "def printEvaluations (clf, X_test,y_test):        \n",
    "    \"\"\"Returns Confusion Matrix and relevant metrics for predictions of classifiers.\n",
    "    Takes classification model and split data.\"\"\"\n",
    "    y_pred = clf.predict(X_test)   \n",
    "    print(f'How does model {clf} score:')\n",
    "    print(f'The accuracy of the model is: {round(accuracy_score(y_test, y_pred), 3)}')\n",
    "    print(f'The precision of the model is: {round(precision_score(y_test, y_pred), 3)}')\n",
    "    print(f'The recall of the model is: {round(recall_score(y_test, y_pred), 3)}')\n",
    "\n",
    "    #print confusion matrix\n",
    "    ConfusionMatrixDisplay.from_estimator(clf, X_test, y_test, cmap='Greens')\n",
    "    "
   ]
  },
  {
   "cell_type": "code",
   "execution_count": 3,
   "metadata": {},
   "outputs": [],
   "source": [
    "name_csv_radiohead=\"final_lyrics_dataf.csv\"\n",
    "name_csv_coldplay=\"final_cold_lyrics_df.csv\"\n",
    "name_csv_table=[name_csv_radiohead,name_csv_coldplay]"
   ]
  },
  {
   "cell_type": "code",
   "execution_count": 4,
   "metadata": {},
   "outputs": [
    {
     "data": {
      "text/html": [
       "<div>\n",
       "<style scoped>\n",
       "    .dataframe tbody tr th:only-of-type {\n",
       "        vertical-align: middle;\n",
       "    }\n",
       "\n",
       "    .dataframe tbody tr th {\n",
       "        vertical-align: top;\n",
       "    }\n",
       "\n",
       "    .dataframe thead th {\n",
       "        text-align: right;\n",
       "    }\n",
       "</style>\n",
       "<table border=\"1\" class=\"dataframe\">\n",
       "  <thead>\n",
       "    <tr style=\"text-align: right;\">\n",
       "      <th></th>\n",
       "      <th>Artist</th>\n",
       "      <th>Link</th>\n",
       "      <th>Lyrics</th>\n",
       "    </tr>\n",
       "  </thead>\n",
       "  <tbody>\n",
       "    <tr>\n",
       "      <th>0</th>\n",
       "      <td>Radiohead</td>\n",
       "      <td>https://www.lyrics.com/lyric/33903378/Radiohea...</td>\n",
       "      <td>['Karma police', 'Arrest this man', 'He talks ...</td>\n",
       "    </tr>\n",
       "    <tr>\n",
       "      <th>1</th>\n",
       "      <td>Radiohead</td>\n",
       "      <td>https://www.lyrics.com/lyric/33740754/Radiohea...</td>\n",
       "      <td>['Dreamers', 'They never learn', 'They never l...</td>\n",
       "    </tr>\n",
       "    <tr>\n",
       "      <th>2</th>\n",
       "      <td>Radiohead</td>\n",
       "      <td>https://www.lyrics.com/lyric/34465042/Radiohea...</td>\n",
       "      <td>[\"You don't wanna talk to me,\", \"You don't wan...</td>\n",
       "    </tr>\n",
       "    <tr>\n",
       "      <th>3</th>\n",
       "      <td>Radiohead</td>\n",
       "      <td>https://www.lyrics.com/lyric/32911902/Radiohea...</td>\n",
       "      <td>['Stay in the shadows', 'Cheer at the gallows'...</td>\n",
       "    </tr>\n",
       "    <tr>\n",
       "      <th>4</th>\n",
       "      <td>Radiohead</td>\n",
       "      <td>https://www.lyrics.com/lyric/33446757/Radiohea...</td>\n",
       "      <td>['Then in your life, there comes the darkness'...</td>\n",
       "    </tr>\n",
       "    <tr>\n",
       "      <th>...</th>\n",
       "      <td>...</td>\n",
       "      <td>...</td>\n",
       "      <td>...</td>\n",
       "    </tr>\n",
       "    <tr>\n",
       "      <th>147</th>\n",
       "      <td>Coldplay</td>\n",
       "      <td>https://www.lyrics.com/lyric/24835413/Coldplay...</td>\n",
       "      <td>['Steal my heart and hold my tongue', 'I feel ...</td>\n",
       "    </tr>\n",
       "    <tr>\n",
       "      <th>148</th>\n",
       "      <td>Coldplay</td>\n",
       "      <td>https://www.lyrics.com/lyric/18658647/Coldplay...</td>\n",
       "      <td>[\"There's a wild wind blowing,\", 'Down the cor...</td>\n",
       "    </tr>\n",
       "    <tr>\n",
       "      <th>149</th>\n",
       "      <td>Coldplay</td>\n",
       "      <td>https://www.lyrics.com/lyric/36007329/Coldplay...</td>\n",
       "      <td>['Lovers keep on the road your on', 'Runners u...</td>\n",
       "    </tr>\n",
       "    <tr>\n",
       "      <th>150</th>\n",
       "      <td>Coldplay</td>\n",
       "      <td>https://www.lyrics.com/lyric/19568673/Coldplay...</td>\n",
       "      <td>['How long before I get in?', 'Before it start...</td>\n",
       "    </tr>\n",
       "    <tr>\n",
       "      <th>151</th>\n",
       "      <td>Coldplay</td>\n",
       "      <td>https://www.lyrics.com/lyric/17202960/Coldplay...</td>\n",
       "      <td>[\"Just because I'm losing\", \"Doesn't mean I'm ...</td>\n",
       "    </tr>\n",
       "  </tbody>\n",
       "</table>\n",
       "<p>324 rows × 3 columns</p>\n",
       "</div>"
      ],
      "text/plain": [
       "        Artist                                               Link  \\\n",
       "0    Radiohead  https://www.lyrics.com/lyric/33903378/Radiohea...   \n",
       "1    Radiohead  https://www.lyrics.com/lyric/33740754/Radiohea...   \n",
       "2    Radiohead  https://www.lyrics.com/lyric/34465042/Radiohea...   \n",
       "3    Radiohead  https://www.lyrics.com/lyric/32911902/Radiohea...   \n",
       "4    Radiohead  https://www.lyrics.com/lyric/33446757/Radiohea...   \n",
       "..         ...                                                ...   \n",
       "147   Coldplay  https://www.lyrics.com/lyric/24835413/Coldplay...   \n",
       "148   Coldplay  https://www.lyrics.com/lyric/18658647/Coldplay...   \n",
       "149   Coldplay  https://www.lyrics.com/lyric/36007329/Coldplay...   \n",
       "150   Coldplay  https://www.lyrics.com/lyric/19568673/Coldplay...   \n",
       "151   Coldplay  https://www.lyrics.com/lyric/17202960/Coldplay...   \n",
       "\n",
       "                                                Lyrics  \n",
       "0    ['Karma police', 'Arrest this man', 'He talks ...  \n",
       "1    ['Dreamers', 'They never learn', 'They never l...  \n",
       "2    [\"You don't wanna talk to me,\", \"You don't wan...  \n",
       "3    ['Stay in the shadows', 'Cheer at the gallows'...  \n",
       "4    ['Then in your life, there comes the darkness'...  \n",
       "..                                                 ...  \n",
       "147  ['Steal my heart and hold my tongue', 'I feel ...  \n",
       "148  [\"There's a wild wind blowing,\", 'Down the cor...  \n",
       "149  ['Lovers keep on the road your on', 'Runners u...  \n",
       "150  ['How long before I get in?', 'Before it start...  \n",
       "151  [\"Just because I'm losing\", \"Doesn't mean I'm ...  \n",
       "\n",
       "[324 rows x 3 columns]"
      ]
     },
     "execution_count": 4,
     "metadata": {},
     "output_type": "execute_result"
    }
   ],
   "source": [
    "result=prepare_final_df(name_csv_table)\n",
    "result"
   ]
  },
  {
   "cell_type": "markdown",
   "metadata": {},
   "source": [
    "## Assigning 0 and 1 to columns"
   ]
  },
  {
   "cell_type": "code",
   "execution_count": 5,
   "metadata": {},
   "outputs": [
    {
     "data": {
      "text/html": [
       "<div>\n",
       "<style scoped>\n",
       "    .dataframe tbody tr th:only-of-type {\n",
       "        vertical-align: middle;\n",
       "    }\n",
       "\n",
       "    .dataframe tbody tr th {\n",
       "        vertical-align: top;\n",
       "    }\n",
       "\n",
       "    .dataframe thead th {\n",
       "        text-align: right;\n",
       "    }\n",
       "</style>\n",
       "<table border=\"1\" class=\"dataframe\">\n",
       "  <thead>\n",
       "    <tr style=\"text-align: right;\">\n",
       "      <th></th>\n",
       "      <th>Artist</th>\n",
       "      <th>Link</th>\n",
       "      <th>Lyrics</th>\n",
       "    </tr>\n",
       "  </thead>\n",
       "  <tbody>\n",
       "    <tr>\n",
       "      <th>0</th>\n",
       "      <td>0</td>\n",
       "      <td>https://www.lyrics.com/lyric/33903378/Radiohea...</td>\n",
       "      <td>['Karma police', 'Arrest this man', 'He talks ...</td>\n",
       "    </tr>\n",
       "    <tr>\n",
       "      <th>1</th>\n",
       "      <td>0</td>\n",
       "      <td>https://www.lyrics.com/lyric/33740754/Radiohea...</td>\n",
       "      <td>['Dreamers', 'They never learn', 'They never l...</td>\n",
       "    </tr>\n",
       "    <tr>\n",
       "      <th>2</th>\n",
       "      <td>0</td>\n",
       "      <td>https://www.lyrics.com/lyric/34465042/Radiohea...</td>\n",
       "      <td>[\"You don't wanna talk to me,\", \"You don't wan...</td>\n",
       "    </tr>\n",
       "    <tr>\n",
       "      <th>3</th>\n",
       "      <td>0</td>\n",
       "      <td>https://www.lyrics.com/lyric/32911902/Radiohea...</td>\n",
       "      <td>['Stay in the shadows', 'Cheer at the gallows'...</td>\n",
       "    </tr>\n",
       "    <tr>\n",
       "      <th>4</th>\n",
       "      <td>0</td>\n",
       "      <td>https://www.lyrics.com/lyric/33446757/Radiohea...</td>\n",
       "      <td>['Then in your life, there comes the darkness'...</td>\n",
       "    </tr>\n",
       "    <tr>\n",
       "      <th>...</th>\n",
       "      <td>...</td>\n",
       "      <td>...</td>\n",
       "      <td>...</td>\n",
       "    </tr>\n",
       "    <tr>\n",
       "      <th>147</th>\n",
       "      <td>1</td>\n",
       "      <td>https://www.lyrics.com/lyric/24835413/Coldplay...</td>\n",
       "      <td>['Steal my heart and hold my tongue', 'I feel ...</td>\n",
       "    </tr>\n",
       "    <tr>\n",
       "      <th>148</th>\n",
       "      <td>1</td>\n",
       "      <td>https://www.lyrics.com/lyric/18658647/Coldplay...</td>\n",
       "      <td>[\"There's a wild wind blowing,\", 'Down the cor...</td>\n",
       "    </tr>\n",
       "    <tr>\n",
       "      <th>149</th>\n",
       "      <td>1</td>\n",
       "      <td>https://www.lyrics.com/lyric/36007329/Coldplay...</td>\n",
       "      <td>['Lovers keep on the road your on', 'Runners u...</td>\n",
       "    </tr>\n",
       "    <tr>\n",
       "      <th>150</th>\n",
       "      <td>1</td>\n",
       "      <td>https://www.lyrics.com/lyric/19568673/Coldplay...</td>\n",
       "      <td>['How long before I get in?', 'Before it start...</td>\n",
       "    </tr>\n",
       "    <tr>\n",
       "      <th>151</th>\n",
       "      <td>1</td>\n",
       "      <td>https://www.lyrics.com/lyric/17202960/Coldplay...</td>\n",
       "      <td>[\"Just because I'm losing\", \"Doesn't mean I'm ...</td>\n",
       "    </tr>\n",
       "  </tbody>\n",
       "</table>\n",
       "<p>324 rows × 3 columns</p>\n",
       "</div>"
      ],
      "text/plain": [
       "     Artist                                               Link  \\\n",
       "0         0  https://www.lyrics.com/lyric/33903378/Radiohea...   \n",
       "1         0  https://www.lyrics.com/lyric/33740754/Radiohea...   \n",
       "2         0  https://www.lyrics.com/lyric/34465042/Radiohea...   \n",
       "3         0  https://www.lyrics.com/lyric/32911902/Radiohea...   \n",
       "4         0  https://www.lyrics.com/lyric/33446757/Radiohea...   \n",
       "..      ...                                                ...   \n",
       "147       1  https://www.lyrics.com/lyric/24835413/Coldplay...   \n",
       "148       1  https://www.lyrics.com/lyric/18658647/Coldplay...   \n",
       "149       1  https://www.lyrics.com/lyric/36007329/Coldplay...   \n",
       "150       1  https://www.lyrics.com/lyric/19568673/Coldplay...   \n",
       "151       1  https://www.lyrics.com/lyric/17202960/Coldplay...   \n",
       "\n",
       "                                                Lyrics  \n",
       "0    ['Karma police', 'Arrest this man', 'He talks ...  \n",
       "1    ['Dreamers', 'They never learn', 'They never l...  \n",
       "2    [\"You don't wanna talk to me,\", \"You don't wan...  \n",
       "3    ['Stay in the shadows', 'Cheer at the gallows'...  \n",
       "4    ['Then in your life, there comes the darkness'...  \n",
       "..                                                 ...  \n",
       "147  ['Steal my heart and hold my tongue', 'I feel ...  \n",
       "148  [\"There's a wild wind blowing,\", 'Down the cor...  \n",
       "149  ['Lovers keep on the road your on', 'Runners u...  \n",
       "150  ['How long before I get in?', 'Before it start...  \n",
       "151  [\"Just because I'm losing\", \"Doesn't mean I'm ...  \n",
       "\n",
       "[324 rows x 3 columns]"
      ]
     },
     "execution_count": 5,
     "metadata": {},
     "output_type": "execute_result"
    }
   ],
   "source": [
    "result[\"Artist\"].replace(\"Radiohead\",0,inplace=True)\n",
    "result[\"Artist\"].replace(\"Coldplay\",1,inplace=True)\n",
    "result"
   ]
  },
  {
   "cell_type": "markdown",
   "metadata": {},
   "source": [
    "## Defining of X and y"
   ]
  },
  {
   "cell_type": "code",
   "execution_count": 6,
   "metadata": {},
   "outputs": [
    {
     "data": {
      "text/plain": [
       "((324,), (324,))"
      ]
     },
     "execution_count": 6,
     "metadata": {},
     "output_type": "execute_result"
    }
   ],
   "source": [
    "X=result[\"Lyrics\"]\n",
    "y=result[\"Artist\"]\n",
    "X.shape,y.shape\n"
   ]
  },
  {
   "cell_type": "markdown",
   "metadata": {},
   "source": [
    "## Split of Data"
   ]
  },
  {
   "cell_type": "markdown",
   "metadata": {},
   "source": [
    "#Split of Test Data"
   ]
  },
  {
   "cell_type": "code",
   "execution_count": 7,
   "metadata": {},
   "outputs": [],
   "source": [
    "X_train1,X_test1,y_train1,y_test1=train_test_split(X,y,random_state=42)"
   ]
  },
  {
   "cell_type": "code",
   "execution_count": 8,
   "metadata": {},
   "outputs": [
    {
     "data": {
      "text/plain": [
       "((243,), (81,), (243,), (81,))"
      ]
     },
     "execution_count": 8,
     "metadata": {},
     "output_type": "execute_result"
    }
   ],
   "source": [
    "X_train1.shape,X_test1.shape,y_train1.shape,y_test1.shape"
   ]
  },
  {
   "cell_type": "markdown",
   "metadata": {},
   "source": [
    "#Split the Remaining Test Data as Train and Test Data"
   ]
  },
  {
   "cell_type": "code",
   "execution_count": 9,
   "metadata": {},
   "outputs": [],
   "source": [
    "X_train,X_test,y_train,y_test=train_test_split(X_train1,y_train1,random_state=42)"
   ]
  },
  {
   "cell_type": "code",
   "execution_count": 10,
   "metadata": {},
   "outputs": [
    {
     "data": {
      "text/plain": [
       "((182,), (61,), (182,), (61,))"
      ]
     },
     "execution_count": 10,
     "metadata": {},
     "output_type": "execute_result"
    }
   ],
   "source": [
    "X_train.shape,X_test.shape,y_train.shape,y_test.shape"
   ]
  },
  {
   "cell_type": "markdown",
   "metadata": {},
   "source": [
    "## Sklearn CountVectorizer"
   ]
  },
  {
   "cell_type": "code",
   "execution_count": null,
   "metadata": {},
   "outputs": [],
   "source": [
    "# vectorizer = CountVectorizer(lowercase=True, stop_words='english', token_pattern='[A-Za-z]+', ngram_range=(1,1))\n",
    "# X_cv = vectorizer.fit_transform(X_train)\n",
    "# df_bow_sklearn = pd.DataFrame(X_cv.toarray(), columns=vectorizer.get_feature_names_out())\n",
    "# df_bow_sklearn"
   ]
  },
  {
   "cell_type": "markdown",
   "metadata": {},
   "source": [
    "## Model"
   ]
  },
  {
   "cell_type": "code",
   "execution_count": 62,
   "metadata": {},
   "outputs": [
    {
     "data": {
      "text/plain": [
       "0.9344262295081968"
      ]
     },
     "execution_count": 62,
     "metadata": {},
     "output_type": "execute_result"
    }
   ],
   "source": [
    "np.random.seed(31415)\n",
    "text_clf=Pipeline([(\"vect\",CountVectorizer()),(\"tfidf\",TfidfTransformer()),(\"clf\",RandomForestClassifier())])\n",
    "text_clf.fit(X_train,y_train)\n",
    "ypred=text_clf.predict(X_test)\n",
    "accuracy_score(y_test, ypred)\n"
   ]
  },
  {
   "cell_type": "code",
   "execution_count": 63,
   "metadata": {},
   "outputs": [
    {
     "data": {
      "text/plain": [
       "0.8888888888888888"
      ]
     },
     "execution_count": 63,
     "metadata": {},
     "output_type": "execute_result"
    }
   ],
   "source": [
    "ypred1=text_clf.predict(X_test1)\n",
    "accuracy_score(y_test1, ypred1)"
   ]
  },
  {
   "cell_type": "code",
   "execution_count": 64,
   "metadata": {},
   "outputs": [
    {
     "name": "stdout",
     "output_type": "stream",
     "text": [
      "How does model Pipeline(steps=[('vect', CountVectorizer()), ('tfidf', TfidfTransformer()),\n",
      "                ('clf', RandomForestClassifier())]) score:\n",
      "The accuracy of the model is: 0.934\n",
      "The precision of the model is: 0.963\n",
      "The recall of the model is: 0.897\n"
     ]
    },
    {
     "data": {
      "image/png": "[encoded data removed]",
      "text/plain": [
       "<Figure size 432x288 with 2 Axes>"
      ]
     },
     "metadata": {
      "needs_background": "light"
     },
     "output_type": "display_data"
    }
   ],
   "source": [
    "#y_test=y_test.to_numpy()\n",
    "printEvaluations(text_clf,X_test,y_test)"
   ]
  },
  {
   "cell_type": "code",
   "execution_count": 65,
   "metadata": {},
   "outputs": [
    {
     "name": "stdout",
     "output_type": "stream",
     "text": [
      "How does model Pipeline(steps=[('vect', CountVectorizer()), ('tfidf', TfidfTransformer()),\n",
      "                ('clf', RandomForestClassifier())]) score:\n",
      "The accuracy of the model is: 0.889\n",
      "The precision of the model is: 0.914\n",
      "The recall of the model is: 0.842\n"
     ]
    },
    {
     "data": {
      "image/png": "[encoded data removed]",
      "text/plain": [
       "<Figure size 432x288 with 2 Axes>"
      ]
     },
     "metadata": {
      "needs_background": "light"
     },
     "output_type": "display_data"
    }
   ],
   "source": [
    "printEvaluations(text_clf,X_test1,y_test1)"
   ]
  },
  {
   "cell_type": "markdown",
   "metadata": {},
   "source": [
    "## Grid Search"
   ]
  },
  {
   "cell_type": "code",
   "execution_count": 73,
   "metadata": {},
   "outputs": [],
   "source": [
    "from sklearn.model_selection import RandomizedSearchCV\n"
   ]
  },
  {
   "cell_type": "code",
   "execution_count": 74,
   "metadata": {},
   "outputs": [],
   "source": [
    "np.random.seed(31415)\n",
    "# Number of trees in random forest\n",
    "clf__n_estimators = [int(x) for x in np.linspace(start = 200, stop = 2000, num = 10)]\n",
    "# Number of features to consider at every split\n",
    "clf__max_features = ['auto', 'sqrt']\n",
    "# Maximum number of levels in tree\n",
    "clf__max_depth = [int(x) for x in np.linspace(10, 110, num = 11)]\n",
    "clf__max_depth.append(None)\n",
    "# Minimum number of samples required to split a node\n",
    "clf__min_samples_split = [2, 5, 10]\n",
    "# Minimum number of samples required at each leaf node\n",
    "clf__min_samples_leaf = [1, 2, 4]"
   ]
  },
  {
   "cell_type": "code",
   "execution_count": 75,
   "metadata": {},
   "outputs": [],
   "source": [
    "random_grid = {'clf__n_estimators': clf__n_estimators,\n",
    "               'clf__max_features': clf__max_features,\n",
    "               'clf__max_depth': clf__max_depth,\n",
    "               'clf__min_samples_split': clf__min_samples_split,\n",
    "               'clf__min_samples_leaf': clf__min_samples_leaf\n",
    "               }"
   ]
  },
  {
   "cell_type": "code",
   "execution_count": 76,
   "metadata": {},
   "outputs": [
    {
     "name": "stdout",
     "output_type": "stream",
     "text": [
      "Fitting 10 folds for each of 1000 candidates, totalling 10000 fits\n"
     ]
    },
    {
     "data": {
      "text/plain": [
       "RandomizedSearchCV(cv=10,\n",
       "                   estimator=Pipeline(steps=[('vect', CountVectorizer()),\n",
       "                                             ('tfidf', TfidfTransformer()),\n",
       "                                             ('clf',\n",
       "                                              RandomForestClassifier())]),\n",
       "                   n_iter=1000, n_jobs=-1,\n",
       "                   param_distributions={'clf__max_depth': [10, 20, 30, 40, 50,\n",
       "                                                           60, 70, 80, 90, 100,\n",
       "                                                           110, None],\n",
       "                                        'clf__max_features': ['auto', 'sqrt'],\n",
       "                                        'clf__min_samples_leaf': [1, 2, 4],\n",
       "                                        'clf__min_samples_split': [2, 5, 10],\n",
       "                                        'clf__n_estimators': [200, 400, 600,\n",
       "                                                              800, 1000, 1200,\n",
       "                                                              1400, 1600, 1800,\n",
       "                                                              2000]},\n",
       "                   verbose=1)"
      ]
     },
     "execution_count": 76,
     "metadata": {},
     "output_type": "execute_result"
    }
   ],
   "source": [
    "np.random.seed(31415)\n",
    "rf_random = RandomizedSearchCV(estimator = text_clf, param_distributions = random_grid, n_iter = 1000, cv = 10, verbose=1, random_state=np.random.seed(31415), n_jobs = -1)\n",
    "# Fit the random search model\n",
    "rf_random.fit(X_train, y_train)"
   ]
  },
  {
   "cell_type": "code",
   "execution_count": 77,
   "metadata": {},
   "outputs": [
    {
     "data": {
      "text/plain": [
       "{'clf__n_estimators': 400,\n",
       " 'clf__min_samples_split': 5,\n",
       " 'clf__min_samples_leaf': 2,\n",
       " 'clf__max_features': 'auto',\n",
       " 'clf__max_depth': 100}"
      ]
     },
     "execution_count": 77,
     "metadata": {},
     "output_type": "execute_result"
    }
   ],
   "source": [
    "rf_random.best_params_"
   ]
  },
  {
   "cell_type": "code",
   "execution_count": 78,
   "metadata": {},
   "outputs": [
    {
     "data": {
      "text/plain": [
       "{'clf__max_depth': 90,\n",
       " 'clf__max_features': 'auto',\n",
       " 'clf__min_samples_leaf': 1,\n",
       " 'clf__min_samples_split': 6,\n",
       " 'clf__n_estimators': 300}"
      ]
     },
     "execution_count": 78,
     "metadata": {},
     "output_type": "execute_result"
    }
   ],
   "source": [
    "from sklearn.model_selection import GridSearchCV\n",
    "np.random.seed(31415)\n",
    "params_grid_search={'clf__n_estimators': [50,100,300,400,500],\n",
    " 'clf__min_samples_split': [3,4,5,6,7],\n",
    " 'clf__min_samples_leaf': [1,2,3,4],\n",
    " 'clf__max_depth': [80,90,100,110],\n",
    " \"clf__max_features\": [\"auto\"]}\n",
    "Random_GS = GridSearchCV(estimator=text_clf,param_grid=params_grid_search, n_jobs=-1)\n",
    "Random_GS.fit(X_train,y_train)\n",
    "Random_GS.best_params_"
   ]
  },
  {
   "cell_type": "code",
   "execution_count": 79,
   "metadata": {},
   "outputs": [
    {
     "data": {
      "text/plain": [
       "0.8765432098765432"
      ]
     },
     "execution_count": 79,
     "metadata": {},
     "output_type": "execute_result"
    }
   ],
   "source": [
    "ypred1=Random_GS.predict(X_test1)\n",
    "accuracy_score(y_test1,ypred1)"
   ]
  },
  {
   "cell_type": "code",
   "execution_count": 81,
   "metadata": {},
   "outputs": [
    {
     "name": "stdout",
     "output_type": "stream",
     "text": [
      "How does model GridSearchCV(estimator=Pipeline(steps=[('vect', CountVectorizer()),\n",
      "                                       ('tfidf', TfidfTransformer()),\n",
      "                                       ('clf', RandomForestClassifier())]),\n",
      "             n_jobs=-1,\n",
      "             param_grid={'clf__max_depth': [80, 90, 100, 110],\n",
      "                         'clf__max_features': ['auto'],\n",
      "                         'clf__min_samples_leaf': [1, 2, 3, 4],\n",
      "                         'clf__min_samples_split': [3, 4, 5, 6, 7],\n",
      "                         'clf__n_estimators': [50, 100, 300, 400, 500]}) score:\n",
      "The accuracy of the model is: 0.934\n",
      "The precision of the model is: 0.963\n",
      "The recall of the model is: 0.897\n"
     ]
    },
    {
     "data": {
      "image/png": "[encoded data removed]",
      "text/plain": [
       "<Figure size 432x288 with 2 Axes>"
      ]
     },
     "metadata": {
      "needs_background": "light"
     },
     "output_type": "display_data"
    }
   ],
   "source": [
    "printEvaluations(Random_GS,X_test,y_test)"
   ]
  },
  {
   "cell_type": "code",
   "execution_count": 80,
   "metadata": {},
   "outputs": [
    {
     "name": "stdout",
     "output_type": "stream",
     "text": [
      "How does model GridSearchCV(estimator=Pipeline(steps=[('vect', CountVectorizer()),\n",
      "                                       ('tfidf', TfidfTransformer()),\n",
      "                                       ('clf', RandomForestClassifier())]),\n",
      "             n_jobs=-1,\n",
      "             param_grid={'clf__max_depth': [80, 90, 100, 110],\n",
      "                         'clf__max_features': ['auto'],\n",
      "                         'clf__min_samples_leaf': [1, 2, 3, 4],\n",
      "                         'clf__min_samples_split': [3, 4, 5, 6, 7],\n",
      "                         'clf__n_estimators': [50, 100, 300, 400, 500]}) score:\n",
      "The accuracy of the model is: 0.877\n",
      "The precision of the model is: 0.868\n",
      "The recall of the model is: 0.868\n"
     ]
    },
    {
     "data": {
      "image/png": "[encoded data removed]",
      "text/plain": [
       "<Figure size 432x288 with 2 Axes>"
      ]
     },
     "metadata": {
      "needs_background": "light"
     },
     "output_type": "display_data"
    }
   ],
   "source": [
    "printEvaluations(Random_GS,X_test1,y_test1)"
   ]
  }
 ],
 "metadata": {
  "interpreter": {
   "hash": "f1cde6a754b3ba4c6616aaf8e76c7ab8fad7ea2d3e68dfb07703ef36b7f54395"
  },
  "kernelspec": {
   "display_name": "Python 3.8.8 64-bit ('base': conda)",
   "language": "python",
   "name": "python3"
  },
  "language_info": {
   "codemirror_mode": {
    "name": "ipython",
    "version": 3
   },
   "file_extension": ".py",
   "mimetype": "text/x-python",
   "name": "python",
   "nbconvert_exporter": "python",
   "pygments_lexer": "ipython3",
   "version": "3.8.8"
  },
  "orig_nbformat": 4
 },
 "nbformat": 4,
 "nbformat_minor": 2
}
