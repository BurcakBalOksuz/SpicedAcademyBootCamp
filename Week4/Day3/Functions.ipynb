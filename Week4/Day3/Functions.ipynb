{
 "cells": [
  {
   "cell_type": "markdown",
   "id": "90802131",
   "metadata": {},
   "source": [
    "# 4.6. Writing Python Functions"
   ]
  },
  {
   "cell_type": "markdown",
   "id": "2c954a19",
   "metadata": {},
   "source": [
    "## Lets Discuss\n",
    "### Terminology: `functions` vs `methods` vs `objects` vs `libraries/package` vs `modules` ....\n"
   ]
  },
  {
   "cell_type": "markdown",
   "id": "29f0de31",
   "metadata": {},
   "source": [
    "- `package`: collection of python modules with a certain specific scope. It can also be installed (e.g. `pip install pandas`)\n",
    "    - e.g. `pandas`: provides pd.DataFrame, pd.Series,  pd.DataFrame(), `sklearn`, `BeautifulSoup`"
   ]
  },
  {
   "cell_type": "code",
   "execution_count": null,
   "id": "0f4f4db1",
   "metadata": {},
   "outputs": [],
   "source": [
    "##example of sklearn, __file__, "
   ]
  },
  {
   "cell_type": "code",
   "execution_count": 1,
   "id": "42657c29",
   "metadata": {},
   "outputs": [],
   "source": [
    "import sklearn"
   ]
  },
  {
   "cell_type": "code",
   "execution_count": 2,
   "id": "c2bd25b0",
   "metadata": {},
   "outputs": [
    {
     "name": "stdout",
     "output_type": "stream",
     "text": [
      "/home/arjun/anaconda3/lib/python3.8/site-packages/sklearn/__init__.py\n"
     ]
    }
   ],
   "source": [
    "print(sklearn.__file__)"
   ]
  },
  {
   "cell_type": "code",
   "execution_count": 3,
   "id": "b2a5526d",
   "metadata": {},
   "outputs": [],
   "source": [
    "from sklearn.impute import SimpleImputer # <- class included in sklearn, that we can use to impute Na values in a simple way"
   ]
  },
  {
   "cell_type": "code",
   "execution_count": 4,
   "id": "14e8ed51",
   "metadata": {},
   "outputs": [],
   "source": [
    "si = SimpleImputer()"
   ]
  },
  {
   "cell_type": "code",
   "execution_count": 5,
   "id": "cf3ac536",
   "metadata": {},
   "outputs": [
    {
     "data": {
      "text/plain": [
       "sklearn.impute._base.SimpleImputer"
      ]
     },
     "execution_count": 5,
     "metadata": {},
     "output_type": "execute_result"
    }
   ],
   "source": [
    "type(si) "
   ]
  },
  {
   "cell_type": "code",
   "execution_count": 6,
   "id": "5671b7b8",
   "metadata": {},
   "outputs": [],
   "source": [
    "import numpy as np\n",
    "x = [1,2,np.nan,4]\n",
    "x = np.reshape(x,(4,1))"
   ]
  },
  {
   "cell_type": "code",
   "execution_count": 7,
   "id": "8ea5032b",
   "metadata": {},
   "outputs": [
    {
     "data": {
      "text/plain": [
       "array([[1.        ],\n",
       "       [2.        ],\n",
       "       [2.33333333],\n",
       "       [4.        ]])"
      ]
     },
     "execution_count": 7,
     "metadata": {},
     "output_type": "execute_result"
    }
   ],
   "source": [
    "si.fit_transform(x) # <- fit is a function, and functions belonging to cetrain classes are called methods"
   ]
  },
  {
   "cell_type": "markdown",
   "id": "f22130ad",
   "metadata": {},
   "source": [
    "### Q. Why should we use functions? "
   ]
  },
  {
   "cell_type": "markdown",
   "id": "0f529fbe",
   "metadata": {},
   "source": [
    "- Don't repeat yourself, avoid repetition\n",
    "- Use and reuse \n",
    "- Functions allow complex problems to be broken into smaller piecies\n",
    "- combine them\n",
    "- decrease a mental load for the coder and the reader"
   ]
  },
  {
   "cell_type": "markdown",
   "id": "d64fb8d1",
   "metadata": {},
   "source": [
    "#### In programming, a function is a self-contained block of code that performs a specific task or related group of tasks."
   ]
  },
  {
   "cell_type": "markdown",
   "id": "791dc556",
   "metadata": {},
   "source": [
    "## 1. How to write functions"
   ]
  },
  {
   "attachments": {
    "Python-Function-Syntax.png": {
     "image/png": "[encoded data removed]"
    }
   },
   "cell_type": "markdown",
   "id": "26140891",
   "metadata": {},
   "source": [
    "![Python-Function-Syntax.png](attachment:Python-Function-Syntax.png)"
   ]
  },
  {
   "cell_type": "markdown",
   "id": "1ae9bd75",
   "metadata": {},
   "source": [
    "\n",
    "* A function should have a single purpose\n",
    "* You start with the def keyword\n",
    "* This is followed by the function_name in lower case with underscores\n",
    "* Followed by parentheses () and a colon :\n",
    "* After the : you need to indent the code of the function\n",
    "* The indented part, the function definition, recommended to include a docstring describing what the function does\n",
    "* Parameters of a function are defined in the ()\n",
    "* One or more return statements (but not mandatory)"
   ]
  },
  {
   "cell_type": "markdown",
   "id": "f833cab6",
   "metadata": {},
   "source": [
    "### 1.1 Arguments"
   ]
  },
  {
   "cell_type": "code",
   "execution_count": 30,
   "id": "ea6f7ce9",
   "metadata": {},
   "outputs": [],
   "source": [
    " def fruits(quantity, fruit, price):\n",
    "    #print(f'{quantity} {fruit} cost ${price:.3f}')\n",
    "    print(1)"
   ]
  },
  {
   "cell_type": "code",
   "execution_count": 31,
   "id": "e93d6cb1",
   "metadata": {},
   "outputs": [
    {
     "ename": "TypeError",
     "evalue": "fruits() missing 3 required positional arguments: 'quantity', 'fruit', and 'price'",
     "output_type": "error",
     "traceback": [
      "\u001b[0;31m---------------------------------------------------------------------------\u001b[0m",
      "\u001b[0;31mTypeError\u001b[0m                                 Traceback (most recent call last)",
      "\u001b[0;32m<ipython-input-31-688880a7f322>\u001b[0m in \u001b[0;36m<module>\u001b[0;34m\u001b[0m\n\u001b[0;32m----> 1\u001b[0;31m \u001b[0mfruits\u001b[0m\u001b[0;34m(\u001b[0m\u001b[0;34m)\u001b[0m\u001b[0;34m\u001b[0m\u001b[0;34m\u001b[0m\u001b[0m\n\u001b[0m",
      "\u001b[0;31mTypeError\u001b[0m: fruits() missing 3 required positional arguments: 'quantity', 'fruit', and 'price'"
     ]
    }
   ],
   "source": [
    "fruits()"
   ]
  },
  {
   "cell_type": "code",
   "execution_count": 10,
   "id": "d8d6529e",
   "metadata": {},
   "outputs": [
    {
     "name": "stdout",
     "output_type": "stream",
     "text": [
      "5 😁 cost $5.000\n"
     ]
    }
   ],
   "source": [
    "fruits(5, '😁', 5)    #arguments passed to a function in correct positional order."
   ]
  },
  {
   "cell_type": "markdown",
   "id": "a9c414dd",
   "metadata": {},
   "source": [
    "The parameters (quantity, fruit, and price) behave like variables that are defined locally to the function. When the function is called, the arguments that are passed (5, '🍏', and 5) are assiggned to the parameters. \n",
    "Be careful about order and number of arguments that you are passing."
   ]
  },
  {
   "cell_type": "code",
   "execution_count": null,
   "id": "79a4d0f8",
   "metadata": {},
   "outputs": [],
   "source": [
    "fruits(quantity=1, fruit='🍏', price=1) #keyword argument"
   ]
  },
  {
   "cell_type": "code",
   "execution_count": 16,
   "id": "8858aa3c",
   "metadata": {},
   "outputs": [],
   "source": [
    "a = 5 \n",
    "def fruits(quantity=1, fruit='🍌', price=2*a):       #default argument\n",
    "    print(f'{quantity} {fruit} cost ${price:.2f}')"
   ]
  },
  {
   "cell_type": "code",
   "execution_count": 17,
   "id": "90cd1500",
   "metadata": {},
   "outputs": [
    {
     "name": "stdout",
     "output_type": "stream",
     "text": [
      "1 🍌 cost $10.00\n"
     ]
    }
   ],
   "source": [
    "fruits()"
   ]
  },
  {
   "cell_type": "code",
   "execution_count": 15,
   "id": "5f6a540b",
   "metadata": {
    "scrolled": true
   },
   "outputs": [
    {
     "name": "stdout",
     "output_type": "stream",
     "text": [
      "2 🍓 cost $0.50\n"
     ]
    }
   ],
   "source": [
    "fruits(2, '🍓')"
   ]
  },
  {
   "cell_type": "code",
   "execution_count": null,
   "id": "0537bfd5",
   "metadata": {},
   "outputs": [],
   "source": []
  },
  {
   "cell_type": "markdown",
   "id": "29b72d4f",
   "metadata": {},
   "source": [
    "### 2. Docstring\n",
    "\n",
    "\n",
    "* Gives information about the function"
   ]
  },
  {
   "cell_type": "code",
   "execution_count": 18,
   "id": "4351ab11",
   "metadata": {},
   "outputs": [],
   "source": [
    " def fruits(quantity, fruit, price):\n",
    "    \"\"\"\n",
    "    my first doc string\n",
    "              \n",
    "     price - should be integer\n",
    "    returns price of the fruit:\n",
    "    \"\"\"\n",
    "        \n",
    "    print(f'{quantity} {fruit} cost ${price:.4f}')     "
   ]
  },
  {
   "cell_type": "code",
   "execution_count": 19,
   "id": "bbb2760f",
   "metadata": {},
   "outputs": [
    {
     "name": "stdout",
     "output_type": "stream",
     "text": [
      "1 🍊 cost $2.0000\n"
     ]
    }
   ],
   "source": [
    "fruits(1, '🍊', 2)"
   ]
  },
  {
   "cell_type": "code",
   "execution_count": 22,
   "id": "d0230a56",
   "metadata": {},
   "outputs": [],
   "source": [
    "fruits??"
   ]
  },
  {
   "cell_type": "code",
   "execution_count": null,
   "id": "8dad4fce",
   "metadata": {},
   "outputs": [],
   "source": []
  },
  {
   "cell_type": "markdown",
   "id": "7a8af9c5",
   "metadata": {},
   "source": [
    "### What makes a good function?\n",
    "- Correct syntax, else nothing works\n",
    "- Important to comment/document what the function is doing\n",
    "    - ''' ...''' `docstring`: gives a description of the function: https://www.python.org/dev/peps/pep-0257/#specification\n",
    "        - what it does\n",
    "        - the paratemers\n",
    "        - the returns\n",
    "    - good **names**: for the function and its variables\n",
    "- Single purpose: 5-20 lines\n",
    "- Often have *parameters*, should be intuitively named"
   ]
  },
  {
   "cell_type": "markdown",
   "id": "c1f34f35",
   "metadata": {},
   "source": [
    "### `*args` and `**kwargs`\n",
    "parameters you don't define until you call the function --> give you flexibility to pass many arguments\n",
    "- **args**: per covention *args, they don't have a variable definition , list for additional unnamed parameters\n",
    "- **kwargs**: per convention **kwargs, keyworded arguments, with declared variable defintion (when you call the function), - dict for additional named parameters\n",
    "\n"
   ]
  },
  {
   "cell_type": "code",
   "execution_count": 49,
   "id": "2a987680",
   "metadata": {},
   "outputs": [],
   "source": [
    "def show_args_types(*args):\n",
    "    for arg in args:\n",
    "        print(f'{arg} is a {type(arg)}')"
   ]
  },
  {
   "cell_type": "code",
   "execution_count": 50,
   "id": "3acdb209",
   "metadata": {},
   "outputs": [
    {
     "name": "stdout",
     "output_type": "stream",
     "text": [
      "6 is a <class 'int'>\n",
      "ordinal-oreganos is a <class 'str'>\n",
      "7.222 is a <class 'float'>\n",
      "SimpleImputer() is a <class 'sklearn.impute._base.SimpleImputer'>\n",
      "Everybody is great is a <class 'str'>\n",
      "[1, 2, 3, 4] is a <class 'list'>\n",
      "{'we': 'ordinal-oreganos'} is a <class 'dict'>\n"
     ]
    }
   ],
   "source": [
    "show_args_types(6, 'ordinal-oreganos', 7.222, si, 'Everybody is great', [1,2,3,4], {'we': 'ordinal-oreganos'})"
   ]
  },
  {
   "cell_type": "code",
   "execution_count": 51,
   "id": "61c4c881",
   "metadata": {},
   "outputs": [
    {
     "name": "stdout",
     "output_type": "stream",
     "text": [
      "Arjun is a <class 'str'>\n"
     ]
    }
   ],
   "source": [
    "show_args_types('Arjun')"
   ]
  },
  {
   "cell_type": "code",
   "execution_count": 52,
   "id": "6266ffb1",
   "metadata": {},
   "outputs": [
    {
     "ename": "TypeError",
     "evalue": "show_args_types() got an unexpected keyword argument 'name'",
     "output_type": "error",
     "traceback": [
      "\u001b[0;31m---------------------------------------------------------------------------\u001b[0m",
      "\u001b[0;31mTypeError\u001b[0m                                 Traceback (most recent call last)",
      "\u001b[0;32m<ipython-input-52-6b6f2c4f1bc3>\u001b[0m in \u001b[0;36m<module>\u001b[0;34m\u001b[0m\n\u001b[0;32m----> 1\u001b[0;31m \u001b[0mshow_args_types\u001b[0m\u001b[0;34m(\u001b[0m\u001b[0mname\u001b[0m \u001b[0;34m=\u001b[0m \u001b[0;34m'Arjun'\u001b[0m\u001b[0;34m)\u001b[0m\u001b[0;34m\u001b[0m\u001b[0;34m\u001b[0m\u001b[0m\n\u001b[0m",
      "\u001b[0;31mTypeError\u001b[0m: show_args_types() got an unexpected keyword argument 'name'"
     ]
    }
   ],
   "source": [
    "show_args_types(name = 'Arjun')"
   ]
  },
  {
   "cell_type": "code",
   "execution_count": 61,
   "id": "3bfb5d3d",
   "metadata": {},
   "outputs": [],
   "source": [
    "def show_args_and_kwargs_types_nicely(*args, **kwargs):\n",
    "    for arg in args:\n",
    "        print(f'{arg} is a {type(arg)}\\n') # this is an f string\n",
    "    for kwarg in kwargs:\n",
    "        print(f'{kwarg} is a kwarg and is a {type(kwarg)}\\n')"
   ]
  },
  {
   "cell_type": "code",
   "execution_count": 62,
   "id": "13f3fd36",
   "metadata": {},
   "outputs": [
    {
     "name": "stdout",
     "output_type": "stream",
     "text": [
      "name is a kwarg and is a <class 'str'>\n",
      "\n"
     ]
    }
   ],
   "source": [
    "show_args_and_kwargs_types_nicely(name = 'Arjun')"
   ]
  },
  {
   "cell_type": "code",
   "execution_count": 63,
   "id": "e16dea37",
   "metadata": {},
   "outputs": [
    {
     "name": "stdout",
     "output_type": "stream",
     "text": [
      "6 is a <class 'int'>\n",
      "\n",
      "name is a kwarg and is a <class 'str'>\n",
      "\n"
     ]
    }
   ],
   "source": [
    "show_args_and_kwargs_types_nicely(6,name = 'Arjun')"
   ]
  },
  {
   "cell_type": "code",
   "execution_count": null,
   "id": "9d781df5",
   "metadata": {},
   "outputs": [],
   "source": [
    "show_args_and_kwargs_types_nicely(name = 'Arjun')"
   ]
  },
  {
   "cell_type": "markdown",
   "id": "c23f7e04",
   "metadata": {},
   "source": [
    "---> `args` before `kwargs`!"
   ]
  },
  {
   "cell_type": "code",
   "execution_count": 58,
   "id": "10f3a861",
   "metadata": {},
   "outputs": [
    {
     "name": "stdout",
     "output_type": "stream",
     "text": [
      "6 is a <class 'int'>\n",
      "\n",
      "[1, 2, 3, 4] is a <class 'list'>\n",
      "\n",
      "name is a kwarg and is a <class 'str'>\n",
      "\n",
      "x is a kwarg and is a <class 'str'>\n",
      "\n"
     ]
    }
   ],
   "source": [
    "show_args_and_kwargs_types_nicely(6, [1,2,3,4], name = \"Arjun\", x = 6)"
   ]
  },
  {
   "cell_type": "markdown",
   "id": "930b2376",
   "metadata": {},
   "source": [
    "They don't have to be called `*args` and `**kwargs`, you could call them `*artists`"
   ]
  },
  {
   "cell_type": "code",
   "execution_count": 59,
   "id": "2f06c92e",
   "metadata": {},
   "outputs": [],
   "source": [
    "def find_song_links(*artists):\n",
    "    for artist in artists:\n",
    "        ## put all the code to extract links\n",
    "        print(f'Found links for {artist}')"
   ]
  },
  {
   "cell_type": "code",
   "execution_count": 60,
   "id": "dd011eda",
   "metadata": {},
   "outputs": [
    {
     "name": "stdout",
     "output_type": "stream",
     "text": [
      "Found links for Abba\n",
      "Found links for Roxette\n"
     ]
    }
   ],
   "source": [
    "find_song_links('Abba', 'Roxette')"
   ]
  },
  {
   "cell_type": "markdown",
   "id": "1aabf4f6",
   "metadata": {},
   "source": [
    "### Which functions could be useful for this week?"
   ]
  },
  {
   "cell_type": "markdown",
   "id": "5314d85a",
   "metadata": {},
   "source": [
    "Some examples:\n",
    "- `find_valid_artist_name` in lyrics.com (e.g. \"Onerepublic\" but not \"One Republic\")\n",
    "- `find_song_links` given artist\n",
    "- `dowload_songs` given list of song links\n",
    "- `fit model` with given corpus, includes the feature engineering step of tfidfvec\n",
    "- `predict_new_song` give new text, includes transform for new text to predict"
   ]
  },
  {
   "cell_type": "code",
   "execution_count": 64,
   "id": "d2f8f55f",
   "metadata": {},
   "outputs": [
    {
     "data": {
      "text/plain": [
       "<Response [404]>"
      ]
     },
     "execution_count": 64,
     "metadata": {},
     "output_type": "execute_result"
    }
   ],
   "source": [
    "import requests\n",
    "requests.get('https://www.lyrics.com/dasd')"
   ]
  },
  {
   "cell_type": "code",
   "execution_count": null,
   "id": "ba390cc0",
   "metadata": {},
   "outputs": [],
   "source": []
  }
 ],
 "metadata": {
  "kernelspec": {
   "display_name": "Python 3",
   "language": "python",
   "name": "python3"
  },
  "language_info": {
   "codemirror_mode": {
    "name": "ipython",
    "version": 3
   },
   "file_extension": ".py",
   "mimetype": "text/x-python",
   "name": "python",
   "nbconvert_exporter": "python",
   "pygments_lexer": "ipython3",
   "version": "3.8.8"
  }
 },
 "nbformat": 4,
 "nbformat_minor": 5
}
